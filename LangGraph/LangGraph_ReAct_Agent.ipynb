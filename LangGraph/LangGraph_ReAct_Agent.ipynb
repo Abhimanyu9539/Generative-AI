{
  "nbformat": 4,
  "nbformat_minor": 0,
  "metadata": {
    "colab": {
      "provenance": []
    },
    "kernelspec": {
      "name": "python3",
      "display_name": "Python 3"
    },
    "language_info": {
      "name": "python"
    }
  },
  "cells": [
    {
      "cell_type": "markdown",
      "source": [
        "# Building a multi-user ReAct AI Agent Chatbot with LangGraph - Prebuilt Agents"
      ],
      "metadata": {
        "id": "5I3Kx2NZ4RG0"
      }
    },
    {
      "cell_type": "markdown",
      "source": [
        "This demo will cover building AI Agents with LangGraph. We will use a pre-built agent but it should ease you into getting to grips with LangGraph\n",
        "\n",
        "Agents are systems that use an LLM as a reasoning engine to determine which actions to take and what the inputs to those actions should be. The results of those actions can then be fed back into the agent and it determines whether more actions are needed, or whether it is okay to stop.\n",
        "\n",
        "Here we'll create a simple ReAct agent app that can search the web and check the weather. The app consists of an agent (LLM) and tools. As we interact with the app, we will first call the agent (LLM) to decide if we should use tools. Then we will run a loop:\n",
        "\n",
        "- If the agent said to take an action (i.e. call tool), we'll run the tools and pass the results back to the agent\n",
        "- If the agent did not ask to run tools, we will finish (respond to the user)\n",
        "\n"
      ],
      "metadata": {
        "id": "KqpXbqEy4fqr"
      }
    },
    {
      "cell_type": "code",
      "source": [
        "!pip install langchain==0.2.0 --quiet\n",
        "!pip install langchain-openai==0.1.7 --quiet\n",
        "!pip install langchain-community==0.2.0 --quiet\n",
        "!pip install langgraph==0.1.1 --quiet"
      ],
      "metadata": {
        "colab": {
          "base_uri": "https://localhost:8080/"
        },
        "id": "AZByP5RG4y0e",
        "outputId": "db0e466e-47fc-494e-d34d-3f266236d77b"
      },
      "execution_count": 1,
      "outputs": [
        {
          "output_type": "stream",
          "name": "stdout",
          "text": [
            "\u001b[?25l   \u001b[90m━━━━━━━━━━━━━━━━━━━━━━━━━━━━━━━━━━━━━━━━\u001b[0m \u001b[32m0.0/973.7 kB\u001b[0m \u001b[31m?\u001b[0m eta \u001b[36m-:--:--\u001b[0m\r\u001b[2K   \u001b[91m━━━━━━━━━━━━━━━━━━━━━━━\u001b[0m\u001b[90m╺\u001b[0m\u001b[90m━━━━━━━━━━━━━━━━\u001b[0m \u001b[32m563.2/973.7 kB\u001b[0m \u001b[31m16.5 MB/s\u001b[0m eta \u001b[36m0:00:01\u001b[0m\r\u001b[2K   \u001b[90m━━━━━━━━━━━━━━━━━━━━━━━━━━━━━━━━━━━━━━━━\u001b[0m \u001b[32m973.7/973.7 kB\u001b[0m \u001b[31m16.6 MB/s\u001b[0m eta \u001b[36m0:00:00\u001b[0m\n",
            "\u001b[?25h\u001b[?25l   \u001b[90m━━━━━━━━━━━━━━━━━━━━━━━━━━━━━━━━━━━━━━━━\u001b[0m \u001b[32m0.0/397.1 kB\u001b[0m \u001b[31m?\u001b[0m eta \u001b[36m-:--:--\u001b[0m\r\u001b[2K   \u001b[90m━━━━━━━━━━━━━━━━━━━━━━━━━━━━━━━━━━━━━━━━\u001b[0m \u001b[32m397.1/397.1 kB\u001b[0m \u001b[31m24.4 MB/s\u001b[0m eta \u001b[36m0:00:00\u001b[0m\n",
            "\u001b[2K   \u001b[90m━━━━━━━━━━━━━━━━━━━━━━━━━━━━━━━━━━━━━━━━\u001b[0m \u001b[32m311.8/311.8 kB\u001b[0m \u001b[31m19.9 MB/s\u001b[0m eta \u001b[36m0:00:00\u001b[0m\n",
            "\u001b[2K   \u001b[90m━━━━━━━━━━━━━━━━━━━━━━━━━━━━━━━━━━━━━━━━\u001b[0m \u001b[32m50.9/50.9 kB\u001b[0m \u001b[31m2.9 MB/s\u001b[0m eta \u001b[36m0:00:00\u001b[0m\n",
            "\u001b[2K   \u001b[90m━━━━━━━━━━━━━━━━━━━━━━━━━━━━━━━━━━━━━━━━\u001b[0m \u001b[32m1.2/1.2 MB\u001b[0m \u001b[31m19.3 MB/s\u001b[0m eta \u001b[36m0:00:00\u001b[0m\n",
            "\u001b[2K   \u001b[90m━━━━━━━━━━━━━━━━━━━━━━━━━━━━━━━━━━━━━━━━\u001b[0m \u001b[32m2.1/2.1 MB\u001b[0m \u001b[31m19.3 MB/s\u001b[0m eta \u001b[36m0:00:00\u001b[0m\n",
            "\u001b[2K   \u001b[90m━━━━━━━━━━━━━━━━━━━━━━━━━━━━━━━━━━━━━━━━\u001b[0m \u001b[32m87.3/87.3 kB\u001b[0m \u001b[31m2.5 MB/s\u001b[0m eta \u001b[36m0:00:00\u001b[0m\n",
            "\u001b[?25h"
          ]
        }
      ]
    },
    {
      "cell_type": "code",
      "source": [
        "import os\n",
        "from google.colab import userdata\n",
        "\n",
        "os.environ['OPENAI_API_KEY'] = userdata.get('OPEN_API_KEY')\n",
        "os.environ['HUGGINGFACEHUB_API_TOKEN'] = userdata.get('HF_TOKEN')\n",
        "os.environ['TAVILY_API_KEY'] = userdata.get('TAVILY_API_KEY')\n",
        "WEATHER_API_KEY = userdata.get('WEATHER_API_KEY')"
      ],
      "metadata": {
        "id": "P-s0SZOK42v-"
      },
      "execution_count": 2,
      "outputs": []
    },
    {
      "cell_type": "markdown",
      "source": [
        "## Create Tools\n",
        "\n",
        "Here we create two custom tools which are wrappers on top of the [Tavily API](https://tavily.com/#api) and [WeatherAPI](https://www.weatherapi.com/)\n",
        "\n",
        "- Simple Web Search tool\n",
        "- Weather tool"
      ],
      "metadata": {
        "id": "bKMBoqOs5L24"
      }
    },
    {
      "cell_type": "code",
      "source": [
        "from langchain_community.tools.tavily_search import TavilySearchResults\n",
        "from langchain_core.tools import tool\n",
        "import json\n",
        "import requests\n",
        "\n",
        "tv_search = TavilySearchResults(max_results=3, search_depth='advanced',\n",
        "                                max_tokens=10000)\n",
        "\n",
        "@tool\n",
        "def search_web(query: str) -> list:\n",
        "    \"\"\"Search the web for a query.\"\"\"\n",
        "    results = tv_search.invoke(query)\n",
        "    return results\n",
        "\n",
        "@tool\n",
        "def get_weather(query: str) -> list:\n",
        "    \"\"\"Search weatherapi to get the current weather.\"\"\"\n",
        "    base_url = \"http://api.weatherapi.com/v1/current.json\"\n",
        "    complete_url = f\"{base_url}?key={WEATHER_API_KEY}&q={query}\"\n",
        "\n",
        "    response = requests.get(complete_url)\n",
        "    data = response.json()\n",
        "    if data.get(\"location\"):\n",
        "        return data\n",
        "    else:\n",
        "        return \"Weather Data Not Found\"\n"
      ],
      "metadata": {
        "id": "Ww_XszDd5R2w"
      },
      "execution_count": 3,
      "outputs": []
    },
    {
      "cell_type": "markdown",
      "source": [
        "## Test Tool Calling with LLM"
      ],
      "metadata": {
        "id": "8o3nc7je5RzS"
      }
    },
    {
      "cell_type": "code",
      "source": [
        "from langchain_openai import ChatOpenAI\n",
        "\n",
        "chatgpt = ChatOpenAI(model=\"gpt-4o\", temperature=0)\n",
        "tools = [search_web, get_weather]\n",
        "\n",
        "chatgpt_with_tools = chatgpt.bind_tools(tools)"
      ],
      "metadata": {
        "id": "VpFrOtHz5RwY"
      },
      "execution_count": 4,
      "outputs": []
    },
    {
      "cell_type": "code",
      "source": [
        "prompt = \"who won the champions league in 2024\"\n",
        "response = chatgpt_with_tools.invoke(prompt)\n",
        "response.tool_calls"
      ],
      "metadata": {
        "colab": {
          "base_uri": "https://localhost:8080/"
        },
        "id": "RnnmcvfK5Rqm",
        "outputId": "494e5bb1-7f88-4388-a3a9-dda922303c6e"
      },
      "execution_count": 5,
      "outputs": [
        {
          "output_type": "execute_result",
          "data": {
            "text/plain": [
              "[{'name': 'search_web',\n",
              "  'args': {'query': 'Champions League 2024 winner'},\n",
              "  'id': 'call_9Wci2Sefcrb5FuMtBZifLbtX',\n",
              "  'type': 'tool_call'}]"
            ]
          },
          "metadata": {},
          "execution_count": 5
        }
      ]
    },
    {
      "cell_type": "code",
      "source": [
        "prompt = \"how is the weather in Bangalore today\"\n",
        "response = chatgpt_with_tools.invoke(prompt)\n",
        "response.tool_calls"
      ],
      "metadata": {
        "colab": {
          "base_uri": "https://localhost:8080/"
        },
        "id": "BKfiP5mo5Rdx",
        "outputId": "736ee9b9-8f77-4b9e-8240-5e03d38feb32"
      },
      "execution_count": 6,
      "outputs": [
        {
          "output_type": "execute_result",
          "data": {
            "text/plain": [
              "[{'name': 'get_weather',\n",
              "  'args': {'query': 'Bangalore'},\n",
              "  'id': 'call_r2pzYiiVXD886Jj3HknS467C',\n",
              "  'type': 'tool_call'}]"
            ]
          },
          "metadata": {},
          "execution_count": 6
        }
      ]
    },
    {
      "cell_type": "markdown",
      "source": [
        "## Build and Test AI Agent with LangGraph Pre-built Agent\n",
        "\n",
        "Now that we have defined the tools and the LLM, we can create the agent. We will be using a tool calling agent to bind the tools to the agent with a prompt. We will also add in the capability to store historical conversations as memory"
      ],
      "metadata": {
        "id": "9M45tMHGEJcg"
      }
    },
    {
      "cell_type": "code",
      "source": [
        "from langchain_core.prompts import ChatPromptTemplate, MessagesPlaceholder\n",
        "\n",
        "SYS_PROMPT = \"\"\"Act as a helpful assistant.\n",
        "                Use the tools at your disposal to perform tasks as needed.\n",
        "                  - get_weather: whenever user asks get the weather of a place.\n",
        "                  - search_web: whenever user asks for information on current events or if you don't know the answer.\n",
        "             \"\"\"\n",
        "prompt_template = ChatPromptTemplate.from_messages(\n",
        "    [\n",
        "        (\"system\", SYS_PROMPT),\n",
        "        MessagesPlaceholder(variable_name=\"messages\")\n",
        "    ]\n",
        ")\n",
        "\n",
        "def add_sys_prompt(messages):\n",
        "    return prompt_template.invoke({\"messages\": messages}).to_messages()\n"
      ],
      "metadata": {
        "id": "FGVLs9OgEMg1"
      },
      "execution_count": 7,
      "outputs": []
    },
    {
      "cell_type": "markdown",
      "source": [
        "Now, we can initalize the agent with the LLM, the system prompt, and the tools.\n",
        "\n",
        "The agent is responsible for taking in input and deciding what actions to take.\n",
        "\n",
        "LangGraph will help us create a ReAct style agent with a built-in `create_react_agent` function. Please note that here we will use a prebuilt agent.\n",
        "\n",
        "One of the big benefits of LangGraph is that you can easily create your own agent architectures. This is something we will look at in the next hands-on demos once you get familiar with some of the essentials of using LangGraph here.\n",
        "\n",
        "Note that we are passing in the model `chatgpt`, not `chatgpt_with_tools`. That is because LangGraph will automatically bind the tools to the LLM under the hood using the `bind_tools` function.\n",
        "\n",
        "This should ideally be used with an LLM which supports tool \\ function calling"
      ],
      "metadata": {
        "id": "WuAZXOEXEYw9"
      }
    },
    {
      "cell_type": "code",
      "source": [
        "from langgraph.prebuilt import create_react_agent\n",
        "\n",
        "agent = create_react_agent(chatgpt, tools=tools,\n",
        "                           messages_modifier=add_sys_prompt)"
      ],
      "metadata": {
        "id": "DRBDYRtAElxg"
      },
      "execution_count": 9,
      "outputs": []
    },
    {
      "cell_type": "code",
      "source": [
        "from IPython.display import Image, display\n",
        "\n",
        "display(Image(agent.get_graph().draw_mermaid_png()))"
      ],
      "metadata": {
        "colab": {
          "base_uri": "https://localhost:8080/",
          "height": 290
        },
        "id": "J9LakJyQEh0W",
        "outputId": "372472de-b516-4f2f-819c-595e40027778"
      },
      "execution_count": 10,
      "outputs": [
        {
          "output_type": "display_data",
          "data": {
            "image/jpeg": "[encoded data removed]",
            "text/plain": [
              "<IPython.core.display.Image object>"
            ]
          },
          "metadata": {}
        }
      ]
    },
    {
      "cell_type": "code",
      "source": [
        "query = \"\"\"Tell me who won the champions league in 2024,\n",
        "            show some detailed information about the match also\n",
        "        \"\"\"\n",
        "response = chatgpt.invoke(query)\n",
        "response.content"
      ],
      "metadata": {
        "colab": {
          "base_uri": "https://localhost:8080/",
          "height": 53
        },
        "id": "zYXjVMDoEmmm",
        "outputId": "782fae3c-acd8-4632-efa8-cd80c85b24e2"
      },
      "execution_count": 11,
      "outputs": [
        {
          "output_type": "execute_result",
          "data": {
            "text/plain": [
              "\"I'm sorry, but I don't have access to real-time data or events beyond October 2023. Therefore, I cannot provide information about the winner of the 2024 UEFA Champions League or details about the match. For the most current information, I recommend checking the latest sports news or the official UEFA website.\""
            ],
            "application/vnd.google.colaboratory.intrinsic+json": {
              "type": "string"
            }
          },
          "metadata": {},
          "execution_count": 11
        }
      ]
    },
    {
      "cell_type": "code",
      "source": [
        "query = \"\"\"Tell me who won the champions league in 2024,\n",
        "            show some detailed information about the match also\n",
        "        \"\"\"\n",
        "response = agent.invoke({\"messages\": [('user', query)]})"
      ],
      "metadata": {
        "id": "ZLzaXpErEtRZ"
      },
      "execution_count": 12,
      "outputs": []
    },
    {
      "cell_type": "code",
      "source": [
        "response"
      ],
      "metadata": {
        "colab": {
          "base_uri": "https://localhost:8080/"
        },
        "id": "60Zbb7vAE0ow",
        "outputId": "405ddd94-6000-4367-faf5-74934c806d38"
      },
      "execution_count": 13,
      "outputs": [
        {
          "output_type": "execute_result",
          "data": {
            "text/plain": [
              "{'messages': [HumanMessage(content='Tell me who won the champions league in 2024,\\n            show some detailed information about the match also\\n        ', id='31a45900-ab5e-45b4-8bdc-6c44f3be23cf'),\n",
              "  AIMessage(content='', additional_kwargs={'tool_calls': [{'id': 'call_vYHmgl1Mcwqng1m4SNYo7OdU', 'function': {'arguments': '{\"query\":\"Champions League 2024 winner\"}', 'name': 'search_web'}, 'type': 'function'}]}, response_metadata={'token_usage': {'completion_tokens': 21, 'prompt_tokens': 147, 'total_tokens': 168, 'completion_tokens_details': {'accepted_prediction_tokens': 0, 'audio_tokens': 0, 'reasoning_tokens': 0, 'rejected_prediction_tokens': 0}, 'prompt_tokens_details': {'audio_tokens': 0, 'cached_tokens': 0}}, 'model_name': 'gpt-4o', 'system_fingerprint': 'fp_523b9b6e5f', 'finish_reason': 'tool_calls', 'logprobs': None}, id='run-db96f41c-9848-47c8-92ac-a1b574433a4e-0', tool_calls=[{'name': 'search_web', 'args': {'query': 'Champions League 2024 winner'}, 'id': 'call_vYHmgl1Mcwqng1m4SNYo7OdU', 'type': 'tool_call'}]),\n",
              "  ToolMessage(content='[{\"url\": \"https://simple.wikipedia.org/wiki/2024_UEFA_Champions_League_final\", \"content\": \"Jump to content Give to Wikipedia Personal tools Toggle the table of contents View history Tools From Simple English Wikipedia, the free encyclopedia Borussia Dortmund   Real Madrid This final happened at Wembley Stadium in London, England, on June 1, 2024.[5][6] The team that won, Real Madrid, gets to play against the winners of the 2023\\\\u201324 UEFA Europa League, Atalanta, in the 2024 UEFA Super Cup. Match[change | change source] 1\\\\u00a0June\\\\u00a02024 Twelve named substitutes History FinalsWinning managersWinning playersRecords and statistics Top scorersHat-tricksAppearancesPerformance comparisonAnthemBroadcastersTrophy 1 June 2024. Retrieved 13 May 2024. 1 June 2024. 17 June 2020. 26 September 2022. Retrieved 27 September 2022. Text is available under the Creative Commons Attribution-ShareAlike License and the GFDL; additional terms may apply. About Wikipedia Statistics Mobile view\"}, {\"url\": \"https://en.wikipedia.org/wiki/2024_UEFA_Champions_League_final\", \"content\": \"For Borussia Dortmund, this was their third UEFA Champions League final appearance, the first since the 1\\\\u20132 Der Klassiker loss against Bayern Munich in 2013, which was also held at Wembley Stadium, and the first European final for manager Edin Terzi\\\\u0107.[9] Additionally, Dortmund played one European Cup Winners\\' Cup final (winning in 1966)[10] and two UEFA Cup finals (losing in 1993 and 2002).[11] Real Madrid played in a record-extending 18th European Cup/UEFA Champions League final, and their second in three years. The 2024 UEFA Champions League final marked Real Madrid midfielder Toni Kroos\\' last club football match and his sixth appearance in the competition\\'s final. \\\\\"Borussia Dortmund 0\\\\u20132 Real Madrid: Champions League final 2024 \\\\u2013 as it happened\\\\\".\"}, {\"url\": \"https://www.uefa.com/uefachampionsleague/news/0294-1cb15582ca64-6638650c3f17-1000--roll-of-honour-2024-all-the-uefa-trophy-winners/\", \"content\": \"Roll of honour 2024: All the UEFA trophy winners | UEFA Champions League | UEFA.com UEFA Champions League UEFA Champions League - Roll of honour 2024: All the UEFA trophy winners - News  UEFA EURO 2024 (Berlin): Spain 2-1 EnglandUEFA Women\\'s Nations League (Seville): Spain 2-0 France UEFA Champions League (London): Dortmund 0-2 Real Madrid UEFA Women\\'s Champions League (Bilbao): Barcelona 2-0 Lyon UEFA Europa Conference League (Athens): Olympiacos 1-0 Fiorentina Champions League Young Player of the Season: Jude Bellingham (Real Madrid) Women\\'s Champions League Player of the Season: Aitana Bonmat\\\\u00ed (Barcelona) Live 23/12/2024 Women\\'s top scorers in 2024 --------------------------- See which players were most prolific in UEFA competitions and the leading domestic leagues over the last year. UEFA Champions League\"}]', name='search_web', id='2bc25a72-fb38-4397-a0a3-cf0b29845405', tool_call_id='call_vYHmgl1Mcwqng1m4SNYo7OdU'),\n",
              "  AIMessage(content=\"The 2024 UEFA Champions League final was held at Wembley Stadium in London, England, on June 1, 2024. Real Madrid emerged victorious, defeating Borussia Dortmund with a score of 2-0. This victory marked Real Madrid's record-extending 18th European Cup/UEFA Champions League final appearance and their second in three years.\\n\\n### Match Details:\\n- **Final Score**: Borussia Dortmund 0-2 Real Madrid\\n- **Location**: Wembley Stadium, London, England\\n- **Date**: June 1, 2024\\n\\n### Additional Information:\\n- This was Borussia Dortmund's third UEFA Champions League final appearance, with their last appearance being in 2013.\\n- For Real Madrid, this final was significant as it marked the last club football match for their midfielder Toni Kroos, who made his sixth appearance in a Champions League final.\\n- Jude Bellingham from Real Madrid was named the Champions League Young Player of the Season.\\n\\nReal Madrid's victory in this match allowed them to play against the winners of the 2023–24 UEFA Europa League, Atalanta, in the 2024 UEFA Super Cup.\", response_metadata={'token_usage': {'completion_tokens': 237, 'prompt_tokens': 878, 'total_tokens': 1115, 'completion_tokens_details': {'accepted_prediction_tokens': 0, 'audio_tokens': 0, 'reasoning_tokens': 0, 'rejected_prediction_tokens': 0}, 'prompt_tokens_details': {'audio_tokens': 0, 'cached_tokens': 0}}, 'model_name': 'gpt-4o', 'system_fingerprint': 'fp_523b9b6e5f', 'finish_reason': 'stop', 'logprobs': None}, id='run-112b95f3-d6ce-4c52-9afc-0167a0cd6a9d-0')]}"
            ]
          },
          "metadata": {},
          "execution_count": 13
        }
      ]
    },
    {
      "cell_type": "code",
      "source": [
        "from IPython.display import display, Markdown\n",
        "\n",
        "display(Markdown(response['messages'][-1].content))"
      ],
      "metadata": {
        "colab": {
          "base_uri": "https://localhost:8080/",
          "height": 311
        },
        "id": "NjXR62D2E3mj",
        "outputId": "d5383c33-e6ec-4de2-a37f-be9640cf4c19"
      },
      "execution_count": 14,
      "outputs": [
        {
          "output_type": "display_data",
          "data": {
            "text/plain": [
              "<IPython.core.display.Markdown object>"
            ],
            "text/markdown": "The 2024 UEFA Champions League final was held at Wembley Stadium in London, England, on June 1, 2024. Real Madrid emerged victorious, defeating Borussia Dortmund with a score of 2-0. This victory marked Real Madrid's record-extending 18th European Cup/UEFA Champions League final appearance and their second in three years.\n\n### Match Details:\n- **Final Score**: Borussia Dortmund 0-2 Real Madrid\n- **Location**: Wembley Stadium, London, England\n- **Date**: June 1, 2024\n\n### Additional Information:\n- This was Borussia Dortmund's third UEFA Champions League final appearance, with their last appearance being in 2013.\n- For Real Madrid, this final was significant as it marked the last club football match for their midfielder Toni Kroos, who made his sixth appearance in a Champions League final.\n- Jude Bellingham from Real Madrid was named the Champions League Young Player of the Season.\n\nReal Madrid's victory in this match allowed them to play against the winners of the 2023–24 UEFA Europa League, Atalanta, in the 2024 UEFA Super Cup."
          },
          "metadata": {}
        }
      ]
    },
    {
      "cell_type": "code",
      "source": [
        "query = \"\"\"how is the weather in Bangalore today?\n",
        "        \"\"\"\n",
        "response = agent.invoke({\"messages\": [('user', query)]})"
      ],
      "metadata": {
        "id": "ArNEEUAOE61h"
      },
      "execution_count": 15,
      "outputs": []
    },
    {
      "cell_type": "code",
      "source": [
        "query = \"\"\"what have we discussed so far?\n",
        "        \"\"\"\n",
        "response = agent.invoke({\"messages\": [('user', query)]})"
      ],
      "metadata": {
        "id": "HtIhQyktE7Jv"
      },
      "execution_count": 16,
      "outputs": []
    },
    {
      "cell_type": "code",
      "source": [
        "display(Markdown(response['messages'][-1].content))"
      ],
      "metadata": {
        "colab": {
          "base_uri": "https://localhost:8080/",
          "height": 46
        },
        "id": "6Dxe6HEIE8wm",
        "outputId": "be666534-13f7-4121-da7f-6e198fd4c861"
      },
      "execution_count": 17,
      "outputs": [
        {
          "output_type": "display_data",
          "data": {
            "text/plain": [
              "<IPython.core.display.Markdown object>"
            ],
            "text/markdown": "We haven't had any discussions yet. If you have any questions or need assistance, feel free to ask!"
          },
          "metadata": {}
        }
      ]
    },
    {
      "cell_type": "markdown",
      "source": [
        "## Build and Test Multi-User Conversational ReAct AI Agent\n",
        "\n",
        "We will now use `SqliteSaver` which helps to store separate conversation histories per user or session.\n",
        "\n",
        "This will help us build a conversational Agentic Chatbot which will be accessed by many users at the same time.\n",
        "\n",
        "While the legacy syntax uses `session_id`, in LangGraph, each user session is identified by `thread_id`"
      ],
      "metadata": {
        "id": "Qz8NWtz8FCz5"
      }
    },
    {
      "cell_type": "code",
      "source": [
        "# removes the memory database file - usually not needed\n",
        "# you can run this only when you want to remove ALL conversation histories\n",
        "# ok if you get rm: cannot remove 'memory.db': No such file or directory  because initially no memory exists\n",
        "!rm memory.db*"
      ],
      "metadata": {
        "colab": {
          "base_uri": "https://localhost:8080/"
        },
        "id": "d3jm8mCwE9sZ",
        "outputId": "ec363006-2848-4d9f-e206-67f63fb1e95f"
      },
      "execution_count": 18,
      "outputs": [
        {
          "output_type": "stream",
          "name": "stdout",
          "text": [
            "rm: cannot remove 'memory.db*': No such file or directory\n"
          ]
        }
      ]
    },
    {
      "cell_type": "code",
      "source": [
        "from langgraph.checkpoint.sqlite import SqliteSaver\n",
        "\n",
        "# used to retrieve conversation history from database\n",
        "# based on a specific user or session ID\n",
        "memory = SqliteSaver.from_conn_string(\"memory.db\")\n",
        "\n",
        "# create a conversation chain + agent which can load memory based on specific user or session id\n",
        "agentic_chatbot = create_react_agent(chatgpt, tools=tools,\n",
        "                                     checkpointer=memory,\n",
        "                                     messages_modifier=add_sys_prompt)\n",
        "\n",
        "# function to call the agent show results per user session (called a thread ID here)\n",
        "from IPython.display import display, Markdown\n",
        "def chat_with_agent(prompt: str, session_id: str):\n",
        "    response = agentic_chatbot.invoke({\"messages\": [('user', prompt)]},\n",
        "                                      {'configurable': { 'thread_id': session_id}})\n",
        "    display(Markdown(response['messages'][-1].content))"
      ],
      "metadata": {
        "id": "X4PqAFaJFM3i"
      },
      "execution_count": 19,
      "outputs": []
    },
    {
      "cell_type": "code",
      "source": [
        "user_id = 'john001'\n",
        "prompt = \"Tell me who won champions league in 2024\"\n",
        "chat_with_agent(prompt, user_id)"
      ],
      "metadata": {
        "colab": {
          "base_uri": "https://localhost:8080/",
          "height": 46
        },
        "id": "3_orcGMbFSWz",
        "outputId": "b331ff2b-1364-489c-e646-a4546080b0d1"
      },
      "execution_count": 20,
      "outputs": [
        {
          "output_type": "display_data",
          "data": {
            "text/plain": [
              "<IPython.core.display.Markdown object>"
            ],
            "text/markdown": "Real Madrid won the 2024 UEFA Champions League, defeating Borussia Dortmund 2-0 in the final held at Wembley Stadium in London."
          },
          "metadata": {}
        }
      ]
    },
    {
      "cell_type": "code",
      "source": [
        "prompt = \"Tell me more about this event in detail please\"\n",
        "chat_with_agent(prompt, user_id)"
      ],
      "metadata": {
        "colab": {
          "base_uri": "https://localhost:8080/",
          "height": 285
        },
        "id": "-RcrcF4OFUZK",
        "outputId": "c864ae06-47a1-4bb4-ec18-d3268da815d2"
      },
      "execution_count": 21,
      "outputs": [
        {
          "output_type": "display_data",
          "data": {
            "text/plain": [
              "<IPython.core.display.Markdown object>"
            ],
            "text/markdown": "The 2024 UEFA Champions League final was a significant event in European club football, held on June 1, 2024, at Wembley Stadium in London, England. Here are some key details about the event:\n\n- **Teams**: The final was contested between Borussia Dortmund and Real Madrid. For Borussia Dortmund, this was their third appearance in a UEFA Champions League final, with their last appearance being in 2013. Real Madrid, on the other hand, was making their record-extending 18th appearance in a European Cup/UEFA Champions League final.\n\n- **Match Outcome**: Real Madrid emerged victorious with a 2-0 win over Borussia Dortmund. This victory added another prestigious title to Real Madrid's illustrious history in European competitions.\n\n- **Significant Players**: The match marked the last club football appearance for Real Madrid midfielder Toni Kroos, who made his sixth appearance in a Champions League final. Additionally, Jude Bellingham from Real Madrid was recognized as the Champions League Young Player of the Season.\n\n- **Post-Match**: As winners of the Champions League, Real Madrid earned the right to play against Atalanta, the winners of the 2023–24 UEFA Europa League, in the 2024 UEFA Super Cup.\n\nThe event was a showcase of top-tier European football, with Real Madrid continuing their legacy as one of the most successful clubs in the history of the competition."
          },
          "metadata": {}
        }
      ]
    },
    {
      "cell_type": "code",
      "source": [
        "user_id = 'bond007'\n",
        "prompt = \"how is the weather in Bangalore today? Show detailed statistics\"\n",
        "chat_with_agent(prompt, user_id)"
      ],
      "metadata": {
        "colab": {
          "base_uri": "https://localhost:8080/",
          "height": 284
        },
        "id": "B9tAY2aDFWNi",
        "outputId": "47836c57-c06e-4f47-8901-fabe68bce54b"
      },
      "execution_count": 22,
      "outputs": [
        {
          "output_type": "display_data",
          "data": {
            "text/plain": [
              "<IPython.core.display.Markdown object>"
            ],
            "text/markdown": "The current weather in Bangalore, Karnataka, India is as follows:\n\n- **Temperature**: 22.3°C (72.1°F)\n- **Condition**: Clear\n- **Feels Like**: 24.5°C (76.1°F)\n- **Wind**: 10.1 mph (16.2 kph) from the East-Southeast (ESE) at 101°\n- **Pressure**: 1019.0 mb (30.09 in)\n- **Precipitation**: 0.0 mm (0.0 in)\n- **Humidity**: 69%\n- **Cloud Cover**: 0%\n- **Visibility**: 6.0 km (3.0 miles)\n- **UV Index**: 0.0\n- **Gusts**: Up to 17.1 mph (27.5 kph)\n- **Dew Point**: 10.8°C (51.5°F)\n\nThe weather is clear with no cloud cover, and it's currently nighttime in Bangalore."
          },
          "metadata": {}
        }
      ]
    },
    {
      "cell_type": "code",
      "source": [
        "user_id = 'bond007'\n",
        "prompt = \"what about Dubai?\"\n",
        "chat_with_agent(prompt, user_id)"
      ],
      "metadata": {
        "colab": {
          "base_uri": "https://localhost:8080/",
          "height": 284
        },
        "id": "taLSOe6_Fab5",
        "outputId": "9c2a6e39-26b7-4cae-e017-26609b674b70"
      },
      "execution_count": 23,
      "outputs": [
        {
          "output_type": "display_data",
          "data": {
            "text/plain": [
              "<IPython.core.display.Markdown object>"
            ],
            "text/markdown": "The current weather in Dubai, United Arab Emirates is as follows:\n\n- **Temperature**: 25.1°C (77.2°F)\n- **Condition**: Clear\n- **Feels Like**: 26.9°C (80.3°F)\n- **Wind**: 9.4 mph (15.1 kph) from the North (N) at 351°\n- **Pressure**: 1015.0 mb (29.97 in)\n- **Precipitation**: 0.0 mm (0.0 in)\n- **Humidity**: 41%\n- **Cloud Cover**: 0%\n- **Visibility**: 10.0 km (6.0 miles)\n- **UV Index**: 0.0\n- **Gusts**: Up to 16.8 mph (27.1 kph)\n- **Dew Point**: 17.5°C (63.4°F)\n\nThe weather is clear with no cloud cover, and it's currently nighttime in Dubai."
          },
          "metadata": {}
        }
      ]
    },
    {
      "cell_type": "code",
      "source": [
        "user_id = 'bond007'\n",
        "prompt = \"which city is hotter?\"\n",
        "chat_with_agent(prompt, user_id)"
      ],
      "metadata": {
        "colab": {
          "base_uri": "https://localhost:8080/",
          "height": 46
        },
        "id": "MwUd3LZzFb7o",
        "outputId": "4d0a780c-0dae-4f76-df09-0802f268c391"
      },
      "execution_count": 24,
      "outputs": [
        {
          "output_type": "display_data",
          "data": {
            "text/plain": [
              "<IPython.core.display.Markdown object>"
            ],
            "text/markdown": "Currently, Dubai is hotter than Bangalore. The temperature in Dubai is 25.1°C (77.2°F), while in Bangalore, it is 22.3°C (72.1°F)."
          },
          "metadata": {}
        }
      ]
    }
  ]
}