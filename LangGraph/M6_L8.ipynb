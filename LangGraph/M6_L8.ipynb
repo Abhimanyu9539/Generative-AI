{
 "cells": [
  {
   "cell_type": "markdown",
   "metadata": {
    "id": "8pdRDlVs1MJs"
   },
   "source": [
    "# Building a ReAct AI Agent from scratch with LangGraph"
   ]
  },
  {
   "cell_type": "markdown",
   "metadata": {
    "id": "NYBpZTjLnEXb"
   },
   "source": [
    "This demo will cover building AI Agents with LangGraph from scratch.\n",
    "\n",
    "Here we'll create a simple ReAct agent app that can search the web and check the weather. The app consists of an agent (LLM) and tools. As we interact with the app, we will first call the agent (LLM) to decide if we should use tools. Then we will run a loop:\n",
    "\n",
    "- If the agent said to take an action (i.e. call tool), we'll run the tools and pass the results back to the agent\n",
    "- If the agent did not ask to run tools, we will finish (respond to the user)\n",
    "\n",
    "We will implement this in LangGraph completely from scratch step by step.\n"
   ]
  },
  {
   "cell_type": "markdown",
   "metadata": {
    "id": "dZ0q3K8Y1TCf"
   },
   "source": [
    "There will be three parts to this hands-on demo:\n",
    "\n",
    "- Part I: Build a Basic Chatbot with LangGraph\n",
    "- Part II: Build a simple ReAct Agent with LangGraph - LLM + Tools\n",
    "- Part III: Build a multi-user conversational ReAct Agent with LangGraph"
   ]
  },
  {
   "cell_type": "markdown",
   "metadata": {
    "id": "L1KvMtf54l0d"
   },
   "source": [
    "## Install OpenAI, and LangChain dependencies"
   ]
  },
  {
   "cell_type": "code",
   "execution_count": 1,
   "metadata": {
    "colab": {
     "base_uri": "https://localhost:8080/"
    },
    "id": "2evPp14fy258",
    "outputId": "81f96887-80b9-4518-d54b-51b1497a6695"
   },
   "outputs": [
    {
     "name": "stdout",
     "output_type": "stream",
     "text": [
      "Collecting langchain==0.2.0\n",
      "  Downloading langchain-0.2.0-py3-none-any.whl (973 kB)\n",
      "\u001b[2K     \u001b[90m━━━━━━━━━━━━━━━━━━━━━━━━━━━━━━━━━━━━━━━━\u001b[0m \u001b[32m973.7/973.7 kB\u001b[0m \u001b[31m8.0 MB/s\u001b[0m eta \u001b[36m0:00:00\u001b[0m\n",
      "\u001b[?25hRequirement already satisfied: PyYAML>=5.3 in /usr/local/lib/python3.10/dist-packages (from langchain==0.2.0) (6.0.1)\n",
      "Requirement already satisfied: SQLAlchemy<3,>=1.4 in /usr/local/lib/python3.10/dist-packages (from langchain==0.2.0) (2.0.31)\n",
      "Requirement already satisfied: aiohttp<4.0.0,>=3.8.3 in /usr/local/lib/python3.10/dist-packages (from langchain==0.2.0) (3.9.5)\n",
      "Requirement already satisfied: async-timeout<5.0.0,>=4.0.0 in /usr/local/lib/python3.10/dist-packages (from langchain==0.2.0) (4.0.3)\n",
      "Collecting dataclasses-json<0.7,>=0.5.7 (from langchain==0.2.0)\n",
      "  Downloading dataclasses_json-0.6.7-py3-none-any.whl (28 kB)\n",
      "Collecting langchain-core<0.3.0,>=0.2.0 (from langchain==0.2.0)\n",
      "  Downloading langchain_core-0.2.10-py3-none-any.whl (332 kB)\n",
      "\u001b[2K     \u001b[90m━━━━━━━━━━━━━━━━━━━━━━━━━━━━━━━━━━━━━━━━\u001b[0m \u001b[32m332.8/332.8 kB\u001b[0m \u001b[31m10.8 MB/s\u001b[0m eta \u001b[36m0:00:00\u001b[0m\n",
      "\u001b[?25hCollecting langchain-text-splitters<0.3.0,>=0.2.0 (from langchain==0.2.0)\n",
      "  Downloading langchain_text_splitters-0.2.2-py3-none-any.whl (25 kB)\n",
      "Collecting langsmith<0.2.0,>=0.1.17 (from langchain==0.2.0)\n",
      "  Downloading langsmith-0.1.82-py3-none-any.whl (127 kB)\n",
      "\u001b[2K     \u001b[90m━━━━━━━━━━━━━━━━━━━━━━━━━━━━━━━━━━━━━━━━\u001b[0m \u001b[32m127.4/127.4 kB\u001b[0m \u001b[31m8.2 MB/s\u001b[0m eta \u001b[36m0:00:00\u001b[0m\n",
      "\u001b[?25hRequirement already satisfied: numpy<2,>=1 in /usr/local/lib/python3.10/dist-packages (from langchain==0.2.0) (1.25.2)\n",
      "Requirement already satisfied: pydantic<3,>=1 in /usr/local/lib/python3.10/dist-packages (from langchain==0.2.0) (2.7.4)\n",
      "Requirement already satisfied: requests<3,>=2 in /usr/local/lib/python3.10/dist-packages (from langchain==0.2.0) (2.31.0)\n",
      "Requirement already satisfied: tenacity<9.0.0,>=8.1.0 in /usr/local/lib/python3.10/dist-packages (from langchain==0.2.0) (8.4.1)\n",
      "Requirement already satisfied: aiosignal>=1.1.2 in /usr/local/lib/python3.10/dist-packages (from aiohttp<4.0.0,>=3.8.3->langchain==0.2.0) (1.3.1)\n",
      "Requirement already satisfied: attrs>=17.3.0 in /usr/local/lib/python3.10/dist-packages (from aiohttp<4.0.0,>=3.8.3->langchain==0.2.0) (23.2.0)\n",
      "Requirement already satisfied: frozenlist>=1.1.1 in /usr/local/lib/python3.10/dist-packages (from aiohttp<4.0.0,>=3.8.3->langchain==0.2.0) (1.4.1)\n",
      "Requirement already satisfied: multidict<7.0,>=4.5 in /usr/local/lib/python3.10/dist-packages (from aiohttp<4.0.0,>=3.8.3->langchain==0.2.0) (6.0.5)\n",
      "Requirement already satisfied: yarl<2.0,>=1.0 in /usr/local/lib/python3.10/dist-packages (from aiohttp<4.0.0,>=3.8.3->langchain==0.2.0) (1.9.4)\n",
      "Collecting marshmallow<4.0.0,>=3.18.0 (from dataclasses-json<0.7,>=0.5.7->langchain==0.2.0)\n",
      "  Downloading marshmallow-3.21.3-py3-none-any.whl (49 kB)\n",
      "\u001b[2K     \u001b[90m━━━━━━━━━━━━━━━━━━━━━━━━━━━━━━━━━━━━━━━━\u001b[0m \u001b[32m49.2/49.2 kB\u001b[0m \u001b[31m6.0 MB/s\u001b[0m eta \u001b[36m0:00:00\u001b[0m\n",
      "\u001b[?25hCollecting typing-inspect<1,>=0.4.0 (from dataclasses-json<0.7,>=0.5.7->langchain==0.2.0)\n",
      "  Downloading typing_inspect-0.9.0-py3-none-any.whl (8.8 kB)\n",
      "Collecting jsonpatch<2.0,>=1.33 (from langchain-core<0.3.0,>=0.2.0->langchain==0.2.0)\n",
      "  Downloading jsonpatch-1.33-py2.py3-none-any.whl (12 kB)\n",
      "Requirement already satisfied: packaging<25,>=23.2 in /usr/local/lib/python3.10/dist-packages (from langchain-core<0.3.0,>=0.2.0->langchain==0.2.0) (24.1)\n",
      "Collecting orjson<4.0.0,>=3.9.14 (from langsmith<0.2.0,>=0.1.17->langchain==0.2.0)\n",
      "  Downloading orjson-3.10.5-cp310-cp310-manylinux_2_17_x86_64.manylinux2014_x86_64.whl (144 kB)\n",
      "\u001b[2K     \u001b[90m━━━━━━━━━━━━━━━━━━━━━━━━━━━━━━━━━━━━━━━━\u001b[0m \u001b[32m145.0/145.0 kB\u001b[0m \u001b[31m8.9 MB/s\u001b[0m eta \u001b[36m0:00:00\u001b[0m\n",
      "\u001b[?25hRequirement already satisfied: annotated-types>=0.4.0 in /usr/local/lib/python3.10/dist-packages (from pydantic<3,>=1->langchain==0.2.0) (0.7.0)\n",
      "Requirement already satisfied: pydantic-core==2.18.4 in /usr/local/lib/python3.10/dist-packages (from pydantic<3,>=1->langchain==0.2.0) (2.18.4)\n",
      "Requirement already satisfied: typing-extensions>=4.6.1 in /usr/local/lib/python3.10/dist-packages (from pydantic<3,>=1->langchain==0.2.0) (4.12.2)\n",
      "Requirement already satisfied: charset-normalizer<4,>=2 in /usr/local/lib/python3.10/dist-packages (from requests<3,>=2->langchain==0.2.0) (3.3.2)\n",
      "Requirement already satisfied: idna<4,>=2.5 in /usr/local/lib/python3.10/dist-packages (from requests<3,>=2->langchain==0.2.0) (3.7)\n",
      "Requirement already satisfied: urllib3<3,>=1.21.1 in /usr/local/lib/python3.10/dist-packages (from requests<3,>=2->langchain==0.2.0) (2.0.7)\n",
      "Requirement already satisfied: certifi>=2017.4.17 in /usr/local/lib/python3.10/dist-packages (from requests<3,>=2->langchain==0.2.0) (2024.6.2)\n",
      "Requirement already satisfied: greenlet!=0.4.17 in /usr/local/lib/python3.10/dist-packages (from SQLAlchemy<3,>=1.4->langchain==0.2.0) (3.0.3)\n",
      "Collecting jsonpointer>=1.9 (from jsonpatch<2.0,>=1.33->langchain-core<0.3.0,>=0.2.0->langchain==0.2.0)\n",
      "  Downloading jsonpointer-3.0.0-py2.py3-none-any.whl (7.6 kB)\n",
      "Collecting mypy-extensions>=0.3.0 (from typing-inspect<1,>=0.4.0->dataclasses-json<0.7,>=0.5.7->langchain==0.2.0)\n",
      "  Downloading mypy_extensions-1.0.0-py3-none-any.whl (4.7 kB)\n",
      "Installing collected packages: orjson, mypy-extensions, marshmallow, jsonpointer, typing-inspect, jsonpatch, langsmith, dataclasses-json, langchain-core, langchain-text-splitters, langchain\n",
      "Successfully installed dataclasses-json-0.6.7 jsonpatch-1.33 jsonpointer-3.0.0 langchain-0.2.0 langchain-core-0.2.10 langchain-text-splitters-0.2.2 langsmith-0.1.82 marshmallow-3.21.3 mypy-extensions-1.0.0 orjson-3.10.5 typing-inspect-0.9.0\n",
      "Collecting langchain-openai==0.1.7\n",
      "  Downloading langchain_openai-0.1.7-py3-none-any.whl (34 kB)\n",
      "Requirement already satisfied: langchain-core<0.3,>=0.1.46 in /usr/local/lib/python3.10/dist-packages (from langchain-openai==0.1.7) (0.2.10)\n",
      "Collecting openai<2.0.0,>=1.24.0 (from langchain-openai==0.1.7)\n",
      "  Downloading openai-1.35.7-py3-none-any.whl (327 kB)\n",
      "\u001b[2K     \u001b[90m━━━━━━━━━━━━━━━━━━━━━━━━━━━━━━━━━━━━━━━━\u001b[0m \u001b[32m327.5/327.5 kB\u001b[0m \u001b[31m7.1 MB/s\u001b[0m eta \u001b[36m0:00:00\u001b[0m\n",
      "\u001b[?25hCollecting tiktoken<1,>=0.7 (from langchain-openai==0.1.7)\n",
      "  Downloading tiktoken-0.7.0-cp310-cp310-manylinux_2_17_x86_64.manylinux2014_x86_64.whl (1.1 MB)\n",
      "\u001b[2K     \u001b[90m━━━━━━━━━━━━━━━━━━━━━━━━━━━━━━━━━━━━━━━━\u001b[0m \u001b[32m1.1/1.1 MB\u001b[0m \u001b[31m11.3 MB/s\u001b[0m eta \u001b[36m0:00:00\u001b[0m\n",
      "\u001b[?25hRequirement already satisfied: PyYAML>=5.3 in /usr/local/lib/python3.10/dist-packages (from langchain-core<0.3,>=0.1.46->langchain-openai==0.1.7) (6.0.1)\n",
      "Requirement already satisfied: jsonpatch<2.0,>=1.33 in /usr/local/lib/python3.10/dist-packages (from langchain-core<0.3,>=0.1.46->langchain-openai==0.1.7) (1.33)\n",
      "Requirement already satisfied: langsmith<0.2.0,>=0.1.75 in /usr/local/lib/python3.10/dist-packages (from langchain-core<0.3,>=0.1.46->langchain-openai==0.1.7) (0.1.82)\n",
      "Requirement already satisfied: packaging<25,>=23.2 in /usr/local/lib/python3.10/dist-packages (from langchain-core<0.3,>=0.1.46->langchain-openai==0.1.7) (24.1)\n",
      "Requirement already satisfied: pydantic<3,>=1 in /usr/local/lib/python3.10/dist-packages (from langchain-core<0.3,>=0.1.46->langchain-openai==0.1.7) (2.7.4)\n",
      "Requirement already satisfied: tenacity!=8.4.0,<9.0.0,>=8.1.0 in /usr/local/lib/python3.10/dist-packages (from langchain-core<0.3,>=0.1.46->langchain-openai==0.1.7) (8.4.1)\n",
      "Requirement already satisfied: anyio<5,>=3.5.0 in /usr/local/lib/python3.10/dist-packages (from openai<2.0.0,>=1.24.0->langchain-openai==0.1.7) (3.7.1)\n",
      "Requirement already satisfied: distro<2,>=1.7.0 in /usr/lib/python3/dist-packages (from openai<2.0.0,>=1.24.0->langchain-openai==0.1.7) (1.7.0)\n",
      "Collecting httpx<1,>=0.23.0 (from openai<2.0.0,>=1.24.0->langchain-openai==0.1.7)\n",
      "  Downloading httpx-0.27.0-py3-none-any.whl (75 kB)\n",
      "\u001b[2K     \u001b[90m━━━━━━━━━━━━━━━━━━━━━━━━━━━━━━━━━━━━━━━━\u001b[0m \u001b[32m75.6/75.6 kB\u001b[0m \u001b[31m8.8 MB/s\u001b[0m eta \u001b[36m0:00:00\u001b[0m\n",
      "\u001b[?25hRequirement already satisfied: sniffio in /usr/local/lib/python3.10/dist-packages (from openai<2.0.0,>=1.24.0->langchain-openai==0.1.7) (1.3.1)\n",
      "Requirement already satisfied: tqdm>4 in /usr/local/lib/python3.10/dist-packages (from openai<2.0.0,>=1.24.0->langchain-openai==0.1.7) (4.66.4)\n",
      "Requirement already satisfied: typing-extensions<5,>=4.7 in /usr/local/lib/python3.10/dist-packages (from openai<2.0.0,>=1.24.0->langchain-openai==0.1.7) (4.12.2)\n",
      "Requirement already satisfied: regex>=2022.1.18 in /usr/local/lib/python3.10/dist-packages (from tiktoken<1,>=0.7->langchain-openai==0.1.7) (2024.5.15)\n",
      "Requirement already satisfied: requests>=2.26.0 in /usr/local/lib/python3.10/dist-packages (from tiktoken<1,>=0.7->langchain-openai==0.1.7) (2.31.0)\n",
      "Requirement already satisfied: idna>=2.8 in /usr/local/lib/python3.10/dist-packages (from anyio<5,>=3.5.0->openai<2.0.0,>=1.24.0->langchain-openai==0.1.7) (3.7)\n",
      "Requirement already satisfied: exceptiongroup in /usr/local/lib/python3.10/dist-packages (from anyio<5,>=3.5.0->openai<2.0.0,>=1.24.0->langchain-openai==0.1.7) (1.2.1)\n",
      "Requirement already satisfied: certifi in /usr/local/lib/python3.10/dist-packages (from httpx<1,>=0.23.0->openai<2.0.0,>=1.24.0->langchain-openai==0.1.7) (2024.6.2)\n",
      "Collecting httpcore==1.* (from httpx<1,>=0.23.0->openai<2.0.0,>=1.24.0->langchain-openai==0.1.7)\n",
      "  Downloading httpcore-1.0.5-py3-none-any.whl (77 kB)\n",
      "\u001b[2K     \u001b[90m━━━━━━━━━━━━━━━━━━━━━━━━━━━━━━━━━━━━━━━━\u001b[0m \u001b[32m77.9/77.9 kB\u001b[0m \u001b[31m9.5 MB/s\u001b[0m eta \u001b[36m0:00:00\u001b[0m\n",
      "\u001b[?25hCollecting h11<0.15,>=0.13 (from httpcore==1.*->httpx<1,>=0.23.0->openai<2.0.0,>=1.24.0->langchain-openai==0.1.7)\n",
      "  Downloading h11-0.14.0-py3-none-any.whl (58 kB)\n",
      "\u001b[2K     \u001b[90m━━━━━━━━━━━━━━━━━━━━━━━━━━━━━━━━━━━━━━━━\u001b[0m \u001b[32m58.3/58.3 kB\u001b[0m \u001b[31m7.2 MB/s\u001b[0m eta \u001b[36m0:00:00\u001b[0m\n",
      "\u001b[?25hRequirement already satisfied: jsonpointer>=1.9 in /usr/local/lib/python3.10/dist-packages (from jsonpatch<2.0,>=1.33->langchain-core<0.3,>=0.1.46->langchain-openai==0.1.7) (3.0.0)\n",
      "Requirement already satisfied: orjson<4.0.0,>=3.9.14 in /usr/local/lib/python3.10/dist-packages (from langsmith<0.2.0,>=0.1.75->langchain-core<0.3,>=0.1.46->langchain-openai==0.1.7) (3.10.5)\n",
      "Requirement already satisfied: annotated-types>=0.4.0 in /usr/local/lib/python3.10/dist-packages (from pydantic<3,>=1->langchain-core<0.3,>=0.1.46->langchain-openai==0.1.7) (0.7.0)\n",
      "Requirement already satisfied: pydantic-core==2.18.4 in /usr/local/lib/python3.10/dist-packages (from pydantic<3,>=1->langchain-core<0.3,>=0.1.46->langchain-openai==0.1.7) (2.18.4)\n",
      "Requirement already satisfied: charset-normalizer<4,>=2 in /usr/local/lib/python3.10/dist-packages (from requests>=2.26.0->tiktoken<1,>=0.7->langchain-openai==0.1.7) (3.3.2)\n",
      "Requirement already satisfied: urllib3<3,>=1.21.1 in /usr/local/lib/python3.10/dist-packages (from requests>=2.26.0->tiktoken<1,>=0.7->langchain-openai==0.1.7) (2.0.7)\n",
      "Installing collected packages: h11, tiktoken, httpcore, httpx, openai, langchain-openai\n",
      "Successfully installed h11-0.14.0 httpcore-1.0.5 httpx-0.27.0 langchain-openai-0.1.7 openai-1.35.7 tiktoken-0.7.0\n",
      "Collecting langchain-community==0.2.0\n",
      "  Downloading langchain_community-0.2.0-py3-none-any.whl (2.1 MB)\n",
      "\u001b[2K     \u001b[90m━━━━━━━━━━━━━━━━━━━━━━━━━━━━━━━━━━━━━━━━\u001b[0m \u001b[32m2.1/2.1 MB\u001b[0m \u001b[31m12.1 MB/s\u001b[0m eta \u001b[36m0:00:00\u001b[0m\n",
      "\u001b[?25hRequirement already satisfied: PyYAML>=5.3 in /usr/local/lib/python3.10/dist-packages (from langchain-community==0.2.0) (6.0.1)\n",
      "Requirement already satisfied: SQLAlchemy<3,>=1.4 in /usr/local/lib/python3.10/dist-packages (from langchain-community==0.2.0) (2.0.31)\n",
      "Requirement already satisfied: aiohttp<4.0.0,>=3.8.3 in /usr/local/lib/python3.10/dist-packages (from langchain-community==0.2.0) (3.9.5)\n",
      "Requirement already satisfied: dataclasses-json<0.7,>=0.5.7 in /usr/local/lib/python3.10/dist-packages (from langchain-community==0.2.0) (0.6.7)\n",
      "Requirement already satisfied: langchain<0.3.0,>=0.2.0 in /usr/local/lib/python3.10/dist-packages (from langchain-community==0.2.0) (0.2.0)\n",
      "Requirement already satisfied: langchain-core<0.3.0,>=0.2.0 in /usr/local/lib/python3.10/dist-packages (from langchain-community==0.2.0) (0.2.10)\n",
      "Requirement already satisfied: langsmith<0.2.0,>=0.1.0 in /usr/local/lib/python3.10/dist-packages (from langchain-community==0.2.0) (0.1.82)\n",
      "Requirement already satisfied: numpy<2,>=1 in /usr/local/lib/python3.10/dist-packages (from langchain-community==0.2.0) (1.25.2)\n",
      "Requirement already satisfied: requests<3,>=2 in /usr/local/lib/python3.10/dist-packages (from langchain-community==0.2.0) (2.31.0)\n",
      "Requirement already satisfied: tenacity<9.0.0,>=8.1.0 in /usr/local/lib/python3.10/dist-packages (from langchain-community==0.2.0) (8.4.1)\n",
      "Requirement already satisfied: aiosignal>=1.1.2 in /usr/local/lib/python3.10/dist-packages (from aiohttp<4.0.0,>=3.8.3->langchain-community==0.2.0) (1.3.1)\n",
      "Requirement already satisfied: attrs>=17.3.0 in /usr/local/lib/python3.10/dist-packages (from aiohttp<4.0.0,>=3.8.3->langchain-community==0.2.0) (23.2.0)\n",
      "Requirement already satisfied: frozenlist>=1.1.1 in /usr/local/lib/python3.10/dist-packages (from aiohttp<4.0.0,>=3.8.3->langchain-community==0.2.0) (1.4.1)\n",
      "Requirement already satisfied: multidict<7.0,>=4.5 in /usr/local/lib/python3.10/dist-packages (from aiohttp<4.0.0,>=3.8.3->langchain-community==0.2.0) (6.0.5)\n",
      "Requirement already satisfied: yarl<2.0,>=1.0 in /usr/local/lib/python3.10/dist-packages (from aiohttp<4.0.0,>=3.8.3->langchain-community==0.2.0) (1.9.4)\n",
      "Requirement already satisfied: async-timeout<5.0,>=4.0 in /usr/local/lib/python3.10/dist-packages (from aiohttp<4.0.0,>=3.8.3->langchain-community==0.2.0) (4.0.3)\n",
      "Requirement already satisfied: marshmallow<4.0.0,>=3.18.0 in /usr/local/lib/python3.10/dist-packages (from dataclasses-json<0.7,>=0.5.7->langchain-community==0.2.0) (3.21.3)\n",
      "Requirement already satisfied: typing-inspect<1,>=0.4.0 in /usr/local/lib/python3.10/dist-packages (from dataclasses-json<0.7,>=0.5.7->langchain-community==0.2.0) (0.9.0)\n",
      "Requirement already satisfied: langchain-text-splitters<0.3.0,>=0.2.0 in /usr/local/lib/python3.10/dist-packages (from langchain<0.3.0,>=0.2.0->langchain-community==0.2.0) (0.2.2)\n",
      "Requirement already satisfied: pydantic<3,>=1 in /usr/local/lib/python3.10/dist-packages (from langchain<0.3.0,>=0.2.0->langchain-community==0.2.0) (2.7.4)\n",
      "Requirement already satisfied: jsonpatch<2.0,>=1.33 in /usr/local/lib/python3.10/dist-packages (from langchain-core<0.3.0,>=0.2.0->langchain-community==0.2.0) (1.33)\n",
      "Requirement already satisfied: packaging<25,>=23.2 in /usr/local/lib/python3.10/dist-packages (from langchain-core<0.3.0,>=0.2.0->langchain-community==0.2.0) (24.1)\n",
      "Requirement already satisfied: orjson<4.0.0,>=3.9.14 in /usr/local/lib/python3.10/dist-packages (from langsmith<0.2.0,>=0.1.0->langchain-community==0.2.0) (3.10.5)\n",
      "Requirement already satisfied: charset-normalizer<4,>=2 in /usr/local/lib/python3.10/dist-packages (from requests<3,>=2->langchain-community==0.2.0) (3.3.2)\n",
      "Requirement already satisfied: idna<4,>=2.5 in /usr/local/lib/python3.10/dist-packages (from requests<3,>=2->langchain-community==0.2.0) (3.7)\n",
      "Requirement already satisfied: urllib3<3,>=1.21.1 in /usr/local/lib/python3.10/dist-packages (from requests<3,>=2->langchain-community==0.2.0) (2.0.7)\n",
      "Requirement already satisfied: certifi>=2017.4.17 in /usr/local/lib/python3.10/dist-packages (from requests<3,>=2->langchain-community==0.2.0) (2024.6.2)\n",
      "Requirement already satisfied: typing-extensions>=4.6.0 in /usr/local/lib/python3.10/dist-packages (from SQLAlchemy<3,>=1.4->langchain-community==0.2.0) (4.12.2)\n",
      "Requirement already satisfied: greenlet!=0.4.17 in /usr/local/lib/python3.10/dist-packages (from SQLAlchemy<3,>=1.4->langchain-community==0.2.0) (3.0.3)\n",
      "Requirement already satisfied: jsonpointer>=1.9 in /usr/local/lib/python3.10/dist-packages (from jsonpatch<2.0,>=1.33->langchain-core<0.3.0,>=0.2.0->langchain-community==0.2.0) (3.0.0)\n",
      "Requirement already satisfied: annotated-types>=0.4.0 in /usr/local/lib/python3.10/dist-packages (from pydantic<3,>=1->langchain<0.3.0,>=0.2.0->langchain-community==0.2.0) (0.7.0)\n",
      "Requirement already satisfied: pydantic-core==2.18.4 in /usr/local/lib/python3.10/dist-packages (from pydantic<3,>=1->langchain<0.3.0,>=0.2.0->langchain-community==0.2.0) (2.18.4)\n",
      "Requirement already satisfied: mypy-extensions>=0.3.0 in /usr/local/lib/python3.10/dist-packages (from typing-inspect<1,>=0.4.0->dataclasses-json<0.7,>=0.5.7->langchain-community==0.2.0) (1.0.0)\n",
      "Installing collected packages: langchain-community\n",
      "Successfully installed langchain-community-0.2.0\n",
      "Collecting langgraph==0.1.1\n",
      "  Downloading langgraph-0.1.1-py3-none-any.whl (87 kB)\n",
      "\u001b[2K     \u001b[90m━━━━━━━━━━━━━━━━━━━━━━━━━━━━━━━━━━━━━━━━\u001b[0m \u001b[32m87.3/87.3 kB\u001b[0m \u001b[31m3.3 MB/s\u001b[0m eta \u001b[36m0:00:00\u001b[0m\n",
      "\u001b[?25hRequirement already satisfied: langchain-core<0.3,>=0.2 in /usr/local/lib/python3.10/dist-packages (from langgraph==0.1.1) (0.2.10)\n",
      "Requirement already satisfied: PyYAML>=5.3 in /usr/local/lib/python3.10/dist-packages (from langchain-core<0.3,>=0.2->langgraph==0.1.1) (6.0.1)\n",
      "Requirement already satisfied: jsonpatch<2.0,>=1.33 in /usr/local/lib/python3.10/dist-packages (from langchain-core<0.3,>=0.2->langgraph==0.1.1) (1.33)\n",
      "Requirement already satisfied: langsmith<0.2.0,>=0.1.75 in /usr/local/lib/python3.10/dist-packages (from langchain-core<0.3,>=0.2->langgraph==0.1.1) (0.1.82)\n",
      "Requirement already satisfied: packaging<25,>=23.2 in /usr/local/lib/python3.10/dist-packages (from langchain-core<0.3,>=0.2->langgraph==0.1.1) (24.1)\n",
      "Requirement already satisfied: pydantic<3,>=1 in /usr/local/lib/python3.10/dist-packages (from langchain-core<0.3,>=0.2->langgraph==0.1.1) (2.7.4)\n",
      "Requirement already satisfied: tenacity!=8.4.0,<9.0.0,>=8.1.0 in /usr/local/lib/python3.10/dist-packages (from langchain-core<0.3,>=0.2->langgraph==0.1.1) (8.4.1)\n",
      "Requirement already satisfied: jsonpointer>=1.9 in /usr/local/lib/python3.10/dist-packages (from jsonpatch<2.0,>=1.33->langchain-core<0.3,>=0.2->langgraph==0.1.1) (3.0.0)\n",
      "Requirement already satisfied: orjson<4.0.0,>=3.9.14 in /usr/local/lib/python3.10/dist-packages (from langsmith<0.2.0,>=0.1.75->langchain-core<0.3,>=0.2->langgraph==0.1.1) (3.10.5)\n",
      "Requirement already satisfied: requests<3,>=2 in /usr/local/lib/python3.10/dist-packages (from langsmith<0.2.0,>=0.1.75->langchain-core<0.3,>=0.2->langgraph==0.1.1) (2.31.0)\n",
      "Requirement already satisfied: annotated-types>=0.4.0 in /usr/local/lib/python3.10/dist-packages (from pydantic<3,>=1->langchain-core<0.3,>=0.2->langgraph==0.1.1) (0.7.0)\n",
      "Requirement already satisfied: pydantic-core==2.18.4 in /usr/local/lib/python3.10/dist-packages (from pydantic<3,>=1->langchain-core<0.3,>=0.2->langgraph==0.1.1) (2.18.4)\n",
      "Requirement already satisfied: typing-extensions>=4.6.1 in /usr/local/lib/python3.10/dist-packages (from pydantic<3,>=1->langchain-core<0.3,>=0.2->langgraph==0.1.1) (4.12.2)\n",
      "Requirement already satisfied: charset-normalizer<4,>=2 in /usr/local/lib/python3.10/dist-packages (from requests<3,>=2->langsmith<0.2.0,>=0.1.75->langchain-core<0.3,>=0.2->langgraph==0.1.1) (3.3.2)\n",
      "Requirement already satisfied: idna<4,>=2.5 in /usr/local/lib/python3.10/dist-packages (from requests<3,>=2->langsmith<0.2.0,>=0.1.75->langchain-core<0.3,>=0.2->langgraph==0.1.1) (3.7)\n",
      "Requirement already satisfied: urllib3<3,>=1.21.1 in /usr/local/lib/python3.10/dist-packages (from requests<3,>=2->langsmith<0.2.0,>=0.1.75->langchain-core<0.3,>=0.2->langgraph==0.1.1) (2.0.7)\n",
      "Requirement already satisfied: certifi>=2017.4.17 in /usr/local/lib/python3.10/dist-packages (from requests<3,>=2->langsmith<0.2.0,>=0.1.75->langchain-core<0.3,>=0.2->langgraph==0.1.1) (2024.6.2)\n",
      "Installing collected packages: langgraph\n",
      "Successfully installed langgraph-0.1.1\n"
     ]
    }
   ],
   "source": [
    "!pip install langchain==0.2.0\n",
    "!pip install langchain-openai==0.1.7\n",
    "!pip install langchain-community==0.2.0\n",
    "!pip install langgraph==0.1.1"
   ]
  },
  {
   "cell_type": "markdown",
   "metadata": {
    "id": "H9c37cLnSrbg"
   },
   "source": [
    "## Enter Open AI API Key"
   ]
  },
  {
   "cell_type": "code",
   "execution_count": 2,
   "metadata": {
    "colab": {
     "base_uri": "https://localhost:8080/"
    },
    "id": "cv3JzCEx_PAd",
    "outputId": "e1ac126b-cf2f-4399-8446-a78481a242f8"
   },
   "outputs": [
    {
     "name": "stdout",
     "output_type": "stream",
     "text": [
      "Enter Open AI API Key: ··········\n"
     ]
    }
   ],
   "source": [
    "from getpass import getpass\n",
    "\n",
    "OPENAI_KEY = getpass('Enter Open AI API Key: ')"
   ]
  },
  {
   "cell_type": "markdown",
   "metadata": {
    "id": "ucWRRI3QztL2"
   },
   "source": [
    "## Enter Tavily Search API Key\n",
    "\n",
    "Get a free API key from [here](https://tavily.com/#api)"
   ]
  },
  {
   "cell_type": "code",
   "execution_count": 3,
   "metadata": {
    "colab": {
     "base_uri": "https://localhost:8080/"
    },
    "id": "mK-1WLzOrJdb",
    "outputId": "8c50b386-6c4c-4889-e66e-f5830e6c6ca0"
   },
   "outputs": [
    {
     "name": "stdout",
     "output_type": "stream",
     "text": [
      "Enter Tavily Search API Key: ··········\n"
     ]
    }
   ],
   "source": [
    "TAVILY_API_KEY = getpass('Enter Tavily Search API Key: ')"
   ]
  },
  {
   "cell_type": "markdown",
   "metadata": {
    "id": "djj1pH6A04BX"
   },
   "source": [
    "## Enter WeatherAPI API Key\n",
    "\n",
    "Get a free API key from [here](https://www.weatherapi.com/signup.aspx)"
   ]
  },
  {
   "cell_type": "code",
   "execution_count": 4,
   "metadata": {
    "colab": {
     "base_uri": "https://localhost:8080/"
    },
    "id": "XpAMz1XgEEov",
    "outputId": "f305996e-3144-45d5-852d-26e9a9c22250"
   },
   "outputs": [
    {
     "name": "stdout",
     "output_type": "stream",
     "text": [
      "Enter WeatherAPI API Key: ··········\n"
     ]
    }
   ],
   "source": [
    "WEATHER_API_KEY = getpass('Enter WeatherAPI API Key: ')"
   ]
  },
  {
   "cell_type": "markdown",
   "metadata": {
    "id": "1T0s0um5Svfa"
   },
   "source": [
    "## Setup Environment Variables"
   ]
  },
  {
   "cell_type": "code",
   "execution_count": 5,
   "metadata": {
    "id": "x1YSuHNF_lbh"
   },
   "outputs": [],
   "source": [
    "import os\n",
    "\n",
    "os.environ['OPENAI_API_KEY'] = OPENAI_KEY\n",
    "os.environ['TAVILY_API_KEY'] = TAVILY_API_KEY"
   ]
  },
  {
   "cell_type": "markdown",
   "metadata": {
    "id": "ef7bcad1-1274-4b7c-a2e9-365180ef3a31"
   },
   "source": [
    "## Part I: Build a Basic Chatbot with LangGraph\n",
    "\n",
    "The first step will be to create a simple chatbot using LangGraph.\n",
    "\n",
    "This chatbot will respond directly to user messages.\n",
    "\n",
    "- We will start by creating a `StateGraph`. A `StateGraph` object defines the structure of our chatbot as a \"state machine\"\n",
    "- `nodes` will represent the llm and functions our chatbot can call\n",
    "- `edges` will specify how the bot should transition between these functions\n",
    "\n"
   ]
  },
  {
   "cell_type": "code",
   "execution_count": 6,
   "metadata": {
    "id": "MbYwaKHaaMaw"
   },
   "outputs": [],
   "source": [
    "from typing import Annotated\n",
    "from typing_extensions import TypedDict\n",
    "from langgraph.graph import StateGraph\n",
    "from langgraph.graph.message import add_messages\n",
    "\n",
    "class State(TypedDict):\n",
    "    # Messages have the type \"list\"\n",
    "    # The `add_messages` function in the annotation defines how this state key should be updated\n",
    "    # (in this case, it appends messages to the list, rather than overwriting them)\n",
    "    messages: Annotated[list, add_messages]\n",
    "\n",
    "graph_builder = StateGraph(State)"
   ]
  },
  {
   "cell_type": "markdown",
   "metadata": {
    "id": "4137feed-746e-4c72-a34a-f7a699ad5dcf"
   },
   "source": [
    "We've defined our `State` as a TypedDict with a single key: `messages`.\n",
    "\n",
    "The `messages` key is annotated with the [`add_messages`](https://langchain-ai.github.io/langgraph/reference/graphs/?h=add+messages#add_messages) function, which tells LangGraph to append new messages to the existing list, rather than overwriting it.\n",
    "\n",
    "So now our graph knows two things:\n",
    "\n",
    "1. Every `node` we define will receive the current `State` as input and return a value that updates that state.\n",
    "2. `messages` will be _appended_ to the current list, rather than directly overwritten. This is communicated via the prebuilt [`add_messages`](https://langchain-ai.github.io/langgraph/reference/graphs/?h=add+messages#add_messages) function in the `Annotated` syntax.\n",
    "\n",
    "Next, we add a \"`chatbot`\" node.\n",
    "\n",
    "Nodes represent units of work. They are typically regular python functions.\n",
    "\n",
    "This is a simple node which will just send our messages to an LLM."
   ]
  },
  {
   "cell_type": "code",
   "execution_count": 7,
   "metadata": {
    "id": "ETuxgmRjaMk_"
   },
   "outputs": [],
   "source": [
    "from langchain_openai import ChatOpenAI\n",
    "\n",
    "chatgpt = ChatOpenAI(model=\"gpt-4o\", temperature=0)\n",
    "\n",
    "\n",
    "def chatbot(state: State):\n",
    "    return {\"messages\": [chatgpt.invoke(state[\"messages\"])]}\n",
    "\n",
    "\n",
    "# The first argument is the unique node name\n",
    "# The second argument is the function or object\n",
    "# this function will be called whenever the node is used.\n",
    "graph_builder.add_node(\"chatbot\", chatbot)"
   ]
  },
  {
   "cell_type": "markdown",
   "metadata": {
    "id": "b6c1dcd9-fb86-4649-81b4-ff6ce20a2e46"
   },
   "source": [
    "The `chatbot` node function takes the current `State` as input and returns an updated `messages` list.\n",
    "\n",
    "This is the basic pattern for all LangGraph node functions.\n",
    "\n",
    "The `add_messages` function in our `State` will append the LLM's response messages to whatever messages are already in the state.\n",
    "\n",
    "Next, we add an `entry` point. This tells our graph **where to start its work** each time we run it."
   ]
  },
  {
   "cell_type": "code",
   "execution_count": 8,
   "metadata": {
    "id": "tqVRB_2CaMng"
   },
   "outputs": [],
   "source": [
    "graph_builder.set_entry_point(\"chatbot\")"
   ]
  },
  {
   "cell_type": "markdown",
   "metadata": {
    "id": "0499c318-d1e6-46fa-a652-8f9e65313355"
   },
   "source": [
    "Similarly, we set a `finish` point. This instructs the graph **\"any time this node is run, you can exit.\"**"
   ]
  },
  {
   "cell_type": "code",
   "execution_count": 9,
   "metadata": {
    "id": "XjuYxBaZaMqE"
   },
   "outputs": [],
   "source": [
    "graph_builder.set_finish_point(\"chatbot\")"
   ]
  },
  {
   "cell_type": "markdown",
   "metadata": {
    "id": "65a9b88c-2c53-4d95-8eb1-d544a8946f65"
   },
   "source": [
    "Now we will compile our graph by calling \"`compile()`\" on the graph builder.\n",
    "\n",
    "This creates a \"`CompiledGraph`\" we can use invoke on our state."
   ]
  },
  {
   "cell_type": "code",
   "execution_count": 10,
   "metadata": {
    "id": "AKydEtVUjZl_"
   },
   "outputs": [],
   "source": [
    "graph = graph_builder.compile()"
   ]
  },
  {
   "cell_type": "code",
   "execution_count": 11,
   "metadata": {
    "colab": {
     "base_uri": "https://localhost:8080/",
     "height": 235
    },
    "id": "t2tFRI5JjaTS",
    "outputId": "3e613466-6877-49bb-ea2a-d3bfb8ae7998"
   },
   "outputs": [
    {
     "data": {
      "image/jpeg": "[encoded data removed]",
      "text/plain": [
       "<IPython.core.display.Image object>"
      ]
     },
     "metadata": {},
     "output_type": "display_data"
    }
   ],
   "source": [
    "from IPython.display import Image, display, Markdown\n",
    "\n",
    "display(Image(graph.get_graph().draw_mermaid_png()))"
   ]
  },
  {
   "cell_type": "code",
   "execution_count": 12,
   "metadata": {
    "id": "JdGjoZP4jeNB"
   },
   "outputs": [],
   "source": [
    "prompt = \"\"\"What is the fastest animal on land?\"\"\"\n",
    "response = graph.invoke({\"messages\": (\"user\", prompt)})"
   ]
  },
  {
   "cell_type": "code",
   "execution_count": 13,
   "metadata": {
    "colab": {
     "base_uri": "https://localhost:8080/"
    },
    "id": "nmzvlzV_j1Ey",
    "outputId": "22993463-3de6-4941-ca25-805b2fa421bc"
   },
   "outputs": [
    {
     "data": {
      "text/plain": [
       "{'messages': [HumanMessage(content='What is the fastest animal on land?', id='0fd69be9-e68b-4f18-a28a-6816514f3628'),\n",
       "  AIMessage(content='The fastest animal on land is the cheetah (Acinonyx jubatus). Cheetahs can reach speeds of up to 60 to 70 miles per hour (97 to 113 kilometers per hour) in short bursts covering distances up to 500 meters (1,640 feet). They are specially adapted for speed with a lightweight frame, long legs, and a flexible spine that allows for an extended stride.', response_metadata={'token_usage': {'completion_tokens': 85, 'prompt_tokens': 15, 'total_tokens': 100}, 'model_name': 'gpt-4o', 'system_fingerprint': 'fp_d576307f90', 'finish_reason': 'stop', 'logprobs': None}, id='run-1a68bf00-4d05-4de1-b0b2-8faeefe38220-0')]}"
      ]
     },
     "execution_count": 13,
     "metadata": {},
     "output_type": "execute_result"
    }
   ],
   "source": [
    "response"
   ]
  },
  {
   "cell_type": "code",
   "execution_count": 17,
   "metadata": {
    "colab": {
     "base_uri": "https://localhost:8080/",
     "height": 104
    },
    "id": "_sHjXmwij9wT",
    "outputId": "abc661ef-14f0-4be0-affc-ff2858f2e2a5"
   },
   "outputs": [
    {
     "data": {
      "text/markdown": [
       "As of my last update in October 2023, there is no widely recognized technology, software, or concept known as \"langraph.\" It's possible that it could be a new or niche term that has emerged recently, or it might be a misspelling or a combination of other terms.\n",
       "\n",
       "If \"langraph\" is a new term or a specific product, service, or concept that has been introduced after my last update, I wouldn't have information on it. In that case, I recommend checking the latest sources or providing more context so I can assist you better."
      ],
      "text/plain": [
       "<IPython.core.display.Markdown object>"
      ]
     },
     "metadata": {},
     "output_type": "display_data"
    }
   ],
   "source": [
    "prompt = \"\"\"What is langraph?\"\"\"\n",
    "response = graph.invoke({\"messages\": (\"user\", prompt)})\n",
    "display(Markdown(response['messages'][-1].content))"
   ]
  },
  {
   "cell_type": "code",
   "execution_count": 18,
   "metadata": {
    "colab": {
     "base_uri": "https://localhost:8080/"
    },
    "id": "kKQdaFnikWWl",
    "outputId": "648d51d2-6f13-4e22-e251-42a398543a91"
   },
   "outputs": [
    {
     "data": {
      "text/plain": [
       "{'messages': [HumanMessage(content='What is langraph?', id='4a2def9f-46d5-4808-81c5-5b3414396a2b'),\n",
       "  AIMessage(content='As of my last update in October 2023, there is no widely recognized technology, software, or concept known as \"langraph.\" It\\'s possible that it could be a new or niche term that has emerged recently, or it might be a misspelling or a combination of other terms.\\n\\nIf \"langraph\" is a new term or a specific product, service, or concept that has been introduced after my last update, I wouldn\\'t have information on it. In that case, I recommend checking the latest sources or providing more context so I can assist you better.', response_metadata={'token_usage': {'completion_tokens': 114, 'prompt_tokens': 12, 'total_tokens': 126}, 'model_name': 'gpt-4o', 'system_fingerprint': 'fp_d576307f90', 'finish_reason': 'stop', 'logprobs': None}, id='run-aa03babb-1a9d-405e-a298-10f2cd91386f-0')]}"
      ]
     },
     "execution_count": 18,
     "metadata": {},
     "output_type": "execute_result"
    }
   ],
   "source": [
    "response"
   ]
  },
  {
   "cell_type": "markdown",
   "metadata": {
    "id": "MvMcvpTckdIn"
   },
   "source": [
    "We have built a simple chatbot using LangGraph.\n",
    "\n",
    "This bot can engage in basic conversation by taking user input and generating responses using an LLM. However it cannot give responses to recent information, here we will enhance it with some tools"
   ]
  },
  {
   "cell_type": "markdown",
   "metadata": {
    "id": "iZtBIOEbllRg"
   },
   "source": [
    "## Part II: Build a simple ReAct Agent with LangGraph - LLM + Tools\n",
    "\n",
    "Now, we will build a simple ReAct agent in LangGraph which will use the web search or weather tool based on our input prompts to get relevant data which the LLM might not know by default and give relevant responses\n",
    "\n",
    "We will showcase the following:\n",
    "\n",
    "1. Building the agent completely from scratch\n",
    "2. Leveraging LangGraph built-in node functions to build the agent faster"
   ]
  },
  {
   "cell_type": "markdown",
   "metadata": {
    "id": "howf-v0ARWbv"
   },
   "source": [
    "### Create Tools\n",
    "\n",
    "Here we create two custom tools which are wrappers on top of the [Tavily API](https://tavily.com/#api) and [WeatherAPI](https://www.weatherapi.com/)\n",
    "\n",
    "- Simple Web Search tool\n",
    "- Weather tool"
   ]
  },
  {
   "cell_type": "code",
   "execution_count": 19,
   "metadata": {
    "id": "Ue8xgu9WpuPi"
   },
   "outputs": [],
   "source": [
    "from langchain_community.tools.tavily_search import TavilySearchResults\n",
    "from langchain_core.tools import tool\n",
    "import json\n",
    "import requests\n",
    "\n",
    "tv_search = TavilySearchResults(max_results=3, search_depth='advanced',\n",
    "                                max_tokens=10000)\n",
    "\n",
    "@tool\n",
    "def search_web(query: str) -> list:\n",
    "    \"\"\"Search the web for a query.\"\"\"\n",
    "    results = tv_search.invoke(query)\n",
    "    return results\n",
    "\n",
    "@tool\n",
    "def get_weather(query: str) -> list:\n",
    "    \"\"\"Search weatherapi to get the current weather.\"\"\"\n",
    "    base_url = \"http://api.weatherapi.com/v1/current.json\"\n",
    "    complete_url = f\"{base_url}?key={WEATHER_API_KEY}&q={query}\"\n",
    "\n",
    "    response = requests.get(complete_url)\n",
    "    data = response.json()\n",
    "    if data.get(\"location\"):\n",
    "        return data\n",
    "    else:\n",
    "        return \"Weather Data Not Found\"\n"
   ]
  },
  {
   "cell_type": "markdown",
   "metadata": {
    "id": "Z5GgBmO3mK8N"
   },
   "source": [
    "### Build the Agentic Graph from Scratch\n",
    "\n",
    "Here we will use LangGraph to build the full graph which will have the Agentic workflow.\n",
    "\n",
    "Each functionality will be implemented from scrach"
   ]
  },
  {
   "cell_type": "code",
   "execution_count": 20,
   "metadata": {
    "id": "GRcmnlw4mSaF"
   },
   "outputs": [],
   "source": [
    "from typing import Annotated\n",
    "from langchain_openai import ChatOpenAI\n",
    "from typing_extensions import TypedDict\n",
    "from langgraph.graph import StateGraph\n",
    "from langgraph.graph.message import add_messages\n",
    "\n",
    "class State(TypedDict):\n",
    "    messages: Annotated[list, add_messages]\n",
    "\n",
    "graph_builder = StateGraph(State)\n",
    "\n",
    "llm = ChatOpenAI(model=\"gpt-4o\", temperature=0)\n",
    "# Tell the LLM which tools it can call\n",
    "tools = [search_web, get_weather]\n",
    "llm_with_tools = llm.bind_tools(tools)\n",
    "\n",
    "def chatbot(state: State):\n",
    "    return {\"messages\": [llm_with_tools.invoke(state[\"messages\"])]}\n",
    "\n",
    "graph_builder.add_node(\"chatbot\", chatbot)"
   ]
  },
  {
   "cell_type": "markdown",
   "metadata": {
    "id": "d1e84cfc-b1b2-48e3-8550-152a408c3926"
   },
   "source": [
    "We will now need to create a function to actually run the tools if they are called. We'll do this by adding the tools to a new node.\n",
    "\n",
    "We implement a `BasicToolNode` that checks the most recent message in the state and calls tools if the message contains `tool_calls`.\n",
    "\n",
    "It relies on the LLM's `tool_calling` support, which is available in Anthropic, OpenAI, Google Gemini, and a number of other LLM providers.\n",
    "\n",
    "We will later replace this with LangGraph's prebuilt [ToolNode](https://langchain-ai.github.io/langgraph/reference/prebuilt/#toolnode) to speed things up, but building it from scratch gives us an idea of what happens under the hood"
   ]
  },
  {
   "cell_type": "code",
   "execution_count": 21,
   "metadata": {
    "id": "neog5XwvnNNx"
   },
   "outputs": [],
   "source": [
    "import json\n",
    "from langchain_core.messages import ToolMessage\n",
    "\n",
    "class BasicToolNode:\n",
    "    \"\"\"A node that runs the tools requested in the last AIMessage.\"\"\"\n",
    "\n",
    "    def __init__(self, tools: list) -> None:\n",
    "        self.tools_by_name = {tool.name: tool for tool in tools} # => {'search_web': search_web, 'get_weather': get_weather}\n",
    "\n",
    "    def __call__(self, inputs: dict):\n",
    "        if messages := inputs.get(\"messages\", []):\n",
    "            message = messages[-1] # get most recent message\n",
    "        else:\n",
    "            raise ValueError(\"No message found in input\")\n",
    "        outputs = []\n",
    "        # if tool calls are mentioned by LLM in the most recent message\n",
    "        # call the tool and get the result\n",
    "        for tool_call in message.tool_calls:\n",
    "            tool_result = self.tools_by_name[tool_call[\"name\"]].invoke(\n",
    "                tool_call[\"args\"]\n",
    "            )\n",
    "            outputs.append(\n",
    "                ToolMessage(\n",
    "                    content=json.dumps(tool_result),\n",
    "                    name=tool_call[\"name\"],\n",
    "                    tool_call_id=tool_call[\"id\"],\n",
    "                )\n",
    "            )\n",
    "        return {\"messages\": outputs}\n",
    "# add tool node to graph\n",
    "tool_node = BasicToolNode(tools=tools)\n",
    "graph_builder.add_node(\"tools\", tool_node)"
   ]
  },
  {
   "cell_type": "markdown",
   "metadata": {
    "id": "b049afc4-7757-40ba-8e00-589d378e816d"
   },
   "source": [
    "With the tool node added, we can define the `conditional_edges`.\n",
    "\n",
    "Remember that **edges** route the control flow from one node to the next.\n",
    "\n",
    "**Conditional edges** usually contain \"if\" statements to route to different nodes depending on the current graph state.\n",
    "\n",
    "These functions receive the current graph `state` and return a string or list of strings indicating which node(s) to call next.\n",
    "\n",
    "Below, we will define a router function called `route_tools`, that checks for `tool_calls` in the chatbot's output.\n",
    "\n",
    "We provide this function to the graph by calling `add_conditional_edges`, which tells the graph that whenever the `chatbot` node completes to check this function to see where to go next.\n",
    "\n",
    "The condition will route to `tools` if tool calls are present and \"`__end__`\" if not.\n",
    "\n",
    "Later, we will replace this with the prebuilt [tools_condition](https://langchain-ai.github.io/langgraph/reference/prebuilt/#tools_condition) to be more concise, here we implement it from scratch to see what happens under the hood"
   ]
  },
  {
   "cell_type": "code",
   "execution_count": 22,
   "metadata": {
    "id": "KxYtA6jUon5y"
   },
   "outputs": [],
   "source": [
    "from typing import Literal\n",
    "\n",
    "def route_tools( state: State,) -> Literal[\"tools\", \"__end__\"]:\n",
    "    \"\"\"\n",
    "    Use in the conditional_edge to route to the ToolNode if the last message\n",
    "    has tool calls. Otherwise, route to the end.\n",
    "    \"\"\"\n",
    "    # if state is a list of messages get the last one\n",
    "    if isinstance(state, list):\n",
    "        ai_message = state[-1]\n",
    "    # if state is a dict, try to get the last message from the messages key\n",
    "    elif messages := state.get(\"messages\", []):\n",
    "        ai_message = messages[-1]\n",
    "    else:\n",
    "        raise ValueError(f\"No messages found in input state to tool_edge: {state}\")\n",
    "    # if the last message is refering to a tool call, route to the tools node\n",
    "    if hasattr(ai_message, \"tool_calls\") and len(ai_message.tool_calls) > 0:\n",
    "        return \"tools\"\n",
    "    # else route to end (stop the agent)\n",
    "    return \"__end__\"\n",
    "\n",
    "# The `tools_condition` function returns \"tools\"\n",
    "# if the chatbot asks to use a tool,\n",
    "# and \"__end__\" if it is fine directly responding and stopping the agent.\n",
    "# This conditional routing defines the main agent loop.\n",
    "graph_builder.add_conditional_edges(\n",
    "    \"chatbot\",\n",
    "    route_tools\n",
    ")\n",
    "\n",
    "# Any time a tool is called, we return to the chatbot to decide the next step\n",
    "graph_builder.add_edge(\"tools\", \"chatbot\")\n",
    "# set the entry point\n",
    "graph_builder.set_entry_point(\"chatbot\")\n",
    "# compile the graph\n",
    "graph = graph_builder.compile()"
   ]
  },
  {
   "cell_type": "code",
   "execution_count": 23,
   "metadata": {
    "colab": {
     "base_uri": "https://localhost:8080/",
     "height": 235
    },
    "id": "Y0w9-jCZpj-Q",
    "outputId": "df7c812d-3bd4-4158-a39b-269bb72d8709"
   },
   "outputs": [
    {
     "data": {
      "image/jpeg": "[encoded data removed]",
      "text/plain": [
       "<IPython.core.display.Image object>"
      ]
     },
     "metadata": {},
     "output_type": "display_data"
    }
   ],
   "source": [
    "from IPython.display import Image, display, Markdown\n",
    "\n",
    "display(Image(graph.get_graph().draw_mermaid_png()))"
   ]
  },
  {
   "cell_type": "markdown",
   "metadata": {
    "id": "YFjfwed3tbPd"
   },
   "source": [
    "Let's test out our agent now"
   ]
  },
  {
   "cell_type": "code",
   "execution_count": 24,
   "metadata": {
    "colab": {
     "base_uri": "https://localhost:8080/",
     "height": 64
    },
    "id": "ytZmTFzOtpbU",
    "outputId": "686a77f7-7dee-419e-ab95-659f4b38c25c"
   },
   "outputs": [
    {
     "data": {
      "text/markdown": [
       "The fastest animal on land is the cheetah. Cheetahs can reach speeds of up to 60 to 70 miles per hour (97 to 113 kilometers per hour) in short bursts covering distances up to 500 meters (1,640 feet), and they can accelerate from 0 to 60 miles per hour in just a few seconds."
      ],
      "text/plain": [
       "<IPython.core.display.Markdown object>"
      ]
     },
     "metadata": {},
     "output_type": "display_data"
    }
   ],
   "source": [
    "prompt = \"\"\"What is the fastest animal on land?\"\"\"\n",
    "response = graph.invoke({\"messages\": (\"user\", prompt)})\n",
    "display(Markdown(response['messages'][-1].content))"
   ]
  },
  {
   "cell_type": "code",
   "execution_count": 25,
   "metadata": {
    "colab": {
     "base_uri": "https://localhost:8080/"
    },
    "id": "nywuf9pBuVQK",
    "outputId": "86bb9046-994a-4bce-d6dd-4011d1456621"
   },
   "outputs": [
    {
     "data": {
      "text/plain": [
       "{'messages': [HumanMessage(content='What is the fastest animal on land?', id='fd360c27-784e-4593-964c-1438de91626d'),\n",
       "  AIMessage(content='The fastest animal on land is the cheetah. Cheetahs can reach speeds of up to 60 to 70 miles per hour (97 to 113 kilometers per hour) in short bursts covering distances up to 500 meters (1,640 feet), and they can accelerate from 0 to 60 miles per hour in just a few seconds.', response_metadata={'token_usage': {'completion_tokens': 73, 'prompt_tokens': 75, 'total_tokens': 148}, 'model_name': 'gpt-4o', 'system_fingerprint': 'fp_4008e3b719', 'finish_reason': 'stop', 'logprobs': None}, id='run-9e47b043-a56c-4772-9d9d-ee8c7cccf6d4-0')]}"
      ]
     },
     "execution_count": 25,
     "metadata": {},
     "output_type": "execute_result"
    }
   ],
   "source": [
    "response"
   ]
  },
  {
   "cell_type": "code",
   "execution_count": 26,
   "metadata": {
    "colab": {
     "base_uri": "https://localhost:8080/",
     "height": 196
    },
    "id": "1nMNNs7DuXEJ",
    "outputId": "f70a7a4a-bb39-44db-f270-70e35a71cb95"
   },
   "outputs": [
    {
     "data": {
      "text/markdown": [
       "LangGraph is a library designed for building stateful, multi-actor applications with Large Language Models (LLMs). It is used to create agent and multi-agent workflows. Here are some of its key features and benefits:\n",
       "\n",
       "1. **Cycles**: LangGraph allows the definition of flows that involve cycles, which are essential for most agentic architectures.\n",
       "2. **Controllability**: It offers a high degree of control over the workflows.\n",
       "3. **Persistence**: It supports the persistence of states across different sessions.\n",
       "\n",
       "LangGraph is integrated into the LangChain ecosystem, allowing users to take full advantage of LangChain integrations and observability features. It is available in both Python and JavaScript, enabling the creation of graphs with nodes, edges, state, tools, and conditional edges for agentic behaviors."
      ],
      "text/plain": [
       "<IPython.core.display.Markdown object>"
      ]
     },
     "metadata": {},
     "output_type": "display_data"
    }
   ],
   "source": [
    "prompt = \"\"\"What is langraph?\"\"\"\n",
    "response = graph.invoke({\"messages\": (\"user\", prompt)})\n",
    "display(Markdown(response['messages'][-1].content))"
   ]
  },
  {
   "cell_type": "code",
   "execution_count": 27,
   "metadata": {
    "colab": {
     "base_uri": "https://localhost:8080/"
    },
    "id": "En8vFPfUuacc",
    "outputId": "5182b71c-42d7-4f80-e48d-9dc0a8f853b4"
   },
   "outputs": [
    {
     "data": {
      "text/plain": [
       "{'messages': [HumanMessage(content='What is langraph?', id='396ab7f9-ad8e-472b-8318-b036d1e267a0'),\n",
       "  AIMessage(content='', additional_kwargs={'tool_calls': [{'id': 'call_lly3TrpPVGD7N3hdDEa7I1xa', 'function': {'arguments': '{\"query\":\"langraph\"}', 'name': 'search_web'}, 'type': 'function'}]}, response_metadata={'token_usage': {'completion_tokens': 15, 'prompt_tokens': 72, 'total_tokens': 87}, 'model_name': 'gpt-4o', 'system_fingerprint': 'fp_ce0793330f', 'finish_reason': 'tool_calls', 'logprobs': None}, id='run-43e6491b-2f81-44b8-8790-807ccd558c1e-0', tool_calls=[{'name': 'search_web', 'args': {'query': 'langraph'}, 'id': 'call_lly3TrpPVGD7N3hdDEa7I1xa'}]),\n",
       "  ToolMessage(content='[{\"url\": \"https://langchain-ai.github.io/langgraph/\", \"content\": \"Overview. LangGraph is a library for building stateful, multi-actor applications with LLMs, used to create agent and multi-agent workflows. Compared to other LLM frameworks, it offers these core benefits: cycles, controllability, and persistence. LangGraph allows you to define flows that involve cycles, essential for most agentic architectures ...\"}, {\"url\": \"https://github.com/langchain-ai/langgraph\", \"content\": \"LangGraph is a library for building stateful, multi-actor applications with LLMs using regular python functions or JS. Learn how to create graphs with nodes, edges, state, tools, and conditional edges for agentic behaviors.\"}, {\"url\": \"https://blog.langchain.dev/langgraph-multi-agent-workflows/\", \"content\": \"As a part of the launch, we highlighted two simple runtimes: one that is the equivalent of the AgentExecutor in langchain, and a second that was a version of that aimed at message passing and chat models.\\\\n It\\'s important to note that these three examples are only a few of the possible examples we could highlight - there are almost assuredly other examples out there and we look forward to seeing what the community comes up with!\\\\n LangGraph: Multi-Agent Workflows\\\\nLinks\\\\nLast week we highlighted LangGraph - a new package (available in both Python and JS) to better enable creation of LLM workflows containing cycles, which are a critical component of most agent runtimes. \\\\\"\\\\nAnother key difference between Autogen and LangGraph is that LangGraph is fully integrated into the LangChain ecosystem, meaning you take fully advantage of all the LangChain integrations and LangSmith observability.\\\\n As part of this launch, we\\'re also excited to highlight a few applications built on top of LangGraph that utilize the concept of multiple agents.\\\\n\"}]', name='search_web', id='36a11609-41c7-4877-b688-4f5bfb7779ea', tool_call_id='call_lly3TrpPVGD7N3hdDEa7I1xa'),\n",
       "  AIMessage(content='LangGraph is a library designed for building stateful, multi-actor applications with Large Language Models (LLMs). It is used to create agent and multi-agent workflows. Here are some of its key features and benefits:\\n\\n1. **Cycles**: LangGraph allows the definition of flows that involve cycles, which are essential for most agentic architectures.\\n2. **Controllability**: It offers a high degree of control over the workflows.\\n3. **Persistence**: It supports the persistence of states across different sessions.\\n\\nLangGraph is integrated into the LangChain ecosystem, allowing users to take full advantage of LangChain integrations and observability features. It is available in both Python and JavaScript, enabling the creation of graphs with nodes, edges, state, tools, and conditional edges for agentic behaviors.', response_metadata={'token_usage': {'completion_tokens': 163, 'prompt_tokens': 484, 'total_tokens': 647}, 'model_name': 'gpt-4o', 'system_fingerprint': 'fp_d576307f90', 'finish_reason': 'stop', 'logprobs': None}, id='run-81897170-fc29-4e0e-87c9-6206528ecf37-0')]}"
      ]
     },
     "execution_count": 27,
     "metadata": {},
     "output_type": "execute_result"
    }
   ],
   "source": [
    "response"
   ]
  },
  {
   "cell_type": "markdown",
   "metadata": {
    "id": "JPcJl2m-vYMZ"
   },
   "source": [
    "### Build the Agentic Graph with LangGraph built-ins - Recommended Flow\n",
    "\n",
    "Here we will use LangGraph to build the full graph which will have the Agentic workflow.\n",
    "\n",
    "Each functionality will be implemented as we would in the real-world.\n",
    "\n",
    "Here we will be replacing our `BasicToolNode` for the prebuilt [ToolNode](https://langchain-ai.github.io/langgraph/reference/prebuilt/#toolnode),\n",
    "and our `route_tools` condition with the prebuilt [tools_condition](https://langchain-ai.github.io/langgraph/reference/prebuilt/#tools_condition)"
   ]
  },
  {
   "cell_type": "code",
   "execution_count": 28,
   "metadata": {
    "id": "akYszF3ivXiS"
   },
   "outputs": [],
   "source": [
    "from typing import Annotated\n",
    "\n",
    "from langchain_openai import ChatOpenAI\n",
    "from langchain_community.tools.tavily_search import TavilySearchResults\n",
    "from langchain_core.messages import BaseMessage\n",
    "from typing_extensions import TypedDict\n",
    "\n",
    "from langgraph.graph import StateGraph\n",
    "from langgraph.graph.message import add_messages\n",
    "from langgraph.prebuilt import ToolNode, tools_condition\n",
    "\n",
    "# define function which will be used to store all agent messages\n",
    "class State(TypedDict):\n",
    "    messages: Annotated[list, add_messages]\n",
    "\n",
    "# start the graph building\n",
    "graph_builder = StateGraph(State)\n",
    "\n",
    "# add tools and bind to LLM\n",
    "tools = [search_web, get_weather]\n",
    "llm = ChatOpenAI(model=\"gpt-4o\", temperature=0)\n",
    "llm_with_tools = llm.bind_tools(tools)\n",
    "\n",
    "# add the LLM to graph\n",
    "def chatbot(state: State):\n",
    "    return {\"messages\": [llm_with_tools.invoke(state[\"messages\"])]}\n",
    "\n",
    "graph_builder.add_node(\"chatbot\", chatbot)\n",
    "\n",
    "# Add tools to a node\n",
    "tool_node = ToolNode(tools=tools)\n",
    "graph_builder.add_node(\"tools\", tool_node)\n",
    "\n",
    "# add conditional edges\n",
    "graph_builder.add_conditional_edges(\n",
    "    \"chatbot\",\n",
    "    tools_condition,\n",
    "    {'tools': 'tools', '__end__': '__end__'}\n",
    ")\n",
    "\n",
    "# Any time a tool is called, we return to the chatbot to decide the next step\n",
    "graph_builder.add_edge(\"tools\", \"chatbot\")\n",
    "# Define entry point to the graph\n",
    "graph_builder.set_entry_point(\"chatbot\")\n",
    "# compile the graph\n",
    "graph = graph_builder.compile()"
   ]
  },
  {
   "cell_type": "code",
   "execution_count": 29,
   "metadata": {
    "colab": {
     "base_uri": "https://localhost:8080/",
     "height": 235
    },
    "id": "rdBRSLehwMm_",
    "outputId": "abb1d45f-018e-44ac-9d33-3b76e990e3d2"
   },
   "outputs": [
    {
     "data": {
      "image/jpeg": "[encoded data removed]",
      "text/plain": [
       "<IPython.core.display.Image object>"
      ]
     },
     "metadata": {},
     "output_type": "display_data"
    }
   ],
   "source": [
    "from IPython.display import Image, display, Markdown\n",
    "\n",
    "display(Image(graph.get_graph().draw_mermaid_png()))"
   ]
  },
  {
   "cell_type": "code",
   "execution_count": 30,
   "metadata": {
    "colab": {
     "base_uri": "https://localhost:8080/",
     "height": 442
    },
    "id": "2UgxjeIrwN1h",
    "outputId": "f7d88774-6b8b-4a0b-b656-53f6d8c51cd9"
   },
   "outputs": [
    {
     "data": {
      "text/markdown": [
       "### Current Weather in Bangalore, Karnataka, India\n",
       "\n",
       "- **Temperature**: 24.3°C (75.7°F)\n",
       "- **Condition**: Partly cloudy ![Partly cloudy](//cdn.weatherapi.com/weather/64x64/day/116.png)\n",
       "- **Feels Like**: 25.9°C (78.7°F)\n",
       "- **Wind**: 19.1 kph (11.9 mph) from the WSW (240°)\n",
       "- **Pressure**: 1015.0 mb (29.97 in)\n",
       "- **Precipitation**: 0.0 mm (0.0 in)\n",
       "- **Humidity**: 83%\n",
       "- **Cloud Cover**: 75%\n",
       "- **Visibility**: 6.0 km (3.0 miles)\n",
       "- **UV Index**: 6.0 (Moderate)\n",
       "- **Gusts**: 24.8 kph (15.4 mph)\n",
       "- **Dew Point**: 18.2°C (64.7°F)\n",
       "\n",
       "#### Location Details\n",
       "- **Latitude**: 12.98\n",
       "- **Longitude**: 77.58\n",
       "- **Local Time**: 2024-06-30 09:07 AM (Asia/Kolkata)\n",
       "\n",
       "This data was last updated at 09:00 AM on June 30, 2024."
      ],
      "text/plain": [
       "<IPython.core.display.Markdown object>"
      ]
     },
     "metadata": {},
     "output_type": "display_data"
    }
   ],
   "source": [
    "prompt = \"\"\"What is the weather in bangalore?\n",
    "show detailed statistics\"\"\"\n",
    "response = graph.invoke({\"messages\": (\"user\", prompt)})\n",
    "display(Markdown(response['messages'][-1].content))"
   ]
  },
  {
   "cell_type": "code",
   "execution_count": 31,
   "metadata": {
    "colab": {
     "base_uri": "https://localhost:8080/",
     "height": 472
    },
    "id": "hLqZiU6exnN5",
    "outputId": "7d966c60-bd84-4ec8-9222-f05c34371ef3"
   },
   "outputs": [
    {
     "data": {
      "text/markdown": [
       "The current weather in Dubai is as follows:\n",
       "\n",
       "- **Location**: Dubai, United Arab Emirates\n",
       "- **Local Time**: 2024-06-30 07:37\n",
       "\n",
       "### Current Conditions:\n",
       "- **Temperature**: 34.2°C (93.6°F)\n",
       "- **Feels Like**: 38.6°C (101.5°F)\n",
       "- **Condition**: Sunny ![Sunny](//cdn.weatherapi.com/weather/64x64/day/113.png)\n",
       "- **Wind**: 6.8 kph (4.3 mph) from the SSE (160°)\n",
       "- **Pressure**: 996.0 mb (29.41 in)\n",
       "- **Precipitation**: 0.0 mm (0.0 in)\n",
       "- **Humidity**: 53%\n",
       "- **Cloud Cover**: 0%\n",
       "- **Visibility**: 10.0 km (6.0 miles)\n",
       "- **UV Index**: 8.0\n",
       "- **Wind Gusts**: 13.9 kph (8.7 mph)\n",
       "\n",
       "### Additional Information:\n",
       "- **Dew Point**: 21.6°C (70.8°F)\n",
       "- **Heat Index**: 38.9°C (101.9°F)\n",
       "\n",
       "It is a sunny day with clear skies and moderate humidity."
      ],
      "text/plain": [
       "<IPython.core.display.Markdown object>"
      ]
     },
     "metadata": {},
     "output_type": "display_data"
    }
   ],
   "source": [
    "prompt = \"\"\"What is the weather in dubai? show detailed statistics\"\"\"\n",
    "response = graph.invoke({\"messages\": (\"user\", prompt)})\n",
    "display(Markdown(response['messages'][-1].content))"
   ]
  },
  {
   "cell_type": "code",
   "execution_count": 32,
   "metadata": {
    "colab": {
     "base_uri": "https://localhost:8080/",
     "height": 46
    },
    "id": "2JRHxzdPxo8A",
    "outputId": "c72da334-0c1f-446e-b88b-989f0cec39d5"
   },
   "outputs": [
    {
     "data": {
      "text/markdown": [
       "Sure, I can help with that. Please provide the names of the cities you want to compare."
      ],
      "text/plain": [
       "<IPython.core.display.Markdown object>"
      ]
     },
     "metadata": {},
     "output_type": "display_data"
    }
   ],
   "source": [
    "prompt = \"\"\"Which city is hotter?\"\"\"\n",
    "response = graph.invoke({\"messages\": (\"user\", prompt)})\n",
    "display(Markdown(response['messages'][-1].content))"
   ]
  },
  {
   "cell_type": "markdown",
   "metadata": {
    "id": "dtXAlOdBxt-j"
   },
   "source": [
    "We have successfully built an AI Agent which can search the web, get weather for us but it is not yet conversational. We will add in the that functionality in Part III next."
   ]
  },
  {
   "cell_type": "markdown",
   "metadata": {
    "id": "rcfps7EJy570"
   },
   "source": [
    "## Part III: Build a multi-user conversational ReAct Agent with LangGraph\n",
    "\n",
    "Now, we will build a multi-user conversational ReAct agent with LangGraph which will use the web search or weather tool based on our input prompts to get relevant data which the LLM might not know by default and give relevant responses\n",
    "\n",
    "Our agentic chatbot from Part II can use tools to answer user questions, but it doesn't remember the context of previous interactions. This limits its ability to have coherent, multi-turn conversations.\n",
    "\n",
    "LangGraph solves this problem through **persistent checkpointing**. If you provide a `checkpointer` when compiling the graph and a `thread_id` when calling your graph, LangGraph automatically saves the state after each step. When you invoke the graph again using the same `thread_id`, the graph loads its saved state, allowing the chatbot to pick up where it left off.\n",
    "\n",
    "**checkpointing** is _much_ more powerful than simple chat memory - it lets you save and resume complex state at any time for error recovery, human-in-the-loop workflows, time travel interactions, and more\n",
    "\n",
    "While the legacy syntax uses `session_id`, in LangGraph, each user session is identified by `thread_id`\n",
    "\n",
    "We will use `SqliteSaver` which helps to store separate conversation histories per user or session.\n",
    "\n",
    "This will help us build a conversational Agentic Chatbot which will be accessed by many users at the same time.\n",
    "\n"
   ]
  },
  {
   "cell_type": "code",
   "execution_count": 33,
   "metadata": {
    "colab": {
     "base_uri": "https://localhost:8080/"
    },
    "id": "Cph9LvyvIRrA",
    "outputId": "f8458216-a8e1-47d0-e898-c733c87db52c"
   },
   "outputs": [
    {
     "name": "stdout",
     "output_type": "stream",
     "text": [
      "rm: cannot remove 'memory.db*': No such file or directory\n"
     ]
    }
   ],
   "source": [
    "# removes the memory database file - usually not needed\n",
    "# you can run this only when you want to remove ALL conversation histories\n",
    "# ok if you get rm: cannot remove 'memory.db': No such file or directory  because initially no memory exists\n",
    "!rm memory.db*"
   ]
  },
  {
   "cell_type": "code",
   "execution_count": 34,
   "metadata": {
    "id": "qzwnf7vfzTiI"
   },
   "outputs": [],
   "source": [
    "from typing import Annotated\n",
    "\n",
    "from langchain_openai import ChatOpenAI\n",
    "from langchain_community.tools.tavily_search import TavilySearchResults\n",
    "from langchain_core.messages import BaseMessage\n",
    "from typing_extensions import TypedDict\n",
    "\n",
    "from langgraph.graph import StateGraph\n",
    "from langgraph.graph.message import add_messages\n",
    "from langgraph.prebuilt import ToolNode, tools_condition\n",
    "from langgraph.checkpoint.sqlite import SqliteSaver\n",
    "\n",
    "# used to retrieve conversation history from database\n",
    "# based on a specific user or session ID  - thread_id\n",
    "memory = SqliteSaver.from_conn_string(\"memory.db\")\n",
    "\n",
    "# define function which will be used to store all agent messages\n",
    "class State(TypedDict):\n",
    "    messages: Annotated[list, add_messages]\n",
    "\n",
    "# start the graph building\n",
    "graph_builder = StateGraph(State)\n",
    "\n",
    "# add tools and bind to LLM\n",
    "tools = [search_web, get_weather]\n",
    "llm = ChatOpenAI(model=\"gpt-4o\", temperature=0)\n",
    "llm_with_tools = llm.bind_tools(tools)\n",
    "\n",
    "# add the LLM to graph\n",
    "def chatbot(state: State):\n",
    "    return {\"messages\": [llm_with_tools.invoke(state[\"messages\"])]}\n",
    "\n",
    "graph_builder.add_node(\"chatbot\", chatbot)\n",
    "\n",
    "# Add tools to a node\n",
    "tool_node = ToolNode(tools=tools)\n",
    "graph_builder.add_node(\"tools\", tool_node)\n",
    "\n",
    "# add conditional edges\n",
    "graph_builder.add_conditional_edges(\n",
    "    \"chatbot\",\n",
    "    tools_condition,\n",
    "    # either goes to tool node if tool calls or else end node\n",
    "    {'tools': 'tools', '__end__': '__end__'}\n",
    ")\n",
    "\n",
    "# Any time a tool is called, we return to the chatbot to decide the next step\n",
    "graph_builder.add_edge(\"tools\", \"chatbot\")\n",
    "# Define entry point to the graph\n",
    "graph_builder.set_entry_point(\"chatbot\")\n",
    "# compile the graph - Add the memory here\n",
    "graph = graph_builder.compile(checkpointer=memory)"
   ]
  },
  {
   "cell_type": "code",
   "execution_count": 35,
   "metadata": {
    "colab": {
     "base_uri": "https://localhost:8080/",
     "height": 235
    },
    "id": "d8jgYAwTIptc",
    "outputId": "cde780ce-bcfd-435b-941b-046d6b9b816e"
   },
   "outputs": [
    {
     "data": {
      "image/jpeg": "[encoded data removed]",
      "text/plain": [
       "<IPython.core.display.Image object>"
      ]
     },
     "metadata": {},
     "output_type": "display_data"
    }
   ],
   "source": [
    "from IPython.display import Image, display, Markdown\n",
    "\n",
    "display(Image(graph.get_graph().draw_mermaid_png()))"
   ]
  },
  {
   "cell_type": "code",
   "execution_count": 36,
   "metadata": {
    "id": "w2suIezLJK1S"
   },
   "outputs": [],
   "source": [
    "def chat_with_agent(prompt: str, session_id: str):\n",
    "    response = graph.invoke({\"messages\": [('user', prompt)]},\n",
    "                                      {'configurable': { 'thread_id': session_id}})\n",
    "    display(Markdown(response['messages'][-1].content))"
   ]
  },
  {
   "cell_type": "markdown",
   "metadata": {
    "id": "vYTNL_iJ6ibC"
   },
   "source": [
    "Let's now simulate User 1 using the agent"
   ]
  },
  {
   "cell_type": "code",
   "execution_count": 37,
   "metadata": {
    "colab": {
     "base_uri": "https://localhost:8080/",
     "height": 202
    },
    "id": "irMU68Ds0NTm",
    "outputId": "fef9cb14-8704-41f0-908b-644109b51e00"
   },
   "outputs": [
    {
     "data": {
      "text/markdown": [
       "LangGraph is a library designed for building stateful, multi-actor applications with Large Language Models (LLMs). It is particularly useful for creating agent and multi-agent workflows. Here are some key features and benefits of LangGraph:\n",
       "\n",
       "1. **Cycles**: LangGraph allows you to define workflows that involve cycles, which are essential for most agentic architectures.\n",
       "2. **Controllability**: It provides mechanisms to control the flow and behavior of agents within the workflow.\n",
       "3. **Persistence**: The library supports the persistence of state, which is crucial for maintaining the context and continuity of interactions.\n",
       "\n",
       "LangGraph is available in both Python and JavaScript, making it versatile for different development environments. It is fully integrated into the LangChain ecosystem, allowing users to take advantage of LangChain's integrations and observability features.\n",
       "\n",
       "For more detailed information, you can visit the [LangGraph documentation](https://langchain-ai.github.io/langgraph/) or check out its [GitHub repository](https://github.com/langchain-ai/langgraph)."
      ],
      "text/plain": [
       "<IPython.core.display.Markdown object>"
      ]
     },
     "metadata": {},
     "output_type": "display_data"
    }
   ],
   "source": [
    "user_id = 'jack001'\n",
    "prompt = \"Tell me about langraph\"\n",
    "chat_with_agent(prompt, user_id)"
   ]
  },
  {
   "cell_type": "code",
   "execution_count": 38,
   "metadata": {
    "colab": {
     "base_uri": "https://localhost:8080/",
     "height": 365
    },
    "id": "XT4vtvku0TBW",
    "outputId": "6f3acef0-0a49-4b77-b951-a7a93408b436"
   },
   "outputs": [
    {
     "data": {
      "text/markdown": [
       "LangGraph is used for building stateful, multi-actor applications with Large Language Models (LLMs). Here are some specific use cases and applications:\n",
       "\n",
       "1. **Agent and Multi-Agent Workflows**: LangGraph is designed to create workflows involving multiple agents. These agents can interact with each other and perform tasks in a coordinated manner.\n",
       "\n",
       "2. **Stateful Applications**: It allows for the creation of applications that maintain state across interactions. This is crucial for applications that require context and continuity, such as conversational agents or complex decision-making systems.\n",
       "\n",
       "3. **Conditional Flows**: LangGraph supports the definition of conditional edges and nodes, enabling the creation of dynamic and adaptable workflows. This is useful for applications that need to respond to changing conditions or inputs.\n",
       "\n",
       "4. **Integration with LangChain**: Being fully integrated into the LangChain ecosystem, LangGraph can leverage LangChain's tools and observability features. This makes it easier to build, monitor, and manage complex LLM-based applications.\n",
       "\n",
       "5. **Message Passing and Chat Models**: LangGraph can be used to create applications that involve message passing between agents, which is essential for chat models and other communication-based systems.\n",
       "\n",
       "6. **Agentic Behaviors**: The library allows for the implementation of agentic behaviors, where agents can make decisions, take actions, and interact with their environment in a controlled manner.\n",
       "\n",
       "In summary, LangGraph is a powerful tool for developers looking to build sophisticated, stateful applications that involve multiple interacting agents, particularly in the context of LLMs."
      ],
      "text/plain": [
       "<IPython.core.display.Markdown object>"
      ]
     },
     "metadata": {},
     "output_type": "display_data"
    }
   ],
   "source": [
    "prompt = \"What is it used for?\"\n",
    "chat_with_agent(prompt, user_id)"
   ]
  },
  {
   "cell_type": "markdown",
   "metadata": {
    "id": "B4zIlISy6m-x"
   },
   "source": [
    "Let's now simulate User 2 using the agent"
   ]
  },
  {
   "cell_type": "code",
   "execution_count": 39,
   "metadata": {
    "colab": {
     "base_uri": "https://localhost:8080/",
     "height": 334
    },
    "id": "ta1RUF_81RxX",
    "outputId": "e694dbb0-747f-47fe-d42a-9888f5bb90a4"
   },
   "outputs": [
    {
     "data": {
      "text/markdown": [
       "The weather in Bangalore today is as follows:\n",
       "\n",
       "- **Condition**: Partly cloudy ![Partly cloudy](//cdn.weatherapi.com/weather/64x64/day/116.png)\n",
       "- **Temperature**: 24.2°C (75.6°F)\n",
       "- **Feels Like**: 25.8°C (78.5°F)\n",
       "- **Wind**: 20.2 kph (12.5 mph) from the WSW (250°)\n",
       "- **Gusts**: Up to 24.8 kph (15.4 mph)\n",
       "- **Humidity**: 83%\n",
       "- **Pressure**: 1015.0 mb (29.97 in)\n",
       "- **Precipitation**: 0.0 mm (0.0 in)\n",
       "- **Cloud Cover**: 75%\n",
       "- **Visibility**: 8.0 km (4.0 miles)\n",
       "- **UV Index**: 6 (Moderate)\n",
       "- **Dew Point**: 18.2°C (64.7°F)\n",
       "\n",
       "The data was last updated at 09:45 AM local time."
      ],
      "text/plain": [
       "<IPython.core.display.Markdown object>"
      ]
     },
     "metadata": {},
     "output_type": "display_data"
    }
   ],
   "source": [
    "user_id = 'bond007'\n",
    "prompt = \"how is the weather in Bangalore today? Show detailed statistics\"\n",
    "chat_with_agent(prompt, user_id)"
   ]
  },
  {
   "cell_type": "code",
   "execution_count": 40,
   "metadata": {
    "colab": {
     "base_uri": "https://localhost:8080/",
     "height": 334
    },
    "id": "vfn_Wxxg42rZ",
    "outputId": "84cce0d5-9b2e-41e4-9f85-ac5ce8e70741"
   },
   "outputs": [
    {
     "data": {
      "text/markdown": [
       "The weather in Dubai today is as follows:\n",
       "\n",
       "- **Condition**: Sunny ![Sunny](//cdn.weatherapi.com/weather/64x64/day/113.png)\n",
       "- **Temperature**: 35.4°C (95.7°F)\n",
       "- **Feels Like**: 41.1°C (105.9°F)\n",
       "- **Wind**: 6.8 kph (4.3 mph) from the SSW (200°)\n",
       "- **Gusts**: Up to 14.0 kph (8.7 mph)\n",
       "- **Humidity**: 44%\n",
       "- **Pressure**: 997.0 mb (29.44 in)\n",
       "- **Precipitation**: 0.0 mm (0.0 in)\n",
       "- **Cloud Cover**: 0%\n",
       "- **Visibility**: 10.0 km (6.0 miles)\n",
       "- **UV Index**: 8 (Very High)\n",
       "- **Dew Point**: 22.4°C (72.2°F)\n",
       "\n",
       "The data was last updated at 08:15 AM local time."
      ],
      "text/plain": [
       "<IPython.core.display.Markdown object>"
      ]
     },
     "metadata": {},
     "output_type": "display_data"
    }
   ],
   "source": [
    "user_id = 'bond007'\n",
    "prompt = \"what about Dubai?\"\n",
    "chat_with_agent(prompt, user_id)"
   ]
  },
  {
   "cell_type": "code",
   "execution_count": 41,
   "metadata": {
    "colab": {
     "base_uri": "https://localhost:8080/",
     "height": 110
    },
    "id": "I7jjxtmz6Qzi",
    "outputId": "885a26e2-6457-4730-ee70-ac2e94d03594"
   },
   "outputs": [
    {
     "data": {
      "text/markdown": [
       "Currently, Dubai is hotter than Bangalore.\n",
       "\n",
       "- **Dubai**: 35.4°C (95.7°F)\n",
       "- **Bangalore**: 24.2°C (75.6°F)\n",
       "\n",
       "Dubai's temperature is significantly higher than Bangalore's."
      ],
      "text/plain": [
       "<IPython.core.display.Markdown object>"
      ]
     },
     "metadata": {},
     "output_type": "display_data"
    }
   ],
   "source": [
    "user_id = 'bond007'\n",
    "prompt = \"which city is hotter?\"\n",
    "chat_with_agent(prompt, user_id)"
   ]
  }
 ],
 "metadata": {
  "colab": {
   "provenance": []
  },
  "kernelspec": {
   "display_name": "Python 3 (ipykernel)",
   "language": "python",
   "name": "python3"
  },
  "language_info": {
   "codemirror_mode": {
    "name": "ipython",
    "version": 3
   },
   "file_extension": ".py",
   "mimetype": "text/x-python",
   "name": "python",
   "nbconvert_exporter": "python",
   "pygments_lexer": "ipython3",
   "version": "3.11.7"
  }
 },
 "nbformat": 4,
 "nbformat_minor": 4
}
