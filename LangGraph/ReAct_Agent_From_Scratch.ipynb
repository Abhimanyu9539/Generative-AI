{
  "nbformat": 4,
  "nbformat_minor": 0,
  "metadata": {
    "colab": {
      "provenance": []
    },
    "kernelspec": {
      "name": "python3",
      "display_name": "Python 3"
    },
    "language_info": {
      "name": "python"
    }
  },
  "cells": [
    {
      "cell_type": "markdown",
      "source": [
        "# Building a ReAct AI Agent from scratch with LangGraph\n",
        "\n",
        "This demo will cover building AI Agents with LangGraph from scratch.\n",
        "\n",
        "Here we'll create a simple ReAct agent app that can search the web and check the weather. The app consists of an agent (LLM) and tools. As we interact with the app, we will first call the agent (LLM) to decide if we should use tools. Then we will run a loop:\n",
        "\n",
        "- If the agent said to take an action (i.e. call tool), we'll run the tools and pass the results back to the agent\n",
        "- If the agent did not ask to run tools, we will finish (respond to the user)\n",
        "\n",
        "We will implement this in LangGraph completely from scratch step by step.\n"
      ],
      "metadata": {
        "id": "W_tne9pYW4bf"
      }
    },
    {
      "cell_type": "markdown",
      "source": [
        "There will be three parts to this hands-on demo:\n",
        "\n",
        "- Part I: Build a Basic Chatbot with LangGraph\n",
        "- Part II: Build a simple ReAct Agent with LangGraph - LLM + Tools\n",
        "- Part III: Build a multi-user conversational ReAct Agent with LangGraph"
      ],
      "metadata": {
        "id": "90Hixi8tXE0z"
      }
    },
    {
      "cell_type": "code",
      "source": [
        "!pip install langchain==0.2.0 --quiet\n",
        "!pip install langchain-openai==0.1.7 --quiet\n",
        "!pip install langchain-community==0.2.0 --quiet\n",
        "!pip install langgraph==0.1.1 --quiet"
      ],
      "metadata": {
        "id": "mf1R7a_QXLoE"
      },
      "execution_count": null,
      "outputs": []
    },
    {
      "cell_type": "code",
      "source": [
        "import os\n",
        "from google.colab import userdata\n",
        "\n",
        "os.environ['OPENAI_API_KEY'] = userdata.get('OPEN_API_KEY')\n",
        "os.environ['HUGGINGFACEHUB_API_TOKEN'] = userdata.get('HF_TOKEN')\n",
        "os.environ['TAVILY_API_KEY'] = userdata.get('TAVILY_API_KEY')\n",
        "WEATHER_API_KEY = userdata.get('WEATHER_API_KEY')"
      ],
      "metadata": {
        "id": "b4wEqTgYXQDM"
      },
      "execution_count": null,
      "outputs": []
    }
  ]
}