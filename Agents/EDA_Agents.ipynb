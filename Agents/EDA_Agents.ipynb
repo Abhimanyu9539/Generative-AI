{
  "nbformat": 4,
  "nbformat_minor": 0,
  "metadata": {
    "colab": {
      "provenance": []
    },
    "kernelspec": {
      "name": "python3",
      "display_name": "Python 3"
    },
    "language_info": {
      "name": "python"
    }
  },
  "cells": [
    {
      "cell_type": "code",
      "execution_count": null,
      "metadata": {
        "id": "HjaoIQ_r5uLx"
      },
      "outputs": [],
      "source": [
        "!pip install pyautogen --quiet\n",
        "!pip install openai --quiet"
      ]
    },
    {
      "cell_type": "code",
      "source": [
        "import autogen\n",
        "import pandas as pd\n",
        "import matplotlib.pyplot as plt\n",
        "import seaborn as sns\n",
        "from autogen import AssistantAgent, UserProxyAgent, config_list_from_json\n",
        "from autogen.coding import LocalCommandLineCodeExecutor"
      ],
      "metadata": {
        "id": "dsF-6S956ftv"
      },
      "execution_count": 32,
      "outputs": []
    },
    {
      "cell_type": "code",
      "source": [
        "# Load configuration\n",
        "config_list = config_list_from_json(env_or_file=\"OAI_CONFIG_LIST.json\")"
      ],
      "metadata": {
        "id": "y4SY2hCd_taY"
      },
      "execution_count": null,
      "outputs": []
    },
    {
      "cell_type": "code",
      "source": [
        "def load_dataset(file_path):\n",
        "    \"\"\"Loads the dataset from a CSV file.\"\"\"\n",
        "    return pd.read_csv(file_path)\n"
      ],
      "metadata": {
        "id": "Yzqth6AI_uEC"
      },
      "execution_count": null,
      "outputs": []
    },
    {
      "cell_type": "code",
      "source": [
        "\n",
        "def preprocess_data(df):\n",
        "    \"\"\"Cleans and preprocesses the dataset.\"\"\"\n",
        "    df = df.dropna()  # Remove missing values\n",
        "    df = df.select_dtypes(include=[\"number\"])  # Keep only numerical columns\n",
        "    return df"
      ],
      "metadata": {
        "id": "GJsRouYx_vuj"
      },
      "execution_count": null,
      "outputs": []
    },
    {
      "cell_type": "code",
      "source": [
        "def perform_eda(df):\n",
        "    \"\"\"Performs exploratory data analysis and visualization.\"\"\"\n",
        "    summary = df.describe()\n",
        "    correlation_matrix = df.corr()\n",
        "\n",
        "    plt.figure(figsize=(10, 6))\n",
        "    sns.heatmap(correlation_matrix, annot=True, cmap=\"coolwarm\")\n",
        "    plt.title(\"Correlation Matrix\")\n",
        "    plt.savefig(\"eda_correlation_matrix.png\")\n",
        "\n",
        "    return summary, \"eda_correlation_matrix.png\""
      ],
      "metadata": {
        "id": "CgRew3RQ_vpp"
      },
      "execution_count": null,
      "outputs": []
    },
    {
      "cell_type": "code",
      "source": [
        "def generate_report(summary, eda_visuals):\n",
        "    \"\"\"Compiles EDA results into a structured report.\"\"\"\n",
        "    report = f\"\"\"Exploratory Data Analysis Report\n",
        "    --------------------------------------\n",
        "    Summary Statistics:\n",
        "    {summary}\n",
        "\n",
        "    Visualizations:\n",
        "    {eda_visuals}\n",
        "    \"\"\"\n",
        "    return report"
      ],
      "metadata": {
        "id": "mVOU7o7w_01y"
      },
      "execution_count": null,
      "outputs": []
    },
    {
      "cell_type": "code",
      "source": [
        "# Define Agents with their responsibilities\n",
        "admin_agent = AssistantAgent(\n",
        "    \"Admin\",\n",
        "    llm_config={\"config_list\": config_list},\n",
        "    system_message=(\n",
        "        \"You are responsible for overseeing the entire EDA workflow. Ensure that each agent completes its task correctly, \"\n",
        "        \"coordinate between agents, and enforce project goals, standards, and best practices. Resolve any workflow issues.\"\n",
        "    )\n",
        ")\n"
      ],
      "metadata": {
        "id": "M4EWNnx__36f"
      },
      "execution_count": 51,
      "outputs": []
    },
    {
      "cell_type": "code",
      "source": [
        "data_prep_agent = AssistantAgent(\n",
        "    \"DataPrep\",\n",
        "    llm_config={\"config_list\": config_list},\n",
        "    system_message=(\n",
        "        \"Your role is to clean and preprocess the dataset. Handle missing values, standardize data types, remove outliers, \"\n",
        "        \"and perform feature engineering if necessary. Ensure that the dataset is well-structured for EDA. \"\n",
        "        \"Execute code to clean the dataset and pass the result to the next agent.\"\n",
        "    ),\n",
        "    function_map={\"preprocess_data\": preprocess_data},\n",
        "    is_termination_msg=lambda msg: False\n",
        ")"
      ],
      "metadata": {
        "id": "dIgZDrgZ_5m-"
      },
      "execution_count": 52,
      "outputs": []
    },
    {
      "cell_type": "code",
      "source": [
        "eda_agent = AssistantAgent(\n",
        "    \"EDA\",\n",
        "    llm_config={\"config_list\": config_list},\n",
        "    system_message=(\n",
        "        \"Perform exploratory data analysis on the given dataset. Compute descriptive statistics, analyze distributions, \"\n",
        "        \"detect correlations, and generate appropriate visualizations such as histograms, box plots, and heatmaps. \"\n",
        "        \"Execute EDA code and pass results to the next agent.\"\n",
        "    ),\n",
        "    function_map={\"perform_eda\": perform_eda},\n",
        "    is_termination_msg=lambda msg: False\n",
        ")"
      ],
      "metadata": {
        "id": "o7aAKSQk_7B9"
      },
      "execution_count": null,
      "outputs": []
    },
    {
      "cell_type": "code",
      "source": [
        "report_agent = AssistantAgent(\n",
        "    \"Report\",\n",
        "    llm_config={\"config_list\": config_list},\n",
        "    system_message=(\n",
        "        \"Compile the findings from the EDA process into a structured, easy-to-read report. \"\n",
        "        \"Summarize key insights with visualizations and actionable recommendations. \"\n",
        "        \"Ensure clarity and coherence in the report structure. Execute report generation code.\"\n",
        "    ),\n",
        "    function_map={\"generate_report\": generate_report},\n",
        "    is_termination_msg=lambda msg: False\n",
        ")"
      ],
      "metadata": {
        "id": "kIQGczHY_8Oz"
      },
      "execution_count": null,
      "outputs": []
    },
    {
      "cell_type": "code",
      "source": [
        "critic_agent = AssistantAgent(\n",
        "    \"Critic\",\n",
        "    llm_config={\"config_list\": config_list},\n",
        "    system_message=(\n",
        "        \"Review the EDA report for accuracy, clarity, and completeness. \"\n",
        "        \"Identify any misleading interpretations, incorrect conclusions, or missing insights. \"\n",
        "        \"Provide constructive feedback and suggest necessary improvements.\"\n",
        "    ),\n",
        "    is_termination_msg=lambda msg: False\n",
        ")\n"
      ],
      "metadata": {
        "id": "eIi2fyzr_9b5"
      },
      "execution_count": null,
      "outputs": []
    },
    {
      "cell_type": "code",
      "source": [
        "executor_agent = AssistantAgent(\n",
        "    \"Executor\",\n",
        "    llm_config={\"config_list\": config_list},\n",
        "    system_message=(\n",
        "        \"Verify that all generated code runs correctly without errors and produces valid results. \"\n",
        "        \"Check that statistical calculations, visualizations, and preprocessing steps are correctly implemented. \"\n",
        "        \"Flag any discrepancies or issues for correction.\"\n",
        "    ),\n",
        "    is_termination_msg=lambda msg: False\n",
        ")"
      ],
      "metadata": {
        "id": "IeeFp3oY_-27"
      },
      "execution_count": null,
      "outputs": []
    },
    {
      "cell_type": "code",
      "source": [
        "# Define User Proxy\n",
        "user_proxy = UserProxyAgent(\n",
        "    \"User\",\n",
        "    code_execution_config={\"work_dir\": \"eda_workspace\"},\n",
        "    system_message=\"You provide the dataset and initiate the EDA process. Monitor the workflow and provide additional instructions if needed.\"\n",
        ")"
      ],
      "metadata": {
        "id": "B5njHCexAAFp"
      },
      "execution_count": null,
      "outputs": []
    },
    {
      "cell_type": "code",
      "source": [
        "# Register agents into a group\n",
        "eda_group = autogen.GroupChat(\n",
        "    agents=[admin_agent, data_prep_agent, eda_agent, report_agent, critic_agent, executor_agent, user_proxy],\n",
        "    messages=[],\n",
        "    max_round=10,\n",
        ")"
      ],
      "metadata": {
        "id": "lYgtDrO2ABgQ"
      },
      "execution_count": null,
      "outputs": []
    },
    {
      "cell_type": "code",
      "source": [
        "# Define GroupChatManager\n",
        "manager = autogen.GroupChatManager(groupchat=eda_group, llm_config={\"config_list\": config_list})"
      ],
      "metadata": {
        "id": "sjbNTFgMADC7"
      },
      "execution_count": null,
      "outputs": []
    },
    {
      "cell_type": "code",
      "source": [
        "# Start the conversation\n",
        "file_path =  \"/content/train.csv\"  # Replace with the actual dataset file path\n",
        "dataset = load_dataset(file_path)\n",
        "cleaned_dataset = preprocess_data(dataset)\n",
        "summary, eda_visuals = perform_eda(cleaned_dataset)\n",
        "report = generate_report(summary, eda_visuals)"
      ],
      "metadata": {
        "id": "PZuapzAuAEea"
      },
      "execution_count": null,
      "outputs": []
    },
    {
      "cell_type": "code",
      "source": [
        "user_proxy.initiate_chat(manager, message=f\"Begin the EDA workflow on the provided dataset: {file_path}. Ensure data is well-prepared and insights are actionable.\")"
      ],
      "metadata": {
        "id": "3aIxYVSe-Ucb"
      },
      "execution_count": null,
      "outputs": []
    }
  ]
}