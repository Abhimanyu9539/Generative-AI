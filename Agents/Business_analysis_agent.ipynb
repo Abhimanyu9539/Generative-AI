{
  "nbformat": 4,
  "nbformat_minor": 0,
  "metadata": {
    "colab": {
      "provenance": []
    },
    "kernelspec": {
      "name": "python3",
      "display_name": "Python 3"
    },
    "language_info": {
      "name": "python"
    }
  },
  "cells": [
    {
      "cell_type": "code",
      "source": [
        "from google.colab import userdata\n",
        "import os\n",
        "\n",
        "OPENAI_API_KEY = userdata.get('OPEN_API_KEY')\n",
        "TAVILY_API_KEY = userdata.get('TAVILY_API_KEY')\n",
        "\n",
        "# Set the API keys as environment variables\n",
        "os.environ['OPENAI_API_KEY'] = OPENAI_API_KEY\n",
        "os.environ['TAVILY_API_KEY'] = TAVILY_API_KEY"
      ],
      "metadata": {
        "id": "klt1ZMwCH3nw"
      },
      "execution_count": 35,
      "outputs": []
    },
    {
      "cell_type": "code",
      "source": [
        "#!pip install langgraph\n",
        "!pip install langchain-community --quiet\n",
        "!pip install langchain --upgrade --quiet"
      ],
      "metadata": {
        "colab": {
          "base_uri": "https://localhost:8080/"
        },
        "id": "4B9ke2bECf3Y",
        "outputId": "18f40c1a-2c18-4840-c009-37e79ab1c920"
      },
      "execution_count": 4,
      "outputs": [
        {
          "output_type": "stream",
          "name": "stdout",
          "text": [
            "\u001b[2K   \u001b[90m━━━━━━━━━━━━━━━━━━━━━━━━━━━━━━━━━━━━━━━━\u001b[0m \u001b[32m2.5/2.5 MB\u001b[0m \u001b[31m27.1 MB/s\u001b[0m eta \u001b[36m0:00:00\u001b[0m\n",
            "\u001b[2K   \u001b[90m━━━━━━━━━━━━━━━━━━━━━━━━━━━━━━━━━━━━━━━━\u001b[0m \u001b[32m1.0/1.0 MB\u001b[0m \u001b[31m41.4 MB/s\u001b[0m eta \u001b[36m0:00:00\u001b[0m\n",
            "\u001b[2K   \u001b[90m━━━━━━━━━━━━━━━━━━━━━━━━━━━━━━━━━━━━━━━━\u001b[0m \u001b[32m415.4/415.4 kB\u001b[0m \u001b[31m22.7 MB/s\u001b[0m eta \u001b[36m0:00:00\u001b[0m\n",
            "\u001b[2K   \u001b[90m━━━━━━━━━━━━━━━━━━━━━━━━━━━━━━━━━━━━━━━━\u001b[0m \u001b[32m50.9/50.9 kB\u001b[0m \u001b[31m2.5 MB/s\u001b[0m eta \u001b[36m0:00:00\u001b[0m\n",
            "\u001b[?25h"
          ]
        }
      ]
    },
    {
      "cell_type": "code",
      "source": [
        "from tavily import TavilyClient"
      ],
      "metadata": {
        "id": "4NSzEJivOMH3"
      },
      "execution_count": 38,
      "outputs": []
    },
    {
      "cell_type": "code",
      "execution_count": 43,
      "metadata": {
        "colab": {
          "base_uri": "https://localhost:8080/"
        },
        "id": "J4fUKLVLCXU7",
        "outputId": "2a8be272-2e0c-494c-99c0-f6312628f51a"
      },
      "outputs": [
        {
          "output_type": "stream",
          "name": "stdout",
          "text": [
            "Langgraph is not installed. Skipping graph visualization.\n",
            "Welcome to the Competitive Clothing Store Analysis Chatbot!\n",
            "Type 'exit' or 'quit' to end the session.\n",
            "\n",
            "You: Pune Fashion Street\n",
            "\n",
            "\n",
            "\u001b[1m> Entering new AgentExecutor chain...\u001b[0m\n",
            "\u001b[32;1m\u001b[1;3mThought: Do I need to use a tool? Yes\n",
            "Action: TavillySearch\n",
            "Action Input: Pune Fashion Street\u001b[0m\n",
            "Observation: \u001b[36;1m\u001b[1;3mcontent=\"Analysis Report:\\n\\nIdentification of Competitor Clothing Stores and Their Locations:\\nThe primary competitor identified from the data is 'Pune Fashion Street'. It is a renowned shopping spot in Pune, known for its variety of clothing options. The street market is located in one of the prime locations in the city, specifically at Mahatma Gandhi Road, Camp-411001.\\n\\nFootfall Trends and Peak Customer Hours:\\nThe data does not provide specific information on footfall trends or peak customer hours. However, given that it is a popular shopping destination in a prime location, it can be inferred that the market likely experiences high footfall, especially during weekends and evenings. The market is open until 9:00 PM, suggesting that it caters to customers throughout the day and into the evening.\\n\\nObservations on Customer Behavior Patterns:\\nThe data does not provide explicit details on customer behavior patterns. However, the variety of clothing options, including floral printed dresses, maxi dresses, and sequined dresses, suggests that the market caters to a wide range of customer preferences. The starting price point of INR 400 indicates that the market targets budget-conscious shoppers.\\n\\nActionable Recommendations for Improving Market Engagement:\\n1. Competitive Pricing: Given the budget-conscious nature of the customers, competitive pricing strategies should be employed to attract more customers.\\n2. Variety of Options: Offering a wide variety of clothing options can cater to diverse customer preferences, thereby attracting a larger customer base.\\n3. Extended Hours: Considering the market is open until 9:00 PM, extending business hours could cater to customers who prefer shopping late in the evening.\\n4. Online Presence: Establishing a strong online presence through social media platforms can help reach a wider audience and provide customers with updates on new arrivals and offers.\\n5. Customer Engagement: Engaging with customers through loyalty programs, discounts, and personalized shopping experiences can enhance customer satisfaction and retention.\" additional_kwargs={} response_metadata={'token_usage': {'completion_tokens': 380, 'prompt_tokens': 619, 'total_tokens': 999, 'completion_tokens_details': {'accepted_prediction_tokens': 0, 'audio_tokens': 0, 'reasoning_tokens': 0, 'rejected_prediction_tokens': 0}, 'prompt_tokens_details': {'audio_tokens': 0, 'cached_tokens': 0}}, 'model_name': 'gpt-4', 'system_fingerprint': None, 'finish_reason': 'stop', 'logprobs': None} id='run-7a5da609-6aa9-4a41-b5db-f1730bac20b9-0'\u001b[0m\n",
            "Thought:\u001b[32;1m\u001b[1;3mDo I need to use a tool? No\n",
            "AI: Here is the analysis report for Pune Fashion Street:\n",
            "\n",
            "Identification of Competitor Clothing Stores and Their Locations:\n",
            "The primary competitor identified from the data is 'Pune Fashion Street'. It is a renowned shopping spot in Pune, known for its variety of clothing options. The street market is located in one of the prime locations in the city, specifically at Mahatma Gandhi Road, Camp-411001.\n",
            "\n",
            "Footfall Trends and Peak Customer Hours:\n",
            "The data does not provide specific information on footfall trends or peak customer hours. However, given that it is a popular shopping destination in a prime location, it can be inferred that the market likely experiences high footfall, especially during weekends and evenings. The market is open until 9:00 PM, suggesting that it caters to customers throughout the day and into the evening.\n",
            "\n",
            "Observations on Customer Behavior Patterns:\n",
            "The data does not provide explicit details on customer behavior patterns. However, the variety of clothing options, including floral printed dresses, maxi dresses, and sequined dresses, suggests that the market caters to a wide range of customer preferences. The starting price point of INR 400 indicates that the market targets budget-conscious shoppers.\n",
            "\n",
            "Actionable Recommendations for Improving Market Engagement:\n",
            "1. Competitive Pricing: Given the budget-conscious nature of the customers, competitive pricing strategies should be employed to attract more customers.\n",
            "2. Variety of Options: Offering a wide variety of clothing options can cater to diverse customer preferences, thereby attracting a larger customer base.\n",
            "3. Extended Hours: Considering the market is open until 9:00 PM, extending business hours could cater to customers who prefer shopping late in the evening.\n",
            "4. Online Presence: Establishing a strong online presence through social media platforms can help reach a wider audience and provide customers with updates on new arrivals and offers.\n",
            "5. Customer Engagement: Engaging with customers through loyalty programs, discounts, and personalized shopping experiences can enhance customer satisfaction and retention.\u001b[0m\n",
            "\n",
            "\u001b[1m> Finished chain.\u001b[0m\n",
            "\n",
            "Bot: Here is the analysis report for Pune Fashion Street:\n",
            "\n",
            "Identification of Competitor Clothing Stores and Their Locations:\n",
            "The primary competitor identified from the data is 'Pune Fashion Street'. It is a renowned shopping spot in Pune, known for its variety of clothing options. The street market is located in one of the prime locations in the city, specifically at Mahatma Gandhi Road, Camp-411001.\n",
            "\n",
            "Footfall Trends and Peak Customer Hours:\n",
            "The data does not provide specific information on footfall trends or peak customer hours. However, given that it is a popular shopping destination in a prime location, it can be inferred that the market likely experiences high footfall, especially during weekends and evenings. The market is open until 9:00 PM, suggesting that it caters to customers throughout the day and into the evening.\n",
            "\n",
            "Observations on Customer Behavior Patterns:\n",
            "The data does not provide explicit details on customer behavior patterns. However, the variety of clothing options, including floral printed dresses, maxi dresses, and sequined dresses, suggests that the market caters to a wide range of customer preferences. The starting price point of INR 400 indicates that the market targets budget-conscious shoppers.\n",
            "\n",
            "Actionable Recommendations for Improving Market Engagement:\n",
            "1. Competitive Pricing: Given the budget-conscious nature of the customers, competitive pricing strategies should be employed to attract more customers.\n",
            "2. Variety of Options: Offering a wide variety of clothing options can cater to diverse customer preferences, thereby attracting a larger customer base.\n",
            "3. Extended Hours: Considering the market is open until 9:00 PM, extending business hours could cater to customers who prefer shopping late in the evening.\n",
            "4. Online Presence: Establishing a strong online presence through social media platforms can help reach a wider audience and provide customers with updates on new arrivals and offers.\n",
            "5. Customer Engagement: Engaging with customers through loyalty programs, discounts, and personalized shopping experiences can enhance customer satisfaction and retention.\n",
            "\n",
            "You: quit\n",
            "Session ended.\n"
          ]
        }
      ],
      "source": [
        "import os\n",
        "from tavily import TavilyClient\n",
        "from langchain.agents import initialize_agent, Tool, AgentType\n",
        "from langchain.chat_models import ChatOpenAI\n",
        "\n",
        "# ---------------------------\n",
        "# Initialize the LLM\n",
        "# ---------------------------\n",
        "llm = ChatOpenAI(model_name=\"gpt-4\", temperature=0)\n",
        "\n",
        "# ---------------------------\n",
        "# Step 1: Define the Tavily Search Tool using TavilyClient with Analysis\n",
        "# ---------------------------\n",
        "def tavilly_search(query: str) -> str:\n",
        "    \"\"\"\n",
        "    Uses TavilyClient to fetch competitor data based on the query, then generates a detailed analysis report using an LLM.\n",
        "    The API key is taken from the environment variable 'TAILY_API_KEY' or 'TAVILY_API_KEY'.\n",
        "    \"\"\"\n",
        "    # Retrieve the API key from environment variables (using TAILY_API_KEY if set, otherwise TAVILY_API_KEY)\n",
        "    api_key = os.getenv(\"TAILY_API_KEY\", os.environ.get('TAVILY_API_KEY'))\n",
        "    client = TavilyClient(api_key)\n",
        "    try:\n",
        "        # Fetch competitor data from Tavily\n",
        "        response = client.search(query=query)\n",
        "\n",
        "        # Build a prompt for the LLM to analyze the data\n",
        "        analysis_prompt = (\n",
        "            \"You are an expert business analyst. Based on the competitor data below for clothing stores, \"\n",
        "            \"provide a detailed analysis report that includes:\\n\"\n",
        "            \"- Identification of competitor clothing stores and their locations\\n\"\n",
        "            \"- Footfall trends and peak customer hours\\n\"\n",
        "            \"- Observations on customer behavior patterns\\n\"\n",
        "            \"- Actionable recommendations for improving market engagement\\n\\n\"\n",
        "            \"Competitor Data:\\n\" + str(response)\n",
        "        )\n",
        "\n",
        "        # Generate the analysis report using the LLM\n",
        "        analysis = llm.invoke(analysis_prompt)\n",
        "        return analysis\n",
        "    except Exception as e:\n",
        "        return f\"Error fetching data: {e}\"\n",
        "\n",
        "# Wrap the search function into a Langchain Tool.\n",
        "tavilly_tool = Tool(\n",
        "    name=\"TavillySearch\",\n",
        "    func=tavilly_search,\n",
        "    description=(\n",
        "        \"Use this tool to fetch competitor data (e.g., nearby clothing store locations, footfall trends, and peak hours) \"\n",
        "        \"from the Tavily Search API via TavilyClient and then generate a detailed analysis report using an LLM. \"\n",
        "        \"It requires the TAILY_API_KEY for authentication.\"\n",
        "    )\n",
        ")\n",
        "\n",
        "# ---------------------------\n",
        "# Step 2: Initialize the Conversational Agent\n",
        "# ---------------------------\n",
        "agent = initialize_agent(\n",
        "    tools=[tavilly_tool],\n",
        "    llm=llm,\n",
        "    agent=AgentType.CONVERSATIONAL_REACT_DESCRIPTION,\n",
        "    verbose=True\n",
        ")\n",
        "\n",
        "# ---------------------------\n",
        "# Step 3: Create a Chat Interface with Chat History\n",
        "# ---------------------------\n",
        "def chat_interface():\n",
        "    chat_history = \"\"  # Initialize chat history to maintain context\n",
        "    print(\"Welcome to the Competitive Clothing Store Analysis Chatbot!\")\n",
        "    print(\"Type 'exit' or 'quit' to end the session.\")\n",
        "\n",
        "    while True:\n",
        "        user_input = input(\"\\nYou: \")\n",
        "        if user_input.lower() in [\"exit\", \"quit\"]:\n",
        "            print(\"Session ended.\")\n",
        "            break\n",
        "        try:\n",
        "            # Pass the user input and chat history to the agent.\n",
        "            response = agent.run({\"input\": user_input, \"chat_history\": chat_history})\n",
        "            print(\"\\nBot:\", response)\n",
        "            # Update the chat history (simple concatenation; adjust format as needed)\n",
        "            chat_history += f\"User: {user_input}\\nBot: {response}\\n\"\n",
        "        except Exception as e:\n",
        "            print(f\"An error occurred: {e}\")\n",
        "\n",
        "# ---------------------------\n",
        "# Step 4: (Optional) Visualize the Chain using Langgraph\n",
        "# ---------------------------\n",
        "try:\n",
        "    from langgraph import LangGraph\n",
        "    graph = LangGraph.from_agent(agent)\n",
        "    graph.show()\n",
        "except ImportError:\n",
        "    print(\"Langgraph is not installed. Skipping graph visualization.\")\n",
        "\n",
        "# ---------------------------\n",
        "# Step 5: Run the Chat Interface\n",
        "# ---------------------------\n",
        "if __name__ == \"__main__\":\n",
        "    chat_interface()\n"
      ]
    },
    {
      "cell_type": "code",
      "source": [],
      "metadata": {
        "id": "KC3pVdDcOxP6"
      },
      "execution_count": null,
      "outputs": []
    }
  ]
}