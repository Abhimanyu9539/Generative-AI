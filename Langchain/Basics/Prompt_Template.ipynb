{
  "nbformat": 4,
  "nbformat_minor": 0,
  "metadata": {
    "colab": {
      "provenance": []
    },
    "kernelspec": {
      "name": "python3",
      "display_name": "Python 3"
    },
    "language_info": {
      "name": "python"
    }
  },
  "cells": [
    {
      "cell_type": "code",
      "execution_count": 5,
      "metadata": {
        "colab": {
          "base_uri": "https://localhost:8080/"
        },
        "id": "zDro1IqhYodp",
        "outputId": "0568e652-0eb9-4842-d0bb-d777efaefec8"
      },
      "outputs": [
        {
          "output_type": "stream",
          "name": "stdout",
          "text": [
            "Requirement already satisfied: langchain==0.1.19 in /usr/local/lib/python3.10/dist-packages (0.1.19)\n",
            "Requirement already satisfied: PyYAML>=5.3 in /usr/local/lib/python3.10/dist-packages (from langchain==0.1.19) (6.0.2)\n",
            "Requirement already satisfied: SQLAlchemy<3,>=1.4 in /usr/local/lib/python3.10/dist-packages (from langchain==0.1.19) (2.0.36)\n",
            "Requirement already satisfied: aiohttp<4.0.0,>=3.8.3 in /usr/local/lib/python3.10/dist-packages (from langchain==0.1.19) (3.10.10)\n",
            "Requirement already satisfied: async-timeout<5.0.0,>=4.0.0 in /usr/local/lib/python3.10/dist-packages (from langchain==0.1.19) (4.0.3)\n",
            "Requirement already satisfied: dataclasses-json<0.7,>=0.5.7 in /usr/local/lib/python3.10/dist-packages (from langchain==0.1.19) (0.6.7)\n",
            "Requirement already satisfied: langchain-community<0.1,>=0.0.38 in /usr/local/lib/python3.10/dist-packages (from langchain==0.1.19) (0.0.38)\n",
            "Requirement already satisfied: langchain-core<0.2.0,>=0.1.52 in /usr/local/lib/python3.10/dist-packages (from langchain==0.1.19) (0.1.52)\n",
            "Requirement already satisfied: langchain-text-splitters<0.1,>=0.0.1 in /usr/local/lib/python3.10/dist-packages (from langchain==0.1.19) (0.0.2)\n",
            "Requirement already satisfied: langsmith<0.2.0,>=0.1.17 in /usr/local/lib/python3.10/dist-packages (from langchain==0.1.19) (0.1.137)\n",
            "Requirement already satisfied: numpy<2,>=1 in /usr/local/lib/python3.10/dist-packages (from langchain==0.1.19) (1.26.4)\n",
            "Requirement already satisfied: pydantic<3,>=1 in /usr/local/lib/python3.10/dist-packages (from langchain==0.1.19) (2.9.2)\n",
            "Requirement already satisfied: requests<3,>=2 in /usr/local/lib/python3.10/dist-packages (from langchain==0.1.19) (2.32.3)\n",
            "Requirement already satisfied: tenacity<9.0.0,>=8.1.0 in /usr/local/lib/python3.10/dist-packages (from langchain==0.1.19) (8.5.0)\n",
            "Requirement already satisfied: aiohappyeyeballs>=2.3.0 in /usr/local/lib/python3.10/dist-packages (from aiohttp<4.0.0,>=3.8.3->langchain==0.1.19) (2.4.3)\n",
            "Requirement already satisfied: aiosignal>=1.1.2 in /usr/local/lib/python3.10/dist-packages (from aiohttp<4.0.0,>=3.8.3->langchain==0.1.19) (1.3.1)\n",
            "Requirement already satisfied: attrs>=17.3.0 in /usr/local/lib/python3.10/dist-packages (from aiohttp<4.0.0,>=3.8.3->langchain==0.1.19) (24.2.0)\n",
            "Requirement already satisfied: frozenlist>=1.1.1 in /usr/local/lib/python3.10/dist-packages (from aiohttp<4.0.0,>=3.8.3->langchain==0.1.19) (1.4.1)\n",
            "Requirement already satisfied: multidict<7.0,>=4.5 in /usr/local/lib/python3.10/dist-packages (from aiohttp<4.0.0,>=3.8.3->langchain==0.1.19) (6.1.0)\n",
            "Requirement already satisfied: yarl<2.0,>=1.12.0 in /usr/local/lib/python3.10/dist-packages (from aiohttp<4.0.0,>=3.8.3->langchain==0.1.19) (1.16.0)\n",
            "Requirement already satisfied: marshmallow<4.0.0,>=3.18.0 in /usr/local/lib/python3.10/dist-packages (from dataclasses-json<0.7,>=0.5.7->langchain==0.1.19) (3.23.0)\n",
            "Requirement already satisfied: typing-inspect<1,>=0.4.0 in /usr/local/lib/python3.10/dist-packages (from dataclasses-json<0.7,>=0.5.7->langchain==0.1.19) (0.9.0)\n",
            "Requirement already satisfied: jsonpatch<2.0,>=1.33 in /usr/local/lib/python3.10/dist-packages (from langchain-core<0.2.0,>=0.1.52->langchain==0.1.19) (1.33)\n",
            "Requirement already satisfied: packaging<24.0,>=23.2 in /usr/local/lib/python3.10/dist-packages (from langchain-core<0.2.0,>=0.1.52->langchain==0.1.19) (23.2)\n",
            "Requirement already satisfied: httpx<1,>=0.23.0 in /usr/local/lib/python3.10/dist-packages (from langsmith<0.2.0,>=0.1.17->langchain==0.1.19) (0.27.2)\n",
            "Requirement already satisfied: orjson<4.0.0,>=3.9.14 in /usr/local/lib/python3.10/dist-packages (from langsmith<0.2.0,>=0.1.17->langchain==0.1.19) (3.10.10)\n",
            "Requirement already satisfied: requests-toolbelt<2.0.0,>=1.0.0 in /usr/local/lib/python3.10/dist-packages (from langsmith<0.2.0,>=0.1.17->langchain==0.1.19) (1.0.0)\n",
            "Requirement already satisfied: annotated-types>=0.6.0 in /usr/local/lib/python3.10/dist-packages (from pydantic<3,>=1->langchain==0.1.19) (0.7.0)\n",
            "Requirement already satisfied: pydantic-core==2.23.4 in /usr/local/lib/python3.10/dist-packages (from pydantic<3,>=1->langchain==0.1.19) (2.23.4)\n",
            "Requirement already satisfied: typing-extensions>=4.6.1 in /usr/local/lib/python3.10/dist-packages (from pydantic<3,>=1->langchain==0.1.19) (4.12.2)\n",
            "Requirement already satisfied: charset-normalizer<4,>=2 in /usr/local/lib/python3.10/dist-packages (from requests<3,>=2->langchain==0.1.19) (3.4.0)\n",
            "Requirement already satisfied: idna<4,>=2.5 in /usr/local/lib/python3.10/dist-packages (from requests<3,>=2->langchain==0.1.19) (3.10)\n",
            "Requirement already satisfied: urllib3<3,>=1.21.1 in /usr/local/lib/python3.10/dist-packages (from requests<3,>=2->langchain==0.1.19) (2.2.3)\n",
            "Requirement already satisfied: certifi>=2017.4.17 in /usr/local/lib/python3.10/dist-packages (from requests<3,>=2->langchain==0.1.19) (2024.8.30)\n",
            "Requirement already satisfied: greenlet!=0.4.17 in /usr/local/lib/python3.10/dist-packages (from SQLAlchemy<3,>=1.4->langchain==0.1.19) (3.1.1)\n",
            "Requirement already satisfied: anyio in /usr/local/lib/python3.10/dist-packages (from httpx<1,>=0.23.0->langsmith<0.2.0,>=0.1.17->langchain==0.1.19) (3.7.1)\n",
            "Requirement already satisfied: httpcore==1.* in /usr/local/lib/python3.10/dist-packages (from httpx<1,>=0.23.0->langsmith<0.2.0,>=0.1.17->langchain==0.1.19) (1.0.6)\n",
            "Requirement already satisfied: sniffio in /usr/local/lib/python3.10/dist-packages (from httpx<1,>=0.23.0->langsmith<0.2.0,>=0.1.17->langchain==0.1.19) (1.3.1)\n",
            "Requirement already satisfied: h11<0.15,>=0.13 in /usr/local/lib/python3.10/dist-packages (from httpcore==1.*->httpx<1,>=0.23.0->langsmith<0.2.0,>=0.1.17->langchain==0.1.19) (0.14.0)\n",
            "Requirement already satisfied: jsonpointer>=1.9 in /usr/local/lib/python3.10/dist-packages (from jsonpatch<2.0,>=1.33->langchain-core<0.2.0,>=0.1.52->langchain==0.1.19) (3.0.0)\n",
            "Requirement already satisfied: mypy-extensions>=0.3.0 in /usr/local/lib/python3.10/dist-packages (from typing-inspect<1,>=0.4.0->dataclasses-json<0.7,>=0.5.7->langchain==0.1.19) (1.0.0)\n",
            "Requirement already satisfied: propcache>=0.2.0 in /usr/local/lib/python3.10/dist-packages (from yarl<2.0,>=1.12.0->aiohttp<4.0.0,>=3.8.3->langchain==0.1.19) (0.2.0)\n",
            "Requirement already satisfied: exceptiongroup in /usr/local/lib/python3.10/dist-packages (from anyio->httpx<1,>=0.23.0->langsmith<0.2.0,>=0.1.17->langchain==0.1.19) (1.2.2)\n",
            "Requirement already satisfied: langchain-openai==0.1.6 in /usr/local/lib/python3.10/dist-packages (0.1.6)\n",
            "Requirement already satisfied: langchain-core<0.2.0,>=0.1.46 in /usr/local/lib/python3.10/dist-packages (from langchain-openai==0.1.6) (0.1.52)\n",
            "Requirement already satisfied: openai<2.0.0,>=1.24.0 in /usr/local/lib/python3.10/dist-packages (from langchain-openai==0.1.6) (1.52.2)\n",
            "Requirement already satisfied: tiktoken<1,>=0.5.2 in /usr/local/lib/python3.10/dist-packages (from langchain-openai==0.1.6) (0.8.0)\n",
            "Requirement already satisfied: PyYAML>=5.3 in /usr/local/lib/python3.10/dist-packages (from langchain-core<0.2.0,>=0.1.46->langchain-openai==0.1.6) (6.0.2)\n",
            "Requirement already satisfied: jsonpatch<2.0,>=1.33 in /usr/local/lib/python3.10/dist-packages (from langchain-core<0.2.0,>=0.1.46->langchain-openai==0.1.6) (1.33)\n",
            "Requirement already satisfied: langsmith<0.2.0,>=0.1.0 in /usr/local/lib/python3.10/dist-packages (from langchain-core<0.2.0,>=0.1.46->langchain-openai==0.1.6) (0.1.137)\n",
            "Requirement already satisfied: packaging<24.0,>=23.2 in /usr/local/lib/python3.10/dist-packages (from langchain-core<0.2.0,>=0.1.46->langchain-openai==0.1.6) (23.2)\n",
            "Requirement already satisfied: pydantic<3,>=1 in /usr/local/lib/python3.10/dist-packages (from langchain-core<0.2.0,>=0.1.46->langchain-openai==0.1.6) (2.9.2)\n",
            "Requirement already satisfied: tenacity<9.0.0,>=8.1.0 in /usr/local/lib/python3.10/dist-packages (from langchain-core<0.2.0,>=0.1.46->langchain-openai==0.1.6) (8.5.0)\n",
            "Requirement already satisfied: anyio<5,>=3.5.0 in /usr/local/lib/python3.10/dist-packages (from openai<2.0.0,>=1.24.0->langchain-openai==0.1.6) (3.7.1)\n",
            "Requirement already satisfied: distro<2,>=1.7.0 in /usr/lib/python3/dist-packages (from openai<2.0.0,>=1.24.0->langchain-openai==0.1.6) (1.7.0)\n",
            "Requirement already satisfied: httpx<1,>=0.23.0 in /usr/local/lib/python3.10/dist-packages (from openai<2.0.0,>=1.24.0->langchain-openai==0.1.6) (0.27.2)\n",
            "Requirement already satisfied: jiter<1,>=0.4.0 in /usr/local/lib/python3.10/dist-packages (from openai<2.0.0,>=1.24.0->langchain-openai==0.1.6) (0.6.1)\n",
            "Requirement already satisfied: sniffio in /usr/local/lib/python3.10/dist-packages (from openai<2.0.0,>=1.24.0->langchain-openai==0.1.6) (1.3.1)\n",
            "Requirement already satisfied: tqdm>4 in /usr/local/lib/python3.10/dist-packages (from openai<2.0.0,>=1.24.0->langchain-openai==0.1.6) (4.66.5)\n",
            "Requirement already satisfied: typing-extensions<5,>=4.11 in /usr/local/lib/python3.10/dist-packages (from openai<2.0.0,>=1.24.0->langchain-openai==0.1.6) (4.12.2)\n",
            "Requirement already satisfied: regex>=2022.1.18 in /usr/local/lib/python3.10/dist-packages (from tiktoken<1,>=0.5.2->langchain-openai==0.1.6) (2024.9.11)\n",
            "Requirement already satisfied: requests>=2.26.0 in /usr/local/lib/python3.10/dist-packages (from tiktoken<1,>=0.5.2->langchain-openai==0.1.6) (2.32.3)\n",
            "Requirement already satisfied: idna>=2.8 in /usr/local/lib/python3.10/dist-packages (from anyio<5,>=3.5.0->openai<2.0.0,>=1.24.0->langchain-openai==0.1.6) (3.10)\n",
            "Requirement already satisfied: exceptiongroup in /usr/local/lib/python3.10/dist-packages (from anyio<5,>=3.5.0->openai<2.0.0,>=1.24.0->langchain-openai==0.1.6) (1.2.2)\n",
            "Requirement already satisfied: certifi in /usr/local/lib/python3.10/dist-packages (from httpx<1,>=0.23.0->openai<2.0.0,>=1.24.0->langchain-openai==0.1.6) (2024.8.30)\n",
            "Requirement already satisfied: httpcore==1.* in /usr/local/lib/python3.10/dist-packages (from httpx<1,>=0.23.0->openai<2.0.0,>=1.24.0->langchain-openai==0.1.6) (1.0.6)\n",
            "Requirement already satisfied: h11<0.15,>=0.13 in /usr/local/lib/python3.10/dist-packages (from httpcore==1.*->httpx<1,>=0.23.0->openai<2.0.0,>=1.24.0->langchain-openai==0.1.6) (0.14.0)\n",
            "Requirement already satisfied: jsonpointer>=1.9 in /usr/local/lib/python3.10/dist-packages (from jsonpatch<2.0,>=1.33->langchain-core<0.2.0,>=0.1.46->langchain-openai==0.1.6) (3.0.0)\n",
            "Requirement already satisfied: orjson<4.0.0,>=3.9.14 in /usr/local/lib/python3.10/dist-packages (from langsmith<0.2.0,>=0.1.0->langchain-core<0.2.0,>=0.1.46->langchain-openai==0.1.6) (3.10.10)\n",
            "Requirement already satisfied: requests-toolbelt<2.0.0,>=1.0.0 in /usr/local/lib/python3.10/dist-packages (from langsmith<0.2.0,>=0.1.0->langchain-core<0.2.0,>=0.1.46->langchain-openai==0.1.6) (1.0.0)\n",
            "Requirement already satisfied: annotated-types>=0.6.0 in /usr/local/lib/python3.10/dist-packages (from pydantic<3,>=1->langchain-core<0.2.0,>=0.1.46->langchain-openai==0.1.6) (0.7.0)\n",
            "Requirement already satisfied: pydantic-core==2.23.4 in /usr/local/lib/python3.10/dist-packages (from pydantic<3,>=1->langchain-core<0.2.0,>=0.1.46->langchain-openai==0.1.6) (2.23.4)\n",
            "Requirement already satisfied: charset-normalizer<4,>=2 in /usr/local/lib/python3.10/dist-packages (from requests>=2.26.0->tiktoken<1,>=0.5.2->langchain-openai==0.1.6) (3.4.0)\n",
            "Requirement already satisfied: urllib3<3,>=1.21.1 in /usr/local/lib/python3.10/dist-packages (from requests>=2.26.0->tiktoken<1,>=0.5.2->langchain-openai==0.1.6) (2.2.3)\n",
            "Requirement already satisfied: langchain-community==0.0.38 in /usr/local/lib/python3.10/dist-packages (0.0.38)\n",
            "Requirement already satisfied: PyYAML>=5.3 in /usr/local/lib/python3.10/dist-packages (from langchain-community==0.0.38) (6.0.2)\n",
            "Requirement already satisfied: SQLAlchemy<3,>=1.4 in /usr/local/lib/python3.10/dist-packages (from langchain-community==0.0.38) (2.0.36)\n",
            "Requirement already satisfied: aiohttp<4.0.0,>=3.8.3 in /usr/local/lib/python3.10/dist-packages (from langchain-community==0.0.38) (3.10.10)\n",
            "Requirement already satisfied: dataclasses-json<0.7,>=0.5.7 in /usr/local/lib/python3.10/dist-packages (from langchain-community==0.0.38) (0.6.7)\n",
            "Requirement already satisfied: langchain-core<0.2.0,>=0.1.52 in /usr/local/lib/python3.10/dist-packages (from langchain-community==0.0.38) (0.1.52)\n",
            "Requirement already satisfied: langsmith<0.2.0,>=0.1.0 in /usr/local/lib/python3.10/dist-packages (from langchain-community==0.0.38) (0.1.137)\n",
            "Requirement already satisfied: numpy<2,>=1 in /usr/local/lib/python3.10/dist-packages (from langchain-community==0.0.38) (1.26.4)\n",
            "Requirement already satisfied: requests<3,>=2 in /usr/local/lib/python3.10/dist-packages (from langchain-community==0.0.38) (2.32.3)\n",
            "Requirement already satisfied: tenacity<9.0.0,>=8.1.0 in /usr/local/lib/python3.10/dist-packages (from langchain-community==0.0.38) (8.5.0)\n",
            "Requirement already satisfied: aiohappyeyeballs>=2.3.0 in /usr/local/lib/python3.10/dist-packages (from aiohttp<4.0.0,>=3.8.3->langchain-community==0.0.38) (2.4.3)\n",
            "Requirement already satisfied: aiosignal>=1.1.2 in /usr/local/lib/python3.10/dist-packages (from aiohttp<4.0.0,>=3.8.3->langchain-community==0.0.38) (1.3.1)\n",
            "Requirement already satisfied: attrs>=17.3.0 in /usr/local/lib/python3.10/dist-packages (from aiohttp<4.0.0,>=3.8.3->langchain-community==0.0.38) (24.2.0)\n",
            "Requirement already satisfied: frozenlist>=1.1.1 in /usr/local/lib/python3.10/dist-packages (from aiohttp<4.0.0,>=3.8.3->langchain-community==0.0.38) (1.4.1)\n",
            "Requirement already satisfied: multidict<7.0,>=4.5 in /usr/local/lib/python3.10/dist-packages (from aiohttp<4.0.0,>=3.8.3->langchain-community==0.0.38) (6.1.0)\n",
            "Requirement already satisfied: yarl<2.0,>=1.12.0 in /usr/local/lib/python3.10/dist-packages (from aiohttp<4.0.0,>=3.8.3->langchain-community==0.0.38) (1.16.0)\n",
            "Requirement already satisfied: async-timeout<5.0,>=4.0 in /usr/local/lib/python3.10/dist-packages (from aiohttp<4.0.0,>=3.8.3->langchain-community==0.0.38) (4.0.3)\n",
            "Requirement already satisfied: marshmallow<4.0.0,>=3.18.0 in /usr/local/lib/python3.10/dist-packages (from dataclasses-json<0.7,>=0.5.7->langchain-community==0.0.38) (3.23.0)\n",
            "Requirement already satisfied: typing-inspect<1,>=0.4.0 in /usr/local/lib/python3.10/dist-packages (from dataclasses-json<0.7,>=0.5.7->langchain-community==0.0.38) (0.9.0)\n",
            "Requirement already satisfied: jsonpatch<2.0,>=1.33 in /usr/local/lib/python3.10/dist-packages (from langchain-core<0.2.0,>=0.1.52->langchain-community==0.0.38) (1.33)\n",
            "Requirement already satisfied: packaging<24.0,>=23.2 in /usr/local/lib/python3.10/dist-packages (from langchain-core<0.2.0,>=0.1.52->langchain-community==0.0.38) (23.2)\n",
            "Requirement already satisfied: pydantic<3,>=1 in /usr/local/lib/python3.10/dist-packages (from langchain-core<0.2.0,>=0.1.52->langchain-community==0.0.38) (2.9.2)\n",
            "Requirement already satisfied: httpx<1,>=0.23.0 in /usr/local/lib/python3.10/dist-packages (from langsmith<0.2.0,>=0.1.0->langchain-community==0.0.38) (0.27.2)\n",
            "Requirement already satisfied: orjson<4.0.0,>=3.9.14 in /usr/local/lib/python3.10/dist-packages (from langsmith<0.2.0,>=0.1.0->langchain-community==0.0.38) (3.10.10)\n",
            "Requirement already satisfied: requests-toolbelt<2.0.0,>=1.0.0 in /usr/local/lib/python3.10/dist-packages (from langsmith<0.2.0,>=0.1.0->langchain-community==0.0.38) (1.0.0)\n",
            "Requirement already satisfied: charset-normalizer<4,>=2 in /usr/local/lib/python3.10/dist-packages (from requests<3,>=2->langchain-community==0.0.38) (3.4.0)\n",
            "Requirement already satisfied: idna<4,>=2.5 in /usr/local/lib/python3.10/dist-packages (from requests<3,>=2->langchain-community==0.0.38) (3.10)\n",
            "Requirement already satisfied: urllib3<3,>=1.21.1 in /usr/local/lib/python3.10/dist-packages (from requests<3,>=2->langchain-community==0.0.38) (2.2.3)\n",
            "Requirement already satisfied: certifi>=2017.4.17 in /usr/local/lib/python3.10/dist-packages (from requests<3,>=2->langchain-community==0.0.38) (2024.8.30)\n",
            "Requirement already satisfied: typing-extensions>=4.6.0 in /usr/local/lib/python3.10/dist-packages (from SQLAlchemy<3,>=1.4->langchain-community==0.0.38) (4.12.2)\n",
            "Requirement already satisfied: greenlet!=0.4.17 in /usr/local/lib/python3.10/dist-packages (from SQLAlchemy<3,>=1.4->langchain-community==0.0.38) (3.1.1)\n",
            "Requirement already satisfied: anyio in /usr/local/lib/python3.10/dist-packages (from httpx<1,>=0.23.0->langsmith<0.2.0,>=0.1.0->langchain-community==0.0.38) (3.7.1)\n",
            "Requirement already satisfied: httpcore==1.* in /usr/local/lib/python3.10/dist-packages (from httpx<1,>=0.23.0->langsmith<0.2.0,>=0.1.0->langchain-community==0.0.38) (1.0.6)\n",
            "Requirement already satisfied: sniffio in /usr/local/lib/python3.10/dist-packages (from httpx<1,>=0.23.0->langsmith<0.2.0,>=0.1.0->langchain-community==0.0.38) (1.3.1)\n",
            "Requirement already satisfied: h11<0.15,>=0.13 in /usr/local/lib/python3.10/dist-packages (from httpcore==1.*->httpx<1,>=0.23.0->langsmith<0.2.0,>=0.1.0->langchain-community==0.0.38) (0.14.0)\n",
            "Requirement already satisfied: jsonpointer>=1.9 in /usr/local/lib/python3.10/dist-packages (from jsonpatch<2.0,>=1.33->langchain-core<0.2.0,>=0.1.52->langchain-community==0.0.38) (3.0.0)\n",
            "Requirement already satisfied: annotated-types>=0.6.0 in /usr/local/lib/python3.10/dist-packages (from pydantic<3,>=1->langchain-core<0.2.0,>=0.1.52->langchain-community==0.0.38) (0.7.0)\n",
            "Requirement already satisfied: pydantic-core==2.23.4 in /usr/local/lib/python3.10/dist-packages (from pydantic<3,>=1->langchain-core<0.2.0,>=0.1.52->langchain-community==0.0.38) (2.23.4)\n",
            "Requirement already satisfied: mypy-extensions>=0.3.0 in /usr/local/lib/python3.10/dist-packages (from typing-inspect<1,>=0.4.0->dataclasses-json<0.7,>=0.5.7->langchain-community==0.0.38) (1.0.0)\n",
            "Requirement already satisfied: propcache>=0.2.0 in /usr/local/lib/python3.10/dist-packages (from yarl<2.0,>=1.12.0->aiohttp<4.0.0,>=3.8.3->langchain-community==0.0.38) (0.2.0)\n",
            "Requirement already satisfied: exceptiongroup in /usr/local/lib/python3.10/dist-packages (from anyio->httpx<1,>=0.23.0->langsmith<0.2.0,>=0.1.0->langchain-community==0.0.38) (1.2.2)\n"
          ]
        }
      ],
      "source": [
        "!pip install langchain==0.1.19\n",
        "!pip install langchain-openai==0.1.6\n",
        "!pip install langchain-community==0.0.38"
      ]
    },
    {
      "cell_type": "code",
      "source": [
        "from google.colab import userdata\n",
        "OPENAI_API_KEY = userdata.get('OPEN_API_KEY')\n",
        "HUGGINGFACEHUB_API_TOKEN = userdata.get('HF_TOKEN')"
      ],
      "metadata": {
        "id": "uAcx_-W2ZZsH"
      },
      "execution_count": 6,
      "outputs": []
    },
    {
      "cell_type": "code",
      "source": [
        "import os\n",
        "\n",
        "os.environ['HUGGINGFACEHUB_API_TOKEN'] = HUGGINGFACEHUB_API_TOKEN\n",
        "os.environ['OPENAI_API_KEY'] = OPENAI_API_KEY"
      ],
      "metadata": {
        "id": "U87wtBraZZou"
      },
      "execution_count": 7,
      "outputs": []
    },
    {
      "cell_type": "code",
      "source": [
        "from langchain_openai import ChatOpenAI\n",
        "\n",
        "chatgpt = ChatOpenAI(model_name=\"gpt-3.5-turbo\", temperature=0)"
      ],
      "metadata": {
        "id": "6t_EZu38ZZmI"
      },
      "execution_count": 8,
      "outputs": []
    },
    {
      "cell_type": "code",
      "source": [
        "from langchain.prompts import PromptTemplate\n",
        "\n",
        "# Simple prompt\n",
        "\n",
        "prompt = \"\"\"Explain to me what is Generative AI in 3 bullet points?\"\"\"\n",
        "prompt_template = PromptTemplate.from_template(prompt)\n",
        "prompt_template"
      ],
      "metadata": {
        "colab": {
          "base_uri": "https://localhost:8080/"
        },
        "id": "qtEOpQEbZZjt",
        "outputId": "e63ee13b-b6a5-43d0-ef13-c3818001fc4d"
      },
      "execution_count": 9,
      "outputs": [
        {
          "output_type": "execute_result",
          "data": {
            "text/plain": [
              "PromptTemplate(input_variables=[], template='Explain to me what is Generative AI in 3 bullet points?')"
            ]
          },
          "metadata": {},
          "execution_count": 9
        }
      ]
    },
    {
      "cell_type": "code",
      "source": [
        "prompt_template.format()"
      ],
      "metadata": {
        "colab": {
          "base_uri": "https://localhost:8080/",
          "height": 36
        },
        "id": "nAqhLlH4ZZha",
        "outputId": "a200f625-4ad2-4769-d1f8-e40bcc7af5d4"
      },
      "execution_count": 10,
      "outputs": [
        {
          "output_type": "execute_result",
          "data": {
            "text/plain": [
              "'Explain to me what is Generative AI in 3 bullet points?'"
            ],
            "application/vnd.google.colaboratory.intrinsic+json": {
              "type": "string"
            }
          },
          "metadata": {},
          "execution_count": 10
        }
      ]
    },
    {
      "cell_type": "code",
      "source": [
        "response = chatgpt.invoke(prompt_template.format())\n",
        "print(response.content)"
      ],
      "metadata": {
        "colab": {
          "base_uri": "https://localhost:8080/"
        },
        "id": "cM-FZyzVZZe7",
        "outputId": "ff320a5c-7de6-4506-c545-88ab26c79add"
      },
      "execution_count": 11,
      "outputs": [
        {
          "output_type": "stream",
          "name": "stdout",
          "text": [
            "1. Generative AI is a type of artificial intelligence that is capable of creating new content, such as images, text, or music, based on patterns and data it has been trained on.\n",
            "\n",
            "2. It works by using algorithms to generate new content that is similar to the data it has been trained on, allowing it to create realistic and original outputs.\n",
            "\n",
            "3. Generative AI has a wide range of applications, including creating art, generating realistic images for video games, and even composing music.\n"
          ]
        }
      ]
    },
    {
      "cell_type": "markdown",
      "source": [
        "## More complex prompt with input variables"
      ],
      "metadata": {
        "id": "aCZX1sDDZZcp"
      }
    },
    {
      "cell_type": "code",
      "source": [
        "prompt = \"Explain to be briefly about {topic} in {language}\"\n",
        "prompt_template = PromptTemplate.from_template(prompt)\n",
        "prompt_template"
      ],
      "metadata": {
        "colab": {
          "base_uri": "https://localhost:8080/"
        },
        "id": "aJKjrQHaZZac",
        "outputId": "9cf1c18d-6a1f-4461-e5f3-28b374d9b453"
      },
      "execution_count": 12,
      "outputs": [
        {
          "output_type": "execute_result",
          "data": {
            "text/plain": [
              "PromptTemplate(input_variables=['language', 'topic'], template='Explain to be briefly about {topic} in {language}')"
            ]
          },
          "metadata": {},
          "execution_count": 12
        }
      ]
    },
    {
      "cell_type": "code",
      "source": [
        "inputs = [(\"GEN AI\", \"English\"), (\"AI\", \"Hindi\"), (\"Generative AI\", \"German\")]\n",
        "prompts = [prompt_template.format(topic=topic, language=language) for topic, language in inputs]\n",
        "prompts"
      ],
      "metadata": {
        "colab": {
          "base_uri": "https://localhost:8080/"
        },
        "id": "TynWyEv6ZZYS",
        "outputId": "124d7e38-37cd-4721-81c4-728637741659"
      },
      "execution_count": 13,
      "outputs": [
        {
          "output_type": "execute_result",
          "data": {
            "text/plain": [
              "['Explain to be briefly about GEN AI in English',\n",
              " 'Explain to be briefly about AI in Hindi',\n",
              " 'Explain to be briefly about Generative AI in German']"
            ]
          },
          "metadata": {},
          "execution_count": 13
        }
      ]
    },
    {
      "cell_type": "code",
      "source": [
        "responses = chatgpt.map().invoke(prompts)\n",
        "responses"
      ],
      "metadata": {
        "colab": {
          "base_uri": "https://localhost:8080/"
        },
        "id": "9yvKBm-XZZV4",
        "outputId": "695a048e-4987-4a42-adfc-be6043e0b003"
      },
      "execution_count": 14,
      "outputs": [
        {
          "output_type": "execute_result",
          "data": {
            "text/plain": [
              "[AIMessage(content='Gen AI refers to the next generation of artificial intelligence that is designed to be more advanced, adaptable, and capable of learning and evolving on its own. This type of AI is expected to have the ability to understand and respond to human emotions, make decisions based on complex data, and interact with humans in a more natural and intuitive way. Gen AI is seen as a significant advancement in the field of artificial intelligence and has the potential to revolutionize various industries and aspects of society.', response_metadata={'token_usage': {'completion_tokens': 95, 'prompt_tokens': 17, 'total_tokens': 112, 'completion_tokens_details': {'audio_tokens': None, 'reasoning_tokens': 0}, 'prompt_tokens_details': {'audio_tokens': None, 'cached_tokens': 0}}, 'model_name': 'gpt-3.5-turbo', 'system_fingerprint': None, 'finish_reason': 'stop', 'logprobs': None}, id='run-5f9a030e-7629-4326-8426-c4efa83715f3-0'),\n",
              " AIMessage(content='AI (Artificial Intelligence) का मतलब है किसी मशीन या सिस्टम को मानव बुद्धि की तरह काम करने की क्षमता देना। इसका उद्देश्य है कि मशीनें स्वयं सोच सकें, सीख सकें और समस्याओं का समाधान कर सकें। एआई के उपयोग से विभिन्न क्षेत्रों में कार्य सुविधाएं बढ़ गई हैं और लोगों के जीवन को आसान बनाने में मदद मिल रही है।', response_metadata={'token_usage': {'completion_tokens': 270, 'prompt_tokens': 16, 'total_tokens': 286, 'completion_tokens_details': {'audio_tokens': None, 'reasoning_tokens': 0}, 'prompt_tokens_details': {'audio_tokens': None, 'cached_tokens': 0}}, 'model_name': 'gpt-3.5-turbo', 'system_fingerprint': None, 'finish_reason': 'stop', 'logprobs': None}, id='run-c3838d06-d081-4923-ba5c-ded110de5965-0'),\n",
              " AIMessage(content='Generative KI bezieht sich auf künstliche Intelligenz, die in der Lage ist, neue Inhalte wie Bilder, Texte oder Musik zu erstellen, die auf vorhandenen Daten basieren. Diese Art von KI verwendet Algorithmen, um Muster in den Daten zu erkennen und dann neue Inhalte zu generieren, die diesen Mustern folgen. Generative KI wird häufig in Bereichen wie Kunst, Design und Musik eingesetzt, um kreative Inhalte zu erstellen.', response_metadata={'token_usage': {'completion_tokens': 109, 'prompt_tokens': 18, 'total_tokens': 127, 'completion_tokens_details': {'audio_tokens': None, 'reasoning_tokens': 0}, 'prompt_tokens_details': {'audio_tokens': None, 'cached_tokens': 0}}, 'model_name': 'gpt-3.5-turbo', 'system_fingerprint': None, 'finish_reason': 'stop', 'logprobs': None}, id='run-84749af1-601e-4ec3-8d05-759dfe4ec91e-0')]"
            ]
          },
          "metadata": {},
          "execution_count": 14
        }
      ]
    },
    {
      "cell_type": "code",
      "source": [
        "for response in responses:\n",
        "  print(response.content)\n",
        "  print(\"----------\")"
      ],
      "metadata": {
        "colab": {
          "base_uri": "https://localhost:8080/"
        },
        "id": "JHLACzCBZZTl",
        "outputId": "979b86c3-8d01-4df1-e15c-468769afcc32"
      },
      "execution_count": 17,
      "outputs": [
        {
          "output_type": "stream",
          "name": "stdout",
          "text": [
            "Gen AI refers to the next generation of artificial intelligence that is designed to be more advanced, adaptable, and capable of learning and evolving on its own. This type of AI is expected to have the ability to understand and respond to human emotions, make decisions based on complex data, and interact with humans in a more natural and intuitive way. Gen AI is seen as a significant advancement in the field of artificial intelligence and has the potential to revolutionize various industries and aspects of society.\n",
            "----------\n",
            "AI (Artificial Intelligence) का मतलब है किसी मशीन या सिस्टम को मानव बुद्धि की तरह काम करने की क्षमता देना। इसका उद्देश्य है कि मशीनें स्वयं सोच सकें, सीख सकें और समस्याओं का समाधान कर सकें। एआई के उपयोग से विभिन्न क्षेत्रों में कार्य सुविधाएं बढ़ गई हैं और लोगों के जीवन को आसान बनाने में मदद मिल रही है।\n",
            "----------\n",
            "Generative KI bezieht sich auf künstliche Intelligenz, die in der Lage ist, neue Inhalte wie Bilder, Texte oder Musik zu erstellen, die auf vorhandenen Daten basieren. Diese Art von KI verwendet Algorithmen, um Muster in den Daten zu erkennen und dann neue Inhalte zu generieren, die diesen Mustern folgen. Generative KI wird häufig in Bereichen wie Kunst, Design und Musik eingesetzt, um kreative Inhalte zu erstellen.\n",
            "----------\n"
          ]
        }
      ]
    },
    {
      "cell_type": "markdown",
      "source": [
        "# Chat Prompt Template"
      ],
      "metadata": {
        "id": "Efl7T597ZZRW"
      }
    },
    {
      "cell_type": "code",
      "source": [
        "from  langchain_core.prompts import ChatPromptTemplate\n",
        "\n",
        "# Simple prompt\n",
        "prompt = \"Explain to me briefly  about {topic}\"\n",
        "\n",
        "chat_prompt_template = ChatPromptTemplate.from_template(prompt)\n",
        "chat_prompt_template"
      ],
      "metadata": {
        "colab": {
          "base_uri": "https://localhost:8080/"
        },
        "id": "el65n5i7dlaT",
        "outputId": "a1b89537-1511-4ffb-c57d-3820ff20604e"
      },
      "execution_count": 18,
      "outputs": [
        {
          "output_type": "execute_result",
          "data": {
            "text/plain": [
              "ChatPromptTemplate(input_variables=['topic'], messages=[HumanMessagePromptTemplate(prompt=PromptTemplate(input_variables=['topic'], template='Explain to me briefly  about {topic}'))])"
            ]
          },
          "metadata": {},
          "execution_count": 18
        }
      ]
    },
    {
      "cell_type": "code",
      "source": [
        "topics = ['mortgage', 'fractional real estate', 'commercial real estate']\n",
        "prompts = [chat_prompt_template.format(topic=topic) for topic in topics]\n",
        "prompts"
      ],
      "metadata": {
        "colab": {
          "base_uri": "https://localhost:8080/"
        },
        "id": "h7d1zCrId10O",
        "outputId": "c9db4569-b8cf-49f1-a33a-27a631ed7335"
      },
      "execution_count": 20,
      "outputs": [
        {
          "output_type": "execute_result",
          "data": {
            "text/plain": [
              "['Human: Explain to me briefly  about mortgage',\n",
              " 'Human: Explain to me briefly  about fractional real estate',\n",
              " 'Human: Explain to me briefly  about commercial real estate']"
            ]
          },
          "metadata": {},
          "execution_count": 20
        }
      ]
    },
    {
      "cell_type": "code",
      "source": [
        "responses  = chatgpt.map().invoke(prompts)\n",
        "for response in responses:\n",
        "  print(response.content)\n",
        "  print(\"----------\")"
      ],
      "metadata": {
        "colab": {
          "base_uri": "https://localhost:8080/"
        },
        "id": "JhFdQQWKeAHs",
        "outputId": "7a10ca58-a1d2-4456-acc6-2540d6b9c4ca"
      },
      "execution_count": 21,
      "outputs": [
        {
          "output_type": "stream",
          "name": "stdout",
          "text": [
            "A mortgage is a type of loan that is used to purchase a home or property. The borrower agrees to repay the loan amount, plus interest, over a set period of time. The property serves as collateral for the loan, meaning that if the borrower fails to make payments, the lender has the right to take possession of the property.\n",
            "----------\n",
            "Fractional real estate is a type of ownership structure where multiple individuals share ownership of a property. Each owner holds a fraction of the property, typically represented by shares or units. This allows individuals to invest in high-end properties or vacation homes without having to bear the full cost and responsibility of ownership. Fractional real estate ownership often includes a management company that handles maintenance, rental income, and other property-related tasks on behalf of the owners.\n",
            "----------\n",
            "Commercial real estate refers to properties that are used for business purposes, such as office buildings, retail spaces, industrial facilities, and hotels. These properties are typically leased or rented out to businesses for their operations. Commercial real estate can be a lucrative investment opportunity for individuals or companies looking to generate rental income or increase the value of their assets. It is a complex and competitive market that requires careful research, financial analysis, and understanding of local market trends.\n",
            "----------\n"
          ]
        }
      ]
    },
    {
      "cell_type": "code",
      "source": [
        "responses[0]"
      ],
      "metadata": {
        "colab": {
          "base_uri": "https://localhost:8080/"
        },
        "id": "0_Qx15yceJTS",
        "outputId": "50b1e108-dbe5-4816-cae2-487cebd8274e"
      },
      "execution_count": 22,
      "outputs": [
        {
          "output_type": "execute_result",
          "data": {
            "text/plain": [
              "AIMessage(content='A mortgage is a type of loan that is used to purchase a home or property. The borrower agrees to repay the loan amount, plus interest, over a set period of time. The property serves as collateral for the loan, meaning that if the borrower fails to make payments, the lender has the right to take possession of the property.', response_metadata={'token_usage': {'completion_tokens': 67, 'prompt_tokens': 16, 'total_tokens': 83, 'completion_tokens_details': {'audio_tokens': None, 'reasoning_tokens': 0}, 'prompt_tokens_details': {'audio_tokens': None, 'cached_tokens': 0}}, 'model_name': 'gpt-3.5-turbo', 'system_fingerprint': None, 'finish_reason': 'stop', 'logprobs': None}, id='run-afd70b12-82eb-4d31-9dc4-4cc0674f0128-0')"
            ]
          },
          "metadata": {},
          "execution_count": 22
        }
      ]
    },
    {
      "cell_type": "code",
      "source": [
        "# more complex prompt with a series of messages\n",
        "messages = [\n",
        "        (\"system\", \"Act as an expert in real estate and provide brief answers\"),\n",
        "        (\"human\", \"what is your name?\"),\n",
        "        (\"ai\", \"my name is AIBot\"),\n",
        "        (\"human\", \"{user_prompt}\"),\n",
        "]\n",
        "chat_template = ChatPromptTemplate.from_messages(messages)\n",
        "chat_template"
      ],
      "metadata": {
        "colab": {
          "base_uri": "https://localhost:8080/"
        },
        "id": "RisQiLZ5eN2x",
        "outputId": "1341ae54-b931-4984-99f8-621109f341f6"
      },
      "execution_count": 23,
      "outputs": [
        {
          "output_type": "execute_result",
          "data": {
            "text/plain": [
              "ChatPromptTemplate(input_variables=['user_prompt'], messages=[SystemMessagePromptTemplate(prompt=PromptTemplate(input_variables=[], template='Act as an expert in real estate and provide brief answers')), HumanMessagePromptTemplate(prompt=PromptTemplate(input_variables=[], template='what is your name?')), AIMessagePromptTemplate(prompt=PromptTemplate(input_variables=[], template='my name is AIBot')), HumanMessagePromptTemplate(prompt=PromptTemplate(input_variables=['user_prompt'], template='{user_prompt}'))])"
            ]
          },
          "metadata": {},
          "execution_count": 23
        }
      ]
    },
    {
      "cell_type": "code",
      "source": [
        "text_prompts = [\"what is your name?\",\n",
        "                \"explain commercial real estate to me\"]\n",
        "chat_prompts = [chat_template.format(user_prompt=prompt) for prompt in text_prompts]\n",
        "chat_prompts"
      ],
      "metadata": {
        "colab": {
          "base_uri": "https://localhost:8080/"
        },
        "id": "rGJB-yq4gaPq",
        "outputId": "f535ab0e-9b51-4f83-a8f4-93db9a2d9df9"
      },
      "execution_count": 24,
      "outputs": [
        {
          "output_type": "execute_result",
          "data": {
            "text/plain": [
              "['System: Act as an expert in real estate and provide brief answers\\nHuman: what is your name?\\nAI: my name is AIBot\\nHuman: what is your name?',\n",
              " 'System: Act as an expert in real estate and provide brief answers\\nHuman: what is your name?\\nAI: my name is AIBot\\nHuman: explain commercial real estate to me']"
            ]
          },
          "metadata": {},
          "execution_count": 24
        }
      ]
    },
    {
      "cell_type": "code",
      "source": [
        "print(chat_prompts[0])"
      ],
      "metadata": {
        "colab": {
          "base_uri": "https://localhost:8080/"
        },
        "id": "Efa4fR4YgnF9",
        "outputId": "cc04feaa-1710-43cd-99f5-c52a9e416dc7"
      },
      "execution_count": 25,
      "outputs": [
        {
          "output_type": "stream",
          "name": "stdout",
          "text": [
            "System: Act as an expert in real estate and provide brief answers\n",
            "Human: what is your name?\n",
            "AI: my name is AIBot\n",
            "Human: what is your name?\n"
          ]
        }
      ]
    },
    {
      "cell_type": "code",
      "source": [
        "print(chat_prompts[1])"
      ],
      "metadata": {
        "colab": {
          "base_uri": "https://localhost:8080/"
        },
        "id": "Jhs5oZgyhwOI",
        "outputId": "c4572c79-cf6f-4112-b5fb-8ad4005af368"
      },
      "execution_count": 26,
      "outputs": [
        {
          "output_type": "stream",
          "name": "stdout",
          "text": [
            "System: Act as an expert in real estate and provide brief answers\n",
            "Human: what is your name?\n",
            "AI: my name is AIBot\n",
            "Human: explain commercial real estate to me\n"
          ]
        }
      ]
    },
    {
      "cell_type": "code",
      "source": [
        "responses = chatgpt.map().invoke(chat_prompts)\n",
        "for response in responses:\n",
        "  print(response.content)\n",
        "  print('-----')"
      ],
      "metadata": {
        "colab": {
          "base_uri": "https://localhost:8080/"
        },
        "id": "SYh7Fb8JhyzL",
        "outputId": "dbf2c627-e5cf-4d31-9b0e-a1fd08c861e2"
      },
      "execution_count": 27,
      "outputs": [
        {
          "output_type": "stream",
          "name": "stdout",
          "text": [
            "AI: My name is AIBot\n",
            "-----\n",
            "AI: Commercial real estate refers to properties that are used for business purposes, such as office buildings, retail spaces, industrial facilities, and hotels. These properties are typically leased or rented out to businesses for their operations.\n",
            "-----\n"
          ]
        }
      ]
    },
    {
      "cell_type": "code",
      "source": [
        "messages = [\n",
        "        (\"system\", \"Act as an expert in real estate and provide very detailed answers with examples\"),\n",
        "        (\"human\", \"what is your name?\"),\n",
        "        (\"ai\", \"my name is AIBot\"),\n",
        "        (\"human\", \"{user_prompt}\"),\n",
        "]\n",
        "chat_template = ChatPromptTemplate.from_messages(messages)\n",
        "text_prompts = [\"what is your name?\", \"explain commercial real estate to me\"]\n",
        "chat_prompts = [chat_template.format(user_prompt=prompt) for prompt in text_prompts]\n",
        "chat_prompts"
      ],
      "metadata": {
        "colab": {
          "base_uri": "https://localhost:8080/"
        },
        "id": "giPGD7_Yh0FB",
        "outputId": "11b46268-664a-464d-d529-6e9abeec49b9"
      },
      "execution_count": 28,
      "outputs": [
        {
          "output_type": "execute_result",
          "data": {
            "text/plain": [
              "['System: Act as an expert in real estate and provide very detailed answers with examples\\nHuman: what is your name?\\nAI: my name is AIBot\\nHuman: what is your name?',\n",
              " 'System: Act as an expert in real estate and provide very detailed answers with examples\\nHuman: what is your name?\\nAI: my name is AIBot\\nHuman: explain commercial real estate to me']"
            ]
          },
          "metadata": {},
          "execution_count": 28
        }
      ]
    },
    {
      "cell_type": "code",
      "source": [
        "responses = chatgpt.map().invoke(chat_prompts)\n",
        "for response in responses:\n",
        "  print(response.content)\n",
        "  print('-----')"
      ],
      "metadata": {
        "colab": {
          "base_uri": "https://localhost:8080/"
        },
        "id": "UkHhWBpLh0Bd",
        "outputId": "48de2818-50ef-4c90-f91f-cce46de90268"
      },
      "execution_count": 29,
      "outputs": [
        {
          "output_type": "stream",
          "name": "stdout",
          "text": [
            "AI: My name is AIBot, and I am an expert in real estate. How can I assist you today?\n",
            "-----\n",
            "AI: Commercial real estate refers to properties that are used for business purposes, such as office buildings, retail spaces, industrial facilities, and hotels. These properties are typically leased or rented out to businesses or individuals for commercial use. Commercial real estate can be a lucrative investment opportunity for individuals or companies looking to generate rental income or increase their asset portfolio.\n",
            "\n",
            "For example, a company may purchase an office building in a prime location to lease out to other businesses. The rental income generated from leasing out the office spaces can provide a steady stream of revenue for the company. Additionally, the value of the property may appreciate over time, allowing the company to sell the property at a profit in the future.\n",
            "\n",
            "Commercial real estate can also involve more complex transactions, such as development projects or property management. Developers may purchase land to build a new shopping center, while property managers may oversee the day-to-day operations of a commercial building, such as maintenance, leasing, and tenant relations.\n",
            "\n",
            "Overall, commercial real estate offers a variety of investment opportunities and can be a key component of a diversified investment portfolio.\n",
            "-----\n"
          ]
        }
      ]
    },
    {
      "cell_type": "markdown",
      "source": [
        "#### PromptTemplate and ChatPromptTemplate supports LCEL\n",
        "\n",
        "`PromptTemplate` and `ChatPromptTemplate` implement the [Runnable interface](https://python.langchain.com/v0.1/docs/expression_language/interface/), the basic building block of the LangChain Expression Language (LCEL). This means they support `invoke`, `ainvoke`, `stream`, `astream`, `batch`, `abatch`, `astream_log` calls.\n",
        "\n",
        "`PromptTemplate` accepts a dictionary (of the prompt variables) and returns a `StringPromptValue`. A `ChatPromptTemplate` accepts a dictionary and returns a `ChatPromptValue`."
      ],
      "metadata": {
        "id": "SWqRWpBIhz-T"
      }
    },
    {
      "cell_type": "code",
      "source": [
        "text_prompts = [\"what is your name?\", \"explain commercial real estate to me\"]\n",
        "chat_prompts = [chat_template.invoke({'user_prompt' : prompt}) for prompt in text_prompts]\n",
        "chat_prompts"
      ],
      "metadata": {
        "colab": {
          "base_uri": "https://localhost:8080/"
        },
        "id": "iSFqRoiUhz7l",
        "outputId": "0fc59643-810f-4d8b-ec20-5ba6a04efd29"
      },
      "execution_count": 30,
      "outputs": [
        {
          "output_type": "execute_result",
          "data": {
            "text/plain": [
              "[ChatPromptValue(messages=[SystemMessage(content='Act as an expert in real estate and provide very detailed answers with examples'), HumanMessage(content='what is your name?'), AIMessage(content='my name is AIBot'), HumanMessage(content='what is your name?')]),\n",
              " ChatPromptValue(messages=[SystemMessage(content='Act as an expert in real estate and provide very detailed answers with examples'), HumanMessage(content='what is your name?'), AIMessage(content='my name is AIBot'), HumanMessage(content='explain commercial real estate to me')])]"
            ]
          },
          "metadata": {},
          "execution_count": 30
        }
      ]
    },
    {
      "cell_type": "code",
      "source": [
        "chat_prompts[1]"
      ],
      "metadata": {
        "colab": {
          "base_uri": "https://localhost:8080/"
        },
        "id": "udNq96c5hz5D",
        "outputId": "7ec1ddd7-8609-4220-b298-e18c458e58fa"
      },
      "execution_count": 31,
      "outputs": [
        {
          "output_type": "execute_result",
          "data": {
            "text/plain": [
              "ChatPromptValue(messages=[SystemMessage(content='Act as an expert in real estate and provide very detailed answers with examples'), HumanMessage(content='what is your name?'), AIMessage(content='my name is AIBot'), HumanMessage(content='explain commercial real estate to me')])"
            ]
          },
          "metadata": {},
          "execution_count": 31
        }
      ]
    },
    {
      "cell_type": "code",
      "source": [
        "print(chat_prompts[1].to_string())"
      ],
      "metadata": {
        "colab": {
          "base_uri": "https://localhost:8080/"
        },
        "id": "-mbm1Q2hhz2Z",
        "outputId": "e32b155c-53d4-42bb-c78a-9704f47e329b"
      },
      "execution_count": 32,
      "outputs": [
        {
          "output_type": "stream",
          "name": "stdout",
          "text": [
            "System: Act as an expert in real estate and provide very detailed answers with examples\n",
            "Human: what is your name?\n",
            "AI: my name is AIBot\n",
            "Human: explain commercial real estate to me\n"
          ]
        }
      ]
    },
    {
      "cell_type": "code",
      "source": [
        "chat_prompts[1].to_messages()"
      ],
      "metadata": {
        "colab": {
          "base_uri": "https://localhost:8080/"
        },
        "id": "dIZggaI8hzz2",
        "outputId": "f7909ff3-72ab-45aa-e312-33493156b185"
      },
      "execution_count": 33,
      "outputs": [
        {
          "output_type": "execute_result",
          "data": {
            "text/plain": [
              "[SystemMessage(content='Act as an expert in real estate and provide very detailed answers with examples'),\n",
              " HumanMessage(content='what is your name?'),\n",
              " AIMessage(content='my name is AIBot'),\n",
              " HumanMessage(content='explain commercial real estate to me')]"
            ]
          },
          "metadata": {},
          "execution_count": 33
        }
      ]
    },
    {
      "cell_type": "code",
      "source": [
        "responses = chatgpt.map().invoke(chat_prompts)\n",
        "for response in responses:\n",
        "  print(response.content)\n",
        "  print('-----')"
      ],
      "metadata": {
        "colab": {
          "base_uri": "https://localhost:8080/"
        },
        "id": "1XPsmzXchzxj",
        "outputId": "43f92770-e48f-492a-b1e9-ef88d1016680"
      },
      "execution_count": 34,
      "outputs": [
        {
          "output_type": "stream",
          "name": "stdout",
          "text": [
            "My name is AIBot\n",
            "-----\n",
            "Commercial real estate refers to properties that are used for business purposes, such as office buildings, retail spaces, industrial facilities, and multifamily apartment buildings. These properties are typically leased or rented out to businesses or individuals for commercial use.\n",
            "\n",
            "Commercial real estate can be a lucrative investment opportunity for individuals or companies looking to generate rental income or capital appreciation. The value of commercial properties is often determined by factors such as location, size, condition, and potential for rental income.\n",
            "\n",
            "There are different types of commercial real estate properties, each with its own unique characteristics and considerations:\n",
            "\n",
            "1. Office Buildings: These properties are used for professional and administrative workspaces. They can range from single-tenant buildings to multi-tenant office parks.\n",
            "\n",
            "2. Retail Spaces: These properties are used for selling goods and services to consumers. They can include shopping centers, strip malls, standalone retail stores, and restaurants.\n",
            "\n",
            "3. Industrial Facilities: These properties are used for manufacturing, warehousing, distribution, and other industrial activities. They can include warehouses, manufacturing plants, distribution centers, and flex spaces.\n",
            "\n",
            "4. Multifamily Apartment Buildings: These properties consist of multiple residential units that are rented out to tenants. They can range from small apartment buildings to large multifamily complexes.\n",
            "\n",
            "Investing in commercial real estate requires a thorough understanding of market trends, property management, financing options, and legal considerations. It is important to conduct thorough due diligence and work with experienced professionals, such as real estate agents, property managers, and attorneys, to ensure a successful investment.\n",
            "\n",
            "For example, a real estate investor may purchase a retail space in a high-traffic area with strong demographics and lease it to a popular retail chain. The investor can generate rental income from the tenant and potentially benefit from property appreciation over time.\n",
            "\n",
            "Overall, commercial real estate offers investors the opportunity to diversify their investment portfolio, generate passive income, and build long-term wealth through property ownership.\n",
            "-----\n"
          ]
        }
      ]
    },
    {
      "cell_type": "markdown",
      "source": [
        "# Few Shot Chat Message Prompt Template"
      ],
      "metadata": {
        "id": "XmsUECe6hzvQ"
      }
    },
    {
      "cell_type": "code",
      "source": [
        "from langchain_core.prompts import ChatPromptTemplate, FewShotChatMessagePromptTemplate\n",
        "\n",
        "example_data = [\n",
        "    (\"\"\"Wimbledon 2023 Women’s Final.\n",
        "    Marketa Vondrousova beats Ons Jabeur to win her maiden Grand Slam title\"\"\",\n",
        "     'Sports'),\n",
        "    (\"\"\"It's time to call it a day as India had another medal-laden day at the Asian Athletics Championships\n",
        "    in Bangkok. Murali Sreeshankar's Olympic qualifying jump grabbed the limelight while 400m mixed relay\n",
        "    team added's India's sixth gold medal! There will be plenty of medals up for grab on the final day of\n",
        "    the tournament as well with Jyothi Yarraji, women's and men's 400m relay teams in action\"\"\",\n",
        "     'Sports'),\n",
        "    (\"\"\"Kicking things off with the Galaxy Tab S9 FE Plus. It's going to be powered by the Exynos 1380\n",
        "    with 8GB of RAM, and pack a 12.4-inch display. The slate will measure 285.4 x 185.4 x 6.54 mm and\n",
        "    feature dual speakers, a side-mounted fingerprint sensor. It will come in Grey, Light Green,\n",
        "    Light Pink, and Silver color options.\"\"\",\n",
        "     'Technology'),\n",
        "    (\"\"\"The share of the cigarette business to ITC’s business in revenue terms has dropped from 47\n",
        "    per cent in FY13 to 37 per cent in FY23 on a larger revenue base.\n",
        "    According to the company’s most recent annual report, the leadership position has been sustained\n",
        "    \"through its unwavering focus on nurturing a future-ready portfolio of world-class products anchored on\n",
        "    its integrated seed to smoke value chain, superior consumer insights, robust innovation pipeline and\n",
        "    world-class product development capabilities.\" \"\"\",\n",
        "     'Business')\n",
        "]\n",
        "\n",
        "example_data"
      ],
      "metadata": {
        "colab": {
          "base_uri": "https://localhost:8080/"
        },
        "id": "DxNllseQhzsv",
        "outputId": "ae20d15b-a608-480e-bcd3-bb1005a75875"
      },
      "execution_count": 35,
      "outputs": [
        {
          "output_type": "execute_result",
          "data": {
            "text/plain": [
              "[('Wimbledon 2023 Women’s Final.\\n    Marketa Vondrousova beats Ons Jabeur to win her maiden Grand Slam title',\n",
              "  'Sports'),\n",
              " (\"It's time to call it a day as India had another medal-laden day at the Asian Athletics Championships\\n    in Bangkok. Murali Sreeshankar's Olympic qualifying jump grabbed the limelight while 400m mixed relay\\n    team added's India's sixth gold medal! There will be plenty of medals up for grab on the final day of\\n    the tournament as well with Jyothi Yarraji, women's and men's 400m relay teams in action\",\n",
              "  'Sports'),\n",
              " (\"Kicking things off with the Galaxy Tab S9 FE Plus. It's going to be powered by the Exynos 1380\\n    with 8GB of RAM, and pack a 12.4-inch display. The slate will measure 285.4 x 185.4 x 6.54 mm and\\n    feature dual speakers, a side-mounted fingerprint sensor. It will come in Grey, Light Green,\\n    Light Pink, and Silver color options.\",\n",
              "  'Technology'),\n",
              " ('The share of the cigarette business to ITC’s business in revenue terms has dropped from 47\\n    per cent in FY13 to 37 per cent in FY23 on a larger revenue base.\\n    According to the company’s most recent annual report, the leadership position has been sustained\\n    \"through its unwavering focus on nurturing a future-ready portfolio of world-class products anchored on\\n    its integrated seed to smoke value chain, superior consumer insights, robust innovation pipeline and\\n    world-class product development capabilities.\" ',\n",
              "  'Business')]"
            ]
          },
          "metadata": {},
          "execution_count": 35
        }
      ]
    },
    {
      "cell_type": "code",
      "source": [
        "example_data_formatted = [{\"input\": input, \"output\": output}\n",
        "                            for input, output in example_data]\n",
        "example_data_formatted"
      ],
      "metadata": {
        "colab": {
          "base_uri": "https://localhost:8080/"
        },
        "id": "doPoMzHZhzqJ",
        "outputId": "f25dc0f9-e8b2-48fc-8ada-452a9426f59d"
      },
      "execution_count": 36,
      "outputs": [
        {
          "output_type": "execute_result",
          "data": {
            "text/plain": [
              "[{'input': 'Wimbledon 2023 Women’s Final.\\n    Marketa Vondrousova beats Ons Jabeur to win her maiden Grand Slam title',\n",
              "  'output': 'Sports'},\n",
              " {'input': \"It's time to call it a day as India had another medal-laden day at the Asian Athletics Championships\\n    in Bangkok. Murali Sreeshankar's Olympic qualifying jump grabbed the limelight while 400m mixed relay\\n    team added's India's sixth gold medal! There will be plenty of medals up for grab on the final day of\\n    the tournament as well with Jyothi Yarraji, women's and men's 400m relay teams in action\",\n",
              "  'output': 'Sports'},\n",
              " {'input': \"Kicking things off with the Galaxy Tab S9 FE Plus. It's going to be powered by the Exynos 1380\\n    with 8GB of RAM, and pack a 12.4-inch display. The slate will measure 285.4 x 185.4 x 6.54 mm and\\n    feature dual speakers, a side-mounted fingerprint sensor. It will come in Grey, Light Green,\\n    Light Pink, and Silver color options.\",\n",
              "  'output': 'Technology'},\n",
              " {'input': 'The share of the cigarette business to ITC’s business in revenue terms has dropped from 47\\n    per cent in FY13 to 37 per cent in FY23 on a larger revenue base.\\n    According to the company’s most recent annual report, the leadership position has been sustained\\n    \"through its unwavering focus on nurturing a future-ready portfolio of world-class products anchored on\\n    its integrated seed to smoke value chain, superior consumer insights, robust innovation pipeline and\\n    world-class product development capabilities.\" ',\n",
              "  'output': 'Business'}]"
            ]
          },
          "metadata": {},
          "execution_count": 36
        }
      ]
    },
    {
      "cell_type": "code",
      "source": [
        "data_prompt = ChatPromptTemplate.from_messages(\n",
        "    [\n",
        "        (\"human\", \"{input}\"),\n",
        "        (\"ai\", \"{output}\"),\n",
        "    ]\n",
        ")\n",
        "\n",
        "few_shot_prompt = FewShotChatMessagePromptTemplate(\n",
        "    example_prompt=data_prompt,\n",
        "    examples=example_data_formatted,\n",
        ")\n",
        "\n",
        "few_shot_prompt"
      ],
      "metadata": {
        "colab": {
          "base_uri": "https://localhost:8080/"
        },
        "id": "MO9gr9TYhznv",
        "outputId": "45599ee2-e70f-40bb-d7b2-7ee59d11f1cc"
      },
      "execution_count": 37,
      "outputs": [
        {
          "output_type": "execute_result",
          "data": {
            "text/plain": [
              "FewShotChatMessagePromptTemplate(examples=[{'input': 'Wimbledon 2023 Women’s Final.\\n    Marketa Vondrousova beats Ons Jabeur to win her maiden Grand Slam title', 'output': 'Sports'}, {'input': \"It's time to call it a day as India had another medal-laden day at the Asian Athletics Championships\\n    in Bangkok. Murali Sreeshankar's Olympic qualifying jump grabbed the limelight while 400m mixed relay\\n    team added's India's sixth gold medal! There will be plenty of medals up for grab on the final day of\\n    the tournament as well with Jyothi Yarraji, women's and men's 400m relay teams in action\", 'output': 'Sports'}, {'input': \"Kicking things off with the Galaxy Tab S9 FE Plus. It's going to be powered by the Exynos 1380\\n    with 8GB of RAM, and pack a 12.4-inch display. The slate will measure 285.4 x 185.4 x 6.54 mm and\\n    feature dual speakers, a side-mounted fingerprint sensor. It will come in Grey, Light Green,\\n    Light Pink, and Silver color options.\", 'output': 'Technology'}, {'input': 'The share of the cigarette business to ITC’s business in revenue terms has dropped from 47\\n    per cent in FY13 to 37 per cent in FY23 on a larger revenue base.\\n    According to the company’s most recent annual report, the leadership position has been sustained\\n    \"through its unwavering focus on nurturing a future-ready portfolio of world-class products anchored on\\n    its integrated seed to smoke value chain, superior consumer insights, robust innovation pipeline and\\n    world-class product development capabilities.\" ', 'output': 'Business'}], example_prompt=ChatPromptTemplate(input_variables=['input', 'output'], messages=[HumanMessagePromptTemplate(prompt=PromptTemplate(input_variables=['input'], template='{input}')), AIMessagePromptTemplate(prompt=PromptTemplate(input_variables=['output'], template='{output}'))]))"
            ]
          },
          "metadata": {},
          "execution_count": 37
        }
      ]
    },
    {
      "cell_type": "code",
      "source": [
        "print(few_shot_prompt.format())"
      ],
      "metadata": {
        "colab": {
          "base_uri": "https://localhost:8080/"
        },
        "id": "7uxjvA6NoGmS",
        "outputId": "96d055b0-bb3f-4491-b8eb-9028ed38cbcf"
      },
      "execution_count": 38,
      "outputs": [
        {
          "output_type": "stream",
          "name": "stdout",
          "text": [
            "Human: Wimbledon 2023 Women’s Final.\n",
            "    Marketa Vondrousova beats Ons Jabeur to win her maiden Grand Slam title\n",
            "AI: Sports\n",
            "Human: It's time to call it a day as India had another medal-laden day at the Asian Athletics Championships\n",
            "    in Bangkok. Murali Sreeshankar's Olympic qualifying jump grabbed the limelight while 400m mixed relay\n",
            "    team added's India's sixth gold medal! There will be plenty of medals up for grab on the final day of\n",
            "    the tournament as well with Jyothi Yarraji, women's and men's 400m relay teams in action\n",
            "AI: Sports\n",
            "Human: Kicking things off with the Galaxy Tab S9 FE Plus. It's going to be powered by the Exynos 1380\n",
            "    with 8GB of RAM, and pack a 12.4-inch display. The slate will measure 285.4 x 185.4 x 6.54 mm and\n",
            "    feature dual speakers, a side-mounted fingerprint sensor. It will come in Grey, Light Green,\n",
            "    Light Pink, and Silver color options.\n",
            "AI: Technology\n",
            "Human: The share of the cigarette business to ITC’s business in revenue terms has dropped from 47\n",
            "    per cent in FY13 to 37 per cent in FY23 on a larger revenue base.\n",
            "    According to the company’s most recent annual report, the leadership position has been sustained\n",
            "    \"through its unwavering focus on nurturing a future-ready portfolio of world-class products anchored on\n",
            "    its integrated seed to smoke value chain, superior consumer insights, robust innovation pipeline and\n",
            "    world-class product development capabilities.\" \n",
            "AI: Business\n"
          ]
        }
      ]
    },
    {
      "cell_type": "code",
      "source": [
        "final_prompt_template = ChatPromptTemplate.from_messages(\n",
        "    [\n",
        "        (\"system\", \"Classify every new news article using a similar format as shown below\"),\n",
        "        few_shot_prompt,\n",
        "        (\"human\", \"{input}\"),\n",
        "    ]\n",
        ")\n",
        "final_prompt_template"
      ],
      "metadata": {
        "colab": {
          "base_uri": "https://localhost:8080/"
        },
        "id": "bIPfYn8YoLnK",
        "outputId": "1f1f059b-5526-4e00-c9aa-d83fe36ab481"
      },
      "execution_count": 39,
      "outputs": [
        {
          "output_type": "execute_result",
          "data": {
            "text/plain": [
              "ChatPromptTemplate(input_variables=['input'], messages=[SystemMessagePromptTemplate(prompt=PromptTemplate(input_variables=[], template='Classify every new news article using a similar format as shown below')), FewShotChatMessagePromptTemplate(examples=[{'input': 'Wimbledon 2023 Women’s Final.\\n    Marketa Vondrousova beats Ons Jabeur to win her maiden Grand Slam title', 'output': 'Sports'}, {'input': \"It's time to call it a day as India had another medal-laden day at the Asian Athletics Championships\\n    in Bangkok. Murali Sreeshankar's Olympic qualifying jump grabbed the limelight while 400m mixed relay\\n    team added's India's sixth gold medal! There will be plenty of medals up for grab on the final day of\\n    the tournament as well with Jyothi Yarraji, women's and men's 400m relay teams in action\", 'output': 'Sports'}, {'input': \"Kicking things off with the Galaxy Tab S9 FE Plus. It's going to be powered by the Exynos 1380\\n    with 8GB of RAM, and pack a 12.4-inch display. The slate will measure 285.4 x 185.4 x 6.54 mm and\\n    feature dual speakers, a side-mounted fingerprint sensor. It will come in Grey, Light Green,\\n    Light Pink, and Silver color options.\", 'output': 'Technology'}, {'input': 'The share of the cigarette business to ITC’s business in revenue terms has dropped from 47\\n    per cent in FY13 to 37 per cent in FY23 on a larger revenue base.\\n    According to the company’s most recent annual report, the leadership position has been sustained\\n    \"through its unwavering focus on nurturing a future-ready portfolio of world-class products anchored on\\n    its integrated seed to smoke value chain, superior consumer insights, robust innovation pipeline and\\n    world-class product development capabilities.\" ', 'output': 'Business'}], example_prompt=ChatPromptTemplate(input_variables=['input', 'output'], messages=[HumanMessagePromptTemplate(prompt=PromptTemplate(input_variables=['input'], template='{input}')), AIMessagePromptTemplate(prompt=PromptTemplate(input_variables=['output'], template='{output}'))])), HumanMessagePromptTemplate(prompt=PromptTemplate(input_variables=['input'], template='{input}'))])"
            ]
          },
          "metadata": {},
          "execution_count": 39
        }
      ]
    },
    {
      "cell_type": "code",
      "source": [
        "docs = [\"\"\"Arsenal finally completed the signing of Rice as they announced the player's arrival on Saturday.\n",
        "Right after completing his move, Rice revealed that he is a great admirer of Arteta\n",
        "and that the Spaniard's presence in the Arsenal dressing room is one of the main reasons\n",
        "why he decided to join the North London club.\"\"\",\n",
        "        \"\"\"A heat wave sweeping across Europe is prompting health warnings as millions\n",
        "        of people endure sweltering temperatures. Italy has issued red alerts in 16 cities with\n",
        "        the country's weather centre warning of record heat especially in southern regions.\n",
        "        Parts of Greece are forecast to hit highs of 44 degrees celsius, while France,\n",
        "        Germany, Spain and Poland are also enduring extreme temperatures.\n",
        "        Scientists say greenhouse gases and the El Niño weather pattern are raising global temperatures.\n",
        "        \"\"\"]\n",
        "\n",
        "final_prompts = [final_prompt_template.format(input=doc) for doc in docs]\n",
        "responses = chatgpt.map().invoke(final_prompts)"
      ],
      "metadata": {
        "id": "a9B3-782oQ3E"
      },
      "execution_count": 40,
      "outputs": []
    },
    {
      "cell_type": "code",
      "source": [
        "responses[0]"
      ],
      "metadata": {
        "colab": {
          "base_uri": "https://localhost:8080/"
        },
        "id": "BT9syWZJoW1O",
        "outputId": "a11cd4dd-8c6c-4cb1-bdc1-fe492ae8bae9"
      },
      "execution_count": 41,
      "outputs": [
        {
          "output_type": "execute_result",
          "data": {
            "text/plain": [
              "AIMessage(content='AI: Sports', response_metadata={'token_usage': {'completion_tokens': 3, 'prompt_tokens': 445, 'total_tokens': 448, 'completion_tokens_details': {'audio_tokens': None, 'reasoning_tokens': 0}, 'prompt_tokens_details': {'audio_tokens': None, 'cached_tokens': 0}}, 'model_name': 'gpt-3.5-turbo', 'system_fingerprint': None, 'finish_reason': 'stop', 'logprobs': None}, id='run-e71c1958-280e-4acd-b01a-245c6f5a04b3-0')"
            ]
          },
          "metadata": {},
          "execution_count": 41
        }
      ]
    },
    {
      "cell_type": "code",
      "source": [
        "for response in responses:\n",
        "  print(response.content)\n",
        "  print('-----')"
      ],
      "metadata": {
        "colab": {
          "base_uri": "https://localhost:8080/"
        },
        "id": "nzdhLOhLoY52",
        "outputId": "976d9c76-0e4b-4692-fecb-c697521c6b14"
      },
      "execution_count": 42,
      "outputs": [
        {
          "output_type": "stream",
          "name": "stdout",
          "text": [
            "AI: Sports\n",
            "-----\n",
            "AI: Environment\n",
            "-----\n"
          ]
        }
      ]
    },
    {
      "cell_type": "markdown",
      "source": [
        "# Partial Prompt Template"
      ],
      "metadata": {
        "id": "ue0fgt1iofKL"
      }
    },
    {
      "cell_type": "code",
      "source": [
        "from datetime import datetime\n",
        "\n",
        "def _get_datetime():\n",
        "    now = datetime.now()\n",
        "    return now.strftime(\"%m/%d/%Y\")"
      ],
      "metadata": {
        "id": "KTJUfrY0oi7c"
      },
      "execution_count": 43,
      "outputs": []
    },
    {
      "cell_type": "code",
      "source": [
        "prompt_txt = \"\"\"Tell me a joke about {topic} on the day {date}\"\"\"\n",
        "prompt = ChatPromptTemplate.from_template(prompt_txt)\n",
        "prompt"
      ],
      "metadata": {
        "colab": {
          "base_uri": "https://localhost:8080/"
        },
        "id": "80V2xh8WorCH",
        "outputId": "076b7bff-91f6-4319-8a8d-1bfb91560eef"
      },
      "execution_count": 45,
      "outputs": [
        {
          "output_type": "execute_result",
          "data": {
            "text/plain": [
              "ChatPromptTemplate(input_variables=['date', 'topic'], messages=[HumanMessagePromptTemplate(prompt=PromptTemplate(input_variables=['date', 'topic'], template='Tell me a joke about {topic} on the day {date}'))])"
            ]
          },
          "metadata": {},
          "execution_count": 45
        }
      ]
    },
    {
      "cell_type": "code",
      "source": [
        "prompt = prompt.partial(date=_get_datetime)\n",
        "prompt"
      ],
      "metadata": {
        "colab": {
          "base_uri": "https://localhost:8080/"
        },
        "id": "ubLFJJ5NouAB",
        "outputId": "1081ad0e-5dfd-45c8-ebaa-3ae16efed0bc"
      },
      "execution_count": 46,
      "outputs": [
        {
          "output_type": "execute_result",
          "data": {
            "text/plain": [
              "ChatPromptTemplate(input_variables=['topic'], partial_variables={'date': <function _get_datetime at 0x7bdfae6b7640>}, messages=[HumanMessagePromptTemplate(prompt=PromptTemplate(input_variables=['date', 'topic'], template='Tell me a joke about {topic} on the day {date}'))])"
            ]
          },
          "metadata": {},
          "execution_count": 46
        }
      ]
    },
    {
      "cell_type": "code",
      "source": [
        "topics = ['Engineers', 'Statisticians']\n",
        "final_prompts = [prompt.format(topic=topic) for topic in topics]\n",
        "final_prompts"
      ],
      "metadata": {
        "colab": {
          "base_uri": "https://localhost:8080/"
        },
        "id": "342pu4Q2o0AU",
        "outputId": "f1d9cb60-b113-44ff-b201-edf9e7a9c0c3"
      },
      "execution_count": 47,
      "outputs": [
        {
          "output_type": "execute_result",
          "data": {
            "text/plain": [
              "['Human: Tell me a joke about Engineers on the day 10/24/2024',\n",
              " 'Human: Tell me a joke about Statisticians on the day 10/24/2024']"
            ]
          },
          "metadata": {},
          "execution_count": 47
        }
      ]
    },
    {
      "cell_type": "code",
      "source": [
        "responses = chatgpt.map().invoke(final_prompts)\n",
        "for response in responses:\n",
        "  print(response.content)\n",
        "  print('-----')"
      ],
      "metadata": {
        "colab": {
          "base_uri": "https://localhost:8080/"
        },
        "id": "PAYOUQYBo3oI",
        "outputId": "fbcfa36a-d5d7-4757-9237-13715ccc6c53"
      },
      "execution_count": 48,
      "outputs": [
        {
          "output_type": "stream",
          "name": "stdout",
          "text": [
            "Why did the engineer bring a pencil to the meeting on 10/24/2024? \n",
            "\n",
            "In case they needed to draw some \"blueprints\" for their Halloween costume!\n",
            "-----\n",
            "Why did the statistician bring a ladder to the 10/24/2024 party? Because they heard the data was going to be off the charts!\n",
            "-----\n"
          ]
        }
      ]
    }
  ]
}