{
  "nbformat": 4,
  "nbformat_minor": 0,
  "metadata": {
    "colab": {
      "provenance": []
    },
    "kernelspec": {
      "name": "python3",
      "display_name": "Python 3"
    },
    "language_info": {
      "name": "python"
    }
  },
  "cells": [
    {
      "cell_type": "code",
      "execution_count": 1,
      "metadata": {
        "colab": {
          "base_uri": "https://localhost:8080/"
        },
        "id": "TD2RA5MknoKb",
        "outputId": "829e6f36-8548-49ef-c63c-71b9108effc5"
      },
      "outputs": [
        {
          "output_type": "stream",
          "name": "stdout",
          "text": [
            "\u001b[?25l   \u001b[90m━━━━━━━━━━━━━━━━━━━━━━━━━━━━━━━━━━━━━━━━\u001b[0m \u001b[32m0.0/973.7 kB\u001b[0m \u001b[31m?\u001b[0m eta \u001b[36m-:--:--\u001b[0m\r\u001b[2K   \u001b[91m━━━━━━━━━━━━━━━━━━━━━━━━━━━━━━━━━━━━━━━\u001b[0m\u001b[91m╸\u001b[0m \u001b[32m972.8/973.7 kB\u001b[0m \u001b[31m41.8 MB/s\u001b[0m eta \u001b[36m0:00:01\u001b[0m\r\u001b[2K   \u001b[90m━━━━━━━━━━━━━━━━━━━━━━━━━━━━━━━━━━━━━━━━\u001b[0m \u001b[32m973.7/973.7 kB\u001b[0m \u001b[31m24.4 MB/s\u001b[0m eta \u001b[36m0:00:00\u001b[0m\n",
            "\u001b[2K   \u001b[90m━━━━━━━━━━━━━━━━━━━━━━━━━━━━━━━━━━━━━━━━\u001b[0m \u001b[32m397.1/397.1 kB\u001b[0m \u001b[31m25.3 MB/s\u001b[0m eta \u001b[36m0:00:00\u001b[0m\n",
            "\u001b[2K   \u001b[90m━━━━━━━━━━━━━━━━━━━━━━━━━━━━━━━━━━━━━━━━\u001b[0m \u001b[32m311.8/311.8 kB\u001b[0m \u001b[31m19.3 MB/s\u001b[0m eta \u001b[36m0:00:00\u001b[0m\n",
            "\u001b[2K   \u001b[90m━━━━━━━━━━━━━━━━━━━━━━━━━━━━━━━━━━━━━━━━\u001b[0m \u001b[32m50.8/50.8 kB\u001b[0m \u001b[31m3.1 MB/s\u001b[0m eta \u001b[36m0:00:00\u001b[0m\n",
            "\u001b[2K   \u001b[90m━━━━━━━━━━━━━━━━━━━━━━━━━━━━━━━━━━━━━━━━\u001b[0m \u001b[32m1.2/1.2 MB\u001b[0m \u001b[31m20.9 MB/s\u001b[0m eta \u001b[36m0:00:00\u001b[0m\n",
            "\u001b[2K   \u001b[90m━━━━━━━━━━━━━━━━━━━━━━━━━━━━━━━━━━━━━━━━\u001b[0m \u001b[32m2.1/2.1 MB\u001b[0m \u001b[31m25.0 MB/s\u001b[0m eta \u001b[36m0:00:00\u001b[0m\n",
            "\u001b[?25h"
          ]
        }
      ],
      "source": [
        "!pip install langchain==0.2.0 --quiet\n",
        "!pip install langchain-openai==0.1.7 --quiet\n",
        "!pip install langchain-community==0.2.0 --quiet"
      ]
    },
    {
      "cell_type": "code",
      "source": [
        "import os\n",
        "from google.colab import userdata\n",
        "\n",
        "os.environ['OPENAI_API_KEY'] = userdata.get('OPEN_API_KEY')\n",
        "os.environ['HUGGINGFACEHUB_API_TOKEN'] = userdata.get('HF_TOKEN')"
      ],
      "metadata": {
        "id": "BacE5ukaoBp-"
      },
      "execution_count": 2,
      "outputs": []
    },
    {
      "cell_type": "code",
      "source": [
        "from langchain_openai import ChatOpenAI\n",
        "\n",
        "chatgpt = ChatOpenAI(model_name='gpt-3.5-turbo', temperature=0)"
      ],
      "metadata": {
        "id": "EC2K1V6boEm3"
      },
      "execution_count": 3,
      "outputs": []
    },
    {
      "cell_type": "markdown",
      "source": [
        "## Linking Multiple Chains Sequentially in LCEL\n",
        "\n",
        "Here we will see how we can link several LLM Chains sequentially using LCEL.\n",
        "\n",
        "Typically the output from one chain might go as input into the next chain and so on.\n",
        "\n",
        "The overall chain would run each chain sequentially in order till we get the final output which can be a combination of intermediate outputs and inputs from the previous chains."
      ],
      "metadata": {
        "id": "30qGEepjoH96"
      }
    },
    {
      "cell_type": "code",
      "source": [
        "it_support_queue = [\n",
        "    \"I can't access my email. It keeps showing an error message. Please help.\",\n",
        "    \"Tengo problemas con la VPN. No puedo conectarme a la red de la empresa. ¿Pueden ayudarme, por favor?\",\n",
        "    \"Mon imprimante ne répond pas et n'imprime plus. J'ai besoin d'aide pour la réparer.\",\n",
        "    \"我无法访问公司的网站。每次都显示错误信息。请帮忙解决。\"\n",
        "]\n",
        "\n",
        "it_support_queue"
      ],
      "metadata": {
        "colab": {
          "base_uri": "https://localhost:8080/"
        },
        "id": "ogKwe3omoIWb",
        "outputId": "ec21ec75-1dc2-4336-a1e5-b39626400f21"
      },
      "execution_count": 4,
      "outputs": [
        {
          "output_type": "execute_result",
          "data": {
            "text/plain": [
              "[\"I can't access my email. It keeps showing an error message. Please help.\",\n",
              " 'Tengo problemas con la VPN. No puedo conectarme a la red de la empresa. ¿Pueden ayudarme, por favor?',\n",
              " \"Mon imprimante ne répond pas et n'imprime plus. J'ai besoin d'aide pour la réparer.\",\n",
              " '我无法访问公司的网站。每次都显示错误信息。请帮忙解决。']"
            ]
          },
          "metadata": {},
          "execution_count": 4
        }
      ]
    },
    {
      "cell_type": "code",
      "source": [
        "from langchain_core.prompts import ChatPromptTemplate\n",
        "from langchain_core.output_parsers import StrOutputParser\n",
        "\n",
        "# Chain 1: Detect customer message language\n",
        "prompt1 = \"\"\"\n",
        "  Act as a customer support agent.\n",
        "  For the customer support message delimited below by triple backticks,\n",
        "  Output the language of the message in one word only, e.g. Spanish\n",
        "\n",
        "  Customer Message:\n",
        "  ```{orig_msg}```\n",
        "\"\"\"\n",
        "prompt_template1 = ChatPromptTemplate.from_template(prompt1)\n",
        "llm_chain1 = (prompt_template1\n",
        "                  |\n",
        "              chatgpt\n",
        "                  |\n",
        "              StrOutputParser())"
      ],
      "metadata": {
        "id": "L9Ce03-7owtz"
      },
      "execution_count": 5,
      "outputs": []
    },
    {
      "cell_type": "code",
      "source": [
        "prompt_template1"
      ],
      "metadata": {
        "colab": {
          "base_uri": "https://localhost:8080/"
        },
        "id": "e1dYrCg_o7IV",
        "outputId": "4a8f1d86-8208-4f8b-bafd-cdd650f4fdb2"
      },
      "execution_count": 6,
      "outputs": [
        {
          "output_type": "execute_result",
          "data": {
            "text/plain": [
              "ChatPromptTemplate(input_variables=['orig_msg'], messages=[HumanMessagePromptTemplate(prompt=PromptTemplate(input_variables=['orig_msg'], template='\\n  Act as a customer support agent.\\n  For the customer support message delimited below by triple backticks,\\n  Output the language of the message in one word only, e.g. Spanish\\n\\n  Customer Message:\\n  ```{orig_msg}```\\n'))])"
            ]
          },
          "metadata": {},
          "execution_count": 6
        }
      ]
    },
    {
      "cell_type": "code",
      "source": [
        "it_support_queue[1]"
      ],
      "metadata": {
        "colab": {
          "base_uri": "https://localhost:8080/",
          "height": 36
        },
        "id": "InGmQEgbo-7D",
        "outputId": "714ec40d-63b3-4a32-ff70-5d36fdd828d5"
      },
      "execution_count": 7,
      "outputs": [
        {
          "output_type": "execute_result",
          "data": {
            "text/plain": [
              "'Tengo problemas con la VPN. No puedo conectarme a la red de la empresa. ¿Pueden ayudarme, por favor?'"
            ],
            "application/vnd.google.colaboratory.intrinsic+json": {
              "type": "string"
            }
          },
          "metadata": {},
          "execution_count": 7
        }
      ]
    },
    {
      "cell_type": "code",
      "source": [
        "llm_chain1.invoke({'orig_msg': it_support_queue[1]})"
      ],
      "metadata": {
        "colab": {
          "base_uri": "https://localhost:8080/",
          "height": 36
        },
        "id": "4Uwy5TiCpm1N",
        "outputId": "b735ec88-a63a-4368-8f69-ad60bcddb8d6"
      },
      "execution_count": 8,
      "outputs": [
        {
          "output_type": "execute_result",
          "data": {
            "text/plain": [
              "'Spanish'"
            ],
            "application/vnd.google.colaboratory.intrinsic+json": {
              "type": "string"
            }
          },
          "metadata": {},
          "execution_count": 8
        }
      ]
    },
    {
      "cell_type": "code",
      "source": [
        "from langchain.schema.runnable import RunnablePassthrough\n",
        "\n",
        "RunnablePassthrough.assign(orig_lang=llm_chain1).invoke({'orig_msg': it_support_queue[1]})"
      ],
      "metadata": {
        "colab": {
          "base_uri": "https://localhost:8080/"
        },
        "id": "bn8zYUUHpriq",
        "outputId": "08b0648c-5e2f-42da-9a6e-47b895ca0568"
      },
      "execution_count": 9,
      "outputs": [
        {
          "output_type": "execute_result",
          "data": {
            "text/plain": [
              "{'orig_msg': 'Tengo problemas con la VPN. No puedo conectarme a la red de la empresa. ¿Pueden ayudarme, por favor?',\n",
              " 'orig_lang': 'Spanish'}"
            ]
          },
          "metadata": {},
          "execution_count": 9
        }
      ]
    },
    {
      "cell_type": "code",
      "source": [
        "# Chain 2: Translate Customer Message to English\n",
        "prompt2 = \"\"\"\n",
        "  Act as a customer support agent.\n",
        "  For the customer message and customer message language delimited below by triple backticks,\n",
        "  Translate the customer message from the customer message language to English\n",
        "  if customer message language is not in English,\n",
        "  else return back the original customer message.\n",
        "\n",
        "  Customer Message:\n",
        "  ```{orig_msg}```\n",
        "  Customer Message Language:\n",
        "  ```{orig_lang}```\n",
        "\"\"\"\n",
        "prompt_template2 = ChatPromptTemplate.from_template(prompt2)\n",
        "llm_chain2 = (prompt_template2\n",
        "                  |\n",
        "              chatgpt\n",
        "                  |\n",
        "              StrOutputParser())"
      ],
      "metadata": {
        "id": "VD6LX7DZpwR5"
      },
      "execution_count": 10,
      "outputs": []
    },
    {
      "cell_type": "code",
      "source": [
        "RunnablePassthrough.assign(trans_msg=llm_chain2).invoke({'orig_msg': 'Tengo problemas con la VPN. No puedo conectarme a la red de la empresa. ¿Pueden ayudarme, por favor?',\n",
        " 'orig_lang': 'Spanish'})"
      ],
      "metadata": {
        "colab": {
          "base_uri": "https://localhost:8080/"
        },
        "id": "eYIiZlH1ql92",
        "outputId": "f96c4900-1f3b-4273-da80-082f076f7b46"
      },
      "execution_count": 13,
      "outputs": [
        {
          "output_type": "execute_result",
          "data": {
            "text/plain": [
              "{'orig_msg': 'Tengo problemas con la VPN. No puedo conectarme a la red de la empresa. ¿Pueden ayudarme, por favor?',\n",
              " 'orig_lang': 'Spanish',\n",
              " 'trans_msg': \"I'm having issues with the VPN. I can't connect to the company's network. Can you help me, please?\"}"
            ]
          },
          "metadata": {},
          "execution_count": 13
        }
      ]
    },
    {
      "cell_type": "code",
      "source": [
        "# Chain 3: Generate a resolution response in English\n",
        "prompt3 = \"\"\"\n",
        "  Act as a customer support agent.\n",
        "  For the customer support message delimited below by triple backticks,\n",
        "  Generate an appropriate resolution response in English.\n",
        "\n",
        "  Customer Message:\n",
        "  ```{trans_msg}```\n",
        "\"\"\"\n",
        "prompt_template3 = ChatPromptTemplate.from_template(prompt3)\n",
        "llm_chain3 = (prompt_template3\n",
        "                  |\n",
        "              chatgpt\n",
        "                  |\n",
        "              StrOutputParser())"
      ],
      "metadata": {
        "id": "SArjT3gRqNyX"
      },
      "execution_count": 11,
      "outputs": []
    },
    {
      "cell_type": "code",
      "source": [
        "# Chain 4: Translate resolution response from English to Customer's original language\n",
        "prompt4 = \"\"\"\n",
        "  Act as a customer support agent.\n",
        "  For the customer resolution response and target language delimited below by triple backticks,\n",
        "  Translate the customer resolution response message from English to the target language\n",
        "  if target language is not in English,\n",
        "  else return back the original customer resolution response.\n",
        "\n",
        "  Customer Resolution Response:\n",
        "  ```{trans_response}```\n",
        "  Target Language:\n",
        "  ```{orig_lang}```\n",
        "\"\"\"\n",
        "prompt_template4 = ChatPromptTemplate.from_template(prompt4)\n",
        "llm_chain4 = (prompt_template4\n",
        "                  |\n",
        "              chatgpt\n",
        "                  |\n",
        "              StrOutputParser())"
      ],
      "metadata": {
        "id": "xhafycqUqT_v"
      },
      "execution_count": 12,
      "outputs": []
    },
    {
      "cell_type": "code",
      "source": [
        "from langchain.schema.runnable import RunnablePassthrough\n",
        "\n",
        "final_chain = (\n",
        "    RunnablePassthrough.assign(orig_lang=llm_chain1)\n",
        "      |\n",
        "    RunnablePassthrough.assign(trans_msg=llm_chain2)\n",
        "      |\n",
        "    RunnablePassthrough.assign(trans_response=llm_chain3)\n",
        "      |\n",
        "    RunnablePassthrough.assign(orig_response=llm_chain4)\n",
        ")"
      ],
      "metadata": {
        "id": "fzP8oKudqbHE"
      },
      "execution_count": 14,
      "outputs": []
    },
    {
      "cell_type": "code",
      "source": [
        "{'orig_msg': it_support_queue[1]}"
      ],
      "metadata": {
        "colab": {
          "base_uri": "https://localhost:8080/"
        },
        "id": "zO7RQf62q-oZ",
        "outputId": "eaebfde9-c1d4-42bf-8980-a35d89b322e6"
      },
      "execution_count": 15,
      "outputs": [
        {
          "output_type": "execute_result",
          "data": {
            "text/plain": [
              "{'orig_msg': 'Tengo problemas con la VPN. No puedo conectarme a la red de la empresa. ¿Pueden ayudarme, por favor?'}"
            ]
          },
          "metadata": {},
          "execution_count": 15
        }
      ]
    },
    {
      "cell_type": "code",
      "source": [
        "response = final_chain.invoke({'orig_msg': it_support_queue[1]})\n",
        "response"
      ],
      "metadata": {
        "colab": {
          "base_uri": "https://localhost:8080/"
        },
        "id": "VDqNeijXrFJq",
        "outputId": "9f659cf5-bc1e-4d8f-ed46-72bfa7e62d92"
      },
      "execution_count": 16,
      "outputs": [
        {
          "output_type": "execute_result",
          "data": {
            "text/plain": [
              "{'orig_msg': 'Tengo problemas con la VPN. No puedo conectarme a la red de la empresa. ¿Pueden ayudarme, por favor?',\n",
              " 'orig_lang': 'Spanish',\n",
              " 'trans_msg': \"I'm having issues with the VPN. I can't connect to the company's network. Can you help me, please?\",\n",
              " 'trans_response': \"Resolution:\\nI'm sorry to hear that you're having trouble with the VPN connection. To assist you further, could you please provide more details about the issue you're facing? Have you tried restarting the VPN client or your device? If not, please give that a try and let me know if it resolves the problem. If the issue persists, please reach out to our technical support team for further assistance. Thank you for your patience.\",\n",
              " 'orig_response': '```Resolución:\\nLamento escuchar que estás teniendo problemas con la conexión VPN. Para ayudarte mejor, ¿podrías proporcionar más detalles sobre el problema que estás enfrentando? ¿Has intentado reiniciar el cliente VPN o tu dispositivo? Si no lo has hecho, por favor inténtalo y avísame si se resuelve el problema. Si el problema persiste, por favor ponte en contacto con nuestro equipo de soporte técnico para obtener más ayuda. Gracias por tu paciencia.```'}"
            ]
          },
          "metadata": {},
          "execution_count": 16
        }
      ]
    },
    {
      "cell_type": "code",
      "source": [
        "it_support_queue"
      ],
      "metadata": {
        "colab": {
          "base_uri": "https://localhost:8080/"
        },
        "id": "hm8K8nZkrHP7",
        "outputId": "54fe06a2-1d83-4bc4-a643-c2e19a5ee1b6"
      },
      "execution_count": 17,
      "outputs": [
        {
          "output_type": "execute_result",
          "data": {
            "text/plain": [
              "[\"I can't access my email. It keeps showing an error message. Please help.\",\n",
              " 'Tengo problemas con la VPN. No puedo conectarme a la red de la empresa. ¿Pueden ayudarme, por favor?',\n",
              " \"Mon imprimante ne répond pas et n'imprime plus. J'ai besoin d'aide pour la réparer.\",\n",
              " '我无法访问公司的网站。每次都显示错误信息。请帮忙解决。']"
            ]
          },
          "metadata": {},
          "execution_count": 17
        }
      ]
    },
    {
      "cell_type": "code",
      "source": [
        "it_support_queue_formatted = [{'orig_msg': msg} for msg in it_support_queue]\n",
        "it_support_queue_formatted"
      ],
      "metadata": {
        "colab": {
          "base_uri": "https://localhost:8080/"
        },
        "id": "mWlf-mfvrNfU",
        "outputId": "1a1da1bc-f154-448c-b267-1f035b423ff6"
      },
      "execution_count": 18,
      "outputs": [
        {
          "output_type": "execute_result",
          "data": {
            "text/plain": [
              "[{'orig_msg': \"I can't access my email. It keeps showing an error message. Please help.\"},\n",
              " {'orig_msg': 'Tengo problemas con la VPN. No puedo conectarme a la red de la empresa. ¿Pueden ayudarme, por favor?'},\n",
              " {'orig_msg': \"Mon imprimante ne répond pas et n'imprime plus. J'ai besoin d'aide pour la réparer.\"},\n",
              " {'orig_msg': '我无法访问公司的网站。每次都显示错误信息。请帮忙解决。'}]"
            ]
          },
          "metadata": {},
          "execution_count": 18
        }
      ]
    },
    {
      "cell_type": "code",
      "source": [
        "responses = final_chain.map().invoke(it_support_queue_formatted)"
      ],
      "metadata": {
        "id": "ReJ3ceearPDx"
      },
      "execution_count": 19,
      "outputs": []
    },
    {
      "cell_type": "code",
      "source": [
        "import pandas as pd\n",
        "pd.DataFrame(responses)"
      ],
      "metadata": {
        "colab": {
          "base_uri": "https://localhost:8080/",
          "height": 244
        },
        "id": "wmQoEijErRr6",
        "outputId": "61d5630f-ede8-4a95-83b9-0325d76158ed"
      },
      "execution_count": 20,
      "outputs": [
        {
          "output_type": "execute_result",
          "data": {
            "text/plain": [
              "                                            orig_msg orig_lang  \\\n",
              "0  I can't access my email. It keeps showing an e...   English   \n",
              "1  Tengo problemas con la VPN. No puedo conectarm...   Spanish   \n",
              "2  Mon imprimante ne répond pas et n'imprime plus...    French   \n",
              "3                        我无法访问公司的网站。每次都显示错误信息。请帮忙解决。   Chinese   \n",
              "\n",
              "                                           trans_msg  \\\n",
              "0  I can't access my email. It keeps showing an e...   \n",
              "1  I'm having issues with the VPN. I can't connec...   \n",
              "2  My printer is not responding and not printing ...   \n",
              "3  I cannot access the company's website. It show...   \n",
              "\n",
              "                                      trans_response  \\\n",
              "0  Resolution Response:\\nI'm sorry to hear that y...   \n",
              "1  Resolution Response:\\nI'm sorry to hear that y...   \n",
              "2  Resolution:\\nI'm sorry to hear that you're exp...   \n",
              "3  Resolution:\\nI apologize for the inconvenience...   \n",
              "\n",
              "                                       orig_response  \n",
              "0  Resolution Response:\\nI'm sorry to hear that y...  \n",
              "1  Respuesta de resolución:\\nLamento escuchar que...  \n",
              "2  Résolution:\\nJe suis désolé d'apprendre que vo...  \n",
              "3  ```Resolution:\\n对于您正在经历的不便，我感到抱歉。为了更好地帮助您，您能否提...  "
            ],
            "text/html": [
              "\n",
              "  <div id=\"df-ffe7ff00-347b-4d45-926f-290a4051c319\" class=\"colab-df-container\">\n",
              "    <div>\n",
              "<style scoped>\n",
              "    .dataframe tbody tr th:only-of-type {\n",
              "        vertical-align: middle;\n",
              "    }\n",
              "\n",
              "    .dataframe tbody tr th {\n",
              "        vertical-align: top;\n",
              "    }\n",
              "\n",
              "    .dataframe thead th {\n",
              "        text-align: right;\n",
              "    }\n",
              "</style>\n",
              "<table border=\"1\" class=\"dataframe\">\n",
              "  <thead>\n",
              "    <tr style=\"text-align: right;\">\n",
              "      <th></th>\n",
              "      <th>orig_msg</th>\n",
              "      <th>orig_lang</th>\n",
              "      <th>trans_msg</th>\n",
              "      <th>trans_response</th>\n",
              "      <th>orig_response</th>\n",
              "    </tr>\n",
              "  </thead>\n",
              "  <tbody>\n",
              "    <tr>\n",
              "      <th>0</th>\n",
              "      <td>I can't access my email. It keeps showing an e...</td>\n",
              "      <td>English</td>\n",
              "      <td>I can't access my email. It keeps showing an e...</td>\n",
              "      <td>Resolution Response:\\nI'm sorry to hear that y...</td>\n",
              "      <td>Resolution Response:\\nI'm sorry to hear that y...</td>\n",
              "    </tr>\n",
              "    <tr>\n",
              "      <th>1</th>\n",
              "      <td>Tengo problemas con la VPN. No puedo conectarm...</td>\n",
              "      <td>Spanish</td>\n",
              "      <td>I'm having issues with the VPN. I can't connec...</td>\n",
              "      <td>Resolution Response:\\nI'm sorry to hear that y...</td>\n",
              "      <td>Respuesta de resolución:\\nLamento escuchar que...</td>\n",
              "    </tr>\n",
              "    <tr>\n",
              "      <th>2</th>\n",
              "      <td>Mon imprimante ne répond pas et n'imprime plus...</td>\n",
              "      <td>French</td>\n",
              "      <td>My printer is not responding and not printing ...</td>\n",
              "      <td>Resolution:\\nI'm sorry to hear that you're exp...</td>\n",
              "      <td>Résolution:\\nJe suis désolé d'apprendre que vo...</td>\n",
              "    </tr>\n",
              "    <tr>\n",
              "      <th>3</th>\n",
              "      <td>我无法访问公司的网站。每次都显示错误信息。请帮忙解决。</td>\n",
              "      <td>Chinese</td>\n",
              "      <td>I cannot access the company's website. It show...</td>\n",
              "      <td>Resolution:\\nI apologize for the inconvenience...</td>\n",
              "      <td>```Resolution:\\n对于您正在经历的不便，我感到抱歉。为了更好地帮助您，您能否提...</td>\n",
              "    </tr>\n",
              "  </tbody>\n",
              "</table>\n",
              "</div>\n",
              "    <div class=\"colab-df-buttons\">\n",
              "\n",
              "  <div class=\"colab-df-container\">\n",
              "    <button class=\"colab-df-convert\" onclick=\"convertToInteractive('df-ffe7ff00-347b-4d45-926f-290a4051c319')\"\n",
              "            title=\"Convert this dataframe to an interactive table.\"\n",
              "            style=\"display:none;\">\n",
              "\n",
              "  <svg xmlns=\"http://www.w3.org/2000/svg\" height=\"24px\" viewBox=\"0 -960 960 960\">\n",
              "    <path d=\"M120-120v-720h720v720H120Zm60-500h600v-160H180v160Zm220 220h160v-160H400v160Zm0 220h160v-160H400v160ZM180-400h160v-160H180v160Zm440 0h160v-160H620v160ZM180-180h160v-160H180v160Zm440 0h160v-160H620v160Z\"/>\n",
              "  </svg>\n",
              "    </button>\n",
              "\n",
              "  <style>\n",
              "    .colab-df-container {\n",
              "      display:flex;\n",
              "      gap: 12px;\n",
              "    }\n",
              "\n",
              "    .colab-df-convert {\n",
              "      background-color: #E8F0FE;\n",
              "      border: none;\n",
              "      border-radius: 50%;\n",
              "      cursor: pointer;\n",
              "      display: none;\n",
              "      fill: #1967D2;\n",
              "      height: 32px;\n",
              "      padding: 0 0 0 0;\n",
              "      width: 32px;\n",
              "    }\n",
              "\n",
              "    .colab-df-convert:hover {\n",
              "      background-color: #E2EBFA;\n",
              "      box-shadow: 0px 1px 2px rgba(60, 64, 67, 0.3), 0px 1px 3px 1px rgba(60, 64, 67, 0.15);\n",
              "      fill: #174EA6;\n",
              "    }\n",
              "\n",
              "    .colab-df-buttons div {\n",
              "      margin-bottom: 4px;\n",
              "    }\n",
              "\n",
              "    [theme=dark] .colab-df-convert {\n",
              "      background-color: #3B4455;\n",
              "      fill: #D2E3FC;\n",
              "    }\n",
              "\n",
              "    [theme=dark] .colab-df-convert:hover {\n",
              "      background-color: #434B5C;\n",
              "      box-shadow: 0px 1px 3px 1px rgba(0, 0, 0, 0.15);\n",
              "      filter: drop-shadow(0px 1px 2px rgba(0, 0, 0, 0.3));\n",
              "      fill: #FFFFFF;\n",
              "    }\n",
              "  </style>\n",
              "\n",
              "    <script>\n",
              "      const buttonEl =\n",
              "        document.querySelector('#df-ffe7ff00-347b-4d45-926f-290a4051c319 button.colab-df-convert');\n",
              "      buttonEl.style.display =\n",
              "        google.colab.kernel.accessAllowed ? 'block' : 'none';\n",
              "\n",
              "      async function convertToInteractive(key) {\n",
              "        const element = document.querySelector('#df-ffe7ff00-347b-4d45-926f-290a4051c319');\n",
              "        const dataTable =\n",
              "          await google.colab.kernel.invokeFunction('convertToInteractive',\n",
              "                                                    [key], {});\n",
              "        if (!dataTable) return;\n",
              "\n",
              "        const docLinkHtml = 'Like what you see? Visit the ' +\n",
              "          '<a target=\"_blank\" href=https://colab.research.google.com/notebooks/data_table.ipynb>data table notebook</a>'\n",
              "          + ' to learn more about interactive tables.';\n",
              "        element.innerHTML = '';\n",
              "        dataTable['output_type'] = 'display_data';\n",
              "        await google.colab.output.renderOutput(dataTable, element);\n",
              "        const docLink = document.createElement('div');\n",
              "        docLink.innerHTML = docLinkHtml;\n",
              "        element.appendChild(docLink);\n",
              "      }\n",
              "    </script>\n",
              "  </div>\n",
              "\n",
              "\n",
              "<div id=\"df-03fa851b-5858-4e94-8f02-490b3a26ff7e\">\n",
              "  <button class=\"colab-df-quickchart\" onclick=\"quickchart('df-03fa851b-5858-4e94-8f02-490b3a26ff7e')\"\n",
              "            title=\"Suggest charts\"\n",
              "            style=\"display:none;\">\n",
              "\n",
              "<svg xmlns=\"http://www.w3.org/2000/svg\" height=\"24px\"viewBox=\"0 0 24 24\"\n",
              "     width=\"24px\">\n",
              "    <g>\n",
              "        <path d=\"M19 3H5c-1.1 0-2 .9-2 2v14c0 1.1.9 2 2 2h14c1.1 0 2-.9 2-2V5c0-1.1-.9-2-2-2zM9 17H7v-7h2v7zm4 0h-2V7h2v10zm4 0h-2v-4h2v4z\"/>\n",
              "    </g>\n",
              "</svg>\n",
              "  </button>\n",
              "\n",
              "<style>\n",
              "  .colab-df-quickchart {\n",
              "      --bg-color: #E8F0FE;\n",
              "      --fill-color: #1967D2;\n",
              "      --hover-bg-color: #E2EBFA;\n",
              "      --hover-fill-color: #174EA6;\n",
              "      --disabled-fill-color: #AAA;\n",
              "      --disabled-bg-color: #DDD;\n",
              "  }\n",
              "\n",
              "  [theme=dark] .colab-df-quickchart {\n",
              "      --bg-color: #3B4455;\n",
              "      --fill-color: #D2E3FC;\n",
              "      --hover-bg-color: #434B5C;\n",
              "      --hover-fill-color: #FFFFFF;\n",
              "      --disabled-bg-color: #3B4455;\n",
              "      --disabled-fill-color: #666;\n",
              "  }\n",
              "\n",
              "  .colab-df-quickchart {\n",
              "    background-color: var(--bg-color);\n",
              "    border: none;\n",
              "    border-radius: 50%;\n",
              "    cursor: pointer;\n",
              "    display: none;\n",
              "    fill: var(--fill-color);\n",
              "    height: 32px;\n",
              "    padding: 0;\n",
              "    width: 32px;\n",
              "  }\n",
              "\n",
              "  .colab-df-quickchart:hover {\n",
              "    background-color: var(--hover-bg-color);\n",
              "    box-shadow: 0 1px 2px rgba(60, 64, 67, 0.3), 0 1px 3px 1px rgba(60, 64, 67, 0.15);\n",
              "    fill: var(--button-hover-fill-color);\n",
              "  }\n",
              "\n",
              "  .colab-df-quickchart-complete:disabled,\n",
              "  .colab-df-quickchart-complete:disabled:hover {\n",
              "    background-color: var(--disabled-bg-color);\n",
              "    fill: var(--disabled-fill-color);\n",
              "    box-shadow: none;\n",
              "  }\n",
              "\n",
              "  .colab-df-spinner {\n",
              "    border: 2px solid var(--fill-color);\n",
              "    border-color: transparent;\n",
              "    border-bottom-color: var(--fill-color);\n",
              "    animation:\n",
              "      spin 1s steps(1) infinite;\n",
              "  }\n",
              "\n",
              "  @keyframes spin {\n",
              "    0% {\n",
              "      border-color: transparent;\n",
              "      border-bottom-color: var(--fill-color);\n",
              "      border-left-color: var(--fill-color);\n",
              "    }\n",
              "    20% {\n",
              "      border-color: transparent;\n",
              "      border-left-color: var(--fill-color);\n",
              "      border-top-color: var(--fill-color);\n",
              "    }\n",
              "    30% {\n",
              "      border-color: transparent;\n",
              "      border-left-color: var(--fill-color);\n",
              "      border-top-color: var(--fill-color);\n",
              "      border-right-color: var(--fill-color);\n",
              "    }\n",
              "    40% {\n",
              "      border-color: transparent;\n",
              "      border-right-color: var(--fill-color);\n",
              "      border-top-color: var(--fill-color);\n",
              "    }\n",
              "    60% {\n",
              "      border-color: transparent;\n",
              "      border-right-color: var(--fill-color);\n",
              "    }\n",
              "    80% {\n",
              "      border-color: transparent;\n",
              "      border-right-color: var(--fill-color);\n",
              "      border-bottom-color: var(--fill-color);\n",
              "    }\n",
              "    90% {\n",
              "      border-color: transparent;\n",
              "      border-bottom-color: var(--fill-color);\n",
              "    }\n",
              "  }\n",
              "</style>\n",
              "\n",
              "  <script>\n",
              "    async function quickchart(key) {\n",
              "      const quickchartButtonEl =\n",
              "        document.querySelector('#' + key + ' button');\n",
              "      quickchartButtonEl.disabled = true;  // To prevent multiple clicks.\n",
              "      quickchartButtonEl.classList.add('colab-df-spinner');\n",
              "      try {\n",
              "        const charts = await google.colab.kernel.invokeFunction(\n",
              "            'suggestCharts', [key], {});\n",
              "      } catch (error) {\n",
              "        console.error('Error during call to suggestCharts:', error);\n",
              "      }\n",
              "      quickchartButtonEl.classList.remove('colab-df-spinner');\n",
              "      quickchartButtonEl.classList.add('colab-df-quickchart-complete');\n",
              "    }\n",
              "    (() => {\n",
              "      let quickchartButtonEl =\n",
              "        document.querySelector('#df-03fa851b-5858-4e94-8f02-490b3a26ff7e button');\n",
              "      quickchartButtonEl.style.display =\n",
              "        google.colab.kernel.accessAllowed ? 'block' : 'none';\n",
              "    })();\n",
              "  </script>\n",
              "</div>\n",
              "\n",
              "    </div>\n",
              "  </div>\n"
            ],
            "application/vnd.google.colaboratory.intrinsic+json": {
              "type": "dataframe",
              "summary": "{\n  \"name\": \"pd\",\n  \"rows\": 4,\n  \"fields\": [\n    {\n      \"column\": \"orig_msg\",\n      \"properties\": {\n        \"dtype\": \"string\",\n        \"num_unique_values\": 4,\n        \"samples\": [\n          \"Tengo problemas con la VPN. No puedo conectarme a la red de la empresa. \\u00bfPueden ayudarme, por favor?\",\n          \"\\u6211\\u65e0\\u6cd5\\u8bbf\\u95ee\\u516c\\u53f8\\u7684\\u7f51\\u7ad9\\u3002\\u6bcf\\u6b21\\u90fd\\u663e\\u793a\\u9519\\u8bef\\u4fe1\\u606f\\u3002\\u8bf7\\u5e2e\\u5fd9\\u89e3\\u51b3\\u3002\",\n          \"I can't access my email. It keeps showing an error message. Please help.\"\n        ],\n        \"semantic_type\": \"\",\n        \"description\": \"\"\n      }\n    },\n    {\n      \"column\": \"orig_lang\",\n      \"properties\": {\n        \"dtype\": \"string\",\n        \"num_unique_values\": 4,\n        \"samples\": [\n          \"Spanish\",\n          \"Chinese\",\n          \"English\"\n        ],\n        \"semantic_type\": \"\",\n        \"description\": \"\"\n      }\n    },\n    {\n      \"column\": \"trans_msg\",\n      \"properties\": {\n        \"dtype\": \"string\",\n        \"num_unique_values\": 4,\n        \"samples\": [\n          \"I'm having issues with the VPN. I can't connect to the company's network. Can you help me, please?\",\n          \"I cannot access the company's website. It shows an error message every time. Please help me solve this.\",\n          \"I can't access my email. It keeps showing an error message. Please help.\"\n        ],\n        \"semantic_type\": \"\",\n        \"description\": \"\"\n      }\n    },\n    {\n      \"column\": \"trans_response\",\n      \"properties\": {\n        \"dtype\": \"string\",\n        \"num_unique_values\": 4,\n        \"samples\": [\n          \"Resolution Response:\\nI'm sorry to hear that you're experiencing issues with the VPN. To assist you further, could you please provide more details about the error message you're receiving or any specific steps you've already taken to troubleshoot the problem? This information will help us better understand the issue and provide you with the appropriate solution. Thank you for your cooperation.\",\n          \"Resolution:\\nI apologize for the inconvenience you are experiencing. To better assist you, could you please provide the specific error message you are receiving when trying to access the company's website? This information will help us identify the issue and work towards a solution. Thank you for your patience.\",\n          \"Resolution Response:\\nI'm sorry to hear that you're having trouble accessing your email. To better assist you, could you please provide me with the specific error message that you are seeing? This information will help us identify the issue and find a solution for you. Thank you for your cooperation.\"\n        ],\n        \"semantic_type\": \"\",\n        \"description\": \"\"\n      }\n    },\n    {\n      \"column\": \"orig_response\",\n      \"properties\": {\n        \"dtype\": \"string\",\n        \"num_unique_values\": 4,\n        \"samples\": [\n          \"Respuesta de resoluci\\u00f3n:\\nLamento escuchar que est\\u00e1s experimentando problemas con la VPN. Para ayudarte mejor, \\u00bfpodr\\u00edas proporcionar m\\u00e1s detalles sobre el mensaje de error que est\\u00e1s recibiendo o los pasos espec\\u00edficos que ya has tomado para solucionar el problema? Esta informaci\\u00f3n nos ayudar\\u00e1 a comprender mejor el problema y brindarte la soluci\\u00f3n adecuada. Gracias por tu cooperaci\\u00f3n.\",\n          \"```Resolution:\\n\\u5bf9\\u4e8e\\u60a8\\u6b63\\u5728\\u7ecf\\u5386\\u7684\\u4e0d\\u4fbf\\uff0c\\u6211\\u611f\\u5230\\u62b1\\u6b49\\u3002\\u4e3a\\u4e86\\u66f4\\u597d\\u5730\\u5e2e\\u52a9\\u60a8\\uff0c\\u60a8\\u80fd\\u5426\\u63d0\\u4f9b\\u5728\\u5c1d\\u8bd5\\u8bbf\\u95ee\\u516c\\u53f8\\u7f51\\u7ad9\\u65f6\\u6536\\u5230\\u7684\\u5177\\u4f53\\u9519\\u8bef\\u6d88\\u606f\\uff1f\\u8fd9\\u4e9b\\u4fe1\\u606f\\u5c06\\u5e2e\\u52a9\\u6211\\u4eec\\u786e\\u5b9a\\u95ee\\u9898\\u5e76\\u52aa\\u529b\\u89e3\\u51b3\\u3002\\u611f\\u8c22\\u60a8\\u7684\\u8010\\u5fc3\\u7b49\\u5f85\\u3002```\",\n          \"Resolution Response:\\nI'm sorry to hear that you're having trouble accessing your email. To better assist you, could you please provide me with the specific error message that you are seeing? This information will help us identify the issue and find a solution for you. Thank you for your cooperation.\"\n        ],\n        \"semantic_type\": \"\",\n        \"description\": \"\"\n      }\n    }\n  ]\n}"
            }
          },
          "metadata": {},
          "execution_count": 20
        }
      ]
    },
    {
      "cell_type": "code",
      "source": [],
      "metadata": {
        "id": "0ekTEO8RrUEo"
      },
      "execution_count": null,
      "outputs": []
    }
  ]
}