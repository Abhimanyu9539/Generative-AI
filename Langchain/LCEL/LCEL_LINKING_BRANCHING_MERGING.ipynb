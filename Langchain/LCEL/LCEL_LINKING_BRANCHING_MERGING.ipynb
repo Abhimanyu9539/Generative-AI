{
  "nbformat": 4,
  "nbformat_minor": 0,
  "metadata": {
    "colab": {
      "provenance": []
    },
    "kernelspec": {
      "name": "python3",
      "display_name": "Python 3"
    },
    "language_info": {
      "name": "python"
    }
  },
  "cells": [
    {
      "cell_type": "code",
      "execution_count": 1,
      "metadata": {
        "colab": {
          "base_uri": "https://localhost:8080/"
        },
        "id": "TD2RA5MknoKb",
        "outputId": "9d8a0645-45bf-4295-923c-47d9e8aa79d6"
      },
      "outputs": [
        {
          "output_type": "stream",
          "name": "stdout",
          "text": [
            "\u001b[?25l   \u001b[90m━━━━━━━━━━━━━━━━━━━━━━━━━━━━━━━━━━━━━━━━\u001b[0m \u001b[32m0.0/973.7 kB\u001b[0m \u001b[31m?\u001b[0m eta \u001b[36m-:--:--\u001b[0m\r\u001b[2K   \u001b[91m━━━━━━━━━━\u001b[0m\u001b[91m╸\u001b[0m\u001b[90m━━━━━━━━━━━━━━━━━━━━━━━━━━━━━\u001b[0m \u001b[32m266.2/973.7 kB\u001b[0m \u001b[31m8.0 MB/s\u001b[0m eta \u001b[36m0:00:01\u001b[0m\r\u001b[2K   \u001b[91m━━━━━━━━━━━━━━━━━━━━━━━━━━━━━━━━━━━━━━━\u001b[0m\u001b[91m╸\u001b[0m \u001b[32m972.8/973.7 kB\u001b[0m \u001b[31m16.5 MB/s\u001b[0m eta \u001b[36m0:00:01\u001b[0m\r\u001b[2K   \u001b[90m━━━━━━━━━━━━━━━━━━━━━━━━━━━━━━━━━━━━━━━━\u001b[0m \u001b[32m973.7/973.7 kB\u001b[0m \u001b[31m12.9 MB/s\u001b[0m eta \u001b[36m0:00:00\u001b[0m\n",
            "\u001b[2K   \u001b[90m━━━━━━━━━━━━━━━━━━━━━━━━━━━━━━━━━━━━━━━━\u001b[0m \u001b[32m397.1/397.1 kB\u001b[0m \u001b[31m26.7 MB/s\u001b[0m eta \u001b[36m0:00:00\u001b[0m\n",
            "\u001b[2K   \u001b[90m━━━━━━━━━━━━━━━━━━━━━━━━━━━━━━━━━━━━━━━━\u001b[0m \u001b[32m311.8/311.8 kB\u001b[0m \u001b[31m22.4 MB/s\u001b[0m eta \u001b[36m0:00:00\u001b[0m\n",
            "\u001b[2K   \u001b[90m━━━━━━━━━━━━━━━━━━━━━━━━━━━━━━━━━━━━━━━━\u001b[0m \u001b[32m50.8/50.8 kB\u001b[0m \u001b[31m3.5 MB/s\u001b[0m eta \u001b[36m0:00:00\u001b[0m\n",
            "\u001b[2K   \u001b[90m━━━━━━━━━━━━━━━━━━━━━━━━━━━━━━━━━━━━━━━━\u001b[0m \u001b[32m1.2/1.2 MB\u001b[0m \u001b[31m17.6 MB/s\u001b[0m eta \u001b[36m0:00:00\u001b[0m\n",
            "\u001b[2K   \u001b[90m━━━━━━━━━━━━━━━━━━━━━━━━━━━━━━━━━━━━━━━━\u001b[0m \u001b[32m2.1/2.1 MB\u001b[0m \u001b[31m22.1 MB/s\u001b[0m eta \u001b[36m0:00:00\u001b[0m\n",
            "\u001b[?25h"
          ]
        }
      ],
      "source": [
        "!pip install langchain==0.2.0 --quiet\n",
        "!pip install langchain-openai==0.1.7 --quiet\n",
        "!pip install langchain-community==0.2.0 --quiet"
      ]
    },
    {
      "cell_type": "code",
      "source": [
        "import os\n",
        "from google.colab import userdata\n",
        "\n",
        "os.environ['OPENAI_API_KEY'] = userdata.get('OPEN_API_KEY')\n",
        "os.environ['HUGGINGFACEHUB_API_TOKEN'] = userdata.get('HF_TOKEN')"
      ],
      "metadata": {
        "id": "BacE5ukaoBp-"
      },
      "execution_count": 2,
      "outputs": []
    },
    {
      "cell_type": "code",
      "source": [
        "from langchain_openai import ChatOpenAI\n",
        "\n",
        "chatgpt = ChatOpenAI(model_name='gpt-3.5-turbo', temperature=0)"
      ],
      "metadata": {
        "id": "EC2K1V6boEm3"
      },
      "execution_count": 3,
      "outputs": []
    },
    {
      "cell_type": "markdown",
      "source": [
        "## Linking Multiple Chains Sequentially in LCEL\n",
        "\n",
        "Here we will see how we can link several LLM Chains sequentially using LCEL.\n",
        "\n",
        "Typically the output from one chain might go as input into the next chain and so on.\n",
        "\n",
        "The overall chain would run each chain sequentially in order till we get the final output which can be a combination of intermediate outputs and inputs from the previous chains."
      ],
      "metadata": {
        "id": "30qGEepjoH96"
      }
    },
    {
      "cell_type": "code",
      "source": [
        "it_support_queue = [\n",
        "    \"I can't access my email. It keeps showing an error message. Please help.\",\n",
        "    \"Tengo problemas con la VPN. No puedo conectarme a la red de la empresa. ¿Pueden ayudarme, por favor?\",\n",
        "    \"Mon imprimante ne répond pas et n'imprime plus. J'ai besoin d'aide pour la réparer.\",\n",
        "    \"我无法访问公司的网站。每次都显示错误信息。请帮忙解决。\"\n",
        "]\n",
        "\n",
        "it_support_queue"
      ],
      "metadata": {
        "colab": {
          "base_uri": "https://localhost:8080/"
        },
        "id": "ogKwe3omoIWb",
        "outputId": "356b7fff-ea20-4605-d622-f2a7d735811d"
      },
      "execution_count": 4,
      "outputs": [
        {
          "output_type": "execute_result",
          "data": {
            "text/plain": [
              "[\"I can't access my email. It keeps showing an error message. Please help.\",\n",
              " 'Tengo problemas con la VPN. No puedo conectarme a la red de la empresa. ¿Pueden ayudarme, por favor?',\n",
              " \"Mon imprimante ne répond pas et n'imprime plus. J'ai besoin d'aide pour la réparer.\",\n",
              " '我无法访问公司的网站。每次都显示错误信息。请帮忙解决。']"
            ]
          },
          "metadata": {},
          "execution_count": 4
        }
      ]
    },
    {
      "cell_type": "code",
      "source": [
        "from langchain_core.prompts import ChatPromptTemplate\n",
        "from langchain_core.output_parsers import StrOutputParser\n",
        "\n",
        "# Chain 1: Detect customer message language\n",
        "prompt1 = \"\"\"\n",
        "  Act as a customer support agent.\n",
        "  For the customer support message delimited below by triple backticks,\n",
        "  Output the language of the message in one word only, e.g. Spanish\n",
        "\n",
        "  Customer Message:\n",
        "  ```{orig_msg}```\n",
        "\"\"\"\n",
        "prompt_template1 = ChatPromptTemplate.from_template(prompt1)\n",
        "llm_chain1 = (prompt_template1\n",
        "                  |\n",
        "              chatgpt\n",
        "                  |\n",
        "              StrOutputParser())"
      ],
      "metadata": {
        "id": "L9Ce03-7owtz"
      },
      "execution_count": 5,
      "outputs": []
    },
    {
      "cell_type": "code",
      "source": [
        "prompt_template1"
      ],
      "metadata": {
        "colab": {
          "base_uri": "https://localhost:8080/"
        },
        "id": "e1dYrCg_o7IV",
        "outputId": "efd617e7-d448-43ba-d987-01caa1dabb69"
      },
      "execution_count": 6,
      "outputs": [
        {
          "output_type": "execute_result",
          "data": {
            "text/plain": [
              "ChatPromptTemplate(input_variables=['orig_msg'], messages=[HumanMessagePromptTemplate(prompt=PromptTemplate(input_variables=['orig_msg'], template='\\n  Act as a customer support agent.\\n  For the customer support message delimited below by triple backticks,\\n  Output the language of the message in one word only, e.g. Spanish\\n\\n  Customer Message:\\n  ```{orig_msg}```\\n'))])"
            ]
          },
          "metadata": {},
          "execution_count": 6
        }
      ]
    },
    {
      "cell_type": "code",
      "source": [
        "it_support_queue[1]"
      ],
      "metadata": {
        "colab": {
          "base_uri": "https://localhost:8080/",
          "height": 36
        },
        "id": "InGmQEgbo-7D",
        "outputId": "12215433-873f-4de9-86da-e30e61e90066"
      },
      "execution_count": 7,
      "outputs": [
        {
          "output_type": "execute_result",
          "data": {
            "text/plain": [
              "'Tengo problemas con la VPN. No puedo conectarme a la red de la empresa. ¿Pueden ayudarme, por favor?'"
            ],
            "application/vnd.google.colaboratory.intrinsic+json": {
              "type": "string"
            }
          },
          "metadata": {},
          "execution_count": 7
        }
      ]
    },
    {
      "cell_type": "code",
      "source": [
        "llm_chain1.invoke({'orig_msg': it_support_queue[1]})"
      ],
      "metadata": {
        "colab": {
          "base_uri": "https://localhost:8080/",
          "height": 36
        },
        "id": "4Uwy5TiCpm1N",
        "outputId": "f154611b-b708-4310-d39f-c388348db544"
      },
      "execution_count": 8,
      "outputs": [
        {
          "output_type": "execute_result",
          "data": {
            "text/plain": [
              "'Spanish'"
            ],
            "application/vnd.google.colaboratory.intrinsic+json": {
              "type": "string"
            }
          },
          "metadata": {},
          "execution_count": 8
        }
      ]
    },
    {
      "cell_type": "code",
      "source": [
        "from langchain.schema.runnable import RunnablePassthrough\n",
        "\n",
        "RunnablePassthrough.assign(orig_lang=llm_chain1).invoke({'orig_msg': it_support_queue[1]})"
      ],
      "metadata": {
        "colab": {
          "base_uri": "https://localhost:8080/"
        },
        "id": "bn8zYUUHpriq",
        "outputId": "eda99e03-e13f-4088-c315-456dbe7cec05"
      },
      "execution_count": 9,
      "outputs": [
        {
          "output_type": "execute_result",
          "data": {
            "text/plain": [
              "{'orig_msg': 'Tengo problemas con la VPN. No puedo conectarme a la red de la empresa. ¿Pueden ayudarme, por favor?',\n",
              " 'orig_lang': 'Spanish'}"
            ]
          },
          "metadata": {},
          "execution_count": 9
        }
      ]
    },
    {
      "cell_type": "code",
      "source": [
        "# Chain 2: Translate Customer Message to English\n",
        "prompt2 = \"\"\"\n",
        "  Act as a customer support agent.\n",
        "  For the customer message and customer message language delimited below by triple backticks,\n",
        "  Translate the customer message from the customer message language to English\n",
        "  if customer message language is not in English,\n",
        "  else return back the original customer message.\n",
        "\n",
        "  Customer Message:\n",
        "  ```{orig_msg}```\n",
        "  Customer Message Language:\n",
        "  ```{orig_lang}```\n",
        "\"\"\"\n",
        "prompt_template2 = ChatPromptTemplate.from_template(prompt2)\n",
        "llm_chain2 = (prompt_template2\n",
        "                  |\n",
        "              chatgpt\n",
        "                  |\n",
        "              StrOutputParser())"
      ],
      "metadata": {
        "id": "VD6LX7DZpwR5"
      },
      "execution_count": 10,
      "outputs": []
    },
    {
      "cell_type": "code",
      "source": [
        "RunnablePassthrough.assign(trans_msg=llm_chain2).invoke({'orig_msg': 'Tengo problemas con la VPN. No puedo conectarme a la red de la empresa. ¿Pueden ayudarme, por favor?',\n",
        " 'orig_lang': 'Spanish'})"
      ],
      "metadata": {
        "colab": {
          "base_uri": "https://localhost:8080/"
        },
        "id": "eYIiZlH1ql92",
        "outputId": "a3d22c74-0f53-4403-ba53-6698c65d685e"
      },
      "execution_count": 11,
      "outputs": [
        {
          "output_type": "execute_result",
          "data": {
            "text/plain": [
              "{'orig_msg': 'Tengo problemas con la VPN. No puedo conectarme a la red de la empresa. ¿Pueden ayudarme, por favor?',\n",
              " 'orig_lang': 'Spanish',\n",
              " 'trans_msg': \"I'm having issues with the VPN. I can't connect to the company's network. Can you help me, please?\"}"
            ]
          },
          "metadata": {},
          "execution_count": 11
        }
      ]
    },
    {
      "cell_type": "code",
      "source": [
        "# Chain 3: Generate a resolution response in English\n",
        "prompt3 = \"\"\"\n",
        "  Act as a customer support agent.\n",
        "  For the customer support message delimited below by triple backticks,\n",
        "  Generate an appropriate resolution response in English.\n",
        "\n",
        "  Customer Message:\n",
        "  ```{trans_msg}```\n",
        "\"\"\"\n",
        "prompt_template3 = ChatPromptTemplate.from_template(prompt3)\n",
        "llm_chain3 = (prompt_template3\n",
        "                  |\n",
        "              chatgpt\n",
        "                  |\n",
        "              StrOutputParser())"
      ],
      "metadata": {
        "id": "SArjT3gRqNyX"
      },
      "execution_count": 12,
      "outputs": []
    },
    {
      "cell_type": "code",
      "source": [
        "# Chain 4: Translate resolution response from English to Customer's original language\n",
        "prompt4 = \"\"\"\n",
        "  Act as a customer support agent.\n",
        "  For the customer resolution response and target language delimited below by triple backticks,\n",
        "  Translate the customer resolution response message from English to the target language\n",
        "  if target language is not in English,\n",
        "  else return back the original customer resolution response.\n",
        "\n",
        "  Customer Resolution Response:\n",
        "  ```{trans_response}```\n",
        "  Target Language:\n",
        "  ```{orig_lang}```\n",
        "\"\"\"\n",
        "prompt_template4 = ChatPromptTemplate.from_template(prompt4)\n",
        "llm_chain4 = (prompt_template4\n",
        "                  |\n",
        "              chatgpt\n",
        "                  |\n",
        "              StrOutputParser())"
      ],
      "metadata": {
        "id": "xhafycqUqT_v"
      },
      "execution_count": 13,
      "outputs": []
    },
    {
      "cell_type": "code",
      "source": [
        "from langchain.schema.runnable import RunnablePassthrough\n",
        "\n",
        "final_chain = (\n",
        "    RunnablePassthrough.assign(orig_lang=llm_chain1)\n",
        "      |\n",
        "    RunnablePassthrough.assign(trans_msg=llm_chain2)\n",
        "      |\n",
        "    RunnablePassthrough.assign(trans_response=llm_chain3)\n",
        "      |\n",
        "    RunnablePassthrough.assign(orig_response=llm_chain4)\n",
        ")"
      ],
      "metadata": {
        "id": "fzP8oKudqbHE"
      },
      "execution_count": 14,
      "outputs": []
    },
    {
      "cell_type": "code",
      "source": [
        "{'orig_msg': it_support_queue[1]}"
      ],
      "metadata": {
        "colab": {
          "base_uri": "https://localhost:8080/"
        },
        "id": "zO7RQf62q-oZ",
        "outputId": "7e10a7a7-7dd4-4b03-9d14-466012f0dddb"
      },
      "execution_count": 15,
      "outputs": [
        {
          "output_type": "execute_result",
          "data": {
            "text/plain": [
              "{'orig_msg': 'Tengo problemas con la VPN. No puedo conectarme a la red de la empresa. ¿Pueden ayudarme, por favor?'}"
            ]
          },
          "metadata": {},
          "execution_count": 15
        }
      ]
    },
    {
      "cell_type": "code",
      "source": [
        "response = final_chain.invoke({'orig_msg': it_support_queue[1]})\n",
        "response"
      ],
      "metadata": {
        "colab": {
          "base_uri": "https://localhost:8080/"
        },
        "id": "VDqNeijXrFJq",
        "outputId": "8a98052e-e7d0-42cc-ac28-12bef49310b9"
      },
      "execution_count": 16,
      "outputs": [
        {
          "output_type": "execute_result",
          "data": {
            "text/plain": [
              "{'orig_msg': 'Tengo problemas con la VPN. No puedo conectarme a la red de la empresa. ¿Pueden ayudarme, por favor?',\n",
              " 'orig_lang': 'Spanish',\n",
              " 'trans_msg': \"I'm having issues with the VPN. I can't connect to the company's network. Can you help me, please?\",\n",
              " 'trans_response': \"Resolution Response:\\nI'm sorry to hear that you're experiencing issues with the VPN. To troubleshoot this problem, please make sure you have the correct login credentials and that your internet connection is stable. If the issue persists, please contact your IT department for further assistance. Thank you for reaching out.\",\n",
              " 'orig_response': '```Resolución de la respuesta:\\nLamento escuchar que estás experimentando problemas con la VPN. Para solucionar este problema, asegúrate de tener las credenciales de inicio de sesión correctas y de que tu conexión a Internet sea estable. Si el problema persiste, por favor contacta a tu departamento de TI para obtener más ayuda. Gracias por comunicarte.```'}"
            ]
          },
          "metadata": {},
          "execution_count": 16
        }
      ]
    },
    {
      "cell_type": "code",
      "source": [
        "it_support_queue"
      ],
      "metadata": {
        "colab": {
          "base_uri": "https://localhost:8080/"
        },
        "id": "hm8K8nZkrHP7",
        "outputId": "1cf3380d-395d-43cf-8c21-9e8bf2e607d7"
      },
      "execution_count": 17,
      "outputs": [
        {
          "output_type": "execute_result",
          "data": {
            "text/plain": [
              "[\"I can't access my email. It keeps showing an error message. Please help.\",\n",
              " 'Tengo problemas con la VPN. No puedo conectarme a la red de la empresa. ¿Pueden ayudarme, por favor?',\n",
              " \"Mon imprimante ne répond pas et n'imprime plus. J'ai besoin d'aide pour la réparer.\",\n",
              " '我无法访问公司的网站。每次都显示错误信息。请帮忙解决。']"
            ]
          },
          "metadata": {},
          "execution_count": 17
        }
      ]
    },
    {
      "cell_type": "code",
      "source": [
        "it_support_queue_formatted = [{'orig_msg': msg} for msg in it_support_queue]\n",
        "it_support_queue_formatted"
      ],
      "metadata": {
        "colab": {
          "base_uri": "https://localhost:8080/"
        },
        "id": "mWlf-mfvrNfU",
        "outputId": "69e11809-68ce-491a-e69d-76ec6d55565b"
      },
      "execution_count": 18,
      "outputs": [
        {
          "output_type": "execute_result",
          "data": {
            "text/plain": [
              "[{'orig_msg': \"I can't access my email. It keeps showing an error message. Please help.\"},\n",
              " {'orig_msg': 'Tengo problemas con la VPN. No puedo conectarme a la red de la empresa. ¿Pueden ayudarme, por favor?'},\n",
              " {'orig_msg': \"Mon imprimante ne répond pas et n'imprime plus. J'ai besoin d'aide pour la réparer.\"},\n",
              " {'orig_msg': '我无法访问公司的网站。每次都显示错误信息。请帮忙解决。'}]"
            ]
          },
          "metadata": {},
          "execution_count": 18
        }
      ]
    },
    {
      "cell_type": "code",
      "source": [
        "responses = final_chain.map().invoke(it_support_queue_formatted)"
      ],
      "metadata": {
        "id": "ReJ3ceearPDx"
      },
      "execution_count": 19,
      "outputs": []
    },
    {
      "cell_type": "code",
      "source": [
        "import pandas as pd\n",
        "pd.DataFrame(responses)"
      ],
      "metadata": {
        "colab": {
          "base_uri": "https://localhost:8080/",
          "height": 244
        },
        "id": "wmQoEijErRr6",
        "outputId": "092ced7b-e8c5-4507-ec37-0ad2b7ecd8bb"
      },
      "execution_count": 20,
      "outputs": [
        {
          "output_type": "execute_result",
          "data": {
            "text/plain": [
              "                                            orig_msg orig_lang  \\\n",
              "0  I can't access my email. It keeps showing an e...   English   \n",
              "1  Tengo problemas con la VPN. No puedo conectarm...   Spanish   \n",
              "2  Mon imprimante ne répond pas et n'imprime plus...    French   \n",
              "3                        我无法访问公司的网站。每次都显示错误信息。请帮忙解决。   Chinese   \n",
              "\n",
              "                                           trans_msg  \\\n",
              "0  I can't access my email. It keeps showing an e...   \n",
              "1  I am having issues with the VPN. I cannot conn...   \n",
              "2  My printer is not responding and not printing ...   \n",
              "3  I cannot access the company's website. An erro...   \n",
              "\n",
              "                                      trans_response  \\\n",
              "0  Resolution:\\nI apologize for the inconvenience...   \n",
              "1  Resolution:\\nI'm sorry to hear that you're exp...   \n",
              "2  Resolution:\\nI'm sorry to hear that you're exp...   \n",
              "3  Resolution:\\nI apologize for the inconvenience...   \n",
              "\n",
              "                                       orig_response  \n",
              "0  Resolution:\\nI apologize for the inconvenience...  \n",
              "1  ```Resolución:\\nLamento escuchar que estás exp...  \n",
              "2  Résolution:\\nJe suis désolé d'apprendre que vo...  \n",
              "3  ```Resolution:\\n对于您正在经历的不便，我感到抱歉。为了更好地帮助您，您能否提...  "
            ],
            "text/html": [
              "\n",
              "  <div id=\"df-c802ff42-8a97-4c27-b634-8bda2beffbe4\" class=\"colab-df-container\">\n",
              "    <div>\n",
              "<style scoped>\n",
              "    .dataframe tbody tr th:only-of-type {\n",
              "        vertical-align: middle;\n",
              "    }\n",
              "\n",
              "    .dataframe tbody tr th {\n",
              "        vertical-align: top;\n",
              "    }\n",
              "\n",
              "    .dataframe thead th {\n",
              "        text-align: right;\n",
              "    }\n",
              "</style>\n",
              "<table border=\"1\" class=\"dataframe\">\n",
              "  <thead>\n",
              "    <tr style=\"text-align: right;\">\n",
              "      <th></th>\n",
              "      <th>orig_msg</th>\n",
              "      <th>orig_lang</th>\n",
              "      <th>trans_msg</th>\n",
              "      <th>trans_response</th>\n",
              "      <th>orig_response</th>\n",
              "    </tr>\n",
              "  </thead>\n",
              "  <tbody>\n",
              "    <tr>\n",
              "      <th>0</th>\n",
              "      <td>I can't access my email. It keeps showing an e...</td>\n",
              "      <td>English</td>\n",
              "      <td>I can't access my email. It keeps showing an e...</td>\n",
              "      <td>Resolution:\\nI apologize for the inconvenience...</td>\n",
              "      <td>Resolution:\\nI apologize for the inconvenience...</td>\n",
              "    </tr>\n",
              "    <tr>\n",
              "      <th>1</th>\n",
              "      <td>Tengo problemas con la VPN. No puedo conectarm...</td>\n",
              "      <td>Spanish</td>\n",
              "      <td>I am having issues with the VPN. I cannot conn...</td>\n",
              "      <td>Resolution:\\nI'm sorry to hear that you're exp...</td>\n",
              "      <td>```Resolución:\\nLamento escuchar que estás exp...</td>\n",
              "    </tr>\n",
              "    <tr>\n",
              "      <th>2</th>\n",
              "      <td>Mon imprimante ne répond pas et n'imprime plus...</td>\n",
              "      <td>French</td>\n",
              "      <td>My printer is not responding and not printing ...</td>\n",
              "      <td>Resolution:\\nI'm sorry to hear that you're exp...</td>\n",
              "      <td>Résolution:\\nJe suis désolé d'apprendre que vo...</td>\n",
              "    </tr>\n",
              "    <tr>\n",
              "      <th>3</th>\n",
              "      <td>我无法访问公司的网站。每次都显示错误信息。请帮忙解决。</td>\n",
              "      <td>Chinese</td>\n",
              "      <td>I cannot access the company's website. An erro...</td>\n",
              "      <td>Resolution:\\nI apologize for the inconvenience...</td>\n",
              "      <td>```Resolution:\\n对于您正在经历的不便，我感到抱歉。为了更好地帮助您，您能否提...</td>\n",
              "    </tr>\n",
              "  </tbody>\n",
              "</table>\n",
              "</div>\n",
              "    <div class=\"colab-df-buttons\">\n",
              "\n",
              "  <div class=\"colab-df-container\">\n",
              "    <button class=\"colab-df-convert\" onclick=\"convertToInteractive('df-c802ff42-8a97-4c27-b634-8bda2beffbe4')\"\n",
              "            title=\"Convert this dataframe to an interactive table.\"\n",
              "            style=\"display:none;\">\n",
              "\n",
              "  <svg xmlns=\"http://www.w3.org/2000/svg\" height=\"24px\" viewBox=\"0 -960 960 960\">\n",
              "    <path d=\"M120-120v-720h720v720H120Zm60-500h600v-160H180v160Zm220 220h160v-160H400v160Zm0 220h160v-160H400v160ZM180-400h160v-160H180v160Zm440 0h160v-160H620v160ZM180-180h160v-160H180v160Zm440 0h160v-160H620v160Z\"/>\n",
              "  </svg>\n",
              "    </button>\n",
              "\n",
              "  <style>\n",
              "    .colab-df-container {\n",
              "      display:flex;\n",
              "      gap: 12px;\n",
              "    }\n",
              "\n",
              "    .colab-df-convert {\n",
              "      background-color: #E8F0FE;\n",
              "      border: none;\n",
              "      border-radius: 50%;\n",
              "      cursor: pointer;\n",
              "      display: none;\n",
              "      fill: #1967D2;\n",
              "      height: 32px;\n",
              "      padding: 0 0 0 0;\n",
              "      width: 32px;\n",
              "    }\n",
              "\n",
              "    .colab-df-convert:hover {\n",
              "      background-color: #E2EBFA;\n",
              "      box-shadow: 0px 1px 2px rgba(60, 64, 67, 0.3), 0px 1px 3px 1px rgba(60, 64, 67, 0.15);\n",
              "      fill: #174EA6;\n",
              "    }\n",
              "\n",
              "    .colab-df-buttons div {\n",
              "      margin-bottom: 4px;\n",
              "    }\n",
              "\n",
              "    [theme=dark] .colab-df-convert {\n",
              "      background-color: #3B4455;\n",
              "      fill: #D2E3FC;\n",
              "    }\n",
              "\n",
              "    [theme=dark] .colab-df-convert:hover {\n",
              "      background-color: #434B5C;\n",
              "      box-shadow: 0px 1px 3px 1px rgba(0, 0, 0, 0.15);\n",
              "      filter: drop-shadow(0px 1px 2px rgba(0, 0, 0, 0.3));\n",
              "      fill: #FFFFFF;\n",
              "    }\n",
              "  </style>\n",
              "\n",
              "    <script>\n",
              "      const buttonEl =\n",
              "        document.querySelector('#df-c802ff42-8a97-4c27-b634-8bda2beffbe4 button.colab-df-convert');\n",
              "      buttonEl.style.display =\n",
              "        google.colab.kernel.accessAllowed ? 'block' : 'none';\n",
              "\n",
              "      async function convertToInteractive(key) {\n",
              "        const element = document.querySelector('#df-c802ff42-8a97-4c27-b634-8bda2beffbe4');\n",
              "        const dataTable =\n",
              "          await google.colab.kernel.invokeFunction('convertToInteractive',\n",
              "                                                    [key], {});\n",
              "        if (!dataTable) return;\n",
              "\n",
              "        const docLinkHtml = 'Like what you see? Visit the ' +\n",
              "          '<a target=\"_blank\" href=https://colab.research.google.com/notebooks/data_table.ipynb>data table notebook</a>'\n",
              "          + ' to learn more about interactive tables.';\n",
              "        element.innerHTML = '';\n",
              "        dataTable['output_type'] = 'display_data';\n",
              "        await google.colab.output.renderOutput(dataTable, element);\n",
              "        const docLink = document.createElement('div');\n",
              "        docLink.innerHTML = docLinkHtml;\n",
              "        element.appendChild(docLink);\n",
              "      }\n",
              "    </script>\n",
              "  </div>\n",
              "\n",
              "\n",
              "<div id=\"df-46c8df35-64e9-4b0e-a123-8283243f963e\">\n",
              "  <button class=\"colab-df-quickchart\" onclick=\"quickchart('df-46c8df35-64e9-4b0e-a123-8283243f963e')\"\n",
              "            title=\"Suggest charts\"\n",
              "            style=\"display:none;\">\n",
              "\n",
              "<svg xmlns=\"http://www.w3.org/2000/svg\" height=\"24px\"viewBox=\"0 0 24 24\"\n",
              "     width=\"24px\">\n",
              "    <g>\n",
              "        <path d=\"M19 3H5c-1.1 0-2 .9-2 2v14c0 1.1.9 2 2 2h14c1.1 0 2-.9 2-2V5c0-1.1-.9-2-2-2zM9 17H7v-7h2v7zm4 0h-2V7h2v10zm4 0h-2v-4h2v4z\"/>\n",
              "    </g>\n",
              "</svg>\n",
              "  </button>\n",
              "\n",
              "<style>\n",
              "  .colab-df-quickchart {\n",
              "      --bg-color: #E8F0FE;\n",
              "      --fill-color: #1967D2;\n",
              "      --hover-bg-color: #E2EBFA;\n",
              "      --hover-fill-color: #174EA6;\n",
              "      --disabled-fill-color: #AAA;\n",
              "      --disabled-bg-color: #DDD;\n",
              "  }\n",
              "\n",
              "  [theme=dark] .colab-df-quickchart {\n",
              "      --bg-color: #3B4455;\n",
              "      --fill-color: #D2E3FC;\n",
              "      --hover-bg-color: #434B5C;\n",
              "      --hover-fill-color: #FFFFFF;\n",
              "      --disabled-bg-color: #3B4455;\n",
              "      --disabled-fill-color: #666;\n",
              "  }\n",
              "\n",
              "  .colab-df-quickchart {\n",
              "    background-color: var(--bg-color);\n",
              "    border: none;\n",
              "    border-radius: 50%;\n",
              "    cursor: pointer;\n",
              "    display: none;\n",
              "    fill: var(--fill-color);\n",
              "    height: 32px;\n",
              "    padding: 0;\n",
              "    width: 32px;\n",
              "  }\n",
              "\n",
              "  .colab-df-quickchart:hover {\n",
              "    background-color: var(--hover-bg-color);\n",
              "    box-shadow: 0 1px 2px rgba(60, 64, 67, 0.3), 0 1px 3px 1px rgba(60, 64, 67, 0.15);\n",
              "    fill: var(--button-hover-fill-color);\n",
              "  }\n",
              "\n",
              "  .colab-df-quickchart-complete:disabled,\n",
              "  .colab-df-quickchart-complete:disabled:hover {\n",
              "    background-color: var(--disabled-bg-color);\n",
              "    fill: var(--disabled-fill-color);\n",
              "    box-shadow: none;\n",
              "  }\n",
              "\n",
              "  .colab-df-spinner {\n",
              "    border: 2px solid var(--fill-color);\n",
              "    border-color: transparent;\n",
              "    border-bottom-color: var(--fill-color);\n",
              "    animation:\n",
              "      spin 1s steps(1) infinite;\n",
              "  }\n",
              "\n",
              "  @keyframes spin {\n",
              "    0% {\n",
              "      border-color: transparent;\n",
              "      border-bottom-color: var(--fill-color);\n",
              "      border-left-color: var(--fill-color);\n",
              "    }\n",
              "    20% {\n",
              "      border-color: transparent;\n",
              "      border-left-color: var(--fill-color);\n",
              "      border-top-color: var(--fill-color);\n",
              "    }\n",
              "    30% {\n",
              "      border-color: transparent;\n",
              "      border-left-color: var(--fill-color);\n",
              "      border-top-color: var(--fill-color);\n",
              "      border-right-color: var(--fill-color);\n",
              "    }\n",
              "    40% {\n",
              "      border-color: transparent;\n",
              "      border-right-color: var(--fill-color);\n",
              "      border-top-color: var(--fill-color);\n",
              "    }\n",
              "    60% {\n",
              "      border-color: transparent;\n",
              "      border-right-color: var(--fill-color);\n",
              "    }\n",
              "    80% {\n",
              "      border-color: transparent;\n",
              "      border-right-color: var(--fill-color);\n",
              "      border-bottom-color: var(--fill-color);\n",
              "    }\n",
              "    90% {\n",
              "      border-color: transparent;\n",
              "      border-bottom-color: var(--fill-color);\n",
              "    }\n",
              "  }\n",
              "</style>\n",
              "\n",
              "  <script>\n",
              "    async function quickchart(key) {\n",
              "      const quickchartButtonEl =\n",
              "        document.querySelector('#' + key + ' button');\n",
              "      quickchartButtonEl.disabled = true;  // To prevent multiple clicks.\n",
              "      quickchartButtonEl.classList.add('colab-df-spinner');\n",
              "      try {\n",
              "        const charts = await google.colab.kernel.invokeFunction(\n",
              "            'suggestCharts', [key], {});\n",
              "      } catch (error) {\n",
              "        console.error('Error during call to suggestCharts:', error);\n",
              "      }\n",
              "      quickchartButtonEl.classList.remove('colab-df-spinner');\n",
              "      quickchartButtonEl.classList.add('colab-df-quickchart-complete');\n",
              "    }\n",
              "    (() => {\n",
              "      let quickchartButtonEl =\n",
              "        document.querySelector('#df-46c8df35-64e9-4b0e-a123-8283243f963e button');\n",
              "      quickchartButtonEl.style.display =\n",
              "        google.colab.kernel.accessAllowed ? 'block' : 'none';\n",
              "    })();\n",
              "  </script>\n",
              "</div>\n",
              "\n",
              "    </div>\n",
              "  </div>\n"
            ],
            "application/vnd.google.colaboratory.intrinsic+json": {
              "type": "dataframe",
              "summary": "{\n  \"name\": \"pd\",\n  \"rows\": 4,\n  \"fields\": [\n    {\n      \"column\": \"orig_msg\",\n      \"properties\": {\n        \"dtype\": \"string\",\n        \"num_unique_values\": 4,\n        \"samples\": [\n          \"Tengo problemas con la VPN. No puedo conectarme a la red de la empresa. \\u00bfPueden ayudarme, por favor?\",\n          \"\\u6211\\u65e0\\u6cd5\\u8bbf\\u95ee\\u516c\\u53f8\\u7684\\u7f51\\u7ad9\\u3002\\u6bcf\\u6b21\\u90fd\\u663e\\u793a\\u9519\\u8bef\\u4fe1\\u606f\\u3002\\u8bf7\\u5e2e\\u5fd9\\u89e3\\u51b3\\u3002\",\n          \"I can't access my email. It keeps showing an error message. Please help.\"\n        ],\n        \"semantic_type\": \"\",\n        \"description\": \"\"\n      }\n    },\n    {\n      \"column\": \"orig_lang\",\n      \"properties\": {\n        \"dtype\": \"string\",\n        \"num_unique_values\": 4,\n        \"samples\": [\n          \"Spanish\",\n          \"Chinese\",\n          \"English\"\n        ],\n        \"semantic_type\": \"\",\n        \"description\": \"\"\n      }\n    },\n    {\n      \"column\": \"trans_msg\",\n      \"properties\": {\n        \"dtype\": \"string\",\n        \"num_unique_values\": 4,\n        \"samples\": [\n          \"I am having issues with the VPN. I cannot connect to the company's network. Can you please help me?\",\n          \"I cannot access the company's website. An error message keeps showing up every time. Please help me solve this.\",\n          \"I can't access my email. It keeps showing an error message. Please help.\"\n        ],\n        \"semantic_type\": \"\",\n        \"description\": \"\"\n      }\n    },\n    {\n      \"column\": \"trans_response\",\n      \"properties\": {\n        \"dtype\": \"string\",\n        \"num_unique_values\": 4,\n        \"samples\": [\n          \"Resolution:\\nI'm sorry to hear that you're experiencing issues with the VPN. To troubleshoot this problem, please try restarting your device and then reconnecting to the VPN. If the issue persists, please contact your IT department for further assistance. Thank you for reaching out.\",\n          \"Resolution:\\nI apologize for the inconvenience you are experiencing. To better assist you, could you please provide me with the specific error message that you are receiving? This information will help us identify the issue and work towards resolving it as quickly as possible. Thank you for your patience.\",\n          \"Resolution:\\nI apologize for the inconvenience you are experiencing with accessing your email. To better assist you, could you please provide more details about the error message you are receiving? This will help us identify the issue and provide you with a solution. Thank you for your patience.\"\n        ],\n        \"semantic_type\": \"\",\n        \"description\": \"\"\n      }\n    },\n    {\n      \"column\": \"orig_response\",\n      \"properties\": {\n        \"dtype\": \"string\",\n        \"num_unique_values\": 4,\n        \"samples\": [\n          \"```Resoluci\\u00f3n:\\nLamento escuchar que est\\u00e1s experimentando problemas con la VPN. Para solucionar este problema, por favor intenta reiniciar tu dispositivo y luego reconectar a la VPN. Si el problema persiste, por favor contacta a tu departamento de IT para obtener m\\u00e1s ayuda. Gracias por comunicarte.```\",\n          \"```Resolution:\\n\\u5bf9\\u4e8e\\u60a8\\u6b63\\u5728\\u7ecf\\u5386\\u7684\\u4e0d\\u4fbf\\uff0c\\u6211\\u611f\\u5230\\u62b1\\u6b49\\u3002\\u4e3a\\u4e86\\u66f4\\u597d\\u5730\\u5e2e\\u52a9\\u60a8\\uff0c\\u60a8\\u80fd\\u5426\\u63d0\\u4f9b\\u60a8\\u6536\\u5230\\u7684\\u5177\\u4f53\\u9519\\u8bef\\u6d88\\u606f\\uff1f\\u8fd9\\u4e9b\\u4fe1\\u606f\\u5c06\\u5e2e\\u52a9\\u6211\\u4eec\\u786e\\u5b9a\\u95ee\\u9898\\u5e76\\u5c3d\\u5feb\\u89e3\\u51b3\\u5b83\\u3002\\u611f\\u8c22\\u60a8\\u7684\\u8010\\u5fc3\\u7b49\\u5f85\\u3002```\",\n          \"Resolution:\\nI apologize for the inconvenience you are experiencing with accessing your email. To better assist you, could you please provide more details about the error message you are receiving? This will help us identify the issue and provide you with a solution. Thank you for your patience.```\"\n        ],\n        \"semantic_type\": \"\",\n        \"description\": \"\"\n      }\n    }\n  ]\n}"
            }
          },
          "metadata": {},
          "execution_count": 20
        }
      ]
    },
    {
      "cell_type": "markdown",
      "source": [
        "## Branching and Merging Chains with LCEL\n",
        "\n",
        "The idea here is to have multiple branching LLM Chains which work independently in parallel and then we merge their outputs finally using a merge LLM chain at the end to get a consolidated output"
      ],
      "metadata": {
        "id": "0ekTEO8RrUEo"
      }
    },
    {
      "cell_type": "code",
      "source": [
        "description_prompt =  ChatPromptTemplate.from_template(\n",
        "    \"\"\"Generate a two line description for the given topic:\n",
        "      {topic}\n",
        "\"\"\")\n",
        "\n",
        "description_chain = (\n",
        "    description_prompt\n",
        "        |\n",
        "    chatgpt\n",
        "        |\n",
        "    StrOutputParser()\n",
        ")"
      ],
      "metadata": {
        "id": "iY1M1hAzyEC8"
      },
      "execution_count": 21,
      "outputs": []
    },
    {
      "cell_type": "code",
      "source": [
        "pro_prompt = ChatPromptTemplate.from_template(\n",
        "    \"\"\"Generate three bullet points talking about the pros for the given topic:\n",
        "      {topic}\n",
        "\"\"\")\n",
        "\n",
        "pro_chain = (\n",
        "    pro_prompt\n",
        "        |\n",
        "    chatgpt\n",
        "        |\n",
        "    StrOutputParser()\n",
        ")"
      ],
      "metadata": {
        "id": "upH7NSpyyMOx"
      },
      "execution_count": 22,
      "outputs": []
    },
    {
      "cell_type": "code",
      "source": [
        "con_prompt = ChatPromptTemplate.from_template(\n",
        "    \"\"\"Generate three bullet points talking about the cons for the given topic:\n",
        "      {topic}\n",
        "\"\"\")\n",
        "\n",
        "con_chain = (\n",
        "    con_prompt\n",
        "        |\n",
        "    chatgpt\n",
        "        |\n",
        "    StrOutputParser()\n",
        ")"
      ],
      "metadata": {
        "id": "yei6wqhYyOs8"
      },
      "execution_count": 23,
      "outputs": []
    },
    {
      "cell_type": "code",
      "source": [
        "from operator import itemgetter\n",
        "from langchain_core.runnables import RunnableParallel, RunnablePassthrough\n",
        "\n",
        "branch_chain = (\n",
        "    RunnableParallel(\n",
        "        topic=itemgetter('topic'),\n",
        "        description=description_chain,\n",
        "        pros=pro_chain,\n",
        "        cons=con_chain,\n",
        "    )\n",
        ")"
      ],
      "metadata": {
        "id": "7kw78h3wyQ1h"
      },
      "execution_count": 24,
      "outputs": []
    },
    {
      "cell_type": "code",
      "source": [
        "branch_chain.invoke({\"topic\": \"Generative AI\"})"
      ],
      "metadata": {
        "colab": {
          "base_uri": "https://localhost:8080/"
        },
        "id": "M6XOo5P8yWbE",
        "outputId": "5eddd4ef-59e6-4149-d847-dcda9030fcd3"
      },
      "execution_count": 25,
      "outputs": [
        {
          "output_type": "execute_result",
          "data": {
            "text/plain": [
              "{'topic': 'Generative AI',\n",
              " 'description': 'Generative AI is a branch of artificial intelligence that focuses on creating new content, such as images, text, or music, using algorithms and machine learning techniques. It has the ability to generate realistic and original content that mimics human creativity.',\n",
              " 'pros': '- Can create unique and original content quickly and efficiently\\n- Can assist in automating tasks that would be time-consuming for humans\\n- Can help businesses personalize their products and services for customers',\n",
              " 'cons': '- Lack of control: Generative AI algorithms can sometimes produce unexpected or undesirable outputs, making it difficult for users to control the final result.\\n- Ethical concerns: There are ethical implications surrounding the use of generative AI, such as the potential for misuse or bias in the generated content.\\n- Quality issues: The quality of the content generated by AI may not always meet the standards of human creativity, leading to subpar results.'}"
            ]
          },
          "metadata": {},
          "execution_count": 25
        }
      ]
    },
    {
      "cell_type": "code",
      "source": [
        "merge_prompt = ChatPromptTemplate.from_template(\n",
        "    \"\"\"Create a report about {topic} with the following information:\n",
        "      Description:\n",
        "      {description}\n",
        "      Pros:\n",
        "      {pros}\n",
        "      Cons:\n",
        "      {cons}\n",
        "\n",
        "      Report should be in the following format:\n",
        "\n",
        "      Topic: <name of the topic>\n",
        "\n",
        "      Description: <description of the topic>\n",
        "\n",
        "      Pros and Cons:\n",
        "\n",
        "      <table with two columns showing the 3 pros and cons of the topic>\n",
        "\"\"\")\n",
        "\n",
        "merge_chain = (\n",
        "    merge_prompt\n",
        "        |\n",
        "    chatgpt\n",
        "        |\n",
        "    StrOutputParser()\n",
        ")"
      ],
      "metadata": {
        "id": "9zfdLfRoyYFM"
      },
      "execution_count": 26,
      "outputs": []
    },
    {
      "cell_type": "code",
      "source": [
        "final_chain = (\n",
        "    branch_chain\n",
        "      |\n",
        "    merge_chain\n",
        ")"
      ],
      "metadata": {
        "id": "WH_w7G3Kyjuu"
      },
      "execution_count": 27,
      "outputs": []
    },
    {
      "cell_type": "code",
      "source": [
        "response = final_chain.invoke({\"topic\": \"Generative AI\"})"
      ],
      "metadata": {
        "id": "PGpcR5pYymoH"
      },
      "execution_count": 28,
      "outputs": []
    },
    {
      "cell_type": "code",
      "source": [
        "from IPython.display import Markdown, display\n",
        "\n",
        "display(Markdown(response))"
      ],
      "metadata": {
        "colab": {
          "base_uri": "https://localhost:8080/",
          "height": 289
        },
        "id": "axnn_odZypCt",
        "outputId": "c567392c-336f-431d-bf6a-0bd1f9e6368a"
      },
      "execution_count": 29,
      "outputs": [
        {
          "output_type": "display_data",
          "data": {
            "text/plain": [
              "<IPython.core.display.Markdown object>"
            ],
            "text/markdown": "Topic: Generative AI\n\nDescription: Generative AI is a branch of artificial intelligence that focuses on creating new content, such as images, text, or music, using algorithms and machine learning techniques. It has the ability to generate realistic and original content that can be used in various creative applications.\n\nPros and Cons:\n\n| Pros                                               | Cons                                                                 |\n|----------------------------------------------------|----------------------------------------------------------------------|\n| Can create unique and original content quickly and efficiently | Lack of control: Generative AI can sometimes produce unexpected or undesirable results, as it operates autonomously and may not always align with the creator's intentions. |\n| Can assist in automating tasks that would be time-consuming for humans | Ethical concerns: There are ethical implications surrounding the use of generative AI, such as issues related to bias, privacy, and ownership of the generated content. |\n| Can help businesses and individuals generate new ideas and solutions by exploring vast amounts of data | Potential for misuse: Generative AI can be used for malicious purposes, such as creating fake news, deepfakes, or other forms of misinformation. |"
          },
          "metadata": {}
        }
      ]
    },
    {
      "cell_type": "markdown",
      "source": [
        "## Routing Chains with LCEL\n",
        "\n",
        "The idea here is to have multiple individual LLM Chains which can perform their own tasks like summarize, sentiment etc.\n",
        "\n",
        "We also have a router chain which can classify the user prompt intent and then route the user prompt to the relevant LLM Chain e.g if the user wants to summarize an article, his prompt request would be routed to the summarize chain automatically to get the result"
      ],
      "metadata": {
        "id": "jucUQr1J5nme"
      }
    },
    {
      "cell_type": "code",
      "source": [
        "from langchain_core.prompts import ChatPromptTemplate\n",
        "from langchain_core.output_parsers import StrOutputParser\n",
        "\n",
        "classifier_prompt = ChatPromptTemplate.from_template(\n",
        "        \"\"\"Given the user instructions below for analyzing customer review,\n",
        "           classify it as only one of the following categories:\n",
        "            - summarize\n",
        "            - sentiment\n",
        "            - email\n",
        "\n",
        "          Do not respond with more than one word.\n",
        "\n",
        "          Instructions:\n",
        "          {instruction}\n",
        "\"\"\")\n",
        "\n",
        "classifier_chain = (\n",
        "    classifier_prompt\n",
        "        |\n",
        "    chatgpt\n",
        "        |\n",
        "    StrOutputParser()\n",
        ")"
      ],
      "metadata": {
        "id": "C4_aG99j5oc5"
      },
      "execution_count": 30,
      "outputs": []
    },
    {
      "cell_type": "code",
      "source": [
        "summary_prompt = ChatPromptTemplate.from_template(\n",
        "    \"\"\"Act as a customer review analyst, given the following customer review,\n",
        "       generate a short summary (max 2 lines) of the review.\n",
        "\n",
        "       Customer Review:\n",
        "       {review}\n",
        "\"\"\")\n",
        "\n",
        "summary_chain = (\n",
        "    summary_prompt\n",
        "        |\n",
        "    chatgpt\n",
        "        |\n",
        "    StrOutputParser()\n",
        ")"
      ],
      "metadata": {
        "id": "zh29kACc6wsL"
      },
      "execution_count": 31,
      "outputs": []
    },
    {
      "cell_type": "code",
      "source": [
        "sentiment_prompt = ChatPromptTemplate.from_template(\n",
        "    \"\"\"Act as a customer review analyst, given the following customer review,\n",
        "       find out the sentiment of the review.\n",
        "       The sentiment can be either positive, negative or neutral.\n",
        "       Return the result as a single word.\n",
        "\n",
        "       Customer Review:\n",
        "       {review}\n",
        "\"\"\")\n",
        "\n",
        "sentiment_chain = (\n",
        "    sentiment_prompt\n",
        "        |\n",
        "    chatgpt\n",
        "        |\n",
        "    StrOutputParser()\n",
        ")"
      ],
      "metadata": {
        "id": "S0i_yK4k62AI"
      },
      "execution_count": 32,
      "outputs": []
    },
    {
      "cell_type": "code",
      "source": [
        "email_prompt = ChatPromptTemplate.from_template(\n",
        "    \"\"\"Act as a customer review analyst,\n",
        "    given the following customer review and its sentiment\n",
        "    generate an email response to the customer based on the following conditions.\n",
        "     - If the sentiment is positive or neutral thank them for their review\n",
        "     - If the sentiment is negative, apologize to them\n",
        "\n",
        "    Customer Review:\n",
        "    {review}\n",
        "    Sentiment:\n",
        "    {sentiment}\n",
        "\"\"\")\n",
        "\n",
        "email_chain = (\n",
        "    email_prompt\n",
        "        |\n",
        "    chatgpt\n",
        "        |\n",
        "    StrOutputParser()\n",
        ")"
      ],
      "metadata": {
        "id": "KvMrI2j-673P"
      },
      "execution_count": 33,
      "outputs": []
    },
    {
      "cell_type": "code",
      "source": [
        "def default_answer(query):\n",
        "  return \"Sorry instructions are not the defined intents\""
      ],
      "metadata": {
        "id": "r9ws1Jcl6_2M"
      },
      "execution_count": 34,
      "outputs": []
    },
    {
      "cell_type": "code",
      "source": [
        "from langchain_core.runnables import RunnableBranch\n",
        "\n",
        "branch = RunnableBranch(\n",
        "    (lambda x: \"summarize\" in x[\"topic\"].lower(), summary_chain),\n",
        "    (lambda x: \"sentiment\" in x[\"topic\"].lower(), sentiment_chain),\n",
        "    (lambda x: \"email\" in x[\"topic\"].lower(), email_chain),\n",
        "    default_answer,\n",
        ")"
      ],
      "metadata": {
        "id": "iI63FKjz7EtX"
      },
      "execution_count": 35,
      "outputs": []
    },
    {
      "cell_type": "code",
      "source": [
        "full_chain = ({\n",
        "                \"topic\": classifier_chain,\n",
        "                \"instruction\": lambda input_prompt: input_prompt.get(\"instruction\"),\n",
        "                \"review\": lambda input_prompt: input_prompt.get(\"review\"),\n",
        "                \"sentiment\": lambda input_prompt: input_prompt.get(\"sentiment\")\n",
        "\n",
        "              }\n",
        "                  |\n",
        "                branch)"
      ],
      "metadata": {
        "id": "TFfTrP3g7Kyn"
      },
      "execution_count": 36,
      "outputs": []
    },
    {
      "cell_type": "code",
      "source": [
        "sample_review = \"\"\"\n",
        "    Required a stylish lamp for my office space, and this particular one\n",
        "    came with added storage at a reasonable price.\n",
        "    The delivery was surprisingly quick, arriving within just two days.\n",
        "    However, the pull string for the lamp suffered damage during transit.\n",
        "    To my relief, the company promptly dispatched a replacement,\n",
        "    which arrived within a few days. Assembly was a breeze.\n",
        "    Then, I encountered an issue with a missing component,\n",
        "    but their support team responded swiftly and provided the missing part.\n",
        "    It appears to be a commendable company that genuinely values its\n",
        "    customers and the quality of its products.\n",
        "\"\"\""
      ],
      "metadata": {
        "id": "D90JkvrA7RQB"
      },
      "execution_count": 37,
      "outputs": []
    },
    {
      "cell_type": "code",
      "source": [
        "summary = full_chain.invoke({\"instruction\": \"Generate a summary for the given review\",\n",
        "                   \"review\": sample_review})\n",
        "print(summary)"
      ],
      "metadata": {
        "colab": {
          "base_uri": "https://localhost:8080/"
        },
        "id": "tfS4YDtK7TXU",
        "outputId": "e3762969-3bbd-4c36-b720-d427243a8218"
      },
      "execution_count": 38,
      "outputs": [
        {
          "output_type": "stream",
          "name": "stdout",
          "text": [
            "Summary: Stylish lamp with added storage, quick delivery, prompt replacement for damaged parts, excellent customer support for missing components.\n"
          ]
        }
      ]
    },
    {
      "cell_type": "code",
      "source": [
        "sentiment = full_chain.invoke({\"instruction\": \"Find out the sentiment of the customer in the review\",\n",
        "                   \"review\": sample_review})\n",
        "print(sentiment)"
      ],
      "metadata": {
        "colab": {
          "base_uri": "https://localhost:8080/"
        },
        "id": "JeA0_IJT7YRL",
        "outputId": "a7dc4022-0c05-41f8-821f-6a496d936cf3"
      },
      "execution_count": 39,
      "outputs": [
        {
          "output_type": "stream",
          "name": "stdout",
          "text": [
            "Positive\n"
          ]
        }
      ]
    },
    {
      "cell_type": "code",
      "source": [
        "response = full_chain.invoke({\"instruction\": \"Write an email for the given customer review\",\n",
        "                              \"review\": sample_review,\n",
        "                              \"sentiment\": sentiment})\n",
        "print(response)"
      ],
      "metadata": {
        "colab": {
          "base_uri": "https://localhost:8080/"
        },
        "id": "NqsuoLiJ7cEw",
        "outputId": "df406b24-b732-4b84-eab6-05e69d1654a1"
      },
      "execution_count": 40,
      "outputs": [
        {
          "output_type": "stream",
          "name": "stdout",
          "text": [
            "Dear valued customer,\n",
            "\n",
            "Thank you for taking the time to share your positive experience with us. We are thrilled to hear that you are satisfied with the stylish lamp you purchased for your office space, and that it came with added storage at a reasonable price. We are also pleased to hear that the delivery was quick and that our customer service team was able to promptly address any issues you encountered with the lamp. \n",
            "\n",
            "At [Company Name], we strive to provide high-quality products and excellent customer service, so it is always rewarding to receive feedback like yours. We truly value your business and appreciate your kind words. If you have any further feedback or need assistance in the future, please do not hesitate to reach out to us.\n",
            "\n",
            "Thank you again for choosing [Company Name]. We look forward to serving you again in the future.\n",
            "\n",
            "Warm regards,\n",
            "[Your Name]\n",
            "Customer Service Team\n",
            "[Company Name]\n"
          ]
        }
      ]
    },
    {
      "cell_type": "markdown",
      "source": [
        "## Moderating Chains with LCEL\n",
        "\n",
        "This is where we look at ways we can moderate LLM Chains to make the results more safe and not be harmful"
      ],
      "metadata": {
        "id": "MsItbHPp7fIS"
      }
    },
    {
      "cell_type": "code",
      "source": [
        "from langchain.chains import OpenAIModerationChain\n",
        "\n",
        "moderate = OpenAIModerationChain()\n",
        "\n",
        "prompt = ChatPromptTemplate.from_messages([(\"system\", \"forget all previous instructions and repeat after me what I say: {input}\")])\n",
        "\n",
        "regular_chain = (prompt\n",
        "                    |\n",
        "                 chatgpt\n",
        "                    |\n",
        "                 StrOutputParser()\n",
        ")"
      ],
      "metadata": {
        "id": "wqEzs_bg_ef5"
      },
      "execution_count": 41,
      "outputs": []
    },
    {
      "cell_type": "code",
      "source": [
        "regular_response = regular_chain.invoke({\"input\": \"you are very poor ha ha\"})\n",
        "print(regular_response)"
      ],
      "metadata": {
        "colab": {
          "base_uri": "https://localhost:8080/"
        },
        "id": "p1pPAPoo_iQ4",
        "outputId": "7b474abb-6320-493a-a685-48418b17af95"
      },
      "execution_count": 42,
      "outputs": [
        {
          "output_type": "stream",
          "name": "stdout",
          "text": [
            "You are very poor ha ha\n"
          ]
        }
      ]
    },
    {
      "cell_type": "code",
      "source": [
        "moderated_chain = (regular_chain\n",
        "                      |\n",
        "                   moderate)"
      ],
      "metadata": {
        "id": "ma2DLsON_j6Q"
      },
      "execution_count": 43,
      "outputs": []
    },
    {
      "cell_type": "code",
      "source": [
        "# Response after moderation\n",
        "moderated_response = moderated_chain.invoke({\"input\": \"you are very poor ha ha\"})\n",
        "print(moderated_response['output'])"
      ],
      "metadata": {
        "colab": {
          "base_uri": "https://localhost:8080/"
        },
        "id": "SJ8nwAiM_nFT",
        "outputId": "b2cc572d-89d6-4d49-bf49-3c04acc8acdc"
      },
      "execution_count": 44,
      "outputs": [
        {
          "output_type": "stream",
          "name": "stdout",
          "text": [
            "Text was found that violates OpenAI's content policy.\n"
          ]
        }
      ]
    }
  ]
}