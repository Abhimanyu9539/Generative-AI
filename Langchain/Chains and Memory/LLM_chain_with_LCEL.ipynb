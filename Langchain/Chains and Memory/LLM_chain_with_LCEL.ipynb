{
  "nbformat": 4,
  "nbformat_minor": 0,
  "metadata": {
    "colab": {
      "provenance": []
    },
    "kernelspec": {
      "name": "python3",
      "display_name": "Python 3"
    },
    "language_info": {
      "name": "python"
    }
  },
  "cells": [
    {
      "cell_type": "markdown",
      "source": [
        "# Exploring LLM Chains with LCEL"
      ],
      "metadata": {
        "id": "REzJtM40DaZQ"
      }
    },
    {
      "cell_type": "code",
      "source": [
        "!pip install langchain==0.2.0 --quiet\n",
        "!pip install langchain-openai==0.1.7 --quiet\n",
        "!pip install langchain-community==0.2.0 --quiet"
      ],
      "metadata": {
        "colab": {
          "base_uri": "https://localhost:8080/"
        },
        "id": "uZ2vmoowDgg_",
        "outputId": "46ec4242-0aab-4511-cdfa-c3cf3938dfcc"
      },
      "execution_count": 1,
      "outputs": [
        {
          "output_type": "stream",
          "name": "stdout",
          "text": [
            "\u001b[2K   \u001b[90m━━━━━━━━━━━━━━━━━━━━━━━━━━━━━━━━━━━━━━━━\u001b[0m \u001b[32m973.7/973.7 kB\u001b[0m \u001b[31m11.3 MB/s\u001b[0m eta \u001b[36m0:00:00\u001b[0m\n",
            "\u001b[2K   \u001b[90m━━━━━━━━━━━━━━━━━━━━━━━━━━━━━━━━━━━━━━━━\u001b[0m \u001b[32m397.1/397.1 kB\u001b[0m \u001b[31m11.9 MB/s\u001b[0m eta \u001b[36m0:00:00\u001b[0m\n",
            "\u001b[2K   \u001b[90m━━━━━━━━━━━━━━━━━━━━━━━━━━━━━━━━━━━━━━━━\u001b[0m \u001b[32m311.8/311.8 kB\u001b[0m \u001b[31m9.0 MB/s\u001b[0m eta \u001b[36m0:00:00\u001b[0m\n",
            "\u001b[2K   \u001b[90m━━━━━━━━━━━━━━━━━━━━━━━━━━━━━━━━━━━━━━━━\u001b[0m \u001b[32m49.3/49.3 kB\u001b[0m \u001b[31m1.9 MB/s\u001b[0m eta \u001b[36m0:00:00\u001b[0m\n",
            "\u001b[2K   \u001b[90m━━━━━━━━━━━━━━━━━━━━━━━━━━━━━━━━━━━━━━━━\u001b[0m \u001b[32m1.2/1.2 MB\u001b[0m \u001b[31m13.3 MB/s\u001b[0m eta \u001b[36m0:00:00\u001b[0m\n",
            "\u001b[2K   \u001b[90m━━━━━━━━━━━━━━━━━━━━━━━━━━━━━━━━━━━━━━━━\u001b[0m \u001b[32m2.1/2.1 MB\u001b[0m \u001b[31m19.3 MB/s\u001b[0m eta \u001b[36m0:00:00\u001b[0m\n",
            "\u001b[?25h"
          ]
        }
      ]
    },
    {
      "cell_type": "code",
      "source": [
        "# for drawing text graphs\n",
        "!pip install grandalf --quiet"
      ],
      "metadata": {
        "colab": {
          "base_uri": "https://localhost:8080/"
        },
        "id": "cNyg1NMZDjv6",
        "outputId": "17f5dd24-88a0-4449-9657-e98229cb2946"
      },
      "execution_count": 2,
      "outputs": [
        {
          "output_type": "stream",
          "name": "stdout",
          "text": [
            "\u001b[?25l   \u001b[90m━━━━━━━━━━━━━━━━━━━━━━━━━━━━━━━━━━━━━━━━\u001b[0m \u001b[32m0.0/41.8 kB\u001b[0m \u001b[31m?\u001b[0m eta \u001b[36m-:--:--\u001b[0m\r\u001b[2K   \u001b[90m━━━━━━━━━━━━━━━━━━━━━━━━━━━━━━━━━━━━━━━━\u001b[0m \u001b[32m41.8/41.8 kB\u001b[0m \u001b[31m1.6 MB/s\u001b[0m eta \u001b[36m0:00:00\u001b[0m\n",
            "\u001b[?25h"
          ]
        }
      ]
    },
    {
      "cell_type": "code",
      "source": [
        "import os\n",
        "from google.colab import userdata\n",
        "\n",
        "os.environ['OPENAI_API_KEY'] = userdata.get('OPEN_API_KEY')\n",
        "os.environ['HUGGINGFACEHUB_API_TOKEN'] = userdata.get('HF_TOKEN')"
      ],
      "metadata": {
        "id": "FdRWA4gQDrbu"
      },
      "execution_count": 3,
      "outputs": []
    },
    {
      "cell_type": "code",
      "source": [
        "from langchain_openai import ChatOpenAI\n",
        "\n",
        "chatgpt = ChatOpenAI(model_name='gpt-3.5-turbo', temperature=0)"
      ],
      "metadata": {
        "id": "pOTrVRLAEEoy"
      },
      "execution_count": 4,
      "outputs": []
    },
    {
      "cell_type": "markdown",
      "source": [
        "### LLM Chain with LCEL\n",
        "\n",
        "LangChain Expression Language (LCEL) connects prompts, models, parsers and retrieval components using a `|` pipe operator.\n",
        "\n",
        "Any runnables can be \"chained\" together into sequences. The output of the previous runnable's `.invoke()` call is passed as input to the next runnable. This can be done using the pipe operator `(|)`, or the more explicit `.pipe()` method, which does the same thing.\n",
        "\n",
        "The resulting `RunnableSequence` is itself a runnable, which means it can be invoked, streamed, or further chained just like any other runnable."
      ],
      "metadata": {
        "id": "0lHHx5UtEHfz"
      }
    },
    {
      "cell_type": "code",
      "source": [
        "from langchain_core.prompts import ChatPromptTemplate\n",
        "\n",
        "prompt_txt = \"\"\"Explain to me about {topic} in 3 bullet points\"\"\"\n",
        "prompt = ChatPromptTemplate.from_template(prompt_txt)\n",
        "\n",
        "# you can also write this as llm_chain = prompt | chatgpt\n",
        "\n",
        "llm_chain = (\n",
        "    prompt\n",
        "      |\n",
        "    chatgpt\n",
        ")"
      ],
      "metadata": {
        "id": "Ab5tdLEhEbDP"
      },
      "execution_count": 5,
      "outputs": []
    },
    {
      "cell_type": "code",
      "source": [
        "from IPython.display import Image, display\n",
        "\n",
        "display(Image(llm_chain.get_graph().draw_mermaid_png()))"
      ],
      "metadata": {
        "colab": {
          "base_uri": "https://localhost:8080/",
          "height": 350
        },
        "id": "za-o7dCfFOLv",
        "outputId": "dc4ae810-730c-4a42-95ac-6d3c1ea80bb7"
      },
      "execution_count": 6,
      "outputs": [
        {
          "output_type": "display_data",
          "data": {
            "image/jpeg": "[encoded data removed]",
            "text/plain": [
              "<IPython.core.display.Image object>"
            ]
          },
          "metadata": {}
        }
      ]
    },
    {
      "cell_type": "code",
      "source": [
        "print(llm_chain.get_graph().draw_ascii())"
      ],
      "metadata": {
        "colab": {
          "base_uri": "https://localhost:8080/"
        },
        "id": "IdD6x3u9FP1J",
        "outputId": "7b0f4e1a-bc28-49ed-c65b-21ed253fe3fc"
      },
      "execution_count": 7,
      "outputs": [
        {
          "output_type": "stream",
          "name": "stdout",
          "text": [
            "    +-------------+    \n",
            "    | PromptInput |    \n",
            "    +-------------+    \n",
            "           *           \n",
            "           *           \n",
            "           *           \n",
            "+--------------------+ \n",
            "| ChatPromptTemplate | \n",
            "+--------------------+ \n",
            "           *           \n",
            "           *           \n",
            "           *           \n",
            "    +------------+     \n",
            "    | ChatOpenAI |     \n",
            "    +------------+     \n",
            "           *           \n",
            "           *           \n",
            "           *           \n",
            " +------------------+  \n",
            " | ChatOpenAIOutput |  \n",
            " +------------------+  \n"
          ]
        }
      ]
    },
    {
      "cell_type": "code",
      "source": [
        "response = llm_chain.invoke({'topic': 'Generative AI'})\n",
        "response"
      ],
      "metadata": {
        "colab": {
          "base_uri": "https://localhost:8080/"
        },
        "id": "d5VAuYkKFUCk",
        "outputId": "3e3d0fc6-29cf-4d06-e0bc-8ccf5dbb1624"
      },
      "execution_count": 8,
      "outputs": [
        {
          "output_type": "execute_result",
          "data": {
            "text/plain": [
              "AIMessage(content='- Generative AI is a type of artificial intelligence that is capable of creating new content, such as images, text, or music, based on patterns and data it has been trained on.\\n- This technology uses algorithms to generate content that is original and unique, often mimicking human creativity and imagination.\\n- Generative AI has a wide range of applications, including creating art, writing stories, composing music, and even designing products.', response_metadata={'token_usage': {'completion_tokens': 87, 'prompt_tokens': 20, 'total_tokens': 107, 'completion_tokens_details': {'accepted_prediction_tokens': 0, 'audio_tokens': 0, 'reasoning_tokens': 0, 'rejected_prediction_tokens': 0}, 'prompt_tokens_details': {'audio_tokens': 0, 'cached_tokens': 0}}, 'model_name': 'gpt-3.5-turbo', 'system_fingerprint': None, 'finish_reason': 'stop', 'logprobs': None}, id='run-bba06c36-1dbd-4175-a72c-2f95471e80c5-0')"
            ]
          },
          "metadata": {},
          "execution_count": 8
        }
      ]
    },
    {
      "cell_type": "code",
      "source": [
        "print(response.content)"
      ],
      "metadata": {
        "colab": {
          "base_uri": "https://localhost:8080/"
        },
        "id": "wwV9jTjaFXDP",
        "outputId": "6d6ebf63-a9e0-4a24-d425-3b703aef1eb8"
      },
      "execution_count": 9,
      "outputs": [
        {
          "output_type": "stream",
          "name": "stdout",
          "text": [
            "- Generative AI is a type of artificial intelligence that is capable of creating new content, such as images, text, or music, based on patterns and data it has been trained on.\n",
            "- This technology uses algorithms to generate content that is original and unique, often mimicking human creativity and imagination.\n",
            "- Generative AI has a wide range of applications, including creating art, writing stories, composing music, and even designing products.\n"
          ]
        }
      ]
    },
    {
      "cell_type": "code",
      "source": [
        "from langchain_core.output_parsers import StrOutputParser\n",
        "\n",
        "# chain with an output parser\n",
        "llm_chain = (\n",
        "    prompt\n",
        "      |\n",
        "    chatgpt\n",
        "      |\n",
        "    StrOutputParser()\n",
        ")"
      ],
      "metadata": {
        "id": "_2j2_cqRFaRU"
      },
      "execution_count": 10,
      "outputs": []
    },
    {
      "cell_type": "code",
      "source": [
        "display(Image(llm_chain.get_graph().draw_mermaid_png()))"
      ],
      "metadata": {
        "colab": {
          "base_uri": "https://localhost:8080/",
          "height": 449
        },
        "id": "ntK2u9_TFdox",
        "outputId": "ffbc6789-678b-4b83-c4b1-00c9e8087bd0"
      },
      "execution_count": 11,
      "outputs": [
        {
          "output_type": "display_data",
          "data": {
            "image/jpeg": "[encoded data removed]",
            "text/plain": [
              "<IPython.core.display.Image object>"
            ]
          },
          "metadata": {}
        }
      ]
    },
    {
      "cell_type": "code",
      "source": [
        "response = llm_chain.invoke({'topic': 'Generative AI'})\n",
        "print(response)"
      ],
      "metadata": {
        "colab": {
          "base_uri": "https://localhost:8080/"
        },
        "id": "qvBC9xjiFfYa",
        "outputId": "c7842ea7-fc56-432c-a24b-27f5837b0c01"
      },
      "execution_count": 12,
      "outputs": [
        {
          "output_type": "stream",
          "name": "stdout",
          "text": [
            "- Generative AI is a type of artificial intelligence that is capable of creating new content, such as images, text, or music, based on patterns and data it has been trained on.\n",
            "- This technology uses algorithms to generate content that is original and unique, often mimicking human creativity and imagination.\n",
            "- Generative AI has a wide range of applications, including creating art, writing stories, and composing music, and is increasingly being used in industries such as marketing, design, and entertainment.\n"
          ]
        }
      ]
    },
    {
      "cell_type": "code",
      "source": [
        "reviews = [\n",
        "    f\"\"\"\n",
        "    Purchased this adorable koala plush toy for my nephew's birthday,\n",
        "    and he's absolutely smitten with it, carrying it around everywhere he goes.\n",
        "    The plush is incredibly soft, and the koala's face has an endearing expression.\n",
        "    However, I did find it a tad on the smaller side given its price point.\n",
        "    I believe there may be larger alternatives available at a similar price.\n",
        "    To my delight, it arrived a day earlier than anticipated,\n",
        "    allowing me to enjoy it briefly before gifting it to him.\n",
        "    \"\"\",\n",
        "    f\"\"\"\n",
        "    Required a stylish lamp for my office space, and this particular one\n",
        "    came with added storage at a reasonable price.\n",
        "    The delivery was surprisingly quick, arriving within just two days.\n",
        "    However, the pull string for the lamp suffered damage during transit.\n",
        "    To my relief, the company promptly dispatched a replacement,\n",
        "    which arrived within a few days. Assembly was a breeze.\n",
        "    Then, I encountered an issue with a missing component,\n",
        "    but their support team responded swiftly and provided the missing part.\n",
        "    It appears to be a commendable company that genuinely values its\n",
        "    customers and the quality of its products.\n",
        "    \"\"\"\n",
        "    ]"
      ],
      "metadata": {
        "id": "bRHTyKfyFhis"
      },
      "execution_count": 13,
      "outputs": []
    },
    {
      "cell_type": "code",
      "source": [
        "from langchain_core.prompts import ChatPromptTemplate\n",
        "\n",
        "prompt = \"\"\"\n",
        "            Act as a product review analyst.\n",
        "            Your task is to generate a short summary of a product\n",
        "            review from an ecommerce site.\n",
        "\n",
        "            Generate a summary of the review (max 2 lines)\n",
        "            Also show both the positives and negatives from the review (max 2 bullets)\n",
        "\n",
        "            ```{review}```\n",
        "\"\"\"\n",
        "\n",
        "prompt_template = ChatPromptTemplate.from_template(prompt)\n",
        "llm_chain = (\n",
        "    prompt_template\n",
        "      |\n",
        "    chatgpt\n",
        "      |\n",
        "    StrOutputParser()\n",
        ")"
      ],
      "metadata": {
        "id": "lSQs62j8FkHh"
      },
      "execution_count": 14,
      "outputs": []
    },
    {
      "cell_type": "code",
      "source": [
        "result = llm_chain.invoke({'review': reviews[0]})"
      ],
      "metadata": {
        "id": "_G_POYanFmqp"
      },
      "execution_count": 15,
      "outputs": []
    },
    {
      "cell_type": "code",
      "source": [
        "result"
      ],
      "metadata": {
        "colab": {
          "base_uri": "https://localhost:8080/",
          "height": 53
        },
        "id": "gU0ckM_pFpdv",
        "outputId": "49d7f2ab-c732-4896-be23-40f6cfc43add"
      },
      "execution_count": 16,
      "outputs": [
        {
          "output_type": "execute_result",
          "data": {
            "text/plain": [
              "\"Summary: Adorable koala plush toy loved by recipient, but slightly small for the price.\\n\\nPositives:\\n- Incredibly soft plush material\\n- Endearing expression on the koala's face\\n\\nNegatives:\\n- Size is smaller than expected for the price\\n- Larger alternatives may be available at a similar price\""
            ],
            "application/vnd.google.colaboratory.intrinsic+json": {
              "type": "string"
            }
          },
          "metadata": {},
          "execution_count": 16
        }
      ]
    },
    {
      "cell_type": "code",
      "source": [
        "print(result)"
      ],
      "metadata": {
        "colab": {
          "base_uri": "https://localhost:8080/"
        },
        "id": "OUmalJq4FqsS",
        "outputId": "625c65c3-16b9-4610-dd7d-e53439c03784"
      },
      "execution_count": 17,
      "outputs": [
        {
          "output_type": "stream",
          "name": "stdout",
          "text": [
            "Summary: Adorable koala plush toy loved by recipient, but slightly small for the price.\n",
            "\n",
            "Positives:\n",
            "- Incredibly soft plush material\n",
            "- Endearing expression on the koala's face\n",
            "\n",
            "Negatives:\n",
            "- Size is smaller than expected for the price\n",
            "- Larger alternatives may be available at a similar price\n"
          ]
        }
      ]
    },
    {
      "cell_type": "code",
      "source": [
        "formatted_reviews = [{'review': review}\n",
        "                        for review in reviews]\n",
        "\n",
        "results = llm_chain.map().invoke(formatted_reviews)\n",
        "len(results)"
      ],
      "metadata": {
        "colab": {
          "base_uri": "https://localhost:8080/"
        },
        "id": "NJ3yrdaUFsAz",
        "outputId": "846f12c7-8ace-4637-81dd-73f920f42685"
      },
      "execution_count": 18,
      "outputs": [
        {
          "output_type": "execute_result",
          "data": {
            "text/plain": [
              "2"
            ]
          },
          "metadata": {},
          "execution_count": 18
        }
      ]
    },
    {
      "cell_type": "code",
      "source": [
        "for result in results:\n",
        "    print(result)\n",
        "    print()"
      ],
      "metadata": {
        "colab": {
          "base_uri": "https://localhost:8080/"
        },
        "id": "oAealNMmFuZi",
        "outputId": "d930e414-130f-426e-da8b-56fc6c00d196"
      },
      "execution_count": 19,
      "outputs": [
        {
          "output_type": "stream",
          "name": "stdout",
          "text": [
            "Summary: Adorable koala plush toy loved by recipient, but slightly small for the price.\n",
            "\n",
            "Positives:\n",
            "- Incredibly soft plush material\n",
            "- Endearing expression on the koala's face\n",
            "\n",
            "Negatives:\n",
            "- Size is smaller than expected for the price\n",
            "- Larger alternatives may be available at a similar price\n",
            "\n",
            "Summary: Stylish lamp with added storage, quick delivery, excellent customer service.\n",
            "\n",
            "Positives:\n",
            "- Stylish lamp with added storage\n",
            "- Quick delivery and excellent customer service\n",
            "\n",
            "Negatives:\n",
            "- Pull string for lamp suffered damage during transit\n",
            "- Missing component issue encountered\n",
            "\n"
          ]
        }
      ]
    }
  ]
}