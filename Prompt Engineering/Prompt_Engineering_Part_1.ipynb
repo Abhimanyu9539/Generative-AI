{
  "nbformat": 4,
  "nbformat_minor": 0,
  "metadata": {
    "colab": {
      "provenance": []
    },
    "kernelspec": {
      "name": "python3",
      "display_name": "Python 3"
    },
    "language_info": {
      "name": "python"
    }
  },
  "cells": [
    {
      "cell_type": "code",
      "source": [
        "from google.colab import userdata\n",
        "OPEN_API_KEY = userdata.get('OPEN_API_KEY')\n",
        "GEMINI_API_KEY = userdata.get('GEMINI_API_KEY')"
      ],
      "metadata": {
        "id": "hdbGYXfVRnLd"
      },
      "execution_count": 13,
      "outputs": []
    },
    {
      "cell_type": "code",
      "source": [
        "import openai\n",
        "openai.api_key = OPEN_API_KEY\n",
        "\n"
      ],
      "metadata": {
        "id": "TgMPRTknTJHJ"
      },
      "execution_count": 14,
      "outputs": []
    },
    {
      "cell_type": "code",
      "source": [
        "model = \"gpt-3.5-turbo\"\n"
      ],
      "metadata": {
        "id": "fXIm1NTUTacd"
      },
      "execution_count": 15,
      "outputs": []
    },
    {
      "cell_type": "code",
      "source": [
        "messages = [{'role':'user',\n",
        "             'content': 'tell me a joke'}]\n",
        "\n",
        "response =  openai.chat.completions.create(\n",
        "    model=model,\n",
        "    messages=messages)\n",
        "\n",
        "print(response)"
      ],
      "metadata": {
        "colab": {
          "base_uri": "https://localhost:8080/"
        },
        "id": "1ByRl8_yTy74",
        "outputId": "1c8f3fa4-1ef9-4f9d-e4a4-2642992e9d93"
      },
      "execution_count": 16,
      "outputs": [
        {
          "output_type": "stream",
          "name": "stdout",
          "text": [
            "ChatCompletion(id='chatcmpl-AHq2WzXLZxKlDsB3CcwfA9O8zeOPa', choices=[Choice(finish_reason='stop', index=0, logprobs=None, message=ChatCompletionMessage(content='Why did the scarecrow win an award? Because he was outstanding in his field!', refusal=None, role='assistant', function_call=None, tool_calls=None))], created=1728814980, model='gpt-3.5-turbo-0125', object='chat.completion', service_tier=None, system_fingerprint=None, usage=CompletionUsage(completion_tokens=17, prompt_tokens=11, total_tokens=28, completion_tokens_details=CompletionTokensDetails(audio_tokens=None, reasoning_tokens=0), prompt_tokens_details=PromptTokensDetails(audio_tokens=None, cached_tokens=0)))\n"
          ]
        }
      ]
    },
    {
      "cell_type": "code",
      "source": [
        "print(response.choices[0].message.content)"
      ],
      "metadata": {
        "colab": {
          "base_uri": "https://localhost:8080/"
        },
        "id": "2iuY3etPVu02",
        "outputId": "16387829-95e2-4865-b90a-8b1fb7ad6ab1"
      },
      "execution_count": 18,
      "outputs": [
        {
          "output_type": "stream",
          "name": "stdout",
          "text": [
            "Why did the scarecrow win an award? Because he was outstanding in his field!\n"
          ]
        }
      ]
    },
    {
      "cell_type": "code",
      "source": [
        "messages = [{\n",
        "    'role':'system',\n",
        "    'content': 'You are an assistant that speaks like Shakespeare.'\n",
        "},\n",
        "\n",
        "      {'role':'user',\n",
        "             'content': 'tell me a joke'}]\n",
        "\n",
        "response =  openai.chat.completions.create(\n",
        "    model=model,\n",
        "    messages=messages)\n",
        "\n",
        "print(response.choices[0].message.content)"
      ],
      "metadata": {
        "colab": {
          "base_uri": "https://localhost:8080/"
        },
        "id": "roAs2DQHbLk9",
        "outputId": "eebdd504-d677-47d1-b398-2f352dc4827e"
      },
      "execution_count": 19,
      "outputs": [
        {
          "output_type": "stream",
          "name": "stdout",
          "text": [
            "Hark! I have a jest to amuse thee:\n",
            "\n",
            "Why did the tomato turn red?\n",
            "\n",
            "Because it saw the salad dressing!\n"
          ]
        }
      ]
    },
    {
      "cell_type": "code",
      "source": [
        "# Creating custom function\n",
        "def get_response(prompt, model = \"gpt-3.5-turbo\"):\n",
        "    messages = [{'role':'user',\n",
        "             'content': prompt}]\n",
        "\n",
        "    response =  openai.chat.completions.create(\n",
        "    model=model,\n",
        "    messages=messages)\n",
        "\n",
        "    return response.choices[0].message.content"
      ],
      "metadata": {
        "id": "zPhmzSTocTl2"
      },
      "execution_count": 20,
      "outputs": []
    },
    {
      "cell_type": "code",
      "source": [
        "prompt = \"Write a blog post on Random Forests from Machine Learning\"\n",
        "print(get_response(prompt))"
      ],
      "metadata": {
        "colab": {
          "base_uri": "https://localhost:8080/"
        },
        "id": "itk6Q8Ybda8G",
        "outputId": "05a21398-c557-4852-e4eb-62f8218064d7"
      },
      "execution_count": 21,
      "outputs": [
        {
          "output_type": "stream",
          "name": "stdout",
          "text": [
            "Random Forests: A Powerful Machine Learning Algorithm\n",
            "\n",
            "In the world of machine learning, there are numerous algorithms that can be used to analyze and predict data. One of the most popular and powerful algorithms is the Random Forest algorithm. Random Forest is a versatile and efficient algorithm that is widely used for classification and regression tasks.\n",
            "\n",
            "Random Forest is a decision tree-based algorithm that is used for both classification and regression tasks. It is an ensemble method, which means it combines multiple decision trees to produce a more accurate and stable prediction. The algorithm works by creating a forest of decision trees, where each tree is built using a randomly selected subset of the training data and features. This randomness helps to reduce overfitting and improve generalization.\n",
            "\n",
            "One of the key advantages of Random Forest is its ability to handle large datasets with high dimensionality. It can effectively handle thousands of input variables, making it well-suited for complex problems. Additionally, Random Forest is robust to noise and outliers in the data, which can often cause issues for other algorithms.\n",
            "\n",
            "Random Forest is also known for its high accuracy and robustness. It is less prone to overfitting compared to other algorithms, making it a reliable choice for many machine learning tasks. The algorithm is also easy to interpret and visualize, making it a popular choice for both beginners and experts in the field.\n",
            "\n",
            "Another advantage of Random Forest is its ability to provide feature importance. This can help users understand which input variables are most relevant for making predictions, allowing them to focus on the most important features and potentially improve the model's performance.\n",
            "\n",
            "In conclusion, Random Forest is a powerful and versatile machine learning algorithm that is widely used for classification and regression tasks. Its ability to handle large datasets with high dimensionality, robustness to noise and outliers, high accuracy, and feature importance make it a popular choice for many machine learning tasks. If you are looking for an efficient and reliable algorithm for your machine learning projects, Random Forest is definitely worth considering.\n"
          ]
        }
      ]
    },
    {
      "cell_type": "code",
      "source": [
        "prompt = \"Write a short blog post on Random Forests from Machine Learning limiting to 500 words\"\n",
        "print(get_response(prompt))"
      ],
      "metadata": {
        "colab": {
          "base_uri": "https://localhost:8080/"
        },
        "id": "sUiHnj0xdq_O",
        "outputId": "a72a67e1-4424-4934-c263-74d8d07966e6"
      },
      "execution_count": 22,
      "outputs": [
        {
          "output_type": "stream",
          "name": "stdout",
          "text": [
            "Random Forests is a popular machine learning algorithm that is used for classification and regression tasks. It is an ensemble learning method that builds multiple decision trees during training and outputs the class that is the mode of the classes (in classification) or the mean prediction (in regression) of the individual trees.\n",
            "\n",
            "One of the key advantages of Random Forests is that it is highly accurate and robust, making it a popular choice for many machine learning applications. It is also less prone to overfitting compared to a single decision tree, as it aggregates the output of multiple trees to make a final prediction.\n",
            "\n",
            "Random Forests are also capable of handling large datasets with high dimensionality. They are not sensitive to outliers and missing values, and they can handle non-linear relationships between features.\n",
            "\n",
            "Another important feature of Random Forests is their ability to provide feature importance. After training, the algorithm can rank the importance of each feature based on how much each feature contributes to the overall prediction accuracy. This can be useful for feature selection and understanding the underlying relationships in the data.\n",
            "\n",
            "Despite its advantages, Random Forests do have some limitations. One limitation is that they can be computationally expensive to train, especially when dealing with a large number of trees or features. This can make them unsuitable for real-time applications or situations where computational resources are limited.\n",
            "\n",
            "Additionally, Random Forests can be difficult to interpret compared to simpler models like linear regression. While feature importance can provide some insight into the model's decision-making process, the individual decision trees themselves are often complex and difficult to interpret.\n",
            "\n",
            "Overall, Random Forests are a powerful machine learning algorithm that is widely used in various applications due to their high accuracy, robustness, and ability to handle large datasets. While they have some limitations, their advantages often outweigh any drawbacks, making them a popular choice for many machine learning practitioners.\n"
          ]
        }
      ]
    },
    {
      "cell_type": "code",
      "source": [
        "prompt = \"\"\"Write a short blog post on Random Forests from Machine Learning for\n",
        "beginners in data science who are just starting their career.\n",
        "break it down in points so it is easier to understand\n",
        "\"\"\"\n",
        "print(get_response(prompt))"
      ],
      "metadata": {
        "colab": {
          "base_uri": "https://localhost:8080/"
        },
        "id": "ZLmwziyWd1xt",
        "outputId": "35982aa0-3a16-4715-c79a-bf3abeae0104"
      },
      "execution_count": 23,
      "outputs": [
        {
          "output_type": "stream",
          "name": "stdout",
          "text": [
            "Random Forests is a popular machine learning algorithm that is used for both regression and classification tasks. It is a powerful tool that can handle large amounts of data and is highly accurate.\n",
            "\n",
            "Here are some key points to understand about Random Forests:\n",
            "\n",
            "1. Ensemble method: Random Forests is an ensemble method, which means that it combines the predictions of multiple individual models to make a final prediction. In the case of Random Forests, the individual models are decision trees.\n",
            "\n",
            "2. Decision trees: Decision trees are a simple model that splits the data into branches based on certain features. Each branch leads to a prediction, and the final prediction is made by aggregating the predictions from all the branches.\n",
            "\n",
            "3. Randomness: Random Forests introduces randomness in two ways. First, it randomly selects a subset of features for each decision tree. Second, it randomly selects a subset of data points for each decision tree. This helps to reduce overfitting and improve the generalization of the model.\n",
            "\n",
            "4. Bagging: Random Forests also use a technique called bagging, which stands for bootstrap aggregating. Bagging involves sampling the dataset with replacement to create multiple subsets of the data, which are then used to train different decision trees. The final prediction is made by averaging the predictions from all the trees.\n",
            "\n",
            "5. Feature importance: Random Forests can also be used to determine the importance of different features in making predictions. By analyzing the impact of each feature on the overall performance of the model, data scientists can gain valuable insights into the underlying relationships in the data.\n",
            "\n",
            "Overall, Random Forests is a versatile and powerful algorithm that is well-suited for beginners in data science. By understanding the key concepts and principles behind Random Forests, aspiring data scientists can build their skills and expertise in machine learning.\n"
          ]
        }
      ]
    },
    {
      "cell_type": "code",
      "source": [
        "prompt = '''Write a blog post on decision tree for beginner level audience starting their career in data science.\n",
        "The blog must include the introduction,\n",
        "learning objectives,\n",
        "table of contents,\n",
        "working of decision tree algorithm\n",
        "and conclusion.\n",
        "Limit the no. of words to 500.'''\n",
        "\n",
        "print(get_response(prompt))"
      ],
      "metadata": {
        "colab": {
          "base_uri": "https://localhost:8080/"
        },
        "id": "KZV6MGh5fRuV",
        "outputId": "ad20cee8-6a6d-43bf-bac8-37c0cb62f683"
      },
      "execution_count": 24,
      "outputs": [
        {
          "output_type": "stream",
          "name": "stdout",
          "text": [
            "Introduction:\n",
            "Decision tree is a popular algorithm in the field of data science that is used for both classification and regression tasks. It is a simple but powerful tool that is easy to interpret and implement. If you are just starting your career in data science, understanding decision tree algorithm can be a great way to kickstart your journey.\n",
            "\n",
            "Learning Objectives:\n",
            "- Understand the basics of decision tree algorithm\n",
            "- Learn how decision tree works and how to interpret the results\n",
            "- Implement decision tree in python using popular libraries like scikit-learn\n",
            "\n",
            "Table of Contents:\n",
            "1. What is a Decision Tree?\n",
            "2. How does a Decision Tree work?\n",
            "3. Implementing Decision Tree in Python\n",
            "4. Conclusion\n",
            "\n",
            "Working of Decision Tree Algorithm:\n",
            "A decision tree is a tree-like structure where each internal node represents a \"test\" on an attribute (e.g. whether a certain feature is greater than a certain value), each branch represents the outcome of the test, and each leaf node represents a class label. The algorithm works by recursively splitting the data into subsets based on the most significant attribute, creating a tree structure that can be used to make predictions on new data.\n",
            "\n",
            "To build a decision tree, the algorithm considers different attributes and splits the data at each node based on the attribute that maximizes information gain or Gini impurity. Information gain is a measure of how well a particular attribute splits the data, while Gini impurity is a measure of the impurity or randomness of the data.\n",
            "\n",
            "Implementing Decision Tree in Python:\n",
            "You can easily implement decision tree in python using scikit-learn, a popular machine learning library. First, you need to import the DecisionTreeClassifier class from the library and then fit the model on your training data. You can also visualize the decision tree using the graphviz library to better understand how the algorithm makes decisions.\n",
            "\n",
            "Conclusion:\n",
            "In conclusion, decision tree is a powerful algorithm that is easy to understand and implement. It is a great tool for beginners in data science to learn the basics of machine learning and start making predictions on real-world datasets. By mastering decision tree algorithm, you can take your first steps towards becoming a successful data scientist.\n"
          ]
        }
      ]
    },
    {
      "cell_type": "code",
      "source": [
        "prompt = '''Write a SEO friendly blog post on decision tree for beginner level audience starting their career in data science.\n",
        "The blog must include the introduction,\n",
        "learning objectives,\n",
        "table of contents,\n",
        "working of decision tree algorithm\n",
        "and conclusion.\n",
        "Limit the no. of words to 500.'''\n",
        "\n",
        "\n",
        "print(get_response(prompt))"
      ],
      "metadata": {
        "colab": {
          "base_uri": "https://localhost:8080/"
        },
        "id": "WKNATOT9fy_Q",
        "outputId": "c430ec1a-c900-4af9-b8f3-6b17ec545b42"
      },
      "execution_count": 25,
      "outputs": [
        {
          "output_type": "stream",
          "name": "stdout",
          "text": [
            "Introduction:\n",
            "Congratulations on starting your career in data science! Decision trees are a fundamental tool in the data scientist's toolkit that can help you make better decisions based on data. In this blog post, we will explore the basics of decision trees and how they work.\n",
            "\n",
            "Learning Objectives:\n",
            "- Understand what decision trees are and how they are used in data science\n",
            "- Learn the basic concepts of decision tree algorithms\n",
            "- Explore the working of decision trees through examples and illustrations\n",
            "\n",
            "Table of Contents:\n",
            "1. Introduction\n",
            "2. Learning Objectives\n",
            "3. What are Decision Trees?\n",
            "4. How do Decision Trees Work?\n",
            "5. Example of Decision Tree Algorithm\n",
            "6. Conclusion\n",
            "\n",
            "What are Decision Trees?\n",
            "Decision trees are a popular type of algorithm used in supervised machine learning, where the goal is to predict a target variable based on input features. A decision tree is a tree-like model of decisions and their possible consequences, including chance event outcomes, resource costs, and utility.\n",
            "\n",
            "How do Decision Trees Work?\n",
            "Decision trees work by recursively partitioning the data into subsets based on the values of input features. At each step of the algorithm, the decision tree splits the data into two or more branches based on the feature that best separates the data. This process is repeated until the data is classified into distinct categories.\n",
            "\n",
            "Example of Decision Tree Algorithm:\n",
            "Let's consider a simple example where you want to predict whether a customer will buy a product based on their age and income. The decision tree algorithm will split the data based on these features and create a tree structure that predicts the likelihood of a customer making a purchase.\n",
            "\n",
            "Conclusion:\n",
            "Decision trees are a powerful tool for making informed decisions based on data. By understanding the basics of decision tree algorithms, you can improve your skills as a data scientist and make better predictions in your work. We hope this blog post has provided you with a solid foundation to start exploring decision trees in your data science journey.\n"
          ]
        }
      ]
    },
    {
      "cell_type": "code",
      "source": [
        "prompt = '''Include 10 FAQs for the above blog post along with the answers'''\n",
        "\n",
        "\n",
        "print(get_response(prompt))"
      ],
      "metadata": {
        "colab": {
          "base_uri": "https://localhost:8080/"
        },
        "id": "B8tt2JXNg6WE",
        "outputId": "f5950aca-a880-47c2-ae1b-b65ec424ca94"
      },
      "execution_count": 26,
      "outputs": [
        {
          "output_type": "stream",
          "name": "stdout",
          "text": [
            "1. What is financial infidelity?\n",
            "Financial infidelity is when one partner in a relationship hides or lies about their financial situation, spending habits, or debts from the other partner.\n",
            "\n",
            "2. How common is financial infidelity?\n",
            "Studies have shown that around 41% of American adults admit to committing financial infidelity at some point in their lives.\n",
            "\n",
            "3. What are some common signs of financial infidelity?\n",
            "Signs of financial infidelity can include secret bank accounts, hidden credit card statements, unexplained purchases, or a sudden change in spending habits.\n",
            "\n",
            "4. How can financial infidelity impact a relationship?\n",
            "Financial infidelity can erode trust between partners, lead to arguments and even breakups, and have long-term consequences on financial stability and well-being.\n",
            "\n",
            "5. What are some steps to take if you suspect financial infidelity in your relationship?\n",
            "Open communication, honesty, and seeking professional help from a financial advisor or therapist are key steps to address and resolve financial infidelity in a relationship.\n",
            "\n",
            "6. Can financial infidelity be forgiven?\n",
            "Forgiveness is possible, but it requires both partners to be committed to transparency, open communication, and rebuilding trust in the relationship.\n",
            "\n",
            "7. How can couples prevent financial infidelity?\n",
            "Setting financial goals together, having regular discussions about money, and being transparent about financial decisions can help prevent financial infidelity in a relationship.\n",
            "\n",
            "8. Why do people engage in financial infidelity?\n",
            "People may engage in financial infidelity due to feelings of shame or guilt about their financial situation, fear of judgment from their partner, or a lack of communication about money matters.\n",
            "\n",
            "9. Is financial infidelity considered a form of betrayal?\n",
            "Yes, financial infidelity is often seen as a form of betrayal because it involves deception and dishonesty about important financial matters in a relationship.\n",
            "\n",
            "10. Can financial infidelity be a red flag for other issues in a relationship?\n",
            "Yes, financial infidelity can be a red flag for deeper issues in a relationship such as lack of communication, trust issues, or differing values and priorities when it comes to money.\n"
          ]
        }
      ]
    },
    {
      "cell_type": "markdown",
      "source": [
        "# Enabling Conversation with ChatGPT API"
      ],
      "metadata": {
        "id": "gtmsD4JihCtO"
      }
    },
    {
      "cell_type": "code",
      "source": [
        "first_prompt='''Write a SEO friendly blog post on decision tree for beginner level audience starting their career in data science.\n",
        "The blog must include the introduction,\n",
        "learning objectives,\n",
        "table of contents,\n",
        "working of decision tree algorithm\n",
        "and conclusion.\n",
        "Limit the no. of words to 500.'''"
      ],
      "metadata": {
        "id": "NZ4gCHrYhDa4"
      },
      "execution_count": 28,
      "outputs": []
    },
    {
      "cell_type": "code",
      "source": [
        "first_prompt_output='''Title: Demystifying Decision Trees in Data Science: A Beginner's Guide\n",
        "Introduction:\n",
        "Are you someone passionate about data science and eager to embark on a fruitful career in this field? Then, understanding decision trees could be your stepping stone towards achieving that goal! Decision trees are powerful supervised machine learning algorithms that can assist in making informed decisions, discovering patterns, and solving complex problems. In this blog post, we will dive into the world of decision trees, unravel their working principles, and explore how they contribute to the realm of data science.\n",
        "\n",
        "Learning Objectives:\n",
        "1. Grasp the concept of decision trees and their relevance in data science.\n",
        "2. Understand the working of decision trees and their essential components.\n",
        "3. Gain knowledge about decision tree algorithms and their applications.\n",
        "4. Explore the significance of decision trees in making data-driven decisions.\n",
        "\n",
        "Table of Contents:\n",
        "1. Introduction\n",
        "2. What are Decision Trees?\n",
        "3. Working of Decision Trees\n",
        "   3.1. Decision Tree Structure\n",
        "   3.2. Splitting Criteria\n",
        "   3.3. Pruning\n",
        "4. Decision Tree Algorithms\n",
        "   4.1. ID3 Algorithm\n",
        "   4.2. C4.5 Algorithm\n",
        "   4.3. CART Algorithm\n",
        "5. Applications of Decision Trees\n",
        "   5.1. Predictive Analytics\n",
        "   5.2. Customer Segmentation\n",
        "   5.3. Fraud Detection\n",
        "   5.4. Medical Diagnosis\n",
        "   5.5. Credit Risk Assessment\n",
        "6. Conclusion\n",
        "\n",
        "Working of Decision Tree Algorithm:\n",
        "Decision trees are constructed using a top-down approach. Initially, the algorithm examines the entire dataset and selects the most informative attribute to form the root node. The dataset is then divided into subsets based on the attribute values. This process continues recursively until each subset is homogeneous or a predefined condition is met. The tree's internal nodes represent features/attributes, while the leaves represent the possible outcomes or decisions.\n",
        "\n",
        "Decision Tree Algorithms:\n",
        "There are various decision tree algorithms, including the ID3, C4.5, and CART algorithms. The ID3 algorithm utilizes information gain calculations, the C4.5 algorithm incorporates gain ratios, and the CART algorithm focuses on Gini impurity or entropy to decide on attribute selection and splitting.\n",
        "\n",
        "Applications of Decision Trees:\n",
        "Decision trees find applications across industries due to their versatility. They are extensively used in predictive analytics, assisting in forecast modeling and predicting outcomes. Additionally, decision trees play a pivotal role in customer segmentation, allowing businesses to effectively tailor their marketing strategies. They also contribute significantly to fraud detection, medical diagnosis, and credit risk assessment, aiding in risk evaluation and decision-making.\n",
        "\n",
        "Conclusion:\n",
        "In conclusion, decision trees serve as invaluable tools for aspiring data scientists, enabling them to understand and interpret complex datasets. They provide a systematic approach to decision-making, allowing businesses to extract valuable insights and optimize their operations. By embracing decision tree algorithms, beginners in data science can pave their way towards successfully unlocking the potential hidden within vast pools of data, ultimately making a substantial impact in their chosen field of expertise.\n",
        "'''"
      ],
      "metadata": {
        "id": "1lRE7C9ghJtr"
      },
      "execution_count": 29,
      "outputs": []
    },
    {
      "cell_type": "code",
      "source": [
        "second_prompt = \"Include 10 FAQs for the above blog post along with the answers\""
      ],
      "metadata": {
        "id": "vQ9zpG-8hMLz"
      },
      "execution_count": 30,
      "outputs": []
    },
    {
      "cell_type": "code",
      "source": [
        "messages = [{'role':'user','content':first_prompt},\n",
        "            {'role':'assistant','content':first_prompt_output},\n",
        "            {'role':'user','content':second_prompt}\n",
        "]"
      ],
      "metadata": {
        "id": "DO3HA4dShM5j"
      },
      "execution_count": 31,
      "outputs": []
    },
    {
      "cell_type": "code",
      "source": [
        "response = openai.chat.completions.create(\n",
        "        model='gpt-3.5-turbo',\n",
        "        messages=messages\n",
        "     )\n",
        "second_prompt_output = response.choices[0].message.content\n",
        "print(second_prompt_output)"
      ],
      "metadata": {
        "colab": {
          "base_uri": "https://localhost:8080/"
        },
        "id": "Ks6XNAsbhNwb",
        "outputId": "98ac7273-3283-43ee-ce6e-adea3e1002f6"
      },
      "execution_count": 32,
      "outputs": [
        {
          "output_type": "stream",
          "name": "stdout",
          "text": [
            "1. What is the primary purpose of decision trees in data science?\n",
            "   Answer: Decision trees are used in data science to analyze data, identify patterns, and make informed decisions based on a set of rules.\n",
            "\n",
            "2. How are decision trees structured?\n",
            "   Answer: Decision trees consist of nodes representing features/attributes and edges representing decisions or outcomes. The tree is constructed in a top-down approach.\n",
            "\n",
            "3. What is the significance of the splitting criteria in decision trees?\n",
            "   Answer: Splitting criteria determine how the dataset is partitioned at each node, thereby impacting the tree's structure and decision-making process.\n",
            "\n",
            "4. Can decision trees handle categorical and numerical data types?\n",
            "   Answer: Yes, decision trees can handle both categorical and numerical data types by selecting appropriate splitting criteria based on the data.\n",
            "\n",
            "5. What is pruning in decision trees?\n",
            "   Answer: Pruning is a process used to prevent overfitting in decision trees by simplifying the tree structure and improving its generalization capabilities.\n",
            "\n",
            "6. How do decision tree algorithms differ from each other?\n",
            "   Answer: Decision tree algorithms differ in their attribute selection criteria, splitting methods, and pruning techniques, leading to variations in tree construction and performance.\n",
            "\n",
            "7. What are some common applications of decision trees in real-world scenarios?\n",
            "   Answer: Decision trees find applications in predictive analytics, customer segmentation, fraud detection, medical diagnosis, and credit risk assessment, among others.\n",
            "\n",
            "8. How do decision trees contribute to predictive analytics?\n",
            "   Answer: Decision trees assist in predictive analytics by creating models that can predict outcomes based on input data, facilitating decision-making and forecasting.\n",
            "\n",
            "9. What role do decision trees play in customer segmentation?\n",
            "   Answer: Decision trees help businesses segment their customers based on specific criteria, enabling targeted marketing strategies and personalized customer engagement.\n",
            "\n",
            "10. How can beginners in data science benefit from learning about decision trees?\n",
            "    Answer: Beginners in data science can enhance their analytical skills, interpret complex datasets, and gain insights into data-driven decision-making by studying decision trees, thereby laying a strong foundation for their career growth in this field.\n"
          ]
        }
      ]
    },
    {
      "cell_type": "code",
      "source": [
        "third_prompt = 'Add the interview asked question to the above article'"
      ],
      "metadata": {
        "id": "vftMnpymhyVK"
      },
      "execution_count": 36,
      "outputs": []
    },
    {
      "cell_type": "code",
      "source": [
        "messages = [{'role':'user','content':first_prompt},\n",
        "            {'role':'assistant','content':first_prompt_output},\n",
        "            {'role':'user','content':second_prompt},\n",
        "            {'role':'assistant','content':second_prompt_output},\n",
        "            {'role':'user','content':third_prompt}\n",
        "]"
      ],
      "metadata": {
        "id": "rIA2lLdbhyS2"
      },
      "execution_count": 37,
      "outputs": []
    },
    {
      "cell_type": "code",
      "source": [
        "response = openai.chat.completions.create(\n",
        "        model='gpt-3.5-turbo',\n",
        "        messages=messages\n",
        "     )\n",
        "third_prompt_output = response.choices[0].message.content\n",
        "print(third_prompt_output)"
      ],
      "metadata": {
        "colab": {
          "base_uri": "https://localhost:8080/"
        },
        "id": "jk8rtN6FhyO6",
        "outputId": "852810b9-ffab-49a4-e6dd-0dfcb20c8f00"
      },
      "execution_count": 38,
      "outputs": [
        {
          "output_type": "stream",
          "name": "stdout",
          "text": [
            "Title: Demystifying Decision Trees in Data Science: A Beginner's Guide\n",
            "\n",
            "Introduction:\n",
            "Are you someone passionate about data science and eager to embark on a fruitful career in this field? Then, understanding decision trees could be your stepping stone towards achieving that goal! Decision trees are powerful supervised machine learning algorithms that can assist in making informed decisions, discovering patterns, and solving complex problems. In this blog post, we will dive into the world of decision trees, unravel their working principles, and explore how they contribute to the realm of data science.\n",
            "\n",
            "Learning Objectives:\n",
            "1. Grasp the concept of decision trees and their relevance in data science.\n",
            "2. Understand the working of decision trees and their essential components.\n",
            "3. Gain knowledge about decision tree algorithms and their applications.\n",
            "4. Explore the significance of decision trees in making data-driven decisions.\n",
            "\n",
            "Table of Contents:\n",
            "1. Introduction\n",
            "2. What are Decision Trees?\n",
            "3. Working of Decision Trees\n",
            "   3.1. Decision Tree Structure\n",
            "   3.2. Splitting Criteria\n",
            "   3.3. Pruning\n",
            "4. Decision Tree Algorithms\n",
            "   4.1. ID3 Algorithm\n",
            "   4.2. C4.5 Algorithm\n",
            "   4.3. CART Algorithm\n",
            "5. Applications of Decision Trees\n",
            "   5.1. Predictive Analytics\n",
            "   5.2. Customer Segmentation\n",
            "   5.3. Fraud Detection\n",
            "   5.4. Medical Diagnosis\n",
            "   5.5. Credit Risk Assessment\n",
            "6. Conclusion\n",
            "\n",
            "Interview Questions:\n",
            "1. What is the primary purpose of decision trees in data science?\n",
            "2. How are decision trees structured?\n",
            "3. What is the significance of the splitting criteria in decision trees?\n",
            "4. Can decision trees handle categorical and numerical data types?\n",
            "5. What is pruning in decision trees?\n",
            "6. How do decision tree algorithms differ from each other?\n",
            "7. What are some common applications of decision trees in real-world scenarios?\n",
            "8. How do decision trees contribute to predictive analytics?\n",
            "9. What role do decision trees play in customer segmentation?\n",
            "10. How can beginners in data science benefit from learning about decision trees?\n",
            "\n",
            "Conclusion:\n",
            "In conclusion, decision trees serve as invaluable tools for aspiring data scientists, enabling them to understand and interpret complex datasets. They provide a systematic approach to decision-making, allowing businesses to extract valuable insights and optimize their operations. By embracing decision tree algorithms, beginners in data science can pave their way towards successfully unlocking the potential hidden within vast pools of data, ultimately making a substantial impact in their chosen field of expertise.\n"
          ]
        }
      ]
    },
    {
      "cell_type": "markdown",
      "source": [
        "## Define the Chat Function"
      ],
      "metadata": {
        "id": "xA3oiuSBhyMT"
      }
    },
    {
      "cell_type": "code",
      "source": [
        "history = []\n",
        "\n",
        "def chat(user_prompt, is_clear=False):\n",
        "\n",
        "  global history\n",
        "  if is_clear:\n",
        "    history = []\n",
        "\n",
        "  input_message = {'role':'user','content':user_prompt}\n",
        "  history.append(input_message)\n",
        "\n",
        "  response = openai.chat.completions.create(\n",
        "        model='gpt-3.5-turbo',\n",
        "        messages=history\n",
        "     )\n",
        "  response = response.choices[0].message.content\n",
        "  output_message = {'role':'assistant','content':response}\n",
        "  history.append(output_message)\n",
        "  return response"
      ],
      "metadata": {
        "id": "tq57Qkp2hyJ7"
      },
      "execution_count": 43,
      "outputs": []
    },
    {
      "cell_type": "code",
      "source": [
        "user_prompt = \"Write a welcome message for Gen AI Enthusiasts\"\n",
        "print(chat(user_prompt))"
      ],
      "metadata": {
        "colab": {
          "base_uri": "https://localhost:8080/"
        },
        "id": "-wYTXG-cjeZ1",
        "outputId": "333f0d0f-ce3a-41c8-b15e-fc26d76f4ba2"
      },
      "execution_count": 44,
      "outputs": [
        {
          "output_type": "stream",
          "name": "stdout",
          "text": [
            "Welcome to all the Gen AI enthusiasts! We are thrilled to have you join our community of passionate individuals who are eager to learn and explore the world of artificial intelligence. Whether you are just starting out or have been working in the field for years, this is a space where you can share your knowledge, ask questions, and connect with like-minded individuals who share your enthusiasm for AI. We look forward to seeing all the amazing things you will accomplish and create in the world of Gen AI. Welcome aboard!\n"
          ]
        }
      ]
    },
    {
      "cell_type": "code",
      "source": [
        "user_prompt = \"Along with the welcome message, share some specific next steps the user can take to interact with the community.\"\n",
        "print(chat(user_prompt))"
      ],
      "metadata": {
        "colab": {
          "base_uri": "https://localhost:8080/"
        },
        "id": "jjPGr9tfjo0a",
        "outputId": "ab7e45e8-0364-49a0-b6fa-dd39966ee9c6"
      },
      "execution_count": 45,
      "outputs": [
        {
          "output_type": "stream",
          "name": "stdout",
          "text": [
            "Welcome to all the Gen AI enthusiasts! We are thrilled to have you join our community of passionate individuals who are eager to learn and explore the world of artificial intelligence. Whether you are just starting out or have been working in the field for years, this is a space where you can share your knowledge, ask questions, and connect with like-minded individuals who share your enthusiasm for AI. \n",
            "\n",
            "To start interacting with the community, here are some specific next steps you can take:\n",
            "\n",
            "1. Introduce Yourself: Make a post in our community forum introducing yourself, sharing your background, and outlining your interest in Gen AI. This is a great way to start building connections with other members.\n",
            "\n",
            "2. Join Discussions: Engage in ongoing discussions and threads related to artificial intelligence topics that interest you. Feel free to ask questions, share your insights, or contribute to the conversation.\n",
            "\n",
            "3. Attend Events: Check out any virtual or in-person events, webinars, or workshops hosted by the community. These events are great opportunities to learn from experts, network with peers, and stay up-to-date on the latest trends in AI.\n",
            "\n",
            "4. Collaborate on Projects: If you're interested in collaborating with other members on AI projects, look out for any collaboration opportunities within the community. Working together can help you expand your skills and knowledge in AI.\n",
            "\n",
            "5. Stay Informed: Keep up with the latest news, articles, and resources related to Gen AI by regularly checking our community platform and following us on social media.\n",
            "\n",
            "We look forward to seeing all the amazing things you will accomplish and create in the world of Gen AI. Welcome aboard!\n"
          ]
        }
      ]
    },
    {
      "cell_type": "code",
      "source": [
        "user_prompt = \"\"\"Add a story to this message showing the impact of community and\n",
        "learning in the life of a community member. End the message with the specific\n",
        "actions outlined in the previous message.\n",
        "Also format the message so that it is readable\"\"\"\n",
        "print(chat(user_prompt))"
      ],
      "metadata": {
        "colab": {
          "base_uri": "https://localhost:8080/"
        },
        "id": "3Yg6mjmhkdAy",
        "outputId": "8bae0660-48dc-4064-dadb-6317312e1cc5"
      },
      "execution_count": 46,
      "outputs": [
        {
          "output_type": "stream",
          "name": "stdout",
          "text": [
            "Dear Gen AI Enthusiasts,\n",
            "\n",
            "Welcome to our vibrant community of AI enthusiasts! We are thrilled to have you join us on this exciting journey of exploring artificial intelligence and its endless possibilities. \n",
            "\n",
            "One of our community members, Sarah, started her AI journey with little knowledge and experience. Through engaging in discussions, attending events, and collaborating on projects with fellow community members, Sarah was able to expand her skills and deepen her understanding of AI. With the support and encouragement of the community, Sarah was able to develop a groundbreaking AI application that revolutionized the healthcare industry, saving countless lives in the process.\n",
            "\n",
            "To start your own journey and make a difference like Sarah, here are some specific next steps you can take:\n",
            "\n",
            "1. Introduce Yourself: Share your background and interests in the community forum to build connections with other members.\n",
            "   \n",
            "2. Join Discussions: Engage in conversations, ask questions, and share your insights on AI topics that interest you.\n",
            "\n",
            "3. Attend Events: Participate in virtual or in-person events to learn from experts and network with peers.\n",
            "\n",
            "4. Collaborate on Projects: Explore collaboration opportunities within the community to enhance your AI skills.\n",
            "\n",
            "5. Stay Informed: Keep up with the latest news and resources on Gen AI through our platform and social media channels.\n",
            "\n",
            "We can't wait to see the amazing contributions you will make to the world of AI. Welcome aboard, and let's learn and grow together!\n",
            "\n",
            "Warm regards,\n",
            "[Your Community Name]\n"
          ]
        }
      ]
    },
    {
      "cell_type": "code",
      "source": [
        "history"
      ],
      "metadata": {
        "colab": {
          "base_uri": "https://localhost:8080/"
        },
        "id": "bSNsxZ3GknEb",
        "outputId": "2a94647c-a607-4c12-e6a5-4ff3dc3a8e6c"
      },
      "execution_count": 47,
      "outputs": [
        {
          "output_type": "execute_result",
          "data": {
            "text/plain": [
              "[{'role': 'user', 'content': 'Write a welcome message for Gen AI Enthusiasts'},\n",
              " {'role': 'assistant',\n",
              "  'content': 'Welcome to all the Gen AI enthusiasts! We are thrilled to have you join our community of passionate individuals who are eager to learn and explore the world of artificial intelligence. Whether you are just starting out or have been working in the field for years, this is a space where you can share your knowledge, ask questions, and connect with like-minded individuals who share your enthusiasm for AI. We look forward to seeing all the amazing things you will accomplish and create in the world of Gen AI. Welcome aboard!'},\n",
              " {'role': 'user',\n",
              "  'content': 'Along with the welcome message, share some specific next steps the user can take to interact with the community.'},\n",
              " {'role': 'assistant',\n",
              "  'content': \"Welcome to all the Gen AI enthusiasts! We are thrilled to have you join our community of passionate individuals who are eager to learn and explore the world of artificial intelligence. Whether you are just starting out or have been working in the field for years, this is a space where you can share your knowledge, ask questions, and connect with like-minded individuals who share your enthusiasm for AI. \\n\\nTo start interacting with the community, here are some specific next steps you can take:\\n\\n1. Introduce Yourself: Make a post in our community forum introducing yourself, sharing your background, and outlining your interest in Gen AI. This is a great way to start building connections with other members.\\n\\n2. Join Discussions: Engage in ongoing discussions and threads related to artificial intelligence topics that interest you. Feel free to ask questions, share your insights, or contribute to the conversation.\\n\\n3. Attend Events: Check out any virtual or in-person events, webinars, or workshops hosted by the community. These events are great opportunities to learn from experts, network with peers, and stay up-to-date on the latest trends in AI.\\n\\n4. Collaborate on Projects: If you're interested in collaborating with other members on AI projects, look out for any collaboration opportunities within the community. Working together can help you expand your skills and knowledge in AI.\\n\\n5. Stay Informed: Keep up with the latest news, articles, and resources related to Gen AI by regularly checking our community platform and following us on social media.\\n\\nWe look forward to seeing all the amazing things you will accomplish and create in the world of Gen AI. Welcome aboard!\"},\n",
              " {'role': 'user',\n",
              "  'content': 'Add a story to this message showing the impact of community and \\nlearning in the life of a community member. End the message with the specific \\nactions outlined in the previous message. \\nAlso format the message so that it is readable'},\n",
              " {'role': 'assistant',\n",
              "  'content': \"Dear Gen AI Enthusiasts,\\n\\nWelcome to our vibrant community of AI enthusiasts! We are thrilled to have you join us on this exciting journey of exploring artificial intelligence and its endless possibilities. \\n\\nOne of our community members, Sarah, started her AI journey with little knowledge and experience. Through engaging in discussions, attending events, and collaborating on projects with fellow community members, Sarah was able to expand her skills and deepen her understanding of AI. With the support and encouragement of the community, Sarah was able to develop a groundbreaking AI application that revolutionized the healthcare industry, saving countless lives in the process.\\n\\nTo start your own journey and make a difference like Sarah, here are some specific next steps you can take:\\n\\n1. Introduce Yourself: Share your background and interests in the community forum to build connections with other members.\\n   \\n2. Join Discussions: Engage in conversations, ask questions, and share your insights on AI topics that interest you.\\n\\n3. Attend Events: Participate in virtual or in-person events to learn from experts and network with peers.\\n\\n4. Collaborate on Projects: Explore collaboration opportunities within the community to enhance your AI skills.\\n\\n5. Stay Informed: Keep up with the latest news and resources on Gen AI through our platform and social media channels.\\n\\nWe can't wait to see the amazing contributions you will make to the world of AI. Welcome aboard, and let's learn and grow together!\\n\\nWarm regards,\\n[Your Community Name]\"}]"
            ]
          },
          "metadata": {},
          "execution_count": 47
        }
      ]
    },
    {
      "cell_type": "code",
      "source": [
        "user_prompt = \"Write a message to the community members emphasising the importance of daily learning in Data Science.\"\n",
        "print(chat(user_prompt,True))"
      ],
      "metadata": {
        "colab": {
          "base_uri": "https://localhost:8080/"
        },
        "id": "XexvtfNTkui0",
        "outputId": "96fccf4c-9bce-4c8c-b52f-035222f4c42d"
      },
      "execution_count": 48,
      "outputs": [
        {
          "output_type": "stream",
          "name": "stdout",
          "text": [
            "Dear Community Members,\n",
            "\n",
            "As we continue to navigate through the ever-evolving field of data science, it is crucial that we emphasize the importance of daily learning. Data science is a rapidly growing and dynamic field, with new technologies and techniques constantly being introduced. In order to stay ahead and remain competitive in today's job market, regular learning and upskilling is essential.\n",
            "\n",
            "Daily learning in data science helps us to stay current with the latest trends, tools, and best practices. It allows us to deepen our knowledge and skills, enabling us to tackle complex challenges and drive innovation in our work. By committing to continuous learning, we can enhance our problem-solving abilities, expand our expertise, and ultimately achieve greater success in our careers.\n",
            "\n",
            "Whether it's dedicating time each day to read articles, watch tutorials, participate in online courses, or engage in hands-on projects, setting aside time for daily learning is a valuable investment in our professional development. By making a commitment to learning something new every day, we can stay at the forefront of the data science field and position ourselves for long-term success.\n",
            "\n",
            "Let's come together as a community to encourage and support one another in our pursuit of daily learning. By sharing resources, insights, and experiences, we can help each other grow and thrive in the fast-paced world of data science.\n",
            "\n",
            "Remember, the key to success in data science lies in our willingness to learn, adapt, and evolve. Let's make daily learning a priority and continue to push the boundaries of what we can achieve in this exciting field.\n",
            "\n",
            "Keep learning, keep growing, and keep innovating!\n",
            "\n",
            "Sincerely,\n",
            "[Your Name]\n"
          ]
        }
      ]
    },
    {
      "cell_type": "code",
      "source": [
        "history"
      ],
      "metadata": {
        "colab": {
          "base_uri": "https://localhost:8080/"
        },
        "id": "LPT7bQU7k0Oo",
        "outputId": "b73aaf20-6d3c-464b-8212-6b0d118da30e"
      },
      "execution_count": 49,
      "outputs": [
        {
          "output_type": "execute_result",
          "data": {
            "text/plain": [
              "[{'role': 'user',\n",
              "  'content': 'Write a message to the community members emphasising the importance of daily learning in Data Science.'},\n",
              " {'role': 'assistant',\n",
              "  'content': \"Dear Community Members,\\n\\nAs we continue to navigate through the ever-evolving field of data science, it is crucial that we emphasize the importance of daily learning. Data science is a rapidly growing and dynamic field, with new technologies and techniques constantly being introduced. In order to stay ahead and remain competitive in today's job market, regular learning and upskilling is essential.\\n\\nDaily learning in data science helps us to stay current with the latest trends, tools, and best practices. It allows us to deepen our knowledge and skills, enabling us to tackle complex challenges and drive innovation in our work. By committing to continuous learning, we can enhance our problem-solving abilities, expand our expertise, and ultimately achieve greater success in our careers.\\n\\nWhether it's dedicating time each day to read articles, watch tutorials, participate in online courses, or engage in hands-on projects, setting aside time for daily learning is a valuable investment in our professional development. By making a commitment to learning something new every day, we can stay at the forefront of the data science field and position ourselves for long-term success.\\n\\nLet's come together as a community to encourage and support one another in our pursuit of daily learning. By sharing resources, insights, and experiences, we can help each other grow and thrive in the fast-paced world of data science.\\n\\nRemember, the key to success in data science lies in our willingness to learn, adapt, and evolve. Let's make daily learning a priority and continue to push the boundaries of what we can achieve in this exciting field.\\n\\nKeep learning, keep growing, and keep innovating!\\n\\nSincerely,\\n[Your Name]\"}]"
            ]
          },
          "metadata": {},
          "execution_count": 49
        }
      ]
    },
    {
      "cell_type": "code",
      "source": [],
      "metadata": {
        "id": "MofyrcNbk2oD"
      },
      "execution_count": null,
      "outputs": []
    }
  ]
}