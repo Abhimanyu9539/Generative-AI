{
  "nbformat": 4,
  "nbformat_minor": 0,
  "metadata": {
    "colab": {
      "provenance": []
    },
    "kernelspec": {
      "name": "python3",
      "display_name": "Python 3"
    },
    "language_info": {
      "name": "python"
    }
  },
  "cells": [
    {
      "cell_type": "code",
      "execution_count": 3,
      "metadata": {
        "id": "mhn3bWcanBIv"
      },
      "outputs": [],
      "source": [
        "from google.colab import userdata\n",
        "OPENAI_API_KEY = userdata.get('OPEN_API_KEY')"
      ]
    },
    {
      "cell_type": "code",
      "source": [
        "!pip install openai"
      ],
      "metadata": {
        "id": "5tA6Oaq5ncyT"
      },
      "execution_count": null,
      "outputs": []
    },
    {
      "cell_type": "code",
      "source": [
        "import openai\n",
        "openai.api_key = OPENAI_API_KEY"
      ],
      "metadata": {
        "id": "BOlZN-jknKeU"
      },
      "execution_count": 8,
      "outputs": []
    },
    {
      "cell_type": "markdown",
      "source": [
        "# Guidelines and Best Practices for Prompt Engineering\n"
      ],
      "metadata": {
        "id": "-Em6flp8nKg0"
      }
    },
    {
      "cell_type": "code",
      "source": [
        "def get_response(prompt, temperature=0, model=\"gpt-3.5-turbo\"):\n",
        "\n",
        "    messages = [{\"role\":\"user\",\"content\":prompt}]\n",
        "    response = openai.chat.completions.create(\n",
        "        model=model,\n",
        "        messages=messages,\n",
        "        temperature=temperature)\n",
        "\n",
        "    return response.choices[0].message.content"
      ],
      "metadata": {
        "id": "Iz9XTBCunKjS"
      },
      "execution_count": 9,
      "outputs": []
    },
    {
      "cell_type": "markdown",
      "source": [
        "# Case Study - Customer Support Function - Categorisation and resolution of Tickets raised"
      ],
      "metadata": {
        "id": "FkwRbl-qnKla"
      }
    },
    {
      "cell_type": "code",
      "source": [
        "first_customer_support_ticket= '''Dear Support Team,\n",
        "\n",
        "I hope this message finds you well.\n",
        "I'm experiencing difficulties accessing my account on your platform.\n",
        "When I attempt to log in, I receive an error message stating, \"Invalid Credentials.\"\n",
        "I've double-checked my username and password, and they are correct.\n",
        "\n",
        "Details:\n",
        "- Username: johndoe123\n",
        "- Browser: Google Chrome\n",
        "- Operating System: Windows 10\n",
        "\n",
        "I have tried clearing my browser cache and resetting my password, but the issue persists.\n",
        "This is affecting my ability to use your services, and I would appreciate a prompt resolution.\n",
        "\n",
        "Please let me know if you require any additional information to assist with troubleshooting.\n",
        "\n",
        "Thank you,\n",
        "John Doe\n",
        "'''"
      ],
      "metadata": {
        "id": "16V-wR7-nKny"
      },
      "execution_count": 10,
      "outputs": []
    },
    {
      "cell_type": "code",
      "source": [
        "second_customer_support_ticket= '''\n",
        "Dear Support Team,\n",
        "\n",
        "I hope this message finds you well. I am writing to report a technical issue I have encountered while using your platform. Specifically, I am unable to access Feature XYZ.\n",
        "\n",
        "Issue Details:\n",
        "\n",
        "Feature Affected: XYZ\n",
        "Description of the Issue: When I attempt to use Feature XYZ, [describe the specific problem or error message you are encountering]. The issue has been persistent for [mention the duration or frequency of the problem].\n",
        "Steps Taken to Resolve: I have tried [list any troubleshooting steps you've already taken, if applicable, such as clearing cache, restarting the device, etc.]. However, the problem persists.\n",
        "Additional Information:\n",
        "\n",
        "Browser/Device: I am using [mention the browser and device you are using].\n",
        "Screenshots: [Attach any relevant screenshots if possible, to provide visual context].\n",
        "This feature is crucial for my [mention the specific purpose or task], and I appreciate your prompt attention to this matter. Please let me know if there are any additional details needed from my end to assist in resolving this issue.\n",
        "\n",
        "Thank you for your assistance.\n",
        "\n",
        "Best regards,\n",
        "[Your Name]\n",
        "[Your Contact Information]\n",
        "'''"
      ],
      "metadata": {
        "id": "oTHezhshnKpy"
      },
      "execution_count": 11,
      "outputs": []
    },
    {
      "cell_type": "markdown",
      "source": [
        "## Write Clear and Specific Instructions\n",
        "\n",
        "Example 1"
      ],
      "metadata": {
        "id": "P83GY8XfnKsL"
      }
    },
    {
      "cell_type": "code",
      "source": [
        "user_prompt = f'classify the customer support ticket: {first_customer_support_ticket}'\n",
        "print(get_response(user_prompt))"
      ],
      "metadata": {
        "colab": {
          "base_uri": "https://localhost:8080/"
        },
        "id": "p1QtUKrcoJpf",
        "outputId": "65e27ab7-cd62-4020-81da-ebfd408e586d"
      },
      "execution_count": 12,
      "outputs": [
        {
          "output_type": "stream",
          "name": "stdout",
          "text": [
            "Issue with account access\n"
          ]
        }
      ]
    },
    {
      "cell_type": "code",
      "source": [
        "user_prompt = f'classify the customer support ticket: {second_customer_support_ticket}'\n",
        "print(get_response(user_prompt))"
      ],
      "metadata": {
        "colab": {
          "base_uri": "https://localhost:8080/"
        },
        "id": "_swCMbZcoK1q",
        "outputId": "b6f1382a-3a42-470a-b206-02546a617d5e"
      },
      "execution_count": 13,
      "outputs": [
        {
          "output_type": "stream",
          "name": "stdout",
          "text": [
            "Technical Issue - Feature XYZ Access Issue\n"
          ]
        }
      ]
    },
    {
      "cell_type": "code",
      "source": [
        "user_prompt = f'''classify the customer support tickets into broad categories such as\n",
        "'Technical Issues,' 'Billing Inquiries,' and 'Product Feedback'\n",
        "{first_customer_support_ticket}'''\n",
        "\n",
        "print(get_response(user_prompt))"
      ],
      "metadata": {
        "colab": {
          "base_uri": "https://localhost:8080/"
        },
        "id": "QmtTeieFoKzN",
        "outputId": "e8ba8bfa-9112-4fc1-cb5e-e5a322226eb8"
      },
      "execution_count": 14,
      "outputs": [
        {
          "output_type": "stream",
          "name": "stdout",
          "text": [
            "Category: Technical Issues\n"
          ]
        }
      ]
    },
    {
      "cell_type": "code",
      "source": [
        "user_prompt = f'''classify the customer support tickets into broad categories such as\n",
        "'Technical Issues,' 'Billing Inquiries,' and 'Product Feedback.\n",
        "{second_customer_support_ticket}'''\n",
        "\n",
        "print(get_response(user_prompt))"
      ],
      "metadata": {
        "colab": {
          "base_uri": "https://localhost:8080/"
        },
        "id": "ZCT6jTSKoKw5",
        "outputId": "d7395b0d-9992-41c5-c932-654c11d9afbe"
      },
      "execution_count": 15,
      "outputs": [
        {
          "output_type": "stream",
          "name": "stdout",
          "text": [
            "Category: Technical Issues\n"
          ]
        }
      ]
    },
    {
      "cell_type": "markdown",
      "source": [
        "Example 2"
      ],
      "metadata": {
        "id": "1yX_EsXyoKuc"
      }
    },
    {
      "cell_type": "code",
      "source": [
        "user_prompt=f'''\n",
        "Generate a response for a customer support ticket related to a user experiencing issues\n",
        "with accessing their account.\n",
        "\n",
        "Customer Support Ticket:{first_customer_support_ticket}\n",
        "'''\n",
        "print(get_response(user_prompt))"
      ],
      "metadata": {
        "colab": {
          "base_uri": "https://localhost:8080/"
        },
        "id": "YQZdvdtNoKsC",
        "outputId": "42a00458-166d-4270-eafc-12cb689b1269"
      },
      "execution_count": 16,
      "outputs": [
        {
          "output_type": "stream",
          "name": "stdout",
          "text": [
            "Dear John Doe,\n",
            "\n",
            "Thank you for reaching out to us regarding the issues you are experiencing with accessing your account on our platform. We apologize for any inconvenience this may have caused.\n",
            "\n",
            "We understand the frustration of not being able to log in despite having the correct username and password. We appreciate you providing us with your username, browser, and operating system details, as this will help us in troubleshooting the issue.\n",
            "\n",
            "Since you have already tried clearing your browser cache and resetting your password without success, our technical team will investigate further to identify the root cause of the problem. In the meantime, we recommend trying to log in using a different browser or device to see if the issue persists.\n",
            "\n",
            "We will prioritize resolving this issue for you and will keep you updated on our progress. If we require any additional information from you during the troubleshooting process, we will reach out to you promptly.\n",
            "\n",
            "Thank you for your patience and understanding. We are committed to ensuring that you can access your account and use our services without any further disruptions.\n",
            "\n",
            "Best regards,\n",
            "[Your Name]\n",
            "Customer Support Team\n"
          ]
        }
      ]
    },
    {
      "cell_type": "code",
      "source": [
        "user_prompt= f'''Generate a response for a customer support ticket related to a user experiencing issues\n",
        "with accessing their account. Include specific details such as\n",
        "steps to troubleshoot the problem,\n",
        "reassurance about data security,\n",
        "and a prompt resolution timeline\n",
        "Customer Support Ticket:{first_customer_support_ticket}\n",
        "'''\n",
        "print(get_response(user_prompt))"
      ],
      "metadata": {
        "colab": {
          "base_uri": "https://localhost:8080/"
        },
        "id": "PWG4secsoKpq",
        "outputId": "2a1d9a7c-5f90-4b9b-f83a-33ac3e1d8b3c"
      },
      "execution_count": 17,
      "outputs": [
        {
          "output_type": "stream",
          "name": "stdout",
          "text": [
            "Dear John Doe,\n",
            "\n",
            "Thank you for reaching out to us regarding the issues you are experiencing with accessing your account on our platform. We understand how frustrating this situation can be and we are here to help you resolve it as quickly as possible.\n",
            "\n",
            "To troubleshoot the problem, we recommend the following steps:\n",
            "1. Please try accessing your account using a different browser or device to see if the issue persists.\n",
            "2. Double-check that your caps lock key is not accidentally turned on while entering your username and password.\n",
            "3. If you have recently changed your password, ensure that you are using the most up-to-date credentials.\n",
            "4. If the issue continues, please try resetting your password again and make sure to follow the instructions carefully.\n",
            "\n",
            "We want to assure you that the security of your data is our top priority. Our platform uses advanced encryption methods to protect your information, and we have strict security measures in place to safeguard your account.\n",
            "\n",
            "We apologize for any inconvenience this may have caused and we are committed to resolving this issue for you promptly. Our team is currently investigating the issue and we aim to have it resolved within the next 24 hours. We will keep you updated on our progress and provide you with a solution as soon as possible.\n",
            "\n",
            "If you have any further questions or require additional assistance, please do not hesitate to contact us. Thank you for your patience and understanding.\n",
            "\n",
            "Best regards,\n",
            "Customer Support Team\n"
          ]
        }
      ]
    },
    {
      "cell_type": "markdown",
      "source": [
        "## Use Specific Examples\n",
        "\n",
        "Tone, Structure, Style"
      ],
      "metadata": {
        "id": "jcZr1t06oKnc"
      }
    },
    {
      "cell_type": "code",
      "source": [
        "user_prompt = f'''Compose a customer support response for a ticket\n",
        "where the customer reports a technical issue with a purchased product.\n",
        "\n",
        "Customer Support Ticket:{first_customer_support_ticket}\n",
        "\n",
        "Here is an example for your reference:\n",
        "\n",
        "Dear Jerry,\n",
        "\n",
        "Hello! Thank you for getting in touch with us, and we're really sorry for the trouble you're having logging\n",
        "into your account. We totally understand how frustrating this can be, and we're here to make things right.\n",
        "\n",
        "We noticed you've already tried a few things to fix it, and we appreciate your efforts.\n",
        "Could you please give these steps a shot? It might help:\n",
        "\n",
        "Clear Browser Data: Try clearing not just the cache but also cookies and history.\n",
        "In Google Chrome, you can find this in \"Settings\" under \"Privacy and security.\"\n",
        "Click \"Clear browsing data\" and choose cookies and browsing history.\n",
        "Try a Different Browser: Sometimes, using another browser like Mozilla Firefox or Microsoft Edge can work better.\n",
        "Disable Browser Extensions: Some add-ons can cause issues. Temporarily turn off any extensions and see if that helps.\n",
        "If these steps don't do the trick, could you tell us:\n",
        "\n",
        "Are you seeing any error messages other than \"Invalid Credentials\"?\n",
        "Have you tried logging in from another device or network?\n",
        "Can you log in successfully with the same details on other platforms?\n",
        "We're eager to help and want to get this sorted for you. Sorry again for any hassle this has caused.\n",
        "Your patience means a lot to us.\n",
        "\n",
        "Let us know how it goes or if you have any questions.\n",
        "We're here for you and are committed to fixing this as fast as we can.\n",
        "\n",
        "Warm regards,\n",
        "\n",
        "[Your Name]\n",
        "Customer Support Team\n",
        "'''\n",
        "\n",
        "print(get_response(user_prompt))"
      ],
      "metadata": {
        "colab": {
          "base_uri": "https://localhost:8080/"
        },
        "id": "WXk58w7aoKlJ",
        "outputId": "742535fa-d2a1-475c-86ff-a23ebd30b659"
      },
      "execution_count": 18,
      "outputs": [
        {
          "output_type": "stream",
          "name": "stdout",
          "text": [
            "Dear John Doe,\n",
            "\n",
            "Hello! Thank you for reaching out to us about the technical issue you're experiencing with accessing your account. We apologize for any inconvenience this has caused you and we appreciate your detailed description of the problem.\n",
            "\n",
            "We understand that you have already tried some troubleshooting steps, such as clearing your browser cache and resetting your password. We're sorry to hear that the issue persists despite your efforts.\n",
            "\n",
            "Based on the information you provided, we recommend trying the following steps to see if they help resolve the issue:\n",
            "\n",
            "1. Double-check your username and password to ensure there are no typos or errors.\n",
            "2. Try logging in from a different browser or device to see if the issue is specific to Google Chrome on Windows 10.\n",
            "3. Contact our support team directly for further assistance and troubleshooting.\n",
            "\n",
            "If these steps do not resolve the issue, please provide us with any additional information or details that may help us better understand and address the problem. We are here to support you and will do our best to find a solution as quickly as possible.\n",
            "\n",
            "Thank you for your patience and understanding. We value your business and are committed to ensuring your satisfaction with our product.\n",
            "\n",
            "Best regards,\n",
            "\n",
            "[Your Name]\n",
            "Customer Support Team\n"
          ]
        }
      ]
    },
    {
      "cell_type": "markdown",
      "source": [
        "\n",
        "## Vary the Prompts and Iterate"
      ],
      "metadata": {
        "id": "0lj0qmbZoKi0"
      }
    },
    {
      "cell_type": "code",
      "source": [
        "user_prompt = f'''Compose a customer support response for a ticket where\n",
        "the customer reports a technical issue with a purchased product.\n",
        "\n",
        "Customer Support Ticket:{first_customer_support_ticket}'''\n",
        "\n",
        "print(get_response(user_prompt))"
      ],
      "metadata": {
        "colab": {
          "base_uri": "https://localhost:8080/"
        },
        "id": "nF8PDS5_oKgi",
        "outputId": "8a41310a-1eaf-4d67-c80a-20e9532f9165"
      },
      "execution_count": 19,
      "outputs": [
        {
          "output_type": "stream",
          "name": "stdout",
          "text": [
            "Dear John Doe,\n",
            "\n",
            "Thank you for reaching out to us regarding the technical issue you are experiencing with accessing your account on our platform. We apologize for any inconvenience this may have caused.\n",
            "\n",
            "We appreciate you providing us with the details of your username, browser, and operating system. Our technical team will investigate the issue further to determine the root cause of the \"Invalid Credentials\" error message you are receiving.\n",
            "\n",
            "In the meantime, we recommend trying to access your account using a different browser or device to see if the issue persists. Additionally, please ensure that your internet connection is stable and that there are no firewall or security settings blocking access to our platform.\n",
            "\n",
            "We will keep you updated on our progress and work towards resolving the issue as quickly as possible. If we require any additional information from you during the troubleshooting process, we will reach out to you directly.\n",
            "\n",
            "Thank you for your patience and understanding. We are committed to providing you with a seamless experience on our platform.\n",
            "\n",
            "Best regards,\n",
            "[Your Name]\n",
            "Customer Support Team\n"
          ]
        }
      ]
    },
    {
      "cell_type": "code",
      "source": [
        "user_prompt = f'''Compose a customer support response for a ticket where\n",
        "the customer reports a technical issue with a purchased product with a more formal and professional tone.\n",
        "\n",
        "Customer Support Ticket:{first_customer_support_ticket}'''\n",
        "\n",
        "print(get_response(user_prompt))"
      ],
      "metadata": {
        "colab": {
          "base_uri": "https://localhost:8080/"
        },
        "id": "rlICBqSGoKeE",
        "outputId": "cc636dd3-914b-4b29-ddad-33c923a2704d"
      },
      "execution_count": 20,
      "outputs": [
        {
          "output_type": "stream",
          "name": "stdout",
          "text": [
            "Dear John Doe,\n",
            "\n",
            "Thank you for reaching out to our support team regarding the technical issue you are experiencing with accessing your account on our platform. We apologize for any inconvenience this may have caused.\n",
            "\n",
            "We appreciate the detailed information you have provided, including your username, browser, and operating system. We will investigate the issue further to determine the root cause of the \"Invalid Credentials\" error message you are encountering.\n",
            "\n",
            "In the meantime, we recommend trying to access your account from a different browser or device to see if the issue persists. Additionally, please ensure that your browser is up to date and that there are no browser extensions or plugins causing conflicts.\n",
            "\n",
            "Our technical team will work diligently to resolve this issue as quickly as possible. We will keep you updated on our progress and provide any necessary steps to help you regain access to your account.\n",
            "\n",
            "If you have any further questions or concerns, please do not hesitate to contact us. Thank you for your patience and understanding.\n",
            "\n",
            "Best regards,\n",
            "[Your Name]\n",
            "Customer Support Team\n"
          ]
        }
      ]
    },
    {
      "cell_type": "code",
      "source": [
        "user_prompt = f'''Compose a customer support response for a ticket where\n",
        "the customer reports a technical issue with a purchased product with a more formal and professional tone.\n",
        "Maintain a focus on providing clear instructions while expressing empathy for the inconvenience caused.\n",
        "Use a structured approach and avoid informal language\n",
        "\n",
        "Customer Support Ticket:{first_customer_support_ticket}'''\n",
        "\n",
        "print(get_response(user_prompt))"
      ],
      "metadata": {
        "colab": {
          "base_uri": "https://localhost:8080/"
        },
        "id": "EOpui90loKbz",
        "outputId": "a910792b-aecb-459d-d2f0-36b50c6c6340"
      },
      "execution_count": 21,
      "outputs": [
        {
          "output_type": "stream",
          "name": "stdout",
          "text": [
            "Dear John Doe,\n",
            "\n",
            "Thank you for reaching out to us regarding the technical issue you are experiencing with accessing your account on our platform. We sincerely apologize for any inconvenience this may have caused you.\n",
            "\n",
            "Based on the details you have provided, it seems that you have already taken some troubleshooting steps such as clearing your browser cache and resetting your password. We appreciate your efforts in trying to resolve the issue on your end.\n",
            "\n",
            "To further assist you, we recommend trying the following steps:\n",
            "1. Ensure that you are entering your username and password correctly, paying attention to any capitalization or special characters.\n",
            "2. Try accessing your account using a different web browser or device to see if the issue persists.\n",
            "3. If the problem continues, please reach out to our support team at [support email or phone number] with the additional information requested.\n",
            "\n",
            "We understand the importance of resolving this issue promptly, and we are committed to assisting you in any way we can. Thank you for your patience and understanding as we work to address this matter.\n",
            "\n",
            "Best regards,\n",
            "[Your Name]\n",
            "Customer Support Team\n"
          ]
        }
      ]
    },
    {
      "cell_type": "markdown",
      "source": [
        "##4.Use the Delimiters"
      ],
      "metadata": {
        "id": "_NbROg6NoKVS"
      }
    },
    {
      "cell_type": "code",
      "source": [
        "customer_support_tickets=['''Dear Support Team,\n",
        "\n",
        "I hope this message finds you well.\n",
        "I'm experiencing difficulties accessing my account on your platform.\n",
        "When I attempt to log in, I receive an error message stating, \"Invalid Credentials.\"\n",
        "I've double-checked my username and password, and they are correct.\n",
        "\n",
        "Details:\n",
        "- Username: johndoe123\n",
        "- Browser: Google Chrome\n",
        "- Operating System: Windows 10\n",
        "\n",
        "I have tried clearing my browser cache and resetting my password, but the issue persists.\n",
        "This is affecting my ability to use your services, and I would appreciate a prompt resolution.\n",
        "\n",
        "Please let me know if you require any additional information to assist with troubleshooting.\n",
        "\n",
        "Thank you,\n",
        "John Doe'''\n",
        ",\n",
        "'''\n",
        "Dear Support Team,\n",
        "I'm conveyed about my bill and have raised this multile times for last 3 months.\n",
        "Please resolve it on priority'''\n",
        "]"
      ],
      "metadata": {
        "id": "bEMHmqqMoKTC"
      },
      "execution_count": 22,
      "outputs": []
    },
    {
      "cell_type": "code",
      "source": [
        "user_prompt = '''classify the customer support tickets into broad categories such as 'Technical Issues,' 'Billing Inquiries,' and 'Product Feedback.\n",
        "\n",
        "[Dear Support Team,\n",
        "\n",
        "I hope this message finds you well.\n",
        "I'm experiencing difficulties accessing my account on your platform.\n",
        "When I attempt to log in, I receive an error message stating, \"Invalid Credentials.\"\n",
        "I've double-checked my username and password, and they are correct.\n",
        "\n",
        "Details:\n",
        "- Username: johndoe123\n",
        "- Browser: Google Chrome\n",
        "- Operating System: Windows 10\n",
        "\n",
        "I have tried clearing my browser cache and resetting my password, but the issue persists.\n",
        "This is affecting my ability to use your services, and I would appreciate a prompt resolution.\n",
        "\n",
        "Please let me know if you require any additional information to assist with troubleshooting.\n",
        "\n",
        "Thank you,\n",
        "John Doe\n",
        ",\n",
        "\n",
        "Dear Support Team,\n",
        "I'm conveyed about my bill and have raised this multile times for last 3 months.\n",
        "Please resolve it on priority\n",
        "]'''"
      ],
      "metadata": {
        "id": "UyZFzmnPrYp8"
      },
      "execution_count": 23,
      "outputs": []
    },
    {
      "cell_type": "code",
      "source": [
        "print(get_response(user_prompt))"
      ],
      "metadata": {
        "colab": {
          "base_uri": "https://localhost:8080/"
        },
        "id": "Kk2vLwqPrei7",
        "outputId": "c944ae8a-dcca-4256-9c1e-78fa619dadea"
      },
      "execution_count": 24,
      "outputs": [
        {
          "output_type": "stream",
          "name": "stdout",
          "text": [
            "Technical Issues: \n",
            "- Difficulty accessing account on platform\n",
            "- Error message stating \"Invalid Credentials\"\n",
            "- Troubleshooting steps taken (clearing browser cache, resetting password)\n",
            "\n",
            "Billing Inquiries:\n",
            "- Issue with bill for the past 3 months\n",
            "- Request for prompt resolution\n",
            "\n",
            "Product Feedback:\n",
            "- Not mentioned in the provided customer support tickets\n"
          ]
        }
      ]
    },
    {
      "cell_type": "code",
      "source": [
        "user_prompt = '''classify all the customer support tickets within <> into\n",
        "broad categories such as 'Technical Issues,' 'Billing Inquiries,' and 'Product Feedback.\n",
        "\n",
        "<Dear Support Team,\n",
        "\n",
        "I hope this message finds you well.\n",
        "I'm experiencing difficulties accessing my account on your platform.\n",
        "When I attempt to log in, I receive an error message stating, \"Invalid Credentials.\"\n",
        "I've double-checked my username and password, and they are correct.\n",
        "\n",
        "Details:\n",
        "- Username: johndoe123\n",
        "- Browser: Google Chrome\n",
        "- Operating System: Windows 10\n",
        "\n",
        "I have tried clearing my browser cache and resetting my password, but the issue persists.\n",
        "This is affecting my ability to use your services, and I would appreciate a prompt resolution.\n",
        "\n",
        "Please let me know if you require any additional information to assist with troubleshooting.\n",
        "\n",
        "Thank you,\n",
        "John Doe>\n",
        "\n",
        "<Dear Support Team,\n",
        "I'm conveyed about my bill and have raised this multile times for last 3 months. Please resolve it on priority>\n",
        "'''\n",
        "print(get_response(user_prompt))"
      ],
      "metadata": {
        "colab": {
          "base_uri": "https://localhost:8080/"
        },
        "id": "QEvd94hWrf8j",
        "outputId": "916ef51a-babb-472f-9f89-6eaf89428f0a"
      },
      "execution_count": 25,
      "outputs": [
        {
          "output_type": "stream",
          "name": "stdout",
          "text": [
            "1. Technical Issues: \n",
            "- Difficulty accessing account due to \"Invalid Credentials\" error message\n",
            "- Browser and operating system details provided for troubleshooting\n",
            "\n",
            "2. Billing Inquiries:\n",
            "- Concerns about billing and multiple requests for resolution over the past 3 months\n"
          ]
        }
      ]
    },
    {
      "cell_type": "markdown",
      "source": [
        "Iterate over multiple tickets"
      ],
      "metadata": {
        "id": "qNFEoAb5roKA"
      }
    },
    {
      "cell_type": "code",
      "source": [
        "for customer_support_ticket in customer_support_tickets:\n",
        "\n",
        "  user_prompt = f'''classify the customer support ticket delimited by <> into broad categories\n",
        "  such as Technical Issues, Billing Inquiries, and Product Feedback <{customer_support_ticket}>\n",
        "  '''\n",
        "\n",
        "  print(get_response(user_prompt))"
      ],
      "metadata": {
        "colab": {
          "base_uri": "https://localhost:8080/"
        },
        "id": "UkkPPR02rumN",
        "outputId": "abb275d5-ea33-4453-d001-228f0e4b23cf"
      },
      "execution_count": 26,
      "outputs": [
        {
          "output_type": "stream",
          "name": "stdout",
          "text": [
            "Technical Issues\n",
            "Category: Billing Inquiries\n"
          ]
        }
      ]
    },
    {
      "cell_type": "markdown",
      "source": [
        "## Specify Structured Output Formats<"
      ],
      "metadata": {
        "id": "rELlZuOMruin"
      }
    },
    {
      "cell_type": "code",
      "source": [
        "user_prompt = f'''\n",
        "Extract JSON information from the customer support ticket.\n",
        "\n",
        "Given the following ticket content:\n",
        "\n",
        "{first_customer_support_ticket}\n",
        "\n",
        "Please provide the JSON representation of essential details such as:\n",
        "- Username\n",
        "- Browser\n",
        "- Operating System\n",
        "\n",
        "Ensure the JSON format includes key-value pairs for each detail.\n",
        "'''\n",
        "print(get_response(user_prompt))"
      ],
      "metadata": {
        "colab": {
          "base_uri": "https://localhost:8080/"
        },
        "id": "e5y3WUBLrugS",
        "outputId": "128a669d-cb34-4bc8-ddf3-a8bb8bfe6fad"
      },
      "execution_count": 27,
      "outputs": [
        {
          "output_type": "stream",
          "name": "stdout",
          "text": [
            "{\n",
            "  \"Username\": \"johndoe123\",\n",
            "  \"Browser\": \"Google Chrome\",\n",
            "  \"Operating System\": \"Windows 10\"\n",
            "}\n"
          ]
        }
      ]
    },
    {
      "cell_type": "markdown",
      "source": [
        "#6.Use Temperature Parameter\n",
        "\n",
        "Low Temperature defines the deterministic outputs"
      ],
      "metadata": {
        "id": "rnOiu94Wrudt"
      }
    },
    {
      "cell_type": "code",
      "source": [
        "user_prompt = \"Generate 10 brand names for e learning in data science.\"\n",
        "print(get_response(user_prompt,0))"
      ],
      "metadata": {
        "colab": {
          "base_uri": "https://localhost:8080/"
        },
        "id": "mN-YoEvLrubK",
        "outputId": "688c1b5c-4c7d-47aa-ba3e-ce6eceb90282"
      },
      "execution_count": 28,
      "outputs": [
        {
          "output_type": "stream",
          "name": "stdout",
          "text": [
            "1. DataWise Academy\n",
            "2. DataMinds Institute\n",
            "3. DataPro Learning\n",
            "4. AnalyticEdge University\n",
            "5. DataQuest Institute\n",
            "6. Insightful Learning Hub\n",
            "7. DataGenius Academy\n",
            "8. DataMaster Institute\n",
            "9. Analytica Learning Center\n",
            "10. DataSavvy School\n"
          ]
        }
      ]
    },
    {
      "cell_type": "markdown",
      "source": [
        "High Temperature defines the non-deterministic outputs"
      ],
      "metadata": {
        "id": "F3r8jFWCsFvc"
      }
    },
    {
      "cell_type": "code",
      "source": [
        "user_prompt = \"Generate 10 brand names for e learning in data science.\"\n",
        "print(get_response(user_prompt,1))"
      ],
      "metadata": {
        "colab": {
          "base_uri": "https://localhost:8080/"
        },
        "id": "9wVlaWDpsFr6",
        "outputId": "09baa9a0-7770-4ff1-f5d2-c19f42a2b432"
      },
      "execution_count": 29,
      "outputs": [
        {
          "output_type": "stream",
          "name": "stdout",
          "text": [
            "1. Data Mastery Academy\n",
            "2. Data Wizards Learning\n",
            "3. Analytics IQ Institute\n",
            "4. Tech Data Lab\n",
            "5. Data Scientist Pro\n",
            "6. Code Data University\n",
            "7. Dataxcelerate Academy\n",
            "8. Data Sense Learning\n",
            "9. Data Brainiacs Institute\n",
            "10. Data Driven Educators\n"
          ]
        }
      ]
    },
    {
      "cell_type": "code",
      "source": [
        "user_prompt = f'''Compose a customer support response for a ticket where\n",
        "the customer reports a technical issue with a purchased product.\n",
        "\n",
        "Customer Support Ticket:{first_customer_support_ticket}'''\n",
        "\n",
        "print(get_response(user_prompt,0))"
      ],
      "metadata": {
        "colab": {
          "base_uri": "https://localhost:8080/"
        },
        "id": "4K5TkDc8sFph",
        "outputId": "ee03c2dc-d99a-4303-a06d-a2d7af5816af"
      },
      "execution_count": 30,
      "outputs": [
        {
          "output_type": "stream",
          "name": "stdout",
          "text": [
            "Dear John Doe,\n",
            "\n",
            "Thank you for reaching out to us regarding the technical issue you are experiencing with accessing your account on our platform. We apologize for any inconvenience this may have caused.\n",
            "\n",
            "We understand the frustration of encountering an \"Invalid Credentials\" error message despite entering the correct username and password. We appreciate you providing us with your username, browser, and operating system details, as well as the troubleshooting steps you have already taken.\n",
            "\n",
            "Our technical team will investigate this matter further to identify the root cause of the issue and provide you with a resolution as soon as possible. In the meantime, please rest assured that we are working diligently to resolve this issue and restore your access to our services.\n",
            "\n",
            "If necessary, we may reach out to you for additional information or clarification during the troubleshooting process. We appreciate your patience and understanding as we work to resolve this issue promptly.\n",
            "\n",
            "If you have any further questions or concerns, please do not hesitate to contact us. Thank you for bringing this matter to our attention, and we apologize for any inconvenience caused.\n",
            "\n",
            "Best regards,\n",
            "\n",
            "[Your Name]\n",
            "Customer Support Team\n"
          ]
        }
      ]
    },
    {
      "cell_type": "code",
      "source": [
        "user_prompt = f'''Compose a customer support response for a ticket where\n",
        "the customer reports a technical issue with a purchased product.\n",
        "\n",
        "Customer Support Ticket:{first_customer_support_ticket}'''\n",
        "\n",
        "print(get_response(user_prompt,1))"
      ],
      "metadata": {
        "colab": {
          "base_uri": "https://localhost:8080/"
        },
        "id": "AIZ0XLyKsFm6",
        "outputId": "3aab623e-0d4e-4186-d178-f758d559c844"
      },
      "execution_count": 31,
      "outputs": [
        {
          "output_type": "stream",
          "name": "stdout",
          "text": [
            "Dear John Doe,\n",
            "\n",
            "Thank you for reaching out to us regarding the issues you are experiencing with accessing your account on our platform. We apologize for any inconvenience this may have caused you.\n",
            "\n",
            "We understand how frustrating it can be to encounter technical difficulties, and we appreciate you providing us with detailed information about your account and the steps you have already taken to try to resolve the issue.\n",
            "\n",
            "Our technical team is currently investigating the issue and we will do our best to address it as soon as possible. In the meantime, we recommend trying to access your account from a different browser or device to see if the issue persists.\n",
            "\n",
            "If you continue to experience problems, please feel free to reach out to us again with any additional information that may help us further troubleshoot the issue.\n",
            "\n",
            "Thank you for your patience and understanding.\n",
            "\n",
            "Best regards,\n",
            "Customer Support Team\n"
          ]
        }
      ]
    }
  ]
}