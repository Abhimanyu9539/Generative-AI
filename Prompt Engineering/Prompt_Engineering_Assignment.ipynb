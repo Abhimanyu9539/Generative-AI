{
  "nbformat": 4,
  "nbformat_minor": 0,
  "metadata": {
    "colab": {
      "provenance": []
    },
    "kernelspec": {
      "name": "python3",
      "display_name": "Python 3"
    },
    "language_info": {
      "name": "python"
    }
  },
  "cells": [
    {
      "cell_type": "code",
      "execution_count": 1,
      "metadata": {
        "id": "zHwD7RIM-RpR"
      },
      "outputs": [],
      "source": [
        "from google.colab import userdata\n",
        "OPENAI_API_KEY = userdata.get('OPEN_API_KEY')"
      ]
    },
    {
      "cell_type": "code",
      "source": [
        "import openai\n",
        "openai.api_key = OPENAI_API_KEY"
      ],
      "metadata": {
        "id": "61kClDSK-XEb"
      },
      "execution_count": 4,
      "outputs": []
    },
    {
      "cell_type": "code",
      "source": [
        "models = {\"model_3_5\" : \"gpt-3.5-turbo\",\n",
        "\"model_3_5_16k\" : \"gpt-3.5-turbo-16k\",\n",
        "\"model_4o\" : \"gpt-4o-mini\",\n",
        "\"model_4\" : \"gpt-4\"}"
      ],
      "metadata": {
        "id": "xFLziI7d-YRB"
      },
      "execution_count": 6,
      "outputs": []
    },
    {
      "cell_type": "code",
      "source": [
        "def get_response(messages,model):\n",
        "\n",
        "    response = openai.chat.completions.create(\n",
        "        model=model,\n",
        "        messages=messages)\n",
        "\n",
        "    return response.choices[0].message.content"
      ],
      "metadata": {
        "id": "QGE8s2Rn_Pon"
      },
      "execution_count": 13,
      "outputs": []
    },
    {
      "cell_type": "markdown",
      "source": [
        "## Zero Shot Learning"
      ],
      "metadata": {
        "id": "7ja-wSzZAMjq"
      }
    },
    {
      "cell_type": "code",
      "source": [
        "question = '''Which of the following is not a Lewy body dementia (dementia with Lewy bodies, DLB) are the main symptoms?\n",
        "\"A\": \"Good times and bad cognitive functions\",\n",
        "\"B\": \"Visual hallucinations\",\n",
        "\"C\": \"Chorea\",\n",
        "\"D\": \"Parkinson's Symptoms\"\n",
        "'''"
      ],
      "metadata": {
        "id": "KmMr0_kqAOnM"
      },
      "execution_count": 8,
      "outputs": []
    },
    {
      "cell_type": "code",
      "source": [
        "user_prompt = f'''Question:{question}\n",
        "Answer:\n",
        "'''"
      ],
      "metadata": {
        "id": "ByNzmAOxBeQl"
      },
      "execution_count": 9,
      "outputs": []
    },
    {
      "cell_type": "code",
      "source": [
        "system_role = \"You are a helpful assistant that answers multiple choice questions about medical knowledge.\""
      ],
      "metadata": {
        "id": "4FMixH2pBjQp"
      },
      "execution_count": 10,
      "outputs": []
    },
    {
      "cell_type": "code",
      "source": [
        "messages=[{'role':'system','content':system_role},\n",
        "          {'role':'user','content':user_prompt}\n",
        "          ]"
      ],
      "metadata": {
        "id": "t4rxCBhMBnF5"
      },
      "execution_count": 11,
      "outputs": []
    },
    {
      "cell_type": "code",
      "source": [
        "for model_name, model_id in models.items():\n",
        "  response = get_response(messages, model=model_id)\n",
        "  print(f\"\\nResponse from {model_name}:\\n {response}\")\n",
        "\n"
      ],
      "metadata": {
        "colab": {
          "base_uri": "https://localhost:8080/"
        },
        "id": "e2HeYuf4Bt04",
        "outputId": "ebdbe8d2-51e9-4eb3-d83b-b4165a862564"
      },
      "execution_count": 14,
      "outputs": [
        {
          "output_type": "stream",
          "name": "stdout",
          "text": [
            "Response from model_3_5: \"C\": \"Chorea\"\n",
            "Response from model_3_5_16k: The correct answer is \"C\": \"Chorea.\" Chorea is not a main symptom of Lewy body dementia. The main symptoms of Lewy body dementia include good times and bad cognitive functions (A), visual hallucinations (B), and Parkinson's symptoms (D).\n",
            "Response from model_4o: The correct answer is \"C\": \"Chorea\". \n",
            "\n",
            "Chorea is not a symptom of Lewy body dementia; it is more commonly associated with conditions such as Huntington's disease. The main symptoms of Lewy body dementia include fluctuations in cognitive function (good times and bad cognitive functions), visual hallucinations, and Parkinson's symptoms.\n",
            "Response from model_4: \"C\": \"Chorea\"\n"
          ]
        }
      ]
    },
    {
      "cell_type": "markdown",
      "source": [
        "## One Shot Learning"
      ],
      "metadata": {
        "id": "1k4bgy6GCHuq"
      }
    },
    {
      "cell_type": "code",
      "source": [
        "first_question = '''\n",
        "In the final step of the blood coagulation pathway, prompting fibrinogen is converted into fibrin material Why?\n",
        "\"A\": \"von Willebrand factor\",\n",
        "\"B\": \"factor V\",\n",
        "\"C\": \"thrombin\",\n",
        "\"D\": \"plasminogen\"\n",
        "'''"
      ],
      "metadata": {
        "id": "Ocb7BE0vCMq7"
      },
      "execution_count": 15,
      "outputs": []
    },
    {
      "cell_type": "code",
      "source": [
        "first_question_answer = \"C\""
      ],
      "metadata": {
        "id": "DMAcOJAwC-jd"
      },
      "execution_count": 23,
      "outputs": []
    },
    {
      "cell_type": "code",
      "source": [
        "second_question = '''\n",
        "Prevention and control of hypertension guidelines do not include which of the following?\n",
        "\"A\": \"Weight Control\",\n",
        "\"B\": \"Increased sodium intake\",\n",
        "\"C\": \"Increase physical activity\",\n",
        "\"D\": \"Moderate alcohol consumption\n",
        "'''"
      ],
      "metadata": {
        "id": "90KPk6C1DF18"
      },
      "execution_count": 32,
      "outputs": []
    },
    {
      "cell_type": "code",
      "source": [
        "second_question_answer = \"B\""
      ],
      "metadata": {
        "id": "2vaw2_5ADFN_"
      },
      "execution_count": 33,
      "outputs": []
    },
    {
      "cell_type": "code",
      "source": [
        "user_prompt = f'''Question:{first_question}\n",
        "Answer: {first_question_answer}\n",
        "\n",
        "Question:{second_question}\n",
        "Answer:\n",
        "'''"
      ],
      "metadata": {
        "id": "Phe536WICi8W"
      },
      "execution_count": 34,
      "outputs": []
    },
    {
      "cell_type": "code",
      "source": [
        "messages=[{'role':'system','content':system_role},\n",
        "          {'role':'user','content':user_prompt}\n",
        "          ]"
      ],
      "metadata": {
        "id": "QRbSwkN4ClRO"
      },
      "execution_count": 35,
      "outputs": []
    },
    {
      "cell_type": "code",
      "source": [
        "for model_name, model_id in models.items():\n",
        "  response = get_response(messages, model=model_id)\n",
        "  print(f\"\\nResponse from {model_name}:\\n {response}\")\n",
        "\n"
      ],
      "metadata": {
        "colab": {
          "base_uri": "https://localhost:8080/"
        },
        "id": "OLNEmIQpClnb",
        "outputId": "97fbb83b-3793-439f-aca7-013dd2c97afa"
      },
      "execution_count": 28,
      "outputs": [
        {
          "output_type": "stream",
          "name": "stdout",
          "text": [
            "\n",
            "Response from model_3_5:\n",
            " B: \"Increased sodium intake\"\n",
            "\n",
            "Response from model_3_5_16k:\n",
            " B\n",
            "\n",
            "Response from model_4o:\n",
            " The correct answer is B: \"Increased sodium intake\". \n",
            "\n",
            "In fact, guidelines for the prevention and control of hypertension typically recommend reducing sodium intake rather than increasing it.\n",
            "\n",
            "Response from model_4:\n",
            " B\n"
          ]
        }
      ]
    },
    {
      "cell_type": "markdown",
      "source": [
        "## Few Shot Prompting"
      ],
      "metadata": {
        "id": "8pKm1qupCpLL"
      }
    },
    {
      "cell_type": "code",
      "source": [
        "third_question = '''\n",
        "Which of the following would secretion due to gastric dilatation (Distension) of the stimulus?\n",
        "\"A\": \"CCK (Cholecystokinin)\",\n",
        "\"B\": \"GIP (Gastric inhibitory peptide)\",\n",
        "\"C\": \"Gastrin (Gastrin)\",\n",
        "\"D\": \"Body endostatin (Somatostatin)\"\n",
        "'''"
      ],
      "metadata": {
        "id": "Yz4sMyaeDuQt"
      },
      "execution_count": 29,
      "outputs": []
    },
    {
      "cell_type": "code",
      "source": [
        "third_question_answer = \"C\""
      ],
      "metadata": {
        "id": "n2GXlXJbD9tF"
      },
      "execution_count": 30,
      "outputs": []
    },
    {
      "cell_type": "code",
      "source": [
        "fourth_question = '''\n",
        "Bearing on the problem, check the most likely outcome of the merger deformity is which of the following?\n",
        "\"A\": \"Down syndrome\",\n",
        "\"B\": \"Trisomy 13\",\n",
        "\"C\": \"Trisomy 18\",\n",
        "\"D\": \"Neural tube defect\"\n",
        "'''"
      ],
      "metadata": {
        "id": "abcQYCklEA0A"
      },
      "execution_count": 31,
      "outputs": []
    },
    {
      "cell_type": "code",
      "source": [
        "fourth_question_answer = \"D\""
      ],
      "metadata": {
        "id": "Pab-gXE2EyDg"
      },
      "execution_count": 41,
      "outputs": []
    },
    {
      "cell_type": "code",
      "source": [
        "fifth_question = '''\n",
        "Most vascular tumors (hemangioma) starts to degrade at what age?\n",
        "\"A\": \"1 month\",\n",
        "\"B\": \"3 to 6 months\",\n",
        "\"C\": \"6 to 9 months\",\n",
        "\"D\": \"12 to 18 months\"\n",
        "'''"
      ],
      "metadata": {
        "id": "YVty853ME3Mr"
      },
      "execution_count": 42,
      "outputs": []
    },
    {
      "cell_type": "code",
      "source": [
        "user_prompt = f'''Question:{first_question}\n",
        "Answer:{first_question_answer}\n",
        "\n",
        "Question:{second_question}\n",
        "Answer:{second_question_answer}\n",
        "\n",
        "Question:{third_question}\n",
        "Answer:{third_question_answer}\n",
        "\n",
        "Question:{fourth_question}\n",
        "Answer: {fourth_question_answer}\n",
        "\n",
        "Question : {fifth_question}\n",
        "Answer:\n",
        "'''"
      ],
      "metadata": {
        "id": "TU73GjXuEOSi"
      },
      "execution_count": 43,
      "outputs": []
    },
    {
      "cell_type": "code",
      "source": [
        "messages=[{'role':'system','content':system_role},\n",
        "          {'role':'user','content':user_prompt}\n",
        "          ]"
      ],
      "metadata": {
        "id": "ESWcr_y3EXjr"
      },
      "execution_count": 44,
      "outputs": []
    },
    {
      "cell_type": "code",
      "source": [
        "for model_name, model_id in models.items():\n",
        "  response = get_response(messages, model=model_id)\n",
        "  print(f\"\\nResponse from {model_name}:\\n {response}\")\n",
        "\n"
      ],
      "metadata": {
        "colab": {
          "base_uri": "https://localhost:8080/"
        },
        "id": "xe1zussPEZOR",
        "outputId": "2a3aef40-2ce4-42f6-9d01-aef09e55e9c7"
      },
      "execution_count": 46,
      "outputs": [
        {
          "output_type": "stream",
          "name": "stdout",
          "text": [
            "\n",
            "Response from model_3_5:\n",
            " Answer: B\n",
            "\n",
            "Response from model_3_5_16k:\n",
            " B\n",
            "\n",
            "Response from model_4o:\n",
            " The correct answer is: **B** \"3 to 6 months\".\n",
            "\n",
            "Response from model_4:\n",
            " B\n"
          ]
        }
      ]
    },
    {
      "cell_type": "markdown",
      "source": [
        "All the models are providing correct answers.   \n",
        "Looking at the results, the GPT-4 Models are better at explaining the answers."
      ],
      "metadata": {
        "id": "ExiziF9lFhPX"
      }
    }
  ]
}